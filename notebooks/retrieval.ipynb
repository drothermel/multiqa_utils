{
 "cells": [
  {
   "cell_type": "code",
   "execution_count": 1,
   "id": "03f32852",
   "metadata": {},
   "outputs": [],
   "source": [
    "import wikipedia\n",
    "import os\n",
    "import json\n",
    "import tqdm\n",
    "import argparse\n",
    "\n",
    "import multiqa_utils.general_utils as gu\n",
    "import multiqa_utils.qampari_utils as qu\n",
    "import multiqa_utils.retrieval_utils as ru\n",
    "import multiqa_utils.wikipedia_utils as wu\n",
    "import multiqa_utils.distributed_utils as du\n",
    "\n",
    "%load_ext autoreload\n",
    "%autoreload 2"
   ]
  },
  {
   "cell_type": "markdown",
   "id": "7838e3b5",
   "metadata": {},
   "source": [
    "## Setup Everything"
   ]
  },
  {
   "cell_type": "code",
   "execution_count": 2,
   "id": "ce769bb2",
   "metadata": {},
   "outputs": [],
   "source": [
    "path_args = gu.current_default_path_args()"
   ]
  },
  {
   "cell_type": "code",
   "execution_count": 8,
   "id": "326509f0",
   "metadata": {},
   "outputs": [
    {
     "name": "stdout",
     "output_type": "stream",
     "text": [
      ">> Index already exists: /scratch/ddr8143/wikipedia/tagme_dumps_qampari_wikipedia/postprocessed/gt_title_set.json\n"
     ]
    }
   ],
   "source": [
    "text_titles = wu.build_gt_wikititle_set(path_args, force=False)"
   ]
  },
  {
   "cell_type": "code",
   "execution_count": 10,
   "id": "f2aebb4e",
   "metadata": {},
   "outputs": [],
   "source": [
    "notext_titles = json.load(open(path_args.no_text_pages))"
   ]
  },
  {
   "cell_type": "code",
   "execution_count": 9,
   "id": "11eb3cda",
   "metadata": {},
   "outputs": [
    {
     "name": "stdout",
     "output_type": "stream",
     "text": [
      ">> Loading the cache\n",
      ">> Initial cache size: 7198496\n"
     ]
    }
   ],
   "source": [
    "curr_cache = wu.get_initial_str2wikipage_cache(text_titles, path_args, force=False)"
   ]
  },
  {
   "cell_type": "code",
   "execution_count": 11,
   "id": "5089471e",
   "metadata": {},
   "outputs": [],
   "source": [
    "gpt_ans = json.load(open(path_args.gpt_ans_path))"
   ]
  },
  {
   "cell_type": "code",
   "execution_count": 12,
   "id": "a0a11a98",
   "metadata": {},
   "outputs": [],
   "source": [
    "elq_ans = gu.loadjsonl(path_args.elq_ans_path)"
   ]
  },
  {
   "cell_type": "markdown",
   "id": "44a7f1c5",
   "metadata": {},
   "source": [
    "## Try Retrieval"
   ]
  },
  {
   "cell_type": "code",
   "execution_count": null,
   "id": "7f74e7ed",
   "metadata": {},
   "outputs": [],
   "source": [
    "# TODO: this!"
   ]
  }
 ],
 "metadata": {
  "kernelspec": {
   "display_name": "Python 3 (ipykernel)",
   "language": "python",
   "name": "python3"
  },
  "language_info": {
   "codemirror_mode": {
    "name": "ipython",
    "version": 3
   },
   "file_extension": ".py",
   "mimetype": "text/x-python",
   "name": "python",
   "nbconvert_exporter": "python",
   "pygments_lexer": "ipython3",
   "version": "3.9.0"
  }
 },
 "nbformat": 4,
 "nbformat_minor": 5
}
