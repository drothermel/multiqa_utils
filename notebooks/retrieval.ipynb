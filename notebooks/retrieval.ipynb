{
 "cells": [
  {
   "cell_type": "code",
   "execution_count": 1,
   "id": "e505de26",
   "metadata": {},
   "outputs": [],
   "source": [
    "import wikipedia\n",
    "import os\n",
    "import json\n",
    "import tqdm\n",
    "import argparse\n",
    "\n",
    "import multiqa_utils.general_utils as gu\n",
    "import multiqa_utils.qampari_utils as qu\n",
    "import multiqa_utils.retrieval_utils as ru\n",
    "import multiqa_utils.wikipedia_utils as wu\n",
    "import multiqa_utils.distributed_utils as du\n",
    "\n",
    "%load_ext autoreload\n",
    "%autoreload 2"
   ]
  },
  {
   "cell_type": "markdown",
   "id": "bd053ceb",
   "metadata": {},
   "source": [
    "## Setup Everything"
   ]
  },
  {
   "cell_type": "code",
   "execution_count": 2,
   "id": "87a624e1",
   "metadata": {},
   "outputs": [],
   "source": [
    "path_args = gu.current_default_path_args()"
   ]
  },
  {
   "cell_type": "code",
   "execution_count": 8,
   "id": "d1bda2bf",
   "metadata": {},
   "outputs": [
    {
     "name": "stdout",
     "output_type": "stream",
     "text": [
      ">> Index already exists: /scratch/ddr8143/wikipedia/tagme_dumps_qampari_wikipedia/postprocessed/gt_title_set.json\n"
     ]
    }
   ],
   "source": [
    "text_titles = wu.build_gt_wikititle_set(path_args, force=False)"
   ]
  },
  {
   "cell_type": "code",
   "execution_count": 10,
   "id": "32e69c93",
   "metadata": {},
   "outputs": [],
   "source": [
    "notext_titles = json.load(open(path_args.no_text_pages))"
   ]
  },
  {
   "cell_type": "code",
   "execution_count": 9,
   "id": "8d3f38c3",
   "metadata": {},
   "outputs": [
    {
     "name": "stdout",
     "output_type": "stream",
     "text": [
      ">> Loading the cache\n",
      ">> Initial cache size: 7198496\n"
     ]
    }
   ],
   "source": [
    "curr_cache = wu.get_initial_str2wikipage_cache(text_titles, path_args, force=False)"
   ]
  },
  {
   "cell_type": "code",
   "execution_count": 13,
   "id": "5c1301f1",
   "metadata": {},
   "outputs": [],
   "source": [
    "qmp_dev = qu.load_dev_data()"
   ]
  },
  {
   "cell_type": "code",
   "execution_count": 11,
   "id": "bd0b5f11",
   "metadata": {},
   "outputs": [],
   "source": [
    "gpt_ans = json.load(open(path_args.gpt_ans_path))"
   ]
  },
  {
   "cell_type": "code",
   "execution_count": 12,
   "id": "f00e340e",
   "metadata": {},
   "outputs": [],
   "source": [
    "elq_ans = gu.loadjsonl(path_args.elq_ans_path)"
   ]
  },
  {
   "cell_type": "markdown",
   "id": "7d25c1eb",
   "metadata": {},
   "source": [
    "## Try Retrieval"
   ]
  },
  {
   "cell_type": "code",
   "execution_count": null,
   "id": "bc54b30b",
   "metadata": {},
   "outputs": [],
   "source": [
    "# TODO: this!"
   ]
  },
  {
   "cell_type": "code",
   "execution_count": 17,
   "id": "02565617",
   "metadata": {},
   "outputs": [
    {
     "data": {
      "text/plain": [
       "'What manga was drawn by Ryoichi Ikegami?'"
      ]
     },
     "execution_count": 17,
     "metadata": {},
     "output_type": "execute_result"
    }
   ],
   "source": [
    "qmp_ex = qmp_dev[0]\n",
    "qmp_ex['question_text']"
   ]
  },
  {
   "cell_type": "code",
   "execution_count": null,
   "id": "d38af28a",
   "metadata": {},
   "outputs": [],
   "source": []
  }
 ],
 "metadata": {
  "kernelspec": {
   "display_name": "Python 3 (ipykernel)",
   "language": "python",
   "name": "python3"
  },
  "language_info": {
   "codemirror_mode": {
    "name": "ipython",
    "version": 3
   },
   "file_extension": ".py",
   "mimetype": "text/x-python",
   "name": "python",
   "nbconvert_exporter": "python",
   "pygments_lexer": "ipython3",
   "version": "3.9.0"
  }
 },
 "nbformat": 4,
 "nbformat_minor": 5
}
