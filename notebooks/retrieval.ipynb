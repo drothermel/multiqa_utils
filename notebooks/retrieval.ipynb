{
 "cells": [
  {
   "cell_type": "code",
   "execution_count": 7,
   "id": "956b36fa",
   "metadata": {},
   "outputs": [
    {
     "name": "stdout",
     "output_type": "stream",
     "text": [
      "The autoreload extension is already loaded. To reload it, use:\n",
      "  %reload_ext autoreload\n"
     ]
    }
   ],
   "source": [
    "import wikipedia\n",
    "import os\n",
    "import json\n",
    "import tqdm\n",
    "import argparse\n",
    "import pickle\n",
    "\n",
    "import multiqa_utils.general_utils as gu\n",
    "import multiqa_utils.qampari_utils as qu\n",
    "import multiqa_utils.retrieval_utils as ru\n",
    "import multiqa_utils.wikipedia_utils as wu\n",
    "import multiqa_utils.distributed_utils as du\n",
    "\n",
    "%load_ext autoreload\n",
    "%autoreload 2"
   ]
  },
  {
   "cell_type": "markdown",
   "id": "42733fe5",
   "metadata": {},
   "source": [
    "## Setup Everything"
   ]
  },
  {
   "cell_type": "code",
   "execution_count": 2,
   "id": "a9fa3848",
   "metadata": {},
   "outputs": [],
   "source": [
    "path_args = gu.current_default_path_args()"
   ]
  },
  {
   "cell_type": "code",
   "execution_count": null,
   "id": "066d29d4",
   "metadata": {},
   "outputs": [],
   "source": [
    "text_titles = wu.build_gt_wikititle_set(path_args, force=False)"
   ]
  },
  {
   "cell_type": "code",
   "execution_count": 3,
   "id": "74b86874",
   "metadata": {},
   "outputs": [],
   "source": [
    "notext_titles = [gu.normalize(tt['title']) for tt in json.load(open(path_args.no_text_pages))]"
   ]
  },
  {
   "cell_type": "code",
   "execution_count": null,
   "id": "325c47e1",
   "metadata": {},
   "outputs": [],
   "source": [
    "curr_cache = wu.get_initial_str2wikipage_cache(text_titles, path_args, force=False)"
   ]
  },
  {
   "cell_type": "code",
   "execution_count": 19,
   "id": "6e6e8540",
   "metadata": {},
   "outputs": [],
   "source": [
    "qmp_dev = qu.load_dev_data()"
   ]
  },
  {
   "cell_type": "code",
   "execution_count": null,
   "id": "7ab25cec",
   "metadata": {},
   "outputs": [],
   "source": [
    "gpt_ans = json.load(open(path_args.gpt_ans_path))"
   ]
  },
  {
   "cell_type": "code",
   "execution_count": null,
   "id": "e998f528",
   "metadata": {},
   "outputs": [],
   "source": [
    "elq_ans = gu.loadjsonl(path_args.elq_ans_path)"
   ]
  },
  {
   "cell_type": "markdown",
   "id": "b303972b",
   "metadata": {},
   "source": [
    "## Figure Out Redirects"
   ]
  },
  {
   "cell_type": "code",
   "execution_count": 4,
   "id": "149d4e88",
   "metadata": {},
   "outputs": [],
   "source": [
    "notext_title_set = set(notext_titles)"
   ]
  },
  {
   "cell_type": "code",
   "execution_count": 10,
   "id": "1a15a037",
   "metadata": {},
   "outputs": [
    {
     "name": "stdout",
     "output_type": "stream",
     "text": [
      "Number to pages without titles: 9158265\n"
     ]
    }
   ],
   "source": [
    "print(\"Number to pages without titles:\", len(notext_title_set))"
   ]
  },
  {
   "cell_type": "code",
   "execution_count": 8,
   "id": "77e111b4",
   "metadata": {},
   "outputs": [
    {
     "name": "stdout",
     "output_type": "stream",
     "text": [
      "Number redirects: 7387458\n"
     ]
    }
   ],
   "source": [
    "redirects = pickle.load(open('/scratch/ddr8143/wikipedia/old_redirects.pkl', 'rb'))\n",
    "print(\"Number redirects:\", len(redirects))"
   ]
  },
  {
   "cell_type": "code",
   "execution_count": 15,
   "id": "c87192cd",
   "metadata": {},
   "outputs": [
    {
     "name": "stdout",
     "output_type": "stream",
     "text": [
      "7083331 (77.3%) in redirects, 2074934 (22.7%) not in redirects (total: 9158265 / 9158265)\n"
     ]
    }
   ],
   "source": [
    "notext_in_redircts = [t for t in notext_title_set if t in redirects]\n",
    "notext_not_in_redirects = [t for t in notext_title_set if t not in redirects]\n",
    "num_ntTOT = len(notext_title_set)\n",
    "num_ntINr = len(notext_in_redircts)\n",
    "num_ntNOTINr = len(notext_not_in_redirects)\n",
    "print(f\"{num_ntINr} ({num_ntINr * 100.0 / num_ntTOT:0.1f}%) in redirects, {num_ntNOTINr} ({num_ntNOTINr * 100.0 / num_ntTOT:0.1f}%) not in redirects (total: {num_ntINr + num_ntNOTINr} / {num_ntTOT})\")\n"
   ]
  },
  {
   "cell_type": "code",
   "execution_count": null,
   "id": "a78ac5a3",
   "metadata": {},
   "outputs": [],
   "source": []
  },
  {
   "cell_type": "code",
   "execution_count": null,
   "id": "a8bdb80e",
   "metadata": {},
   "outputs": [],
   "source": []
  },
  {
   "cell_type": "markdown",
   "id": "06cddde2",
   "metadata": {},
   "source": [
    "## Try Retrieval"
   ]
  },
  {
   "cell_type": "code",
   "execution_count": 20,
   "id": "79584049",
   "metadata": {},
   "outputs": [
    {
     "data": {
      "text/plain": [
       "'What manga was drawn by Ryoichi Ikegami?'"
      ]
     },
     "execution_count": 20,
     "metadata": {},
     "output_type": "execute_result"
    }
   ],
   "source": [
    "qmp_ex = qmp_dev[0]\n",
    "qmp_ex['question_text']"
   ]
  },
  {
   "cell_type": "code",
   "execution_count": 21,
   "id": "bfe3497b",
   "metadata": {},
   "outputs": [
    {
     "data": {
      "text/plain": [
       "dict_keys(['entities', 'question_text', 'answer_list', 'qid'])"
      ]
     },
     "execution_count": 21,
     "metadata": {},
     "output_type": "execute_result"
    }
   ],
   "source": [
    "qmp_ex.keys()"
   ]
  },
  {
   "cell_type": "code",
   "execution_count": 22,
   "id": "5c3aa0ae",
   "metadata": {},
   "outputs": [
    {
     "name": "stdout",
     "output_type": "stream",
     "text": [
      "Type:                799__wikidata_simple__dev\n",
      "Question:            What manga was drawn by Ryoichi Ikegami?\n",
      "Question Keywords:   \u001b[31mWhat\u001b[0m, \u001b[31mmanga\u001b[0m, \u001b[31mdrawn\u001b[0m, \u001b[31mRyoichi\u001b[0m, \u001b[31mIkegami\u001b[0m\n",
      "Answers:             \u001b[32mHeat\u001b[0m, \u001b[32mMai, the Psychic Girl\u001b[0m, \u001b[32mWounded Man\u001b[0m, \u001b[32mSanctuary\u001b[0m, \u001b[32mCrying Freeman\u001b[0m, \u001b[32mStrain\u001b[0m\n",
      "\n",
      "Answer:  \u001b[32mHeat\u001b[0m\n",
      "    Answer URL: https://en.wikipedia.org/wiki/Heat_(manga)\n",
      "    Proofs:\n",
      "    >> (\u001b[32mHeat\u001b[0m (manga))  is a seinen manga series written by buronson and illustrated by ryoichi\n",
      "       ikegami.\n",
      "\n",
      "Answer:  \u001b[32mMai, the Psychic Girl\u001b[0m\n",
      "    Answer URL: https://en.wikipedia.org/wiki/Mai,_the_Psychic_Girl\n",
      "    Proofs:\n",
      "    >> (\u001b[32mMai, the Psychic Girl\u001b[0m) \u001b[32mmai, the psychic girl\u001b[0m, known simply as in japan, is a\n",
      "       manga written by kazuya kudō and illustrated by ryoichi ikegami. the main character is mai kuju, a\n",
      "       14-year-old japanese girl with powerful psychic abilities.\n",
      "\n",
      "Answer:  \u001b[32mWounded Man\u001b[0m\n",
      "    Answer URL: https://en.wikipedia.org/wiki/Wounded_Man\n",
      "    Proofs:\n",
      "    >> (\u001b[32mWounded Man\u001b[0m)  is a japanese seinen manga written by kazuo koike and illustrated by ryoichi\n",
      "       ikegami.\n",
      "\n",
      "Answer:  \u001b[32mSanctuary\u001b[0m\n",
      "    Answer URL: https://en.wikipedia.org/wiki/Sanctuary_(manga)\n",
      "    Proofs:\n",
      "    >> (\u001b[32mSanctuary\u001b[0m (manga))  is a manga written by sho fumimura, and illustrated by ryoichi\n",
      "       ikegami.\n",
      "\n",
      "Answer:  \u001b[32mCrying Freeman\u001b[0m\n",
      "    Answer URL: https://en.wikipedia.org/wiki/Crying_Freeman\n",
      "    Proofs:\n",
      "    >> (\u001b[32mCrying Freeman\u001b[0m)  is a japanese manga series written by kazuo koike and illustrated by\n",
      "       ryoichi ikegami.\n",
      "\n",
      "Answer:  \u001b[32mStrain\u001b[0m\n",
      "    Answer URL: https://en.wikipedia.org/wiki/Strain_(manga)\n",
      "    Proofs:\n",
      "    >> (\u001b[32mStrain\u001b[0m (manga))  is a japanese manga series written by buronson and illustrated by ryoichi\n",
      "       ikegami, published shogakukan's \"big comic superior\" from 1996 to 1998. plot. mayo is a professional\n",
      "       assassin who is hired by the \"organization\" to kill the mother of a young prostitute, shion.\n",
      "\n"
     ]
    }
   ],
   "source": [
    "qu.print_answer_data(qmp_ex, answer_fxn=qu.extract_answer_text)"
   ]
  },
  {
   "cell_type": "code",
   "execution_count": null,
   "id": "70b474f8",
   "metadata": {},
   "outputs": [],
   "source": []
  },
  {
   "cell_type": "code",
   "execution_count": null,
   "id": "0665e660",
   "metadata": {},
   "outputs": [],
   "source": [
    "import pickle"
   ]
  },
  {
   "cell_type": "code",
   "execution_count": null,
   "id": "71e7486c",
   "metadata": {},
   "outputs": [],
   "source": [
    "redirects = pickle.load(open('/scratch/ddr8143/wikipedia/old_redirects.pkl', 'rb'))"
   ]
  },
  {
   "cell_type": "code",
   "execution_count": null,
   "id": "833e85e1",
   "metadata": {},
   "outputs": [],
   "source": [
    "type(redirects)"
   ]
  },
  {
   "cell_type": "code",
   "execution_count": null,
   "id": "37a40193",
   "metadata": {},
   "outputs": [],
   "source": [
    "type(notext_titles)"
   ]
  },
  {
   "cell_type": "code",
   "execution_count": null,
   "id": "8ba48f79",
   "metadata": {},
   "outputs": [],
   "source": [
    "notext_titles[0]"
   ]
  },
  {
   "cell_type": "code",
   "execution_count": null,
   "id": "b38539ae",
   "metadata": {},
   "outputs": [],
   "source": [
    "len(redirects)"
   ]
  },
  {
   "cell_type": "code",
   "execution_count": null,
   "id": "3f47ccf1",
   "metadata": {},
   "outputs": [],
   "source": [
    "no_text_t_norm = [gu.normalize(t['title']) for t in notext_titles]\n",
    "no_text_t_not_in_redirects = [t for t in no_text_t_norm if t not in redirects]"
   ]
  },
  {
   "cell_type": "code",
   "execution_count": null,
   "id": "c162ae6e",
   "metadata": {},
   "outputs": [],
   "source": [
    "no_text_t_in_redirects = [t for t in no_text_t_norm if t in redirects]"
   ]
  },
  {
   "cell_type": "code",
   "execution_count": null,
   "id": "beee86a0",
   "metadata": {},
   "outputs": [],
   "source": []
  },
  {
   "cell_type": "code",
   "execution_count": null,
   "id": "1a65ecbe",
   "metadata": {},
   "outputs": [],
   "source": [
    "print(\" No text pages:\", len(no_text_t_norm))\n",
    "print(\"---------------------------------\")\n",
    "print(f\"{'No text not in redirects:':30}\", len(no_text_t_not_in_redirects), f\"{len(no_text_t_not_in_redirects)*100.0/len(no_text_t_norm):0.2f}%\")\n",
    "print(\"No text in redirects:\", len(no_text_t_in_redirects), f\"{len(no_text_t_in_redirects)*100.0/len(no_text_t_norm):0.2f}%\"))\n",
    "print(\" Which sums to:\", len(no_text_t_not_in_redirects) + len(no_text_t_in_redirects))"
   ]
  },
  {
   "cell_type": "code",
   "execution_count": null,
   "id": "72569137",
   "metadata": {},
   "outputs": [],
   "source": []
  },
  {
   "cell_type": "code",
   "execution_count": null,
   "id": "7d4578c1",
   "metadata": {},
   "outputs": [],
   "source": [
    "redirects_l = list(redirects.items())"
   ]
  },
  {
   "cell_type": "code",
   "execution_count": null,
   "id": "69159b2c",
   "metadata": {},
   "outputs": [],
   "source": [
    "for r in redirects_l[:10]:\n",
    "    print(r)"
   ]
  },
  {
   "cell_type": "code",
   "execution_count": null,
   "id": "d6faf50e",
   "metadata": {},
   "outputs": [],
   "source": [
    "i = 0\n",
    "for k, v in redirects.items():\n",
    "    print(f\"{'|'+ k +'|':100} {'|'+v+'|'}\")\n",
    "    i+= 1\n",
    "    if i > 100:\n",
    "        break"
   ]
  },
  {
   "cell_type": "code",
   "execution_count": null,
   "id": "36433d49",
   "metadata": {},
   "outputs": [],
   "source": []
  }
 ],
 "metadata": {
  "kernelspec": {
   "display_name": "Python 3 (ipykernel)",
   "language": "python",
   "name": "python3"
  },
  "language_info": {
   "codemirror_mode": {
    "name": "ipython",
    "version": 3
   },
   "file_extension": ".py",
   "mimetype": "text/x-python",
   "name": "python",
   "nbconvert_exporter": "python",
   "pygments_lexer": "ipython3",
   "version": "3.9.0"
  }
 },
 "nbformat": 4,
 "nbformat_minor": 5
}
