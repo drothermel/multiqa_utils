{
 "cells": [
  {
   "cell_type": "code",
   "execution_count": 1,
   "id": "1ec3350d",
   "metadata": {},
   "outputs": [],
   "source": [
    "import sh\n",
    "import json\n",
    "import jsonlines\n",
    "import os\n",
    "\n",
    "from collections import defaultdict\n",
    "\n",
    "import html\n",
    "import re\n",
    "\n",
    "from multiqa_utils.wikipedia_utils import load_postprocess_dump\n",
    "\n",
    "%load_ext autoreload\n",
    "%autoreload 2"
   ]
  },
  {
   "cell_type": "code",
   "execution_count": 2,
   "id": "d3e68b3c",
   "metadata": {},
   "outputs": [],
   "source": [
    "base_path = \"/scratch/ddr8143/repos/DPR/downloads/data\"\n",
    "ambigqa_path = f\"{base_path}/ambigqa\"\n",
    "ambigqa_light_path = f\"{base_path}/ambigqa_light\"\n",
    "nq_path = f\"{base_path}/retriever\"\n",
    "qp_path = f\"{base_path}/qampari\"\n",
    "\n",
    "wikipath = \"/scratch/ddr8143/wikipedia/parsed_dumps\"\n",
    "wikipath_out = \"/scratch/ddr8143/wikipedia/postprocessed_qampari\""
   ]
  },
  {
   "cell_type": "code",
   "execution_count": null,
   "id": "081c0eab",
   "metadata": {},
   "outputs": [],
   "source": []
  },
  {
   "cell_type": "markdown",
   "id": "1c435f56",
   "metadata": {},
   "source": [
    "# Find QAMPARI Subset"
   ]
  },
  {
   "cell_type": "code",
   "execution_count": 3,
   "id": "72cce29a",
   "metadata": {},
   "outputs": [
    {
     "data": {
      "text/plain": [
       "dev_data.jsonl\ttest_data.jsonl  train_data.jsonl"
      ]
     },
     "execution_count": 3,
     "metadata": {},
     "output_type": "execute_result"
    }
   ],
   "source": [
    "sh.ls(qp_path)"
   ]
  },
  {
   "cell_type": "raw",
   "id": "2a8e6ae3",
   "metadata": {},
   "source": [
    "qp_simple_data = []\n",
    "with jsonlines.open(f\"{qp_path}/train_data.jsonl\") as reader:\n",
    "    for obj in reader:\n",
    "        if 'wikidata_simple' in obj['qid']:\n",
    "            qp_simple_data.append(obj)"
   ]
  },
  {
   "cell_type": "raw",
   "id": "a09052bb",
   "metadata": {},
   "source": [
    "print(\"Simple questions:\", len(qp_simple_data))\n",
    "print(qp_simple_data[1000].keys())\n",
    "print(\"Ex: \", qp_simple_data[1000]['question_text'])"
   ]
  },
  {
   "cell_type": "raw",
   "id": "0488f2d3",
   "metadata": {},
   "source": [
    "json.dump(qp_simple_data, open('/scratch/ddr8143/multiqa/qampari_data/qp_simple_train.json', 'w+'))"
   ]
  },
  {
   "cell_type": "code",
   "execution_count": 3,
   "id": "24365a2c",
   "metadata": {},
   "outputs": [],
   "source": [
    "qp_simple_data = json.load(open('/scratch/ddr8143/multiqa/qampari_data/qp_simple_train.json'))"
   ]
  },
  {
   "cell_type": "code",
   "execution_count": 5,
   "id": "60b89964",
   "metadata": {},
   "outputs": [
    {
     "data": {
      "text/plain": [
       "'Which movie, clip, TV show etc. had Chezhiyan as director of photography?'"
      ]
     },
     "execution_count": 5,
     "metadata": {},
     "output_type": "execute_result"
    }
   ],
   "source": [
    "qp_simple_data[0]['question_text']"
   ]
  },
  {
   "cell_type": "code",
   "execution_count": 6,
   "id": "e56c7eec",
   "metadata": {},
   "outputs": [
    {
     "data": {
      "text/plain": [
       "'Which software, art, etc. has Charles McPherson as performer?'"
      ]
     },
     "execution_count": 6,
     "metadata": {},
     "output_type": "execute_result"
    }
   ],
   "source": [
    "qp_simple_data[100]['question_text']"
   ]
  },
  {
   "cell_type": "code",
   "execution_count": 8,
   "id": "0ed1381b",
   "metadata": {},
   "outputs": [
    {
     "data": {
      "text/plain": [
       "'Which software, art, etc. has The Dodos as performer?'"
      ]
     },
     "execution_count": 8,
     "metadata": {},
     "output_type": "execute_result"
    }
   ],
   "source": [
    "qp_simple_data[2000]['question_text']"
   ]
  },
  {
   "cell_type": "code",
   "execution_count": 9,
   "id": "02ac930c",
   "metadata": {},
   "outputs": [],
   "source": [
    "i = 0\n",
    "with jsonlines.open(f\"{qp_path}/train_data.jsonl\") as reader:\n",
    "    for obj in reader:\n",
    "        i += 1"
   ]
  },
  {
   "cell_type": "code",
   "execution_count": 10,
   "id": "c498a835",
   "metadata": {},
   "outputs": [
    {
     "data": {
      "text/plain": [
       "61911"
      ]
     },
     "execution_count": 10,
     "metadata": {},
     "output_type": "execute_result"
    }
   ],
   "source": [
    "i"
   ]
  },
  {
   "cell_type": "code",
   "execution_count": 11,
   "id": "02e98937",
   "metadata": {},
   "outputs": [
    {
     "data": {
      "text/plain": [
       "0.4615334916250747"
      ]
     },
     "execution_count": 11,
     "metadata": {},
     "output_type": "execute_result"
    }
   ],
   "source": [
    "len(qp_simple_data) / i"
   ]
  },
  {
   "cell_type": "code",
   "execution_count": 27,
   "id": "8b19e25a",
   "metadata": {},
   "outputs": [],
   "source": [
    "example = {k: v for k, v in qp_simple_data[0]['answer_list'][2].items() if \"aid\" not in k}"
   ]
  },
  {
   "cell_type": "code",
   "execution_count": 28,
   "id": "b05d90b0",
   "metadata": {},
   "outputs": [
    {
     "data": {
      "text/plain": [
       "[{'proof_text': 'It stars saranya ponvannan in her 100th film, along with vijay sethupathi and vasundhra chiyertra. The music was composed by n. R. Raghunanthan with cinematography by chezhiyan and editing by mu.',\n",
       "  'found_in_url': 'https://en.wikipedia.org/wiki/Thenmerku_Paruvakaatru',\n",
       "  'pid': '0__wikidata_simple__train__2__0'}]"
      ]
     },
     "execution_count": 28,
     "metadata": {},
     "output_type": "execute_result"
    }
   ],
   "source": [
    "example['proof']"
   ]
  },
  {
   "cell_type": "code",
   "execution_count": 29,
   "id": "9120dbae",
   "metadata": {},
   "outputs": [],
   "source": [
    "example['proof'] = [{k: v for k, v in ep.items() if \"pid\" not in k} for ep in example['proof']]"
   ]
  },
  {
   "cell_type": "code",
   "execution_count": 30,
   "id": "7e6aae0b",
   "metadata": {},
   "outputs": [
    {
     "name": "stdout",
     "output_type": "stream",
     "text": [
      "Which movie, clip, TV show etc. had Chezhiyan as director of photography?\n"
     ]
    },
    {
     "data": {
      "text/plain": [
       "{'answer_text': 'Thenmerku Paruvakaatru',\n",
       " 'aliases': ['Thenmerku Paruvakaatru'],\n",
       " 'answer_url': 'https://en.wikipedia.org/wiki/Thenmerku_Paruvakaatru',\n",
       " 'proof': [{'proof_text': 'It stars saranya ponvannan in her 100th film, along with vijay sethupathi and vasundhra chiyertra. The music was composed by n. R. Raghunanthan with cinematography by chezhiyan and editing by mu.',\n",
       "   'found_in_url': 'https://en.wikipedia.org/wiki/Thenmerku_Paruvakaatru'}]}"
      ]
     },
     "execution_count": 30,
     "metadata": {},
     "output_type": "execute_result"
    }
   ],
   "source": [
    "print(qp_simple_data[0][\"question_text\"])\n",
    "example"
   ]
  },
  {
   "cell_type": "markdown",
   "id": "758990e2",
   "metadata": {},
   "source": [
    "# Insect Wikidata"
   ]
  },
  {
   "cell_type": "raw",
   "id": "9e57d4af",
   "metadata": {},
   "source": [
    "# Postprocess wikipedia into pyserini realm\n",
    "top_dir = [d for d in os.listdir(wikipath) if os.path.isdir(f\"{wikipath}/{d}\")]\n",
    "for td in top_dir:\n",
    "    ftd = f\"{wikipath}/{td}\"\n",
    "    fns = [fn for fn in os.listdir(ftd) if \"wiki_\" in fn]\n",
    "    for fn in fns:\n",
    "        load_postprocess_dump(f'{ftd}/{fn}', f'{wikipath_out}/{td}_{fn}.jsonl')"
   ]
  },
  {
   "cell_type": "code",
   "execution_count": null,
   "id": "593579b1",
   "metadata": {},
   "outputs": [],
   "source": []
  },
  {
   "cell_type": "code",
   "execution_count": 18,
   "id": "e4dc82e9",
   "metadata": {},
   "outputs": [],
   "source": [
    "index_path = \"/scratch/ddr8143/multiqa/indexes/full_page_qampari_wikidata_index\""
   ]
  },
  {
   "cell_type": "code",
   "execution_count": 19,
   "id": "b2cae3fa",
   "metadata": {},
   "outputs": [],
   "source": [
    "from pyserini.search.lucene import LuceneSearcher\n",
    "from pyserini.index.lucene import IndexReader"
   ]
  },
  {
   "cell_type": "code",
   "execution_count": 20,
   "id": "d89d6e2c",
   "metadata": {},
   "outputs": [],
   "source": [
    "searcher = LuceneSearcher(index_path)"
   ]
  },
  {
   "cell_type": "code",
   "execution_count": 61,
   "id": "9a98431f",
   "metadata": {},
   "outputs": [
    {
     "name": "stdout",
     "output_type": "stream",
     "text": [
      "Which movie, clip, TV show etc. had Chezhiyan as director of photography?\n",
      "['To Let', 'Kalloori', 'Thenmerku Paruvakaatru', 'A Little Dream', 'Paradesi', 'Sawaari']\n"
     ]
    }
   ],
   "source": [
    "qdata = qp_simple_data[0]\n",
    "q = qdata['question_text']\n",
    "alist = [a['answer_text'] for a in qdata['answer_list']]\n",
    "print(q)\n",
    "print(alist)"
   ]
  },
  {
   "cell_type": "code",
   "execution_count": 66,
   "id": "3087d4b9",
   "metadata": {},
   "outputs": [],
   "source": [
    "hits = searcher.search(q, k=1000)"
   ]
  },
  {
   "cell_type": "code",
   "execution_count": 67,
   "id": "9728fc65",
   "metadata": {},
   "outputs": [
    {
     "name": "stdout",
     "output_type": "stream",
     "text": [
      "[16, 25, 38, 155, 206, 210, 257, 321, 408, 587, 617, 636, 641, 665, 674, 727, 735, 749, 774, 776, 788, 808, 898, 899, 922, 963, 985]\n",
      "[]\n",
      "[]\n",
      "[]\n",
      "[521]\n",
      "[55]\n"
     ]
    }
   ],
   "source": [
    "ans_cont = defaultdict(list)\n",
    "for a in alist:\n",
    "    for i, hit in enumerate(hits):\n",
    "        if a.lower() in hit.raw.lower():\n",
    "            ans_cont[a].append(i)\n",
    "    print(ans_cont[a])"
   ]
  },
  {
   "cell_type": "code",
   "execution_count": 69,
   "id": "bbf5fefc",
   "metadata": {},
   "outputs": [],
   "source": [
    "ans_hits = defaultdict(list)\n",
    "for a in alist:\n",
    "    hits = searcher.search(a, k=100)\n",
    "    for i, hit in enumerate(hits):\n",
    "        if a.lower() in hit.raw.lower():\n",
    "            ans_hits[a].append(i)"
   ]
  },
  {
   "cell_type": "code",
   "execution_count": 70,
   "id": "4801726d",
   "metadata": {},
   "outputs": [
    {
     "data": {
      "text/plain": [
       "defaultdict(list,\n",
       "            {'To Let': [1, 2, 3, 34, 42, 49, 63],\n",
       "             'Kalloori': [0, 1, 2, 3, 4, 5, 6, 7, 8, 9, 10, 11, 12, 13],\n",
       "             'Thenmerku Paruvakaatru': [0, 1, 2, 3, 4, 5, 6, 8],\n",
       "             'A Little Dream': [4, 5, 6, 23, 28, 84],\n",
       "             'Paradesi': [0,\n",
       "              1,\n",
       "              2,\n",
       "              3,\n",
       "              4,\n",
       "              5,\n",
       "              6,\n",
       "              7,\n",
       "              8,\n",
       "              9,\n",
       "              10,\n",
       "              11,\n",
       "              12,\n",
       "              13,\n",
       "              14,\n",
       "              15,\n",
       "              16,\n",
       "              17,\n",
       "              18,\n",
       "              19,\n",
       "              20,\n",
       "              21,\n",
       "              22,\n",
       "              23,\n",
       "              24,\n",
       "              25,\n",
       "              26,\n",
       "              27,\n",
       "              28,\n",
       "              29,\n",
       "              30,\n",
       "              31,\n",
       "              32,\n",
       "              33,\n",
       "              34,\n",
       "              35,\n",
       "              36,\n",
       "              37,\n",
       "              38,\n",
       "              39,\n",
       "              40,\n",
       "              41,\n",
       "              42,\n",
       "              43,\n",
       "              44,\n",
       "              45,\n",
       "              46,\n",
       "              47,\n",
       "              48,\n",
       "              49,\n",
       "              50,\n",
       "              51,\n",
       "              52,\n",
       "              53,\n",
       "              54],\n",
       "             'Sawaari': [0, 1, 2, 3, 4, 5, 6, 7, 8, 9, 10, 11, 12, 13]})"
      ]
     },
     "execution_count": 70,
     "metadata": {},
     "output_type": "execute_result"
    }
   ],
   "source": [
    "ans_hits"
   ]
  },
  {
   "cell_type": "code",
   "execution_count": null,
   "id": "1d7c7982",
   "metadata": {},
   "outputs": [],
   "source": []
  },
  {
   "cell_type": "code",
   "execution_count": null,
   "id": "4d494c39",
   "metadata": {},
   "outputs": [],
   "source": []
  },
  {
   "cell_type": "code",
   "execution_count": 4,
   "id": "2b6be8df",
   "metadata": {},
   "outputs": [],
   "source": [
    "index_path = \"/scratch/ddr8143/multiqa/indexes/full_page_qampari_wikidata_index\""
   ]
  },
  {
   "cell_type": "code",
   "execution_count": 5,
   "id": "52a96345",
   "metadata": {},
   "outputs": [
    {
     "name": "stderr",
     "output_type": "stream",
     "text": [
      "/ext3/miniconda3/envs/multiqa/lib/python3.9/site-packages/torch/cuda/__init__.py:52: UserWarning: CUDA initialization: Found no NVIDIA driver on your system. Please check that you have an NVIDIA GPU and installed a driver from http://www.nvidia.com/Download/index.aspx (Triggered internally at  /opt/conda/conda-bld/pytorch_1607370192109/work/c10/cuda/CUDAFunctions.cpp:100.)\n",
      "  return torch._C._cuda_getDeviceCount() > 0\n"
     ]
    }
   ],
   "source": [
    "from pyserini.search.lucene import LuceneSearcher\n",
    "from pyserini.index.lucene import IndexReader"
   ]
  },
  {
   "cell_type": "code",
   "execution_count": 6,
   "id": "c54e8b46",
   "metadata": {},
   "outputs": [],
   "source": [
    "searcher = LuceneSearcher(index_path)"
   ]
  },
  {
   "cell_type": "code",
   "execution_count": null,
   "id": "9ab729c5",
   "metadata": {},
   "outputs": [],
   "source": []
  },
  {
   "cell_type": "code",
   "execution_count": 7,
   "id": "5750ae0f",
   "metadata": {},
   "outputs": [],
   "source": [
    "def query_question(searcher, qdata, k):\n",
    "    q = qdata['question_text']\n",
    "    alist = [a['answer_text'] for a in qdata['answer_list']]\n",
    "    hits = searcher.search(q, k=k)\n",
    "    ans_contained = defaultdict(list)\n",
    "    for a in alist:\n",
    "        for i, hit in enumerate(hits):\n",
    "            if a.lower() in hit.raw.lower():\n",
    "                ans_contained[a].append(i)\n",
    "        ans_contained[a]\n",
    "    return ans_contained"
   ]
  },
  {
   "cell_type": "code",
   "execution_count": 8,
   "id": "f987456c",
   "metadata": {},
   "outputs": [],
   "source": [
    "def query_answers(searcher, qdata, k):\n",
    "    q = qdata['question_text']\n",
    "    alist = [a['answer_text'] for a in qdata['answer_list']]\n",
    "    ans_hits = defaultdict(list)\n",
    "    for a in alist:\n",
    "        hits = searcher.search(a, k=k)\n",
    "        for i, hit in enumerate(hits):\n",
    "            if a.lower() in hit.raw.lower():\n",
    "                ans_hits[a].append(i)\n",
    "        ans_hits[a]\n",
    "    return ans_hits"
   ]
  },
  {
   "cell_type": "code",
   "execution_count": null,
   "id": "705e2176",
   "metadata": {},
   "outputs": [],
   "source": []
  },
  {
   "cell_type": "code",
   "execution_count": null,
   "id": "70f94e03",
   "metadata": {},
   "outputs": [],
   "source": [
    "fp = open(\"/scratch/ddr8143/multiqa/qampari_data/hit_data.jsonl\", 'w+')\n",
    "with jsonlines.Writer(fp) as writer:\n",
    "    for qd in qp_simple_data:\n",
    "        qq100 = query_question(searcher, qd, 100)\n",
    "        qq500 = query_question(searcher, qd, 500)\n",
    "        qa100 = query_answers(searcher, qd, 100)\n",
    "        qdata_out = {\n",
    "            \"question_data\": qd,\n",
    "            \"query_question_contains_answer_k100\": qq100,\n",
    "            \"query_question_contains_answer_k500\": qq500,\n",
    "            \"query_answers_contains_answer_k100\": qa100,\n",
    "        }\n",
    "        writer.write(qdata_out)\n",
    "fp.close()"
   ]
  },
  {
   "cell_type": "code",
   "execution_count": 13,
   "id": "0e8b577c",
   "metadata": {},
   "outputs": [],
   "source": [
    "#!rm /scratch/ddr8143/multiqa/qampari_data/hit_data.jsonl"
   ]
  },
  {
   "cell_type": "code",
   "execution_count": null,
   "id": "15274552",
   "metadata": {},
   "outputs": [],
   "source": []
  },
  {
   "cell_type": "code",
   "execution_count": 31,
   "id": "3ed30fb3",
   "metadata": {},
   "outputs": [],
   "source": [
    "all_hits_data = []\n",
    "with jsonlines.Reader(open(\"/scratch/ddr8143/multiqa/qampari_data/hit_data.jsonl\")) as reader:\n",
    "    for obj in reader:\n",
    "        all_hits_data.append(obj)"
   ]
  },
  {
   "cell_type": "code",
   "execution_count": 32,
   "id": "33a4fb36",
   "metadata": {},
   "outputs": [
    {
     "data": {
      "text/plain": [
       "28574"
      ]
     },
     "execution_count": 32,
     "metadata": {},
     "output_type": "execute_result"
    }
   ],
   "source": [
    "len(all_hits_data)"
   ]
  },
  {
   "cell_type": "code",
   "execution_count": 34,
   "id": "fd9d3451",
   "metadata": {},
   "outputs": [
    {
     "data": {
      "text/plain": [
       "'Which movie, clip, TV show etc. had Chezhiyan as director of photography?'"
      ]
     },
     "execution_count": 34,
     "metadata": {},
     "output_type": "execute_result"
    }
   ],
   "source": [
    "all_hits_data[0]['question_data']['question_text']"
   ]
  },
  {
   "cell_type": "code",
   "execution_count": 35,
   "id": "594fc50c",
   "metadata": {},
   "outputs": [
    {
     "data": {
      "text/plain": [
       "dict_keys(['question_data', 'query_question_contains_answer_k100', 'query_question_contains_answer_k500', 'query_answers_contains_answer_k100'])"
      ]
     },
     "execution_count": 35,
     "metadata": {},
     "output_type": "execute_result"
    }
   ],
   "source": [
    "all_hits_data[0].keys()"
   ]
  },
  {
   "cell_type": "code",
   "execution_count": 37,
   "id": "d0abc8af",
   "metadata": {},
   "outputs": [
    {
     "data": {
      "text/plain": [
       "{'To Let': [16, 25, 38],\n",
       " 'Kalloori': [],\n",
       " 'Thenmerku Paruvakaatru': [],\n",
       " 'A Little Dream': [],\n",
       " 'Paradesi': [],\n",
       " 'Sawaari': [55]}"
      ]
     },
     "execution_count": 37,
     "metadata": {},
     "output_type": "execute_result"
    }
   ],
   "source": [
    "all_hits_data[0]['query_question_contains_answer_k100']"
   ]
  },
  {
   "cell_type": "code",
   "execution_count": 38,
   "id": "e4376d18",
   "metadata": {},
   "outputs": [
    {
     "data": {
      "text/plain": [
       "{'To Let': [16, 25, 38, 155, 206, 210, 257, 321, 408],\n",
       " 'Kalloori': [],\n",
       " 'Thenmerku Paruvakaatru': [],\n",
       " 'A Little Dream': [],\n",
       " 'Paradesi': [],\n",
       " 'Sawaari': [55]}"
      ]
     },
     "execution_count": 38,
     "metadata": {},
     "output_type": "execute_result"
    }
   ],
   "source": [
    "all_hits_data[0]['query_question_contains_answer_k500']"
   ]
  },
  {
   "cell_type": "code",
   "execution_count": 41,
   "id": "973a8642",
   "metadata": {},
   "outputs": [],
   "source": [
    "all_hits_data[0]['query_answers_contains_answer_k100'];"
   ]
  },
  {
   "cell_type": "code",
   "execution_count": null,
   "id": "5a8a8d18",
   "metadata": {},
   "outputs": [],
   "source": []
  },
  {
   "cell_type": "code",
   "execution_count": null,
   "id": "c0d6aa9b",
   "metadata": {},
   "outputs": [],
   "source": [
    "# Num missing in top 100\n",
    "# Num missing in top 500\n",
    "# Num that don't show up in their own bm25 search"
   ]
  },
  {
   "cell_type": "code",
   "execution_count": 43,
   "id": "223dfdfa",
   "metadata": {},
   "outputs": [],
   "source": [
    "all_ans = []\n",
    "missing_top_100 = []\n",
    "missing_top_500 = []\n",
    "missing_in_own = []\n",
    "for i in range(len(all_hits_data)):\n",
    "    top_100 = all_hits_data[i]['query_question_contains_answer_k100']\n",
    "    top_500 = all_hits_data[i]['query_question_contains_answer_k500']\n",
    "    top_100_own = all_hits_data[i]['query_answers_contains_answer_k100'];\n",
    "    all_ans.append([a for a, _ in top_100.items()])\n",
    "    missing_top_100.append([a for a, v in top_100.items() if len(v) == 0])\n",
    "    missing_top_500.append([a for a, v in top_500.items() if len(v) == 0])\n",
    "    missing_in_own.append([a for a, v in top_100_own.items() if len(v) == 0])"
   ]
  },
  {
   "cell_type": "code",
   "execution_count": 63,
   "id": "9106bd31",
   "metadata": {},
   "outputs": [
    {
     "name": "stdout",
     "output_type": "stream",
     "text": [
      "Which software, art, etc. has Charles McPherson as performer?\n",
      "             all answers: 16 ['Come Play with Me (album)', 'Con Alma!', 'Live in Tokyo', 'Bebop Revisited!', \"McPherson's Mood\", 'The Quintet/Live!', 'Free Bop!', 'From This Moment On!', \"Today's Man\", 'Beautiful!', 'Charles McPherson', 'Horizons', 'First Flight Out', 'Manhattan Nocturne (album)', 'Siku Ya Bibi', 'New Horizons']\n",
      "    missing from top 100: 11 ['Con Alma!', 'Live in Tokyo', \"McPherson's Mood\", 'The Quintet/Live!', 'Free Bop!', 'From This Moment On!', \"Today's Man\", 'Beautiful!', 'First Flight Out', 'Siku Ya Bibi', 'New Horizons']\n",
      "    missing from top 500: 4 ['Con Alma!', \"Today's Man\", 'Beautiful!', 'Siku Ya Bibi']\n",
      " missing from own search: 5 ['Free Bop!', 'From This Moment On!', 'Beautiful!', 'First Flight Out', 'Siku Ya Bibi']\n"
     ]
    }
   ],
   "source": [
    "k = 100\n",
    "print(all_hits_data[k]['question_data']['question_text'])\n",
    "print('             all answers:', len(all_ans[k]), all_ans[k])\n",
    "print('    missing from top 100:', len(missing_top_100[k]), missing_top_100[k])\n",
    "print('    missing from top 500:', len(missing_top_500[k]), missing_top_500[k])\n",
    "print(' missing from own search:', len(missing_in_own[k]), missing_in_own[k])"
   ]
  },
  {
   "cell_type": "code",
   "execution_count": 69,
   "id": "6e4745d0",
   "metadata": {},
   "outputs": [],
   "source": [
    "perc_miss_top_100 = [len(missing_top_100[k]) * 100.0 / len(all_ans[k]) for k in range(len(all_ans))]\n",
    "perc_miss_top_500 = [len(missing_top_500[k]) * 100.0 / len(all_ans[k]) for k in range(len(all_ans))]\n",
    "perc_miss_own_100 = [len(missing_in_own[k]) * 100.0 / len(all_ans[k]) for k in range(len(all_ans))]"
   ]
  },
  {
   "cell_type": "code",
   "execution_count": 70,
   "id": "d5be3190",
   "metadata": {},
   "outputs": [
    {
     "name": "stdout",
     "output_type": "stream",
     "text": [
      "100.0 0.0\n",
      "100.0 0.0\n",
      "100.0 0.0\n"
     ]
    }
   ],
   "source": [
    "print(max(perc_miss_top_100), min(perc_miss_top_100))\n",
    "print(max(perc_miss_top_500), min(perc_miss_top_500))\n",
    "print(max(perc_miss_own_100), min(perc_miss_own_100))"
   ]
  },
  {
   "cell_type": "code",
   "execution_count": 72,
   "id": "7dc61c34",
   "metadata": {},
   "outputs": [
    {
     "name": "stdout",
     "output_type": "stream",
     "text": [
      "49.667740914731\n"
     ]
    }
   ],
   "source": [
    "print(sum(perc_miss_top_100)/len(perc_miss_top_100))"
   ]
  },
  {
   "cell_type": "code",
   "execution_count": 73,
   "id": "a0a29b5c",
   "metadata": {},
   "outputs": [
    {
     "name": "stdout",
     "output_type": "stream",
     "text": [
      "41.48405195593409\n"
     ]
    }
   ],
   "source": [
    "print(sum(perc_miss_top_500)/len(perc_miss_top_500))"
   ]
  },
  {
   "cell_type": "code",
   "execution_count": 75,
   "id": "d844736c",
   "metadata": {},
   "outputs": [
    {
     "name": "stdout",
     "output_type": "stream",
     "text": [
      "26.530668766019904\n"
     ]
    }
   ],
   "source": [
    "print(sum(perc_miss_own_100)/len(perc_miss_own_100))"
   ]
  },
  {
   "cell_type": "code",
   "execution_count": null,
   "id": "bad460d6",
   "metadata": {},
   "outputs": [],
   "source": []
  }
 ],
 "metadata": {
  "kernelspec": {
   "display_name": "Python 3 (ipykernel)",
   "language": "python",
   "name": "python3"
  },
  "language_info": {
   "codemirror_mode": {
    "name": "ipython",
    "version": 3
   },
   "file_extension": ".py",
   "mimetype": "text/x-python",
   "name": "python",
   "nbconvert_exporter": "python",
   "pygments_lexer": "ipython3",
   "version": "3.7.13"
  }
 },
 "nbformat": 4,
 "nbformat_minor": 5
}
