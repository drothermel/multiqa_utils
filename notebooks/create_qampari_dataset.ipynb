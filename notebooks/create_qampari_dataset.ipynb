{
 "cells": [
  {
   "cell_type": "code",
   "execution_count": 33,
   "id": "e1d28b9b",
   "metadata": {},
   "outputs": [
    {
     "name": "stdout",
     "output_type": "stream",
     "text": [
      "The autoreload extension is already loaded. To reload it, use:\n",
      "  %reload_ext autoreload\n"
     ]
    }
   ],
   "source": [
    "import sh\n",
    "import json\n",
    "import os\n",
    "\n",
    "from collections import defaultdict\n",
    "\n",
    "from multiqa_utils import wikipedia_utils as wu\n",
    "\n",
    "%load_ext autoreload\n",
    "%autoreload 2"
   ]
  },
  {
   "cell_type": "code",
   "execution_count": 2,
   "id": "c92cda60",
   "metadata": {},
   "outputs": [],
   "source": [
    "base_path = \"/scratch/ddr8143/repos/DPR/downloads/data\"\n",
    "ambigqa_path = f\"{base_path}/ambigqa\"\n",
    "ambigqa_light_path = f\"{base_path}/ambigqa_light\"\n",
    "nq_path = f\"{base_path}/retriever\"\n",
    "qp_path = f\"{base_path}/qampari\""
   ]
  },
  {
   "cell_type": "markdown",
   "id": "7db78e38",
   "metadata": {},
   "source": [
    "## Inspect QAMPARI Data"
   ]
  },
  {
   "cell_type": "code",
   "execution_count": 3,
   "id": "84972baf",
   "metadata": {},
   "outputs": [
    {
     "data": {
      "text/plain": [
       "dev_data.jsonl\ttest_data.jsonl  train_data.jsonl"
      ]
     },
     "execution_count": 3,
     "metadata": {},
     "output_type": "execute_result"
    }
   ],
   "source": [
    "sh.ls(qp_path)"
   ]
  },
  {
   "cell_type": "code",
   "execution_count": 4,
   "id": "6c2391b0",
   "metadata": {},
   "outputs": [],
   "source": [
    "qp_data = []\n",
    "for l in open(f\"{qp_path}/dev_data.jsonl\").readlines():\n",
    "    qp_data.append(json.loads(l))"
   ]
  },
  {
   "cell_type": "code",
   "execution_count": 5,
   "id": "a31925b2",
   "metadata": {},
   "outputs": [
    {
     "data": {
      "text/plain": [
       "{'entities': [{'entity_url': 'https://en.wikipedia.org/wiki/Ryoichi_Ikegami',\n",
       "   'entity_text': 'Ryoichi Ikegami',\n",
       "   'aliases': ['Ryoichi Ikegami']}],\n",
       " 'question_text': 'What manga was drawn by Ryoichi Ikegami?',\n",
       " 'answer_list': [{'answer_text': 'Heat',\n",
       "   'aid': '799__wikidata_simple__test__0',\n",
       "   'aliases': ['Heat'],\n",
       "   'answer_url': 'https://en.wikipedia.org/wiki/Heat_(manga)',\n",
       "   'proof': [{'proof_text': ' is a seinen manga series written by buronson and illustrated by ryoichi ikegami.',\n",
       "     'found_in_url': 'https://en.wikipedia.org/wiki/Heat_(manga)',\n",
       "     'pid': '799__wikidata_simple__test__0__0'}]},\n",
       "  {'answer_text': 'Mai, the Psychic Girl',\n",
       "   'aid': '799__wikidata_simple__test__1',\n",
       "   'aliases': ['Mai, the Psychic Girl'],\n",
       "   'answer_url': 'https://en.wikipedia.org/wiki/Mai,_the_Psychic_Girl',\n",
       "   'proof': [{'proof_text': 'mai, the psychic girl, known simply as in japan, is a manga written by kazuya kudō and illustrated by ryoichi ikegami.\\nthe main character is mai kuju, a 14-year-old japanese girl with powerful psychic abilities.',\n",
       "     'found_in_url': 'https://en.wikipedia.org/wiki/Mai,_the_Psychic_Girl',\n",
       "     'pid': '799__wikidata_simple__test__1__0'}]},\n",
       "  {'answer_text': 'Wounded Man',\n",
       "   'aid': '799__wikidata_simple__test__2',\n",
       "   'aliases': ['Wounded Man'],\n",
       "   'answer_url': 'https://en.wikipedia.org/wiki/Wounded_Man',\n",
       "   'proof': [{'proof_text': ' is a japanese seinen manga written by kazuo koike and illustrated by ryoichi ikegami.',\n",
       "     'found_in_url': 'https://en.wikipedia.org/wiki/Wounded_Man',\n",
       "     'pid': '799__wikidata_simple__test__2__0'}]},\n",
       "  {'answer_text': 'Sanctuary',\n",
       "   'aid': '799__wikidata_simple__test__3',\n",
       "   'aliases': ['Sanctuary'],\n",
       "   'answer_url': 'https://en.wikipedia.org/wiki/Sanctuary_(manga)',\n",
       "   'proof': [{'proof_text': ' is a manga written by sho fumimura, and illustrated by ryoichi ikegami.',\n",
       "     'found_in_url': 'https://en.wikipedia.org/wiki/Sanctuary_(manga)',\n",
       "     'pid': '799__wikidata_simple__test__3__0'}]},\n",
       "  {'answer_text': 'Crying Freeman',\n",
       "   'aid': '799__wikidata_simple__test__4',\n",
       "   'aliases': ['Crying Freeman'],\n",
       "   'answer_url': 'https://en.wikipedia.org/wiki/Crying_Freeman',\n",
       "   'proof': [{'proof_text': ' is a japanese manga series written by kazuo koike and illustrated by ryoichi ikegami.',\n",
       "     'found_in_url': 'https://en.wikipedia.org/wiki/Crying_Freeman',\n",
       "     'pid': '799__wikidata_simple__test__4__0'}]},\n",
       "  {'answer_text': 'Strain',\n",
       "   'aid': '799__wikidata_simple__test__5',\n",
       "   'aliases': ['Strain'],\n",
       "   'answer_url': 'https://en.wikipedia.org/wiki/Strain_(manga)',\n",
       "   'proof': [{'proof_text': ' is a japanese manga series written by buronson and illustrated by ryoichi ikegami, published shogakukan\\'s \"big comic superior\" from 1996 to 1998.\\nplot.\\nmayo is a professional assassin who is hired by the \"organization\" to kill the mother of a young prostitute, shion.',\n",
       "     'found_in_url': 'https://en.wikipedia.org/wiki/Strain_(manga)',\n",
       "     'pid': '799__wikidata_simple__test__5__0'}]}],\n",
       " 'qid': '799__wikidata_simple__dev'}"
      ]
     },
     "execution_count": 5,
     "metadata": {},
     "output_type": "execute_result"
    }
   ],
   "source": [
    "qp_data[0]"
   ]
  },
  {
   "cell_type": "code",
   "execution_count": null,
   "id": "6d9b9458",
   "metadata": {},
   "outputs": [],
   "source": []
  },
  {
   "cell_type": "markdown",
   "id": "c5e70d0b",
   "metadata": {},
   "source": [
    "## Process Wiki Data"
   ]
  },
  {
   "cell_type": "code",
   "execution_count": 10,
   "id": "4c698120",
   "metadata": {},
   "outputs": [
    {
     "name": "stdout",
     "output_type": "stream",
     "text": [
      "/scratch/ddr8143/wikipedia/enwiki_20220701/AA\n"
     ]
    },
    {
     "data": {
      "text/plain": [
       "metadata.json  wiki_12\twiki_25  wiki_38  wiki_51  wiki_64  wiki_77  wiki_90\n",
       "wiki_00        wiki_13\twiki_26  wiki_39  wiki_52  wiki_65  wiki_78  wiki_91\n",
       "wiki_01        wiki_14\twiki_27  wiki_40  wiki_53  wiki_66  wiki_79  wiki_92\n",
       "wiki_02        wiki_15\twiki_28  wiki_41  wiki_54  wiki_67  wiki_80  wiki_93\n",
       "wiki_03        wiki_16\twiki_29  wiki_42  wiki_55  wiki_68  wiki_81  wiki_94\n",
       "wiki_04        wiki_17\twiki_30  wiki_43  wiki_56  wiki_69  wiki_82  wiki_95\n",
       "wiki_05        wiki_18\twiki_31  wiki_44  wiki_57  wiki_70  wiki_83  wiki_96\n",
       "wiki_06        wiki_19\twiki_32  wiki_45  wiki_58  wiki_71  wiki_84  wiki_97\n",
       "wiki_07        wiki_20\twiki_33  wiki_46  wiki_59  wiki_72  wiki_85  wiki_98\n",
       "wiki_08        wiki_21\twiki_34  wiki_47  wiki_60  wiki_73  wiki_86  wiki_99\n",
       "wiki_09        wiki_22\twiki_35  wiki_48  wiki_61  wiki_74  wiki_87\n",
       "wiki_10        wiki_23\twiki_36  wiki_49  wiki_62  wiki_75  wiki_88\n",
       "wiki_11        wiki_24\twiki_37  wiki_50  wiki_63  wiki_76  wiki_89"
      ]
     },
     "execution_count": 10,
     "metadata": {},
     "output_type": "execute_result"
    }
   ],
   "source": [
    "# Inspect the data setup\n",
    "wiki_seg = wu.get_wikiseg_path(wu.WIKIPATH, \"AA\")\n",
    "print(wiki_seg)\n",
    "sh.ls(wiki_seg)"
   ]
  },
  {
   "cell_type": "code",
   "execution_count": 12,
   "id": "bdca941b",
   "metadata": {},
   "outputs": [],
   "source": [
    "# First, parse all metadata and write metadata files to segment directories\n",
    "for i, segment in enumerate(sorted(os.listdir(wu.WIKIPATH))):\n",
    "    wu.get_segment_metadata(wu.WIKIPATH, segment, force=False, verbose=False)"
   ]
  },
  {
   "cell_type": "code",
   "execution_count": 41,
   "id": "7ab6461e",
   "metadata": {},
   "outputs": [
    {
     "data": {
      "text/plain": [
       "6485795"
      ]
     },
     "execution_count": 41,
     "metadata": {},
     "output_type": "execute_result"
    }
   ],
   "source": [
    "# Then load the titles with text\n",
    "#all_titles_wtext = wu.aggregate_wikipedia_metadata_key(wu.WIKIPATH, \"titles_with_text\", use_tqdm=True)\n",
    "len(all_titles_wtext)"
   ]
  },
  {
   "cell_type": "code",
   "execution_count": null,
   "id": "3d00aa2e",
   "metadata": {},
   "outputs": [],
   "source": [
    "# TODO: check which QAMPARI titles exist in this version of wikipedia"
   ]
  },
  {
   "cell_type": "code",
   "execution_count": null,
   "id": "5e8c8d61",
   "metadata": {},
   "outputs": [],
   "source": []
  },
  {
   "cell_type": "code",
   "execution_count": null,
   "id": "2e0bfd51",
   "metadata": {},
   "outputs": [],
   "source": []
  },
  {
   "cell_type": "code",
   "execution_count": null,
   "id": "d2649a28",
   "metadata": {},
   "outputs": [],
   "source": []
  },
  {
   "cell_type": "code",
   "execution_count": null,
   "id": "9de44317",
   "metadata": {},
   "outputs": [],
   "source": []
  },
  {
   "cell_type": "code",
   "execution_count": null,
   "id": "00d5c63a",
   "metadata": {},
   "outputs": [],
   "source": []
  },
  {
   "cell_type": "code",
   "execution_count": null,
   "id": "91ffce2d",
   "metadata": {},
   "outputs": [],
   "source": []
  },
  {
   "cell_type": "code",
   "execution_count": null,
   "id": "7ac63870",
   "metadata": {},
   "outputs": [],
   "source": []
  },
  {
   "cell_type": "code",
   "execution_count": null,
   "id": "fb16acfc",
   "metadata": {},
   "outputs": [],
   "source": []
  },
  {
   "cell_type": "code",
   "execution_count": null,
   "id": "02c0bf79",
   "metadata": {},
   "outputs": [],
   "source": []
  }
 ],
 "metadata": {
  "kernelspec": {
   "display_name": "Python 3 (ipykernel)",
   "language": "python",
   "name": "python3"
  },
  "language_info": {
   "codemirror_mode": {
    "name": "ipython",
    "version": 3
   },
   "file_extension": ".py",
   "mimetype": "text/x-python",
   "name": "python",
   "nbconvert_exporter": "python",
   "pygments_lexer": "ipython3",
   "version": "3.9.0"
  }
 },
 "nbformat": 4,
 "nbformat_minor": 5
}
