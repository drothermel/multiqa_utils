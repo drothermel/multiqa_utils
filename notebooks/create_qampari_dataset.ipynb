{
 "cells": [
  {
   "cell_type": "code",
   "execution_count": 1,
   "id": "bbace9b8",
   "metadata": {},
   "outputs": [],
   "source": [
    "import sh\n",
    "import json\n",
    "import os\n",
    "\n",
    "from collections import defaultdict"
   ]
  },
  {
   "cell_type": "code",
   "execution_count": 2,
   "id": "678e9d32",
   "metadata": {},
   "outputs": [],
   "source": [
    "base_path = \"/scratch/ddr8143/repos/DPR/downloads/data\"\n",
    "ambigqa_path = f\"{base_path}/ambigqa\"\n",
    "ambigqa_light_path = f\"{base_path}/ambigqa_light\"\n",
    "nq_path = f\"{base_path}/retriever\"\n",
    "qp_path = f\"{base_path}/qampari\"\n",
    "\n",
    "wikipath = \"/scratch/ddr8143/wikipedia/enwiki_20220701\""
   ]
  },
  {
   "cell_type": "markdown",
   "id": "18d44219",
   "metadata": {},
   "source": [
    "## Inspect QAMPARI Data"
   ]
  },
  {
   "cell_type": "code",
   "execution_count": 3,
   "id": "14fd930f",
   "metadata": {},
   "outputs": [
    {
     "data": {
      "text/plain": [
       "dev_data.jsonl\ttest_data.jsonl  train_data.jsonl"
      ]
     },
     "execution_count": 3,
     "metadata": {},
     "output_type": "execute_result"
    }
   ],
   "source": [
    "sh.ls(qp_path)"
   ]
  },
  {
   "cell_type": "code",
   "execution_count": 4,
   "id": "2cfb8b9a",
   "metadata": {},
   "outputs": [],
   "source": [
    "qp_data = []\n",
    "for l in open(f\"{qp_path}/dev_data.jsonl\").readlines():\n",
    "    qp_data.append(json.loads(l))"
   ]
  },
  {
   "cell_type": "code",
   "execution_count": 5,
   "id": "27fbc800",
   "metadata": {},
   "outputs": [
    {
     "data": {
      "text/plain": [
       "{'entities': [{'entity_url': 'https://en.wikipedia.org/wiki/Ryoichi_Ikegami',\n",
       "   'entity_text': 'Ryoichi Ikegami',\n",
       "   'aliases': ['Ryoichi Ikegami']}],\n",
       " 'question_text': 'What manga was drawn by Ryoichi Ikegami?',\n",
       " 'answer_list': [{'answer_text': 'Heat',\n",
       "   'aid': '799__wikidata_simple__test__0',\n",
       "   'aliases': ['Heat'],\n",
       "   'answer_url': 'https://en.wikipedia.org/wiki/Heat_(manga)',\n",
       "   'proof': [{'proof_text': ' is a seinen manga series written by buronson and illustrated by ryoichi ikegami.',\n",
       "     'found_in_url': 'https://en.wikipedia.org/wiki/Heat_(manga)',\n",
       "     'pid': '799__wikidata_simple__test__0__0'}]},\n",
       "  {'answer_text': 'Mai, the Psychic Girl',\n",
       "   'aid': '799__wikidata_simple__test__1',\n",
       "   'aliases': ['Mai, the Psychic Girl'],\n",
       "   'answer_url': 'https://en.wikipedia.org/wiki/Mai,_the_Psychic_Girl',\n",
       "   'proof': [{'proof_text': 'mai, the psychic girl, known simply as in japan, is a manga written by kazuya kudō and illustrated by ryoichi ikegami.\\nthe main character is mai kuju, a 14-year-old japanese girl with powerful psychic abilities.',\n",
       "     'found_in_url': 'https://en.wikipedia.org/wiki/Mai,_the_Psychic_Girl',\n",
       "     'pid': '799__wikidata_simple__test__1__0'}]},\n",
       "  {'answer_text': 'Wounded Man',\n",
       "   'aid': '799__wikidata_simple__test__2',\n",
       "   'aliases': ['Wounded Man'],\n",
       "   'answer_url': 'https://en.wikipedia.org/wiki/Wounded_Man',\n",
       "   'proof': [{'proof_text': ' is a japanese seinen manga written by kazuo koike and illustrated by ryoichi ikegami.',\n",
       "     'found_in_url': 'https://en.wikipedia.org/wiki/Wounded_Man',\n",
       "     'pid': '799__wikidata_simple__test__2__0'}]},\n",
       "  {'answer_text': 'Sanctuary',\n",
       "   'aid': '799__wikidata_simple__test__3',\n",
       "   'aliases': ['Sanctuary'],\n",
       "   'answer_url': 'https://en.wikipedia.org/wiki/Sanctuary_(manga)',\n",
       "   'proof': [{'proof_text': ' is a manga written by sho fumimura, and illustrated by ryoichi ikegami.',\n",
       "     'found_in_url': 'https://en.wikipedia.org/wiki/Sanctuary_(manga)',\n",
       "     'pid': '799__wikidata_simple__test__3__0'}]},\n",
       "  {'answer_text': 'Crying Freeman',\n",
       "   'aid': '799__wikidata_simple__test__4',\n",
       "   'aliases': ['Crying Freeman'],\n",
       "   'answer_url': 'https://en.wikipedia.org/wiki/Crying_Freeman',\n",
       "   'proof': [{'proof_text': ' is a japanese manga series written by kazuo koike and illustrated by ryoichi ikegami.',\n",
       "     'found_in_url': 'https://en.wikipedia.org/wiki/Crying_Freeman',\n",
       "     'pid': '799__wikidata_simple__test__4__0'}]},\n",
       "  {'answer_text': 'Strain',\n",
       "   'aid': '799__wikidata_simple__test__5',\n",
       "   'aliases': ['Strain'],\n",
       "   'answer_url': 'https://en.wikipedia.org/wiki/Strain_(manga)',\n",
       "   'proof': [{'proof_text': ' is a japanese manga series written by buronson and illustrated by ryoichi ikegami, published shogakukan\\'s \"big comic superior\" from 1996 to 1998.\\nplot.\\nmayo is a professional assassin who is hired by the \"organization\" to kill the mother of a young prostitute, shion.',\n",
       "     'found_in_url': 'https://en.wikipedia.org/wiki/Strain_(manga)',\n",
       "     'pid': '799__wikidata_simple__test__5__0'}]}],\n",
       " 'qid': '799__wikidata_simple__dev'}"
      ]
     },
     "execution_count": 5,
     "metadata": {},
     "output_type": "execute_result"
    }
   ],
   "source": [
    "qp_data[0]"
   ]
  },
  {
   "cell_type": "code",
   "execution_count": null,
   "id": "a97ad1a9",
   "metadata": {},
   "outputs": [],
   "source": []
  },
  {
   "cell_type": "markdown",
   "id": "0fe90c11",
   "metadata": {},
   "source": [
    "## Inspect Wiki Data"
   ]
  },
  {
   "cell_type": "code",
   "execution_count": 10,
   "id": "33d9df43",
   "metadata": {},
   "outputs": [],
   "source": [
    "#wiki_segment = f\"{wikipath}/AA\""
   ]
  },
  {
   "cell_type": "code",
   "execution_count": 3,
   "id": "51bb53dd",
   "metadata": {},
   "outputs": [
    {
     "data": {
      "text/plain": [
       "'/scratch/ddr8143/wikipedia/enwiki_20220701'"
      ]
     },
     "execution_count": 3,
     "metadata": {},
     "output_type": "execute_result"
    }
   ],
   "source": [
    "wikipath"
   ]
  },
  {
   "cell_type": "code",
   "execution_count": 4,
   "id": "2e86c167",
   "metadata": {},
   "outputs": [],
   "source": [
    "def get_wikiseg_path(wikipath, segment):\n",
    "    return f\"{wikipath}/{segment}\""
   ]
  },
  {
   "cell_type": "code",
   "execution_count": 5,
   "id": "edfc020e",
   "metadata": {},
   "outputs": [],
   "source": [
    "def get_metadata_path(wikipath, segment):\n",
    "    return f\"{get_wikiseg_path(wikipath, segment)}/metadata.json\""
   ]
  },
  {
   "cell_type": "code",
   "execution_count": 11,
   "id": "9956e2bc",
   "metadata": {},
   "outputs": [
    {
     "data": {
      "text/plain": [
       "wiki_00  wiki_12  wiki_24  wiki_36  wiki_48  wiki_60  wiki_72  wiki_84\twiki_96\n",
       "wiki_01  wiki_13  wiki_25  wiki_37  wiki_49  wiki_61  wiki_73  wiki_85\twiki_97\n",
       "wiki_02  wiki_14  wiki_26  wiki_38  wiki_50  wiki_62  wiki_74  wiki_86\twiki_98\n",
       "wiki_03  wiki_15  wiki_27  wiki_39  wiki_51  wiki_63  wiki_75  wiki_87\twiki_99\n",
       "wiki_04  wiki_16  wiki_28  wiki_40  wiki_52  wiki_64  wiki_76  wiki_88\n",
       "wiki_05  wiki_17  wiki_29  wiki_41  wiki_53  wiki_65  wiki_77  wiki_89\n",
       "wiki_06  wiki_18  wiki_30  wiki_42  wiki_54  wiki_66  wiki_78  wiki_90\n",
       "wiki_07  wiki_19  wiki_31  wiki_43  wiki_55  wiki_67  wiki_79  wiki_91\n",
       "wiki_08  wiki_20  wiki_32  wiki_44  wiki_56  wiki_68  wiki_80  wiki_92\n",
       "wiki_09  wiki_21  wiki_33  wiki_45  wiki_57  wiki_69  wiki_81  wiki_93\n",
       "wiki_10  wiki_22  wiki_34  wiki_46  wiki_58  wiki_70  wiki_82  wiki_94\n",
       "wiki_11  wiki_23  wiki_35  wiki_47  wiki_59  wiki_71  wiki_83  wiki_95"
      ]
     },
     "execution_count": 11,
     "metadata": {},
     "output_type": "execute_result"
    }
   ],
   "source": [
    "# sh.ls(wiki_segment)\n",
    "# os.listdir(wikisegment)"
   ]
  },
  {
   "cell_type": "code",
   "execution_count": 3,
   "id": "1339292d",
   "metadata": {},
   "outputs": [],
   "source": [
    "#title_to_info = defaultdict(list)"
   ]
  },
  {
   "cell_type": "code",
   "execution_count": 6,
   "id": "d07063d2",
   "metadata": {},
   "outputs": [],
   "source": [
    "def get_segment_metadata(wikipath, segment, force=False):\n",
    "    mdpath = get_metadata_path(wikipath, segment)\n",
    "    if not force and os.path.exists(mdpath):\n",
    "        print(f\">> Metadata exists: {mdpath}\")\n",
    "        return\n",
    "    \n",
    "    wiki_segment = get_wikiseg_path(wikipath, segment)\n",
    "    seg_title_to_info = defaultdict(list)\n",
    "    seg_title_to_info_wtext = defaultdict(list)\n",
    "    for subseg in sorted(os.listdir(wiki_segment)):\n",
    "        if \"metadata\" in subseg:\n",
    "            continue\n",
    "        subseg_path = f\"{wiki_segment}/{subseg}\"\n",
    "        #print(f\">>     Processing {subseg_path}\")\n",
    "        with open(f\"{wiki_segment}/{subseg}\") as f:\n",
    "            for i, jl in enumerate(f):\n",
    "                l = json.loads(jl)\n",
    "                try:\n",
    "                    ltitle = l['title']\n",
    "                    ldata = {\n",
    "                        'id': l['id'],\n",
    "                        'has_text': l['text'] != '',\n",
    "                        'url': l['url'],\n",
    "                    }\n",
    "                    seg_title_to_info[ltitle].append(ldata)\n",
    "                    if ldata['has_text']:\n",
    "                        seg_title_to_info_wtext[ltitle].append({k: v for k, v in ldata.items() if k != 'has_text'})\n",
    "                except:\n",
    "                    print(\"Exception!!!\")\n",
    "                    print(l)\n",
    "    \n",
    "    # Validate results\n",
    "    duplicate_titles = {k: v for k, v in seg_title_to_info.items() if len(v) > 1}\n",
    "    assert len(duplicate_titles) == 0, f\"Number duplicate titles: {len(duplicate_titles)} for wiki segment: {wiki_segment}\"\n",
    "    \n",
    "    # Write metadata\n",
    "    metadata = {\n",
    "        \"all_titles\": dict(seg_title_to_info),\n",
    "        \"titles_with_text\": dict(seg_title_to_info_wtext),\n",
    "    }\n",
    "    with open(mdpath, 'w+') as mdf:\n",
    "        json.dump(metadata, mdf)\n",
    "    print(f\">> Wrote metadata for {len(seg_title_to_info):6} titles ({len(seg_title_to_info_wtext):6} with text) to {mdpath}\")"
   ]
  },
  {
   "cell_type": "code",
   "execution_count": 8,
   "id": "268bad13",
   "metadata": {},
   "outputs": [
    {
     "name": "stdout",
     "output_type": "stream",
     "text": [
      ">> Metadata exists: /scratch/ddr8143/wikipedia/enwiki_20220701/AA/metadata.json\n",
      ">> Metadata exists: /scratch/ddr8143/wikipedia/enwiki_20220701/AB/metadata.json\n",
      ">> Metadata exists: /scratch/ddr8143/wikipedia/enwiki_20220701/AC/metadata.json\n",
      ">> Metadata exists: /scratch/ddr8143/wikipedia/enwiki_20220701/AD/metadata.json\n",
      ">> Metadata exists: /scratch/ddr8143/wikipedia/enwiki_20220701/AE/metadata.json\n",
      ">> Metadata exists: /scratch/ddr8143/wikipedia/enwiki_20220701/AF/metadata.json\n",
      ">> Metadata exists: /scratch/ddr8143/wikipedia/enwiki_20220701/AG/metadata.json\n",
      ">> Metadata exists: /scratch/ddr8143/wikipedia/enwiki_20220701/AH/metadata.json\n",
      ">> Metadata exists: /scratch/ddr8143/wikipedia/enwiki_20220701/AI/metadata.json\n",
      ">> Metadata exists: /scratch/ddr8143/wikipedia/enwiki_20220701/AJ/metadata.json\n",
      ">> Metadata exists: /scratch/ddr8143/wikipedia/enwiki_20220701/AK/metadata.json\n",
      ">> Metadata exists: /scratch/ddr8143/wikipedia/enwiki_20220701/AL/metadata.json\n",
      ">> Metadata exists: /scratch/ddr8143/wikipedia/enwiki_20220701/AM/metadata.json\n",
      ">> Metadata exists: /scratch/ddr8143/wikipedia/enwiki_20220701/AN/metadata.json\n",
      ">> Metadata exists: /scratch/ddr8143/wikipedia/enwiki_20220701/AO/metadata.json\n",
      ">> Metadata exists: /scratch/ddr8143/wikipedia/enwiki_20220701/AP/metadata.json\n",
      ">> Metadata exists: /scratch/ddr8143/wikipedia/enwiki_20220701/AQ/metadata.json\n",
      ">> Metadata exists: /scratch/ddr8143/wikipedia/enwiki_20220701/AR/metadata.json\n",
      ">> Metadata exists: /scratch/ddr8143/wikipedia/enwiki_20220701/AS/metadata.json\n",
      ">> Metadata exists: /scratch/ddr8143/wikipedia/enwiki_20220701/AT/metadata.json\n",
      ">> Metadata exists: /scratch/ddr8143/wikipedia/enwiki_20220701/AU/metadata.json\n",
      ">> Metadata exists: /scratch/ddr8143/wikipedia/enwiki_20220701/AV/metadata.json\n",
      ">> Metadata exists: /scratch/ddr8143/wikipedia/enwiki_20220701/AW/metadata.json\n",
      ">> Metadata exists: /scratch/ddr8143/wikipedia/enwiki_20220701/AX/metadata.json\n",
      ">> Metadata exists: /scratch/ddr8143/wikipedia/enwiki_20220701/AY/metadata.json\n",
      ">> Metadata exists: /scratch/ddr8143/wikipedia/enwiki_20220701/AZ/metadata.json\n",
      ">> Metadata exists: /scratch/ddr8143/wikipedia/enwiki_20220701/BA/metadata.json\n",
      ">> Metadata exists: /scratch/ddr8143/wikipedia/enwiki_20220701/BB/metadata.json\n",
      ">> Metadata exists: /scratch/ddr8143/wikipedia/enwiki_20220701/BC/metadata.json\n",
      ">> Metadata exists: /scratch/ddr8143/wikipedia/enwiki_20220701/BD/metadata.json\n",
      ">> Metadata exists: /scratch/ddr8143/wikipedia/enwiki_20220701/BE/metadata.json\n",
      ">> Metadata exists: /scratch/ddr8143/wikipedia/enwiki_20220701/BF/metadata.json\n",
      ">> Metadata exists: /scratch/ddr8143/wikipedia/enwiki_20220701/BG/metadata.json\n",
      ">> Metadata exists: /scratch/ddr8143/wikipedia/enwiki_20220701/BH/metadata.json\n",
      ">> Metadata exists: /scratch/ddr8143/wikipedia/enwiki_20220701/BI/metadata.json\n",
      ">> Metadata exists: /scratch/ddr8143/wikipedia/enwiki_20220701/BJ/metadata.json\n",
      ">> Metadata exists: /scratch/ddr8143/wikipedia/enwiki_20220701/BK/metadata.json\n",
      ">> Metadata exists: /scratch/ddr8143/wikipedia/enwiki_20220701/BL/metadata.json\n",
      ">> Metadata exists: /scratch/ddr8143/wikipedia/enwiki_20220701/BM/metadata.json\n",
      ">> Metadata exists: /scratch/ddr8143/wikipedia/enwiki_20220701/BN/metadata.json\n",
      ">> Metadata exists: /scratch/ddr8143/wikipedia/enwiki_20220701/BO/metadata.json\n",
      ">> Metadata exists: /scratch/ddr8143/wikipedia/enwiki_20220701/BP/metadata.json\n",
      ">> Metadata exists: /scratch/ddr8143/wikipedia/enwiki_20220701/BQ/metadata.json\n",
      ">> Metadata exists: /scratch/ddr8143/wikipedia/enwiki_20220701/BR/metadata.json\n",
      ">> Metadata exists: /scratch/ddr8143/wikipedia/enwiki_20220701/BS/metadata.json\n",
      ">> Metadata exists: /scratch/ddr8143/wikipedia/enwiki_20220701/BT/metadata.json\n",
      ">> Metadata exists: /scratch/ddr8143/wikipedia/enwiki_20220701/BU/metadata.json\n",
      ">> Metadata exists: /scratch/ddr8143/wikipedia/enwiki_20220701/BV/metadata.json\n",
      ">> Metadata exists: /scratch/ddr8143/wikipedia/enwiki_20220701/BW/metadata.json\n",
      ">> Metadata exists: /scratch/ddr8143/wikipedia/enwiki_20220701/BX/metadata.json\n",
      ">> Metadata exists: /scratch/ddr8143/wikipedia/enwiki_20220701/BY/metadata.json\n",
      ">> Metadata exists: /scratch/ddr8143/wikipedia/enwiki_20220701/BZ/metadata.json\n",
      ">> Metadata exists: /scratch/ddr8143/wikipedia/enwiki_20220701/CA/metadata.json\n",
      ">> Metadata exists: /scratch/ddr8143/wikipedia/enwiki_20220701/CB/metadata.json\n",
      ">> Metadata exists: /scratch/ddr8143/wikipedia/enwiki_20220701/CC/metadata.json\n",
      ">> Metadata exists: /scratch/ddr8143/wikipedia/enwiki_20220701/CD/metadata.json\n",
      ">> Metadata exists: /scratch/ddr8143/wikipedia/enwiki_20220701/CE/metadata.json\n",
      ">> Metadata exists: /scratch/ddr8143/wikipedia/enwiki_20220701/CF/metadata.json\n",
      ">> Metadata exists: /scratch/ddr8143/wikipedia/enwiki_20220701/CG/metadata.json\n",
      ">> Metadata exists: /scratch/ddr8143/wikipedia/enwiki_20220701/CH/metadata.json\n",
      ">> Metadata exists: /scratch/ddr8143/wikipedia/enwiki_20220701/CI/metadata.json\n",
      ">> Metadata exists: /scratch/ddr8143/wikipedia/enwiki_20220701/CJ/metadata.json\n",
      ">> Metadata exists: /scratch/ddr8143/wikipedia/enwiki_20220701/CK/metadata.json\n",
      ">> Metadata exists: /scratch/ddr8143/wikipedia/enwiki_20220701/CL/metadata.json\n",
      ">> Metadata exists: /scratch/ddr8143/wikipedia/enwiki_20220701/CM/metadata.json\n",
      ">> Metadata exists: /scratch/ddr8143/wikipedia/enwiki_20220701/CN/metadata.json\n",
      ">> Metadata exists: /scratch/ddr8143/wikipedia/enwiki_20220701/CO/metadata.json\n",
      ">> Metadata exists: /scratch/ddr8143/wikipedia/enwiki_20220701/CP/metadata.json\n",
      ">> Metadata exists: /scratch/ddr8143/wikipedia/enwiki_20220701/CQ/metadata.json\n",
      ">> Metadata exists: /scratch/ddr8143/wikipedia/enwiki_20220701/CR/metadata.json\n",
      ">> Metadata exists: /scratch/ddr8143/wikipedia/enwiki_20220701/CS/metadata.json\n",
      ">> Metadata exists: /scratch/ddr8143/wikipedia/enwiki_20220701/CT/metadata.json\n",
      ">> Metadata exists: /scratch/ddr8143/wikipedia/enwiki_20220701/CU/metadata.json\n",
      ">> Metadata exists: /scratch/ddr8143/wikipedia/enwiki_20220701/CV/metadata.json\n",
      ">> Metadata exists: /scratch/ddr8143/wikipedia/enwiki_20220701/CW/metadata.json\n",
      ">> Metadata exists: /scratch/ddr8143/wikipedia/enwiki_20220701/CX/metadata.json\n",
      ">> Metadata exists: /scratch/ddr8143/wikipedia/enwiki_20220701/CY/metadata.json\n",
      ">> Metadata exists: /scratch/ddr8143/wikipedia/enwiki_20220701/CZ/metadata.json\n",
      ">> Metadata exists: /scratch/ddr8143/wikipedia/enwiki_20220701/DA/metadata.json\n",
      ">> Metadata exists: /scratch/ddr8143/wikipedia/enwiki_20220701/DB/metadata.json\n",
      ">> Metadata exists: /scratch/ddr8143/wikipedia/enwiki_20220701/DC/metadata.json\n",
      ">> Metadata exists: /scratch/ddr8143/wikipedia/enwiki_20220701/DD/metadata.json\n",
      ">> Metadata exists: /scratch/ddr8143/wikipedia/enwiki_20220701/DE/metadata.json\n",
      ">> Metadata exists: /scratch/ddr8143/wikipedia/enwiki_20220701/DF/metadata.json\n",
      ">> Metadata exists: /scratch/ddr8143/wikipedia/enwiki_20220701/DG/metadata.json\n",
      ">> Metadata exists: /scratch/ddr8143/wikipedia/enwiki_20220701/DH/metadata.json\n",
      ">> Metadata exists: /scratch/ddr8143/wikipedia/enwiki_20220701/DI/metadata.json\n",
      ">> Metadata exists: /scratch/ddr8143/wikipedia/enwiki_20220701/DJ/metadata.json\n",
      ">> Metadata exists: /scratch/ddr8143/wikipedia/enwiki_20220701/DK/metadata.json\n",
      ">> Metadata exists: /scratch/ddr8143/wikipedia/enwiki_20220701/DL/metadata.json\n",
      ">> Metadata exists: /scratch/ddr8143/wikipedia/enwiki_20220701/DM/metadata.json\n",
      ">> Metadata exists: /scratch/ddr8143/wikipedia/enwiki_20220701/DN/metadata.json\n",
      ">> Metadata exists: /scratch/ddr8143/wikipedia/enwiki_20220701/DO/metadata.json\n",
      ">> Metadata exists: /scratch/ddr8143/wikipedia/enwiki_20220701/DP/metadata.json\n",
      ">> Metadata exists: /scratch/ddr8143/wikipedia/enwiki_20220701/DQ/metadata.json\n",
      ">> Metadata exists: /scratch/ddr8143/wikipedia/enwiki_20220701/DR/metadata.json\n",
      ">> Metadata exists: /scratch/ddr8143/wikipedia/enwiki_20220701/DS/metadata.json\n",
      ">> Metadata exists: /scratch/ddr8143/wikipedia/enwiki_20220701/DT/metadata.json\n",
      ">> Metadata exists: /scratch/ddr8143/wikipedia/enwiki_20220701/DU/metadata.json\n",
      ">> Metadata exists: /scratch/ddr8143/wikipedia/enwiki_20220701/DV/metadata.json\n",
      ">> Metadata exists: /scratch/ddr8143/wikipedia/enwiki_20220701/DW/metadata.json\n",
      ">> Metadata exists: /scratch/ddr8143/wikipedia/enwiki_20220701/DX/metadata.json\n",
      ">> Metadata exists: /scratch/ddr8143/wikipedia/enwiki_20220701/DY/metadata.json\n",
      ">> Metadata exists: /scratch/ddr8143/wikipedia/enwiki_20220701/DZ/metadata.json\n",
      ">> Metadata exists: /scratch/ddr8143/wikipedia/enwiki_20220701/EA/metadata.json\n",
      ">> Metadata exists: /scratch/ddr8143/wikipedia/enwiki_20220701/EB/metadata.json\n",
      ">> Metadata exists: /scratch/ddr8143/wikipedia/enwiki_20220701/EC/metadata.json\n",
      ">> Metadata exists: /scratch/ddr8143/wikipedia/enwiki_20220701/ED/metadata.json\n",
      ">> Metadata exists: /scratch/ddr8143/wikipedia/enwiki_20220701/EE/metadata.json\n",
      ">> Metadata exists: /scratch/ddr8143/wikipedia/enwiki_20220701/EF/metadata.json\n",
      ">> Metadata exists: /scratch/ddr8143/wikipedia/enwiki_20220701/EG/metadata.json\n",
      ">> Metadata exists: /scratch/ddr8143/wikipedia/enwiki_20220701/EH/metadata.json\n",
      ">> Metadata exists: /scratch/ddr8143/wikipedia/enwiki_20220701/EI/metadata.json\n",
      ">> Metadata exists: /scratch/ddr8143/wikipedia/enwiki_20220701/EJ/metadata.json\n",
      ">> Metadata exists: /scratch/ddr8143/wikipedia/enwiki_20220701/EK/metadata.json\n",
      ">> Metadata exists: /scratch/ddr8143/wikipedia/enwiki_20220701/EL/metadata.json\n",
      ">> Metadata exists: /scratch/ddr8143/wikipedia/enwiki_20220701/EM/metadata.json\n",
      ">> Metadata exists: /scratch/ddr8143/wikipedia/enwiki_20220701/EN/metadata.json\n",
      ">> Metadata exists: /scratch/ddr8143/wikipedia/enwiki_20220701/EO/metadata.json\n",
      ">> Metadata exists: /scratch/ddr8143/wikipedia/enwiki_20220701/EP/metadata.json\n",
      ">> Metadata exists: /scratch/ddr8143/wikipedia/enwiki_20220701/EQ/metadata.json\n",
      ">> Metadata exists: /scratch/ddr8143/wikipedia/enwiki_20220701/ER/metadata.json\n",
      ">> Metadata exists: /scratch/ddr8143/wikipedia/enwiki_20220701/ES/metadata.json\n",
      ">> Metadata exists: /scratch/ddr8143/wikipedia/enwiki_20220701/ET/metadata.json\n",
      ">> Metadata exists: /scratch/ddr8143/wikipedia/enwiki_20220701/EU/metadata.json\n",
      ">> Metadata exists: /scratch/ddr8143/wikipedia/enwiki_20220701/EV/metadata.json\n",
      ">> Metadata exists: /scratch/ddr8143/wikipedia/enwiki_20220701/EW/metadata.json\n",
      ">> Metadata exists: /scratch/ddr8143/wikipedia/enwiki_20220701/EX/metadata.json\n",
      ">> Metadata exists: /scratch/ddr8143/wikipedia/enwiki_20220701/EY/metadata.json\n",
      ">> Metadata exists: /scratch/ddr8143/wikipedia/enwiki_20220701/EZ/metadata.json\n",
      ">> Metadata exists: /scratch/ddr8143/wikipedia/enwiki_20220701/FA/metadata.json\n",
      ">> Metadata exists: /scratch/ddr8143/wikipedia/enwiki_20220701/FB/metadata.json\n",
      ">> Metadata exists: /scratch/ddr8143/wikipedia/enwiki_20220701/FC/metadata.json\n",
      ">> Metadata exists: /scratch/ddr8143/wikipedia/enwiki_20220701/FD/metadata.json\n",
      ">> Metadata exists: /scratch/ddr8143/wikipedia/enwiki_20220701/FE/metadata.json\n",
      ">> Metadata exists: /scratch/ddr8143/wikipedia/enwiki_20220701/FF/metadata.json\n",
      ">> Metadata exists: /scratch/ddr8143/wikipedia/enwiki_20220701/FG/metadata.json\n",
      ">> Metadata exists: /scratch/ddr8143/wikipedia/enwiki_20220701/FH/metadata.json\n",
      ">> Metadata exists: /scratch/ddr8143/wikipedia/enwiki_20220701/FI/metadata.json\n",
      ">> Metadata exists: /scratch/ddr8143/wikipedia/enwiki_20220701/FJ/metadata.json\n",
      ">> Metadata exists: /scratch/ddr8143/wikipedia/enwiki_20220701/FK/metadata.json\n",
      ">> Metadata exists: /scratch/ddr8143/wikipedia/enwiki_20220701/FL/metadata.json\n",
      ">> Metadata exists: /scratch/ddr8143/wikipedia/enwiki_20220701/FM/metadata.json\n",
      ">> Metadata exists: /scratch/ddr8143/wikipedia/enwiki_20220701/FN/metadata.json\n",
      ">> Metadata exists: /scratch/ddr8143/wikipedia/enwiki_20220701/FO/metadata.json\n",
      ">> Metadata exists: /scratch/ddr8143/wikipedia/enwiki_20220701/FP/metadata.json\n",
      ">> Metadata exists: /scratch/ddr8143/wikipedia/enwiki_20220701/FQ/metadata.json\n",
      ">> Metadata exists: /scratch/ddr8143/wikipedia/enwiki_20220701/FR/metadata.json\n",
      ">> Metadata exists: /scratch/ddr8143/wikipedia/enwiki_20220701/FS/metadata.json\n",
      ">> Metadata exists: /scratch/ddr8143/wikipedia/enwiki_20220701/FT/metadata.json\n",
      ">> Metadata exists: /scratch/ddr8143/wikipedia/enwiki_20220701/FU/metadata.json\n",
      ">> Metadata exists: /scratch/ddr8143/wikipedia/enwiki_20220701/FV/metadata.json\n",
      ">> Metadata exists: /scratch/ddr8143/wikipedia/enwiki_20220701/FW/metadata.json\n",
      ">> Metadata exists: /scratch/ddr8143/wikipedia/enwiki_20220701/FX/metadata.json\n",
      ">> Metadata exists: /scratch/ddr8143/wikipedia/enwiki_20220701/FY/metadata.json\n",
      ">> Metadata exists: /scratch/ddr8143/wikipedia/enwiki_20220701/FZ/metadata.json\n",
      ">> Metadata exists: /scratch/ddr8143/wikipedia/enwiki_20220701/GA/metadata.json\n",
      ">> Metadata exists: /scratch/ddr8143/wikipedia/enwiki_20220701/GB/metadata.json\n",
      ">> Metadata exists: /scratch/ddr8143/wikipedia/enwiki_20220701/GC/metadata.json\n",
      ">> Metadata exists: /scratch/ddr8143/wikipedia/enwiki_20220701/GD/metadata.json\n",
      ">> Metadata exists: /scratch/ddr8143/wikipedia/enwiki_20220701/GE/metadata.json\n",
      ">> Metadata exists: /scratch/ddr8143/wikipedia/enwiki_20220701/GF/metadata.json\n",
      ">> Metadata exists: /scratch/ddr8143/wikipedia/enwiki_20220701/GG/metadata.json\n",
      ">> Metadata exists: /scratch/ddr8143/wikipedia/enwiki_20220701/GH/metadata.json\n",
      ">> Metadata exists: /scratch/ddr8143/wikipedia/enwiki_20220701/GI/metadata.json\n",
      ">> Metadata exists: /scratch/ddr8143/wikipedia/enwiki_20220701/GJ/metadata.json\n",
      ">> Metadata exists: /scratch/ddr8143/wikipedia/enwiki_20220701/GK/metadata.json\n",
      ">> Metadata exists: /scratch/ddr8143/wikipedia/enwiki_20220701/GL/metadata.json\n",
      ">> Metadata exists: /scratch/ddr8143/wikipedia/enwiki_20220701/GM/metadata.json\n",
      ">> Metadata exists: /scratch/ddr8143/wikipedia/enwiki_20220701/GN/metadata.json\n"
     ]
    }
   ],
   "source": [
    "for i, segment in enumerate(sorted(os.listdir(wikipath))):\n",
    "    get_segment_metadata(wikipath, segment, force=False)"
   ]
  },
  {
   "cell_type": "code",
   "execution_count": 55,
   "id": "6d249b00",
   "metadata": {},
   "outputs": [],
   "source": [
    "AE_meta = json.load(open('/scratch/ddr8143/wikipedia/enwiki_20220701/AE/metadata.json'))"
   ]
  },
  {
   "cell_type": "code",
   "execution_count": 56,
   "id": "30e456e2",
   "metadata": {},
   "outputs": [
    {
     "data": {
      "text/plain": [
       "dict_keys(['all_titles', 'titles_with_text'])"
      ]
     },
     "execution_count": 56,
     "metadata": {},
     "output_type": "execute_result"
    }
   ],
   "source": [
    "AE_meta.keys()"
   ]
  },
  {
   "cell_type": "code",
   "execution_count": 57,
   "id": "5f3f2e1d",
   "metadata": {},
   "outputs": [
    {
     "data": {
      "text/plain": [
       "10498"
      ]
     },
     "execution_count": 57,
     "metadata": {},
     "output_type": "execute_result"
    }
   ],
   "source": [
    "len(AE_meta['all_titles'])"
   ]
  },
  {
   "cell_type": "code",
   "execution_count": 58,
   "id": "64bd96bd",
   "metadata": {},
   "outputs": [
    {
     "data": {
      "text/plain": [
       "7248"
      ]
     },
     "execution_count": 58,
     "metadata": {},
     "output_type": "execute_result"
    }
   ],
   "source": [
    "len(AE_meta['titles_with_text'])"
   ]
  },
  {
   "cell_type": "code",
   "execution_count": null,
   "id": "7c7a858a",
   "metadata": {},
   "outputs": [],
   "source": [
    "len(AE_meta[''])"
   ]
  },
  {
   "cell_type": "code",
   "execution_count": 25,
   "id": "90a3739b",
   "metadata": {},
   "outputs": [],
   "source": [
    "for k, v in seg_title_to_info.items():\n",
    "    if len(v) > 1:\n",
    "        print(k, v)"
   ]
  },
  {
   "cell_type": "code",
   "execution_count": 26,
   "id": "500f343a",
   "metadata": {},
   "outputs": [
    {
     "data": {
      "text/plain": [
       "109838"
      ]
     },
     "execution_count": 26,
     "metadata": {},
     "output_type": "execute_result"
    }
   ],
   "source": [
    "len(title_to_info)"
   ]
  },
  {
   "cell_type": "code",
   "execution_count": 2,
   "id": "031a2197",
   "metadata": {},
   "outputs": [
    {
     "ename": "NameError",
     "evalue": "name 'title_to_info' is not defined",
     "output_type": "error",
     "traceback": [
      "\u001b[0;31m---------------------------------------------------------------------------\u001b[0m",
      "\u001b[0;31mNameError\u001b[0m                                 Traceback (most recent call last)",
      "Cell \u001b[0;32mIn [2], line 1\u001b[0m\n\u001b[0;32m----> 1\u001b[0m \u001b[38;5;28mlist\u001b[39m(\u001b[38;5;28mdict\u001b[39m(\u001b[43mtitle_to_info\u001b[49m))[\u001b[38;5;241m0\u001b[39m]\n",
      "\u001b[0;31mNameError\u001b[0m: name 'title_to_info' is not defined"
     ]
    }
   ],
   "source": [
    "list(dict(title_to_info))[0]"
   ]
  },
  {
   "cell_type": "code",
   "execution_count": null,
   "id": "98c4f2d9",
   "metadata": {},
   "outputs": [],
   "source": []
  }
 ],
 "metadata": {
  "kernelspec": {
   "display_name": "Python 3 (ipykernel)",
   "language": "python",
   "name": "python3"
  },
  "language_info": {
   "codemirror_mode": {
    "name": "ipython",
    "version": 3
   },
   "file_extension": ".py",
   "mimetype": "text/x-python",
   "name": "python",
   "nbconvert_exporter": "python",
   "pygments_lexer": "ipython3",
   "version": "3.7.13"
  }
 },
 "nbformat": 4,
 "nbformat_minor": 5
}
