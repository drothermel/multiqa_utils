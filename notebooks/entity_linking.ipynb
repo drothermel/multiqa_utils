{
 "cells": [
  {
   "cell_type": "code",
   "execution_count": 1,
   "id": "84f748a9",
   "metadata": {},
   "outputs": [],
   "source": [
    "import argparse\n",
    "import jsonlines\n",
    "import os\n",
    "\n",
    "import elq.main_dense as main_dense\n",
    "\n",
    "import multiqa_utils.qampari_utils as qu\n",
    "import multiqa_utils.entity_linking_utils as elu\n",
    "\n",
    "%load_ext autoreload\n",
    "%autoreload 2"
   ]
  },
  {
   "cell_type": "markdown",
   "id": "962e0777",
   "metadata": {},
   "source": [
    "## Remember: This requires the el4qa conda env, not my default one."
   ]
  },
  {
   "cell_type": "markdown",
   "id": "0d500dfc",
   "metadata": {},
   "source": [
    "## Question 1: Are all the answers of QAMPARI pages in wikipedia?\n",
    "\n",
    "From looking at examples, it seems the answer is yes.  But only some of the answers come with an \"answer_url\" in the answer list dict.  For the rest, there's a found_in_url that almost certainly is a page that has a link to the entity that we care about.  So, my conclusion is yes, every answer is an entity.  But aggregating the entities might be slightly harder."
   ]
  },
  {
   "cell_type": "code",
   "execution_count": 2,
   "id": "9d274b78",
   "metadata": {},
   "outputs": [],
   "source": [
    "qmp_dev = qu.load_dev_data()"
   ]
  },
  {
   "cell_type": "code",
   "execution_count": 3,
   "id": "72a83de4",
   "metadata": {},
   "outputs": [
    {
     "data": {
      "text/plain": [
       "dict_keys(['entities', 'question_text', 'answer_list', 'qid'])"
      ]
     },
     "execution_count": 3,
     "metadata": {},
     "output_type": "execute_result"
    }
   ],
   "source": [
    "qmp_dev[0].keys()"
   ]
  },
  {
   "cell_type": "code",
   "execution_count": 4,
   "id": "efcaed40",
   "metadata": {},
   "outputs": [
    {
     "name": "stdout",
     "output_type": "stream",
     "text": [
      ">> 0 What manga was drawn by Ryoichi Ikegami?\n",
      "6 ------\n",
      "\n",
      ">> 1 Harmony Korine was both screenwriter and director of what movie?\n",
      "6 ------\n",
      "\n",
      ">> 3 Who directed a film that had P. Balachandran as a screenwriter?\n",
      "Kamal [{'proof_text': 'Ulladakkam () is 1991 indian malayalam-language psychological thriller film directed by kamal and written by p. Balachandran from a story by cheriyan kalpakavadi.', 'found_in_url': 'https://en.wikipedia.org/wiki/Ulladakkam', 'pid': '366__wikidata_comp__dev__0__0'}, {'proof_text': 'Ulladakkam () is 1991 indian malayalam-language psychological thriller film directed by kamal and written by p. Balachandran from a story by cheriyan kalpakavadi.', 'found_in_url': 'https://en.wikipedia.org/wiki/Ulladakkam', 'pid': '366__wikidata_comp__dev__0__1'}]\n",
      "P. Balachandran [{'proof_text': 'Ivan megharoopan is a 2012 malayalam biographical film written and directed by p. Balachandran.', 'found_in_url': 'https://en.wikipedia.org/wiki/Ivan_Megharoopan', 'pid': '366__wikidata_comp__dev__1__0'}, {'proof_text': 'Ivan megharoopan is a 2012 malayalam biographical film written and directed by p. Balachandran.', 'found_in_url': 'https://en.wikipedia.org/wiki/Ivan_Megharoopan', 'pid': '366__wikidata_comp__dev__1__1'}]\n",
      "T. K. Rajeev Kumar [{'proof_text': ' pavithram () is a 1994 indian malayalam-language drama film directed by t. K. Rajeev kumar and written by p. Balachandran from a story by balachandran and kumar.', 'found_in_url': 'https://en.wikipedia.org/wiki/Pavithram', 'pid': '366__wikidata_comp__dev__2__0'}, {'proof_text': ' pavithram () is a 1994 indian malayalam-language drama film directed by t. K. Rajeev kumar and written by p. Balachandran from a story by balachandran and kumar.', 'found_in_url': 'https://en.wikipedia.org/wiki/Pavithram', 'pid': '366__wikidata_comp__dev__2__1'}]\n",
      "V. K. Prakash [{'proof_text': 'Police is a 2005 indian malayalam-language action thriller film directed by v. K. Prakash and written by p. Balachandran and shyam krishna saran.', 'found_in_url': 'https://en.wikipedia.org/wiki/Police_(2005_film)', 'pid': '366__wikidata_comp__dev__3__0'}, {'proof_text': 'Police is a 2005 indian malayalam-language action thriller film directed by v. K. Prakash and written by p. Balachandran and shyam krishna saran.', 'found_in_url': 'https://en.wikipedia.org/wiki/Police_(2005_film)', 'pid': '366__wikidata_comp__dev__3__1'}]\n",
      "Rajeev Ravi [{'proof_text': 'Kammattippaadam, alternatively spelled as kammatti paadam, is a 2016 indian malayalam-language action drama film directed by rajeev ravi and written by p. Balachandran.', 'found_in_url': 'https://en.wikipedia.org/wiki/Kammatipaadam', 'pid': '366__wikidata_comp__dev__4__0'}, {'proof_text': 'Kammattippaadam, alternatively spelled as kammatti paadam, is a 2016 indian malayalam-language action drama film directed by rajeev ravi and written by p. Balachandran.', 'found_in_url': 'https://en.wikipedia.org/wiki/Kammatipaadam', 'pid': '366__wikidata_comp__dev__4__1'}]\n",
      "0 ------\n",
      "\n"
     ]
    }
   ],
   "source": [
    "for i in [0, 1, 3]:\n",
    "    print(\">>\", i, qmp_dev[i]['question_text'])\n",
    "    num_answer_url = 0\n",
    "    for a in qmp_dev[i]['answer_list']:\n",
    "        ans = a['answer_text']\n",
    "        if 'answer_url' in a:\n",
    "            num_answer_url += 1\n",
    "        else:\n",
    "            print(ans, a['proof'])\n",
    "    print(num_answer_url, \"------\\n\")"
   ]
  },
  {
   "cell_type": "code",
   "execution_count": null,
   "id": "c1d90fdf",
   "metadata": {},
   "outputs": [],
   "source": []
  },
  {
   "cell_type": "markdown",
   "id": "ab2979fa",
   "metadata": {},
   "source": [
    "## Lets Entity Link the QMP Dev Questions"
   ]
  },
  {
   "cell_type": "markdown",
   "id": "41d41a15",
   "metadata": {},
   "source": [
    "**First, lets test the utils on a small set.**"
   ]
  },
  {
   "cell_type": "code",
   "execution_count": 2,
   "id": "17617c5a",
   "metadata": {},
   "outputs": [
    {
     "name": "stdout",
     "output_type": "stream",
     "text": [
      ">> Loading models, may take a few minutes.\n"
     ]
    }
   ],
   "source": [
    "config_namespace, models = elu.load_default_entity_linking_models(output_path=\"./logs/\")"
   ]
  },
  {
   "cell_type": "code",
   "execution_count": 8,
   "id": "fed54614",
   "metadata": {},
   "outputs": [],
   "source": [
    "data_to_link = [\n",
    "    {\n",
    "        \"id\": 0,\n",
    "        \"text\": \"paris is capital of which country?\".lower(),\n",
    "    },\n",
    "    {\n",
    "        \"id\": 1,\n",
    "        \"text\": \"paris is great granddaughter of whom?\".lower(),\n",
    "    },\n",
    "    {\n",
    "        \"id\": 2,\n",
    "        \"text\": \"who discovered o in the periodic table?\".lower(),\n",
    "    },\n",
    "]"
   ]
  },
  {
   "cell_type": "code",
   "execution_count": null,
   "id": "e5c74440",
   "metadata": {},
   "outputs": [],
   "source": [
    "predictions = main_dense.run(config_namespace, None, *models, test_data=data_to_link)"
   ]
  },
  {
   "cell_type": "code",
   "execution_count": 10,
   "id": "678a76b3",
   "metadata": {},
   "outputs": [
    {
     "data": {
      "text/plain": [
       "[{'id': 0,\n",
       "  'text': 'paris is capital of which country?',\n",
       "  'scores': [-0.9338257312774658, -3.9720420837402344],\n",
       "  'pred_tuples_string': [['Paris', 'paris'], ['Capital city', 'capital']],\n",
       "  'pred_triples': [('11245', 0, 1), ('100454', 2, 3)],\n",
       "  'tokens': [3000, 2003, 3007, 1997, 2029, 2406, 1029]},\n",
       " {'id': 1,\n",
       "  'text': 'paris is great granddaughter of whom?',\n",
       "  'scores': [-3.798149824142456],\n",
       "  'pred_tuples_string': [['Paris Hilton', 'paris']],\n",
       "  'pred_triples': [('1610293', 0, 1)],\n",
       "  'tokens': [3000, 2003, 2307, 12787, 1997, 3183, 1029]},\n",
       " {'id': 2,\n",
       "  'text': 'who discovered o in the periodic table?',\n",
       "  'scores': [-0.5392036437988281, -3.7034592628479004],\n",
       "  'pred_tuples_string': [['Periodic table', 'periodic table'],\n",
       "   ['Oxygen', 'o']],\n",
       "  'pred_triples': [('11282', 5, 7), ('10935', 2, 3)],\n",
       "  'tokens': [2040, 3603, 1051, 1999, 1996, 15861, 2795, 1029]}]"
      ]
     },
     "execution_count": 10,
     "metadata": {},
     "output_type": "execute_result"
    }
   ],
   "source": [
    "predictions"
   ]
  },
  {
   "cell_type": "markdown",
   "id": "5def4507",
   "metadata": {},
   "source": [
    "**Now, run on the full dev set!**"
   ]
  },
  {
   "cell_type": "code",
   "execution_count": 7,
   "id": "f9668b21",
   "metadata": {},
   "outputs": [],
   "source": [
    "qmp_dev = qu.load_dev_data()"
   ]
  },
  {
   "cell_type": "code",
   "execution_count": 8,
   "id": "f152f455",
   "metadata": {},
   "outputs": [],
   "source": [
    "qmp_qs_outfile_dev = \"/scratch/ddr8143/multiqa/qampari_data/eql_default_tagging_v0_qmp_dev.jsonl\""
   ]
  },
  {
   "cell_type": "code",
   "execution_count": 12,
   "id": "622a066f",
   "metadata": {},
   "outputs": [
    {
     "name": "stdout",
     "output_type": "stream",
     "text": [
      "Entity link 1,000 items.\n",
      ">> File already exists to loaded: 1,000 and remaining to extract: 0\n",
      ">> All data already entity linked.\n"
     ]
    }
   ],
   "source": [
    "# Note, I made small changes to extract this as a\n",
    "# util and it hasn't been thoroughly tested.  Might be\n",
    "# slightly off.\n",
    "elu.elq_tag_data_and_dump(\n",
    "    config_namespace=config_namespace,\n",
    "    models=models,\n",
    "    dlist=qmp_dev,\n",
    "    outfile=qmp_qs_outfile_dev,\n",
    "    id_key='qid',\n",
    "    text_key='question_text',\n",
    "    chunk_size=1000,\n",
    ")"
   ]
  },
  {
   "cell_type": "code",
   "execution_count": null,
   "id": "4a56d6d6",
   "metadata": {},
   "outputs": [],
   "source": [
    "1000/125"
   ]
  },
  {
   "cell_type": "code",
   "execution_count": 3,
   "id": "43871685",
   "metadata": {},
   "outputs": [],
   "source": [
    "qmp_train = qu.load_train_data()"
   ]
  },
  {
   "cell_type": "code",
   "execution_count": 4,
   "id": "6ca105fb",
   "metadata": {},
   "outputs": [],
   "source": [
    "qmp_qs_outfile_train = \"/scratch/ddr8143/multiqa/qampari_data/eql_default_tagging_v0_qmp_train.jsonl\""
   ]
  },
  {
   "cell_type": "code",
   "execution_count": 6,
   "id": "cb11d55a",
   "metadata": {},
   "outputs": [
    {
     "name": "stdout",
     "output_type": "stream",
     "text": [
      "Entity link 61,911 items.\n",
      ">> File already exists to loaded: 61,000 and remaining to extract: 911\n"
     ]
    },
    {
     "name": "stderr",
     "output_type": "stream",
     "text": [
      "100%|██████████| 114/114 [12:13<00:00,  6.20s/it]\n"
     ]
    },
    {
     "name": "stdout",
     "output_type": "stream",
     "text": [
      "*--------*\n",
      ">> Wrote all entity links to: /scratch/ddr8143/multiqa/qampari_data/eql_default_tagging_v0_qmp_train.jsonl\n"
     ]
    }
   ],
   "source": [
    "# Note, I made small changes to extract this as a\n",
    "# util and it hasn't been thoroughly tested.  Might be\n",
    "# slightly off.\n",
    "elu.elq_tag_data_and_dump(\n",
    "    config_namespace=config_namespace,\n",
    "    models=models,\n",
    "    dlist=qmp_train,\n",
    "    outfile=qmp_qs_outfile_train,\n",
    "    id_key='qid',\n",
    "    text_key='question_text',\n",
    "    chunk_size=1000,\n",
    ")"
   ]
  },
  {
   "cell_type": "code",
   "execution_count": null,
   "id": "6282527c",
   "metadata": {},
   "outputs": [],
   "source": []
  }
 ],
 "metadata": {
  "kernelspec": {
   "display_name": "Python 3 (ipykernel)",
   "language": "python",
   "name": "python3"
  },
  "language_info": {
   "codemirror_mode": {
    "name": "ipython",
    "version": 3
   },
   "file_extension": ".py",
   "mimetype": "text/x-python",
   "name": "python",
   "nbconvert_exporter": "python",
   "pygments_lexer": "ipython3",
   "version": "3.9.0"
  }
 },
 "nbformat": 4,
 "nbformat_minor": 5
}
