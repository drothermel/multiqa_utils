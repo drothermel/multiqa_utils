{
 "cells": [
  {
   "cell_type": "code",
   "execution_count": 1,
   "id": "1a2635c0",
   "metadata": {},
   "outputs": [],
   "source": [
    "import argparse\n",
    "import jsonlines\n",
    "import os\n",
    "\n",
    "import elq.main_dense as main_dense\n",
    "\n",
    "import multiqa_utils.qampari_utils as qu\n",
    "\n",
    "%load_ext autoreload\n",
    "%autoreload 2"
   ]
  },
  {
   "cell_type": "code",
   "execution_count": null,
   "id": "4fe6cae5",
   "metadata": {},
   "outputs": [],
   "source": []
  },
  {
   "cell_type": "code",
   "execution_count": null,
   "id": "bb464755",
   "metadata": {},
   "outputs": [],
   "source": []
  },
  {
   "cell_type": "code",
   "execution_count": null,
   "id": "d21464fe",
   "metadata": {},
   "outputs": [],
   "source": []
  },
  {
   "cell_type": "markdown",
   "id": "a7228f7a",
   "metadata": {},
   "source": [
    "## Question 1: Are all the answers of QAMPARI pages in wikipedia?\n",
    "\n",
    "From looking at examples, it seems the answer is yes.  But only some of the answers come with an \"answer_url\" in the answer list dict.  For the rest, there's a found_in_url that almost certainly is a page that has a link to the entity that we care about.  So, my conclusion is yes, every answer is an entity.  But aggregating the entities might be slightly harder."
   ]
  },
  {
   "cell_type": "code",
   "execution_count": 2,
   "id": "70cc8c82",
   "metadata": {},
   "outputs": [],
   "source": [
    "qmp_dev = qu.load_dev_data()"
   ]
  },
  {
   "cell_type": "code",
   "execution_count": 3,
   "id": "5ca671b1",
   "metadata": {},
   "outputs": [
    {
     "data": {
      "text/plain": [
       "dict_keys(['entities', 'question_text', 'answer_list', 'qid'])"
      ]
     },
     "execution_count": 3,
     "metadata": {},
     "output_type": "execute_result"
    }
   ],
   "source": [
    "qmp_dev[0].keys()"
   ]
  },
  {
   "cell_type": "code",
   "execution_count": 4,
   "id": "9d98a0c8",
   "metadata": {},
   "outputs": [
    {
     "name": "stdout",
     "output_type": "stream",
     "text": [
      ">> 0 What manga was drawn by Ryoichi Ikegami?\n",
      "6 ------\n",
      "\n",
      ">> 1 Harmony Korine was both screenwriter and director of what movie?\n",
      "6 ------\n",
      "\n",
      ">> 3 Who directed a film that had P. Balachandran as a screenwriter?\n",
      "Kamal [{'proof_text': 'Ulladakkam () is 1991 indian malayalam-language psychological thriller film directed by kamal and written by p. Balachandran from a story by cheriyan kalpakavadi.', 'found_in_url': 'https://en.wikipedia.org/wiki/Ulladakkam', 'pid': '366__wikidata_comp__dev__0__0'}, {'proof_text': 'Ulladakkam () is 1991 indian malayalam-language psychological thriller film directed by kamal and written by p. Balachandran from a story by cheriyan kalpakavadi.', 'found_in_url': 'https://en.wikipedia.org/wiki/Ulladakkam', 'pid': '366__wikidata_comp__dev__0__1'}]\n",
      "P. Balachandran [{'proof_text': 'Ivan megharoopan is a 2012 malayalam biographical film written and directed by p. Balachandran.', 'found_in_url': 'https://en.wikipedia.org/wiki/Ivan_Megharoopan', 'pid': '366__wikidata_comp__dev__1__0'}, {'proof_text': 'Ivan megharoopan is a 2012 malayalam biographical film written and directed by p. Balachandran.', 'found_in_url': 'https://en.wikipedia.org/wiki/Ivan_Megharoopan', 'pid': '366__wikidata_comp__dev__1__1'}]\n",
      "T. K. Rajeev Kumar [{'proof_text': ' pavithram () is a 1994 indian malayalam-language drama film directed by t. K. Rajeev kumar and written by p. Balachandran from a story by balachandran and kumar.', 'found_in_url': 'https://en.wikipedia.org/wiki/Pavithram', 'pid': '366__wikidata_comp__dev__2__0'}, {'proof_text': ' pavithram () is a 1994 indian malayalam-language drama film directed by t. K. Rajeev kumar and written by p. Balachandran from a story by balachandran and kumar.', 'found_in_url': 'https://en.wikipedia.org/wiki/Pavithram', 'pid': '366__wikidata_comp__dev__2__1'}]\n",
      "V. K. Prakash [{'proof_text': 'Police is a 2005 indian malayalam-language action thriller film directed by v. K. Prakash and written by p. Balachandran and shyam krishna saran.', 'found_in_url': 'https://en.wikipedia.org/wiki/Police_(2005_film)', 'pid': '366__wikidata_comp__dev__3__0'}, {'proof_text': 'Police is a 2005 indian malayalam-language action thriller film directed by v. K. Prakash and written by p. Balachandran and shyam krishna saran.', 'found_in_url': 'https://en.wikipedia.org/wiki/Police_(2005_film)', 'pid': '366__wikidata_comp__dev__3__1'}]\n",
      "Rajeev Ravi [{'proof_text': 'Kammattippaadam, alternatively spelled as kammatti paadam, is a 2016 indian malayalam-language action drama film directed by rajeev ravi and written by p. Balachandran.', 'found_in_url': 'https://en.wikipedia.org/wiki/Kammatipaadam', 'pid': '366__wikidata_comp__dev__4__0'}, {'proof_text': 'Kammattippaadam, alternatively spelled as kammatti paadam, is a 2016 indian malayalam-language action drama film directed by rajeev ravi and written by p. Balachandran.', 'found_in_url': 'https://en.wikipedia.org/wiki/Kammatipaadam', 'pid': '366__wikidata_comp__dev__4__1'}]\n",
      "0 ------\n",
      "\n"
     ]
    }
   ],
   "source": [
    "for i in [0, 1, 3]:\n",
    "    print(\">>\", i, qmp_dev[i]['question_text'])\n",
    "    num_answer_url = 0\n",
    "    for a in qmp_dev[i]['answer_list']:\n",
    "        ans = a['answer_text']\n",
    "        if 'answer_url' in a:\n",
    "            num_answer_url += 1\n",
    "        else:\n",
    "            print(ans, a['proof'])\n",
    "    print(num_answer_url, \"------\\n\")"
   ]
  },
  {
   "cell_type": "code",
   "execution_count": null,
   "id": "02f20a8d",
   "metadata": {},
   "outputs": [],
   "source": []
  },
  {
   "cell_type": "code",
   "execution_count": 5,
   "id": "9b2c8305",
   "metadata": {},
   "outputs": [],
   "source": [
    "## Lets Entity Link the QMP Dev Questions"
   ]
  },
  {
   "cell_type": "code",
   "execution_count": 6,
   "id": "453f135e",
   "metadata": {},
   "outputs": [],
   "source": [
    "models_path = \"/scratch/ddr8143/repos/BLINK/models/\" # the path where you stored the ELQ models\n",
    "\n",
    "config = {\n",
    "    \"interactive\": False,\n",
    "    \"biencoder_model\": models_path+\"elq_wiki_large.bin\",\n",
    "    \"biencoder_config\": models_path+\"elq_large_params.txt\",\n",
    "    \"cand_token_ids_path\": models_path+\"entity_token_ids_128.t7\",\n",
    "    \"entity_catalogue\": models_path+\"entity.jsonl\",\n",
    "    \"entity_encoding\": models_path+\"all_entities_large.t7\",\n",
    "    \"output_path\": \"/scratch/ddr8143/repos/BLINK/logs/\", # logging directory\n",
    "    \"faiss_index\": \"hnsw\",\n",
    "    \"index_path\": models_path+\"faiss_hnsw_index.pkl\",\n",
    "    \"num_cand_mentions\": 10,\n",
    "    \"num_cand_entities\": 10,\n",
    "    \"threshold_type\": \"joint\",\n",
    "    \"threshold\": -4.5,\n",
    "    \"base_path\": \"/scratch/ddr8143/repos/BLINK/\",\n",
    "}\n",
    "\n",
    "args = argparse.Namespace(**config)"
   ]
  },
  {
   "cell_type": "code",
   "execution_count": 7,
   "id": "14e67f42",
   "metadata": {},
   "outputs": [],
   "source": [
    "models = main_dense.load_models(args, logger=None)"
   ]
  },
  {
   "cell_type": "code",
   "execution_count": 8,
   "id": "2aaad0ab",
   "metadata": {},
   "outputs": [],
   "source": [
    "data_to_link = [\n",
    "    {\n",
    "        \"id\": 0,\n",
    "        \"text\": \"paris is capital of which country?\".lower(),\n",
    "    },\n",
    "    {\n",
    "        \"id\": 1,\n",
    "        \"text\": \"paris is great granddaughter of whom?\".lower(),\n",
    "    },\n",
    "    {\n",
    "        \"id\": 2,\n",
    "        \"text\": \"who discovered o in the periodic table?\".lower(),\n",
    "    },\n",
    "]"
   ]
  },
  {
   "cell_type": "code",
   "execution_count": 9,
   "id": "07a1163c",
   "metadata": {},
   "outputs": [
    {
     "name": "stderr",
     "output_type": "stream",
     "text": [
      "100%|██████████| 1/1 [00:04<00:00,  4.80s/it]"
     ]
    },
    {
     "name": "stdout",
     "output_type": "stream",
     "text": [
      "*--------*\n"
     ]
    },
    {
     "name": "stderr",
     "output_type": "stream",
     "text": [
      "\n"
     ]
    }
   ],
   "source": [
    "predictions = main_dense.run(args, None, *models, test_data=data_to_link)"
   ]
  },
  {
   "cell_type": "code",
   "execution_count": 10,
   "id": "5cbdf3e5",
   "metadata": {},
   "outputs": [
    {
     "data": {
      "text/plain": [
       "[{'id': 0,\n",
       "  'text': 'paris is capital of which country?',\n",
       "  'scores': [-0.9338257312774658, -3.9720420837402344],\n",
       "  'pred_tuples_string': [['Paris', 'paris'], ['Capital city', 'capital']],\n",
       "  'pred_triples': [('11245', 0, 1), ('100454', 2, 3)],\n",
       "  'tokens': [3000, 2003, 3007, 1997, 2029, 2406, 1029]},\n",
       " {'id': 1,\n",
       "  'text': 'paris is great granddaughter of whom?',\n",
       "  'scores': [-3.798149824142456],\n",
       "  'pred_tuples_string': [['Paris Hilton', 'paris']],\n",
       "  'pred_triples': [('1610293', 0, 1)],\n",
       "  'tokens': [3000, 2003, 2307, 12787, 1997, 3183, 1029]},\n",
       " {'id': 2,\n",
       "  'text': 'who discovered o in the periodic table?',\n",
       "  'scores': [-0.5392036437988281, -3.7034592628479004],\n",
       "  'pred_tuples_string': [['Periodic table', 'periodic table'],\n",
       "   ['Oxygen', 'o']],\n",
       "  'pred_triples': [('11282', 5, 7), ('10935', 2, 3)],\n",
       "  'tokens': [2040, 3603, 1051, 1999, 1996, 15861, 2795, 1029]}]"
      ]
     },
     "execution_count": 10,
     "metadata": {},
     "output_type": "execute_result"
    }
   ],
   "source": [
    "predictions"
   ]
  },
  {
   "cell_type": "code",
   "execution_count": 26,
   "id": "31dda022",
   "metadata": {},
   "outputs": [],
   "source": [
    "qmp_qs_outdir = \"/scratch/ddr8143/multiqa/qampari_data/eql_default_tagging_v0_qmp_dev.jsonl\""
   ]
  },
  {
   "cell_type": "code",
   "execution_count": 39,
   "id": "10857c7b",
   "metadata": {},
   "outputs": [],
   "source": [
    "def elq_tag_questions_and_dump(models, qlist, outdir, chunk_size=10):\n",
    "    assert not os.path.exists(outdir)\n",
    "        \n",
    "    new_data_to_link = []\n",
    "    with jsonlines.open(outdir, mode='w') as writer:\n",
    "        for i in range(len(qlist)):\n",
    "            if len(new_data_to_link) < chunk_size:\n",
    "                new_data_to_link.append({\"id\": qlist[i]['qid'], \"text\": qlist[i]['question_text']})\n",
    "            else:\n",
    "                preds = main_dense.run(args, None, *models, test_data=new_data_to_link)\n",
    "                for p in preds:\n",
    "                    writer.write(p)\n",
    "                new_data_to_link = []\n",
    "        \n",
    "        # Score and dump the final set\n",
    "        preds = main_dense.run(args, None, *models, test_data=new_data_to_link)\n",
    "        for p in preds:\n",
    "            writer.write(p)\n",
    "    print(\">> Wrote all entity links to:\", outdir)"
   ]
  },
  {
   "cell_type": "code",
   "execution_count": 40,
   "id": "efae1e6c",
   "metadata": {},
   "outputs": [
    {
     "name": "stderr",
     "output_type": "stream",
     "text": [
      "\n",
      "\n",
      "  0%|          | 0/125 [00:00<?, ?it/s]\u001b[A\u001b[A\n",
      "\n",
      "  1%|          | 1/125 [00:12<25:58, 12.57s/it]\u001b[A\u001b[A\n",
      "\n",
      "  2%|▏         | 2/125 [00:24<25:10, 12.28s/it]\u001b[A\u001b[A\n",
      "\n",
      "  2%|▏         | 3/125 [00:36<24:53, 12.24s/it]\u001b[A\u001b[A\n",
      "\n",
      "  3%|▎         | 4/125 [00:49<25:10, 12.48s/it]\u001b[A\u001b[A\n",
      "\n",
      "  4%|▍         | 5/125 [01:02<25:35, 12.79s/it]\u001b[A\u001b[A\n",
      "\n",
      "  5%|▍         | 6/125 [01:14<24:30, 12.36s/it]\u001b[A\u001b[A\n",
      "\n",
      "  6%|▌         | 7/125 [01:26<24:26, 12.43s/it]\u001b[A\u001b[A\n",
      "\n",
      "  6%|▋         | 8/125 [01:40<24:40, 12.65s/it]\u001b[A\u001b[A\n",
      "\n",
      "  7%|▋         | 9/125 [01:51<24:04, 12.45s/it]\u001b[A\u001b[A\n",
      "\n",
      "  8%|▊         | 10/125 [02:04<23:56, 12.49s/it]\u001b[A\u001b[A\n",
      "\n",
      "  9%|▉         | 11/125 [02:17<24:01, 12.65s/it]\u001b[A\u001b[A\n",
      "\n",
      " 10%|▉         | 12/125 [02:30<23:50, 12.66s/it]\u001b[A\u001b[A\n",
      "\n",
      " 10%|█         | 13/125 [02:43<24:11, 12.96s/it]\u001b[A\u001b[A\n",
      "\n",
      " 11%|█         | 14/125 [02:59<25:09, 13.60s/it]\u001b[A\u001b[A\n",
      "\n",
      " 12%|█▏        | 15/125 [03:11<24:22, 13.29s/it]\u001b[A\u001b[A\n",
      "\n",
      " 13%|█▎        | 16/125 [03:24<23:57, 13.19s/it]\u001b[A\u001b[A\n",
      "\n",
      " 14%|█▎        | 17/125 [03:37<23:43, 13.18s/it]\u001b[A\u001b[A\n",
      "\n",
      " 14%|█▍        | 18/125 [03:50<23:21, 13.10s/it]\u001b[A\u001b[A\n",
      "\n",
      " 15%|█▌        | 19/125 [04:04<23:27, 13.28s/it]\u001b[A\u001b[A\n",
      "\n",
      " 16%|█▌        | 20/125 [04:18<23:36, 13.49s/it]\u001b[A\u001b[A\n",
      "\n",
      " 17%|█▋        | 21/125 [04:30<22:43, 13.11s/it]\u001b[A\u001b[A\n",
      "\n",
      " 18%|█▊        | 22/125 [04:43<22:41, 13.22s/it]\u001b[A\u001b[A\n",
      "\n",
      " 18%|█▊        | 23/125 [04:58<23:14, 13.67s/it]\u001b[A\u001b[A\n",
      "\n",
      " 19%|█▉        | 24/125 [05:11<22:47, 13.54s/it]\u001b[A\u001b[A\n",
      "\n",
      " 20%|██        | 25/125 [05:25<22:47, 13.67s/it]\u001b[A\u001b[A\n",
      "\n",
      " 21%|██        | 26/125 [05:40<23:04, 13.98s/it]\u001b[A\u001b[A\n",
      "\n",
      " 22%|██▏       | 27/125 [05:54<22:46, 13.95s/it]\u001b[A\u001b[A\n",
      "\n",
      " 22%|██▏       | 28/125 [06:08<22:31, 13.93s/it]\u001b[A\u001b[A\n",
      "\n",
      " 23%|██▎       | 29/125 [06:22<22:24, 14.01s/it]\u001b[A\u001b[A\n",
      "\n",
      " 24%|██▍       | 30/125 [06:35<21:50, 13.79s/it]\u001b[A\u001b[A\n",
      "\n",
      " 25%|██▍       | 31/125 [06:49<21:19, 13.61s/it]\u001b[A\u001b[A\n",
      "\n",
      " 26%|██▌       | 32/125 [07:03<21:22, 13.79s/it]\u001b[A\u001b[A\n",
      "\n",
      " 26%|██▋       | 33/125 [07:16<20:44, 13.53s/it]\u001b[A\u001b[A\n",
      "\n",
      " 27%|██▋       | 34/125 [07:30<20:43, 13.67s/it]\u001b[A\u001b[A\n",
      "\n",
      " 28%|██▊       | 35/125 [07:45<21:12, 14.14s/it]\u001b[A\u001b[A\n",
      "\n",
      " 29%|██▉       | 36/125 [07:58<20:43, 13.97s/it]\u001b[A\u001b[A\n",
      "\n",
      " 30%|██▉       | 37/125 [08:13<20:38, 14.08s/it]\u001b[A\u001b[A\n",
      "\n",
      " 30%|███       | 38/125 [08:26<20:07, 13.88s/it]\u001b[A\u001b[A\n",
      "\n",
      " 31%|███       | 39/125 [08:39<19:14, 13.43s/it]\u001b[A\u001b[A\n",
      "\n",
      " 32%|███▏      | 40/125 [08:52<19:07, 13.50s/it]\u001b[A\u001b[A\n",
      "\n",
      " 33%|███▎      | 41/125 [09:06<18:47, 13.43s/it]\u001b[A\u001b[A\n",
      "\n",
      " 34%|███▎      | 42/125 [09:18<18:17, 13.23s/it]\u001b[A\u001b[A\n",
      "\n",
      " 34%|███▍      | 43/125 [09:32<18:11, 13.31s/it]\u001b[A\u001b[A\n",
      "\n",
      " 35%|███▌      | 44/125 [09:46<18:13, 13.50s/it]\u001b[A\u001b[A\n",
      "\n",
      " 36%|███▌      | 45/125 [09:58<17:42, 13.28s/it]\u001b[A\u001b[A\n",
      "\n",
      " 37%|███▋      | 46/125 [10:11<17:14, 13.09s/it]\u001b[A\u001b[A\n",
      "\n",
      " 38%|███▊      | 47/125 [10:25<17:11, 13.22s/it]\u001b[A\u001b[A\n",
      "\n",
      " 38%|███▊      | 48/125 [10:38<16:59, 13.24s/it]\u001b[A\u001b[A\n",
      "\n",
      " 39%|███▉      | 49/125 [10:52<17:05, 13.50s/it]\u001b[A\u001b[A\n",
      "\n",
      " 40%|████      | 50/125 [11:06<17:01, 13.62s/it]\u001b[A\u001b[A\n",
      "\n",
      " 41%|████      | 51/125 [11:19<16:30, 13.39s/it]\u001b[A\u001b[A\n",
      "\n",
      " 42%|████▏     | 52/125 [11:32<16:10, 13.29s/it]\u001b[A\u001b[A\n",
      "\n",
      " 42%|████▏     | 53/125 [11:45<15:51, 13.21s/it]\u001b[A\u001b[A\n",
      "\n",
      " 43%|████▎     | 54/125 [11:58<15:28, 13.08s/it]\u001b[A\u001b[A\n",
      "\n",
      " 44%|████▍     | 55/125 [12:11<15:17, 13.10s/it]\u001b[A\u001b[A\n",
      "\n",
      " 45%|████▍     | 56/125 [12:25<15:21, 13.36s/it]\u001b[A\u001b[A\n",
      "\n",
      " 46%|████▌     | 57/125 [12:38<14:58, 13.21s/it]\u001b[A\u001b[A\n",
      "\n",
      " 46%|████▋     | 58/125 [12:51<14:53, 13.34s/it]\u001b[A\u001b[A\n",
      "\n",
      " 47%|████▋     | 59/125 [13:05<14:44, 13.40s/it]\u001b[A\u001b[A\n",
      "\n",
      " 48%|████▊     | 60/125 [13:18<14:18, 13.21s/it]\u001b[A\u001b[A\n",
      "\n",
      " 49%|████▉     | 61/125 [13:31<14:02, 13.16s/it]\u001b[A\u001b[A\n",
      "\n",
      " 50%|████▉     | 62/125 [13:45<14:07, 13.45s/it]\u001b[A\u001b[A\n",
      "\n",
      " 50%|█████     | 63/125 [13:57<13:38, 13.20s/it]\u001b[A\u001b[A\n",
      "\n",
      " 51%|█████     | 64/125 [14:11<13:28, 13.26s/it]\u001b[A\u001b[A\n",
      "\n",
      " 52%|█████▏    | 65/125 [14:25<13:30, 13.50s/it]\u001b[A\u001b[A\n",
      "\n",
      " 53%|█████▎    | 66/125 [14:37<13:00, 13.22s/it]\u001b[A\u001b[A\n",
      "\n",
      " 54%|█████▎    | 67/125 [14:51<12:55, 13.36s/it]\u001b[A\u001b[A\n",
      "\n",
      " 54%|█████▍    | 68/125 [15:04<12:38, 13.31s/it]\u001b[A\u001b[A\n",
      "\n",
      " 55%|█████▌    | 69/125 [15:17<12:20, 13.22s/it]\u001b[A\u001b[A\n",
      "\n",
      " 56%|█████▌    | 70/125 [15:30<12:06, 13.20s/it]\u001b[A\u001b[A\n",
      "\n",
      " 57%|█████▋    | 71/125 [15:44<11:58, 13.30s/it]\u001b[A\u001b[A\n",
      "\n",
      " 58%|█████▊    | 72/125 [15:57<11:46, 13.33s/it]\u001b[A\u001b[A\n",
      "\n",
      " 58%|█████▊    | 73/125 [16:11<11:37, 13.41s/it]\u001b[A\u001b[A\n",
      "\n",
      " 59%|█████▉    | 74/125 [16:25<11:31, 13.55s/it]\u001b[A\u001b[A\n",
      "\n",
      " 60%|██████    | 75/125 [16:37<11:02, 13.26s/it]\u001b[A\u001b[A\n",
      "\n",
      " 61%|██████    | 76/125 [16:51<10:52, 13.32s/it]\u001b[A\u001b[A\n",
      "\n",
      " 62%|██████▏   | 77/125 [17:05<10:44, 13.42s/it]\u001b[A\u001b[A\n",
      "\n",
      " 62%|██████▏   | 78/125 [17:17<10:11, 13.02s/it]\u001b[A\u001b[A\n",
      "\n",
      " 63%|██████▎   | 79/125 [17:29<09:55, 12.94s/it]\u001b[A\u001b[A\n",
      "\n",
      " 64%|██████▍   | 80/125 [17:43<09:52, 13.17s/it]\u001b[A\u001b[A\n",
      "\n",
      " 65%|██████▍   | 81/125 [17:56<09:33, 13.04s/it]\u001b[A\u001b[A\n",
      "\n",
      " 66%|██████▌   | 82/125 [18:09<09:23, 13.10s/it]\u001b[A\u001b[A\n",
      "\n",
      " 66%|██████▋   | 83/125 [18:23<09:22, 13.40s/it]\u001b[A\u001b[A\n",
      "\n",
      " 67%|██████▋   | 84/125 [18:36<08:58, 13.13s/it]\u001b[A\u001b[A\n",
      "\n",
      " 68%|██████▊   | 85/125 [18:50<08:57, 13.43s/it]\u001b[A\u001b[A\n",
      "\n",
      " 69%|██████▉   | 86/125 [19:03<08:41, 13.37s/it]\u001b[A\u001b[A\n",
      "\n",
      " 70%|██████▉   | 87/125 [19:16<08:21, 13.21s/it]\u001b[A\u001b[A\n",
      "\n",
      " 70%|███████   | 88/125 [19:29<08:12, 13.30s/it]\u001b[A\u001b[A\n",
      "\n",
      " 71%|███████   | 89/125 [19:42<07:52, 13.12s/it]\u001b[A\u001b[A\n",
      "\n",
      " 72%|███████▏  | 90/125 [19:55<07:39, 13.14s/it]\u001b[A\u001b[A\n",
      "\n",
      " 73%|███████▎  | 91/125 [20:09<07:28, 13.18s/it]\u001b[A\u001b[A\n",
      "\n",
      " 74%|███████▎  | 92/125 [20:21<07:09, 13.01s/it]\u001b[A\u001b[A\n",
      "\n",
      " 74%|███████▍  | 93/125 [20:33<06:48, 12.76s/it]\u001b[A\u001b[A\n",
      "\n",
      " 75%|███████▌  | 94/125 [20:47<06:42, 12.97s/it]\u001b[A\u001b[A\n",
      "\n",
      " 76%|███████▌  | 95/125 [21:00<06:34, 13.13s/it]\u001b[A\u001b[A\n",
      "\n",
      " 77%|███████▋  | 96/125 [21:13<06:19, 13.07s/it]\u001b[A\u001b[A\n",
      "\n",
      " 78%|███████▊  | 97/125 [21:27<06:12, 13.30s/it]\u001b[A\u001b[A\n",
      "\n",
      " 78%|███████▊  | 98/125 [21:42<06:13, 13.83s/it]\u001b[A\u001b[A\n",
      "\n",
      " 79%|███████▉  | 99/125 [21:55<05:54, 13.62s/it]\u001b[A\u001b[A\n",
      "\n",
      " 80%|████████  | 100/125 [22:09<05:40, 13.61s/it]\u001b[A\u001b[A\n",
      "\n",
      " 81%|████████  | 101/125 [22:24<05:35, 13.98s/it]\u001b[A\u001b[A\n",
      "\n",
      " 82%|████████▏ | 102/125 [22:37<05:17, 13.81s/it]\u001b[A\u001b[A\n",
      "\n",
      " 82%|████████▏ | 103/125 [22:50<04:59, 13.61s/it]\u001b[A\u001b[A\n",
      "\n",
      " 83%|████████▎ | 104/125 [23:05<04:53, 13.98s/it]\u001b[A\u001b[A\n",
      "\n",
      " 84%|████████▍ | 105/125 [23:18<04:34, 13.71s/it]\u001b[A\u001b[A\n",
      "\n",
      " 85%|████████▍ | 106/125 [23:32<04:18, 13.62s/it]\u001b[A\u001b[A\n",
      "\n",
      " 86%|████████▌ | 107/125 [23:46<04:10, 13.90s/it]\u001b[A\u001b[A\n",
      "\n",
      " 86%|████████▋ | 108/125 [24:00<03:56, 13.89s/it]\u001b[A\u001b[A\n",
      "\n",
      " 87%|████████▋ | 109/125 [24:13<03:39, 13.70s/it]\u001b[A\u001b[A\n",
      "\n",
      " 88%|████████▊ | 110/125 [24:27<03:25, 13.72s/it]\u001b[A\u001b[A\n",
      "\n",
      " 89%|████████▉ | 111/125 [24:41<03:12, 13.77s/it]\u001b[A\u001b[A\n",
      "\n",
      " 90%|████████▉ | 112/125 [24:55<02:59, 13.83s/it]\u001b[A\u001b[A\n",
      "\n",
      " 90%|█████████ | 113/125 [25:09<02:45, 13.79s/it]\u001b[A\u001b[A\n",
      "\n",
      " 91%|█████████ | 114/125 [25:22<02:29, 13.60s/it]\u001b[A\u001b[A\n",
      "\n",
      " 92%|█████████▏| 115/125 [25:35<02:15, 13.51s/it]\u001b[A\u001b[A\n",
      "\n",
      " 93%|█████████▎| 116/125 [25:49<02:02, 13.57s/it]\u001b[A\u001b[A\n",
      "\n",
      " 94%|█████████▎| 117/125 [26:02<01:46, 13.33s/it]\u001b[A\u001b[A\n",
      "\n",
      " 94%|█████████▍| 118/125 [26:15<01:34, 13.47s/it]\u001b[A\u001b[A\n",
      "\n",
      " 95%|█████████▌| 119/125 [26:29<01:21, 13.51s/it]\u001b[A\u001b[A\n",
      "\n",
      " 96%|█████████▌| 120/125 [26:42<01:06, 13.37s/it]\u001b[A\u001b[A\n",
      "\n",
      " 97%|█████████▋| 121/125 [26:55<00:53, 13.31s/it]\u001b[A\u001b[A\n",
      "\n",
      " 98%|█████████▊| 122/125 [27:09<00:40, 13.38s/it]\u001b[A\u001b[A\n",
      "\n",
      " 98%|█████████▊| 123/125 [27:21<00:26, 13.16s/it]\u001b[A\u001b[A\n",
      "\n",
      " 99%|█████████▉| 124/125 [27:34<00:13, 13.04s/it]\u001b[A\u001b[A\n",
      "\n",
      "100%|██████████| 125/125 [27:48<00:00, 13.42s/it]\u001b[A\u001b[A"
     ]
    },
    {
     "name": "stdout",
     "output_type": "stream",
     "text": [
      "*--------*\n",
      ">> Wrote all entity links to: /scratch/ddr8143/multiqa/qampari_data/eql_default_tagging_v0_qmp_dev.jsonl\n"
     ]
    }
   ],
   "source": [
    "elq_tag_questions_and_dump(models, qmp_dev, qmp_qs_outdir, chunk_size=1000)"
   ]
  },
  {
   "cell_type": "code",
   "execution_count": null,
   "id": "81d79c43",
   "metadata": {},
   "outputs": [],
   "source": []
  },
  {
   "cell_type": "code",
   "execution_count": null,
   "id": "e32afa39",
   "metadata": {},
   "outputs": [],
   "source": []
  },
  {
   "cell_type": "code",
   "execution_count": null,
   "id": "b2d1117d",
   "metadata": {},
   "outputs": [],
   "source": []
  },
  {
   "cell_type": "code",
   "execution_count": null,
   "id": "3f29b3f2",
   "metadata": {},
   "outputs": [],
   "source": []
  },
  {
   "cell_type": "code",
   "execution_count": null,
   "id": "f75e2787",
   "metadata": {},
   "outputs": [],
   "source": []
  },
  {
   "cell_type": "code",
   "execution_count": null,
   "id": "eeb2a334",
   "metadata": {},
   "outputs": [],
   "source": []
  },
  {
   "cell_type": "code",
   "execution_count": null,
   "id": "d8f7d1f2",
   "metadata": {},
   "outputs": [],
   "source": []
  },
  {
   "cell_type": "code",
   "execution_count": null,
   "id": "38144e0e",
   "metadata": {},
   "outputs": [],
   "source": []
  },
  {
   "cell_type": "code",
   "execution_count": null,
   "id": "97c79636",
   "metadata": {},
   "outputs": [],
   "source": []
  },
  {
   "cell_type": "code",
   "execution_count": null,
   "id": "1d35218e",
   "metadata": {},
   "outputs": [],
   "source": []
  }
 ],
 "metadata": {
  "kernelspec": {
   "display_name": "Python 3",
   "language": "python",
   "name": "python3"
  },
  "language_info": {
   "codemirror_mode": {
    "name": "ipython",
    "version": 3
   },
   "file_extension": ".py",
   "mimetype": "text/x-python",
   "name": "python",
   "nbconvert_exporter": "python",
   "pygments_lexer": "ipython3",
   "version": "3.7.15"
  }
 },
 "nbformat": 4,
 "nbformat_minor": 5
}
