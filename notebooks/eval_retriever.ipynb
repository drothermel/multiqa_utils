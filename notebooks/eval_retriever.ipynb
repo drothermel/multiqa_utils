{
 "cells": [
  {
   "cell_type": "code",
   "execution_count": 31,
   "id": "1979b802",
   "metadata": {},
   "outputs": [],
   "source": [
    "from collections import defaultdict"
   ]
  },
  {
   "cell_type": "code",
   "execution_count": null,
   "id": "f019482d",
   "metadata": {},
   "outputs": [],
   "source": []
  },
  {
   "cell_type": "markdown",
   "id": "6d594857",
   "metadata": {},
   "source": [
    "## Extract Useful Lines for Quick Glance at Perf"
   ]
  },
  {
   "cell_type": "code",
   "execution_count": 32,
   "id": "0f458357",
   "metadata": {},
   "outputs": [],
   "source": [
    "base_path = \"/scratch/ddr8143/multiqa/baseline_runs_v0/\"\n",
    "run_name = \"ambigqa_bm25_100.from_nq.bs_48.ws_4.t_0.s_0\"\n",
    "log_file = f\"{base_path}{run_name}/train_dense_encoder.log\""
   ]
  },
  {
   "cell_type": "code",
   "execution_count": 33,
   "id": "304c7a5e",
   "metadata": {},
   "outputs": [],
   "source": [
    "extract_lines = {\n",
    "    \"checkpoint_model\": \"Reading saved model from\",\n",
    "    \"train_datasets\": \"train_datasets: \",\n",
    "    \"dev_datasets\": \"dev_datasets: \",\n",
    "    \"aggregated_data_size\": \"Aggregated data size: \",\n",
    "    \"cleaned_data_size\": \"Total cleaned data size: \",\n",
    "    \"shard_info\": \"samples_per_shard=\",\n",
    "    \"epoch_losses\": \"Epoch: \",\n",
    "    \"nll_validation\": \"NLL Validation: \",\n",
    "    \"best_checkpoint\": \"New Best validation checkpoint \",\n",
    "    \"avg_rank_validation\": \"Av.rank validation: average rank \",\n",
    "}"
   ]
  },
  {
   "cell_type": "code",
   "execution_count": 34,
   "id": "26193626",
   "metadata": {},
   "outputs": [],
   "source": [
    "log_lines = open(log_file).readlines()"
   ]
  },
  {
   "cell_type": "code",
   "execution_count": 35,
   "id": "7a0b1f1b",
   "metadata": {},
   "outputs": [],
   "source": [
    "useful_lines = defaultdict(list)\n",
    "for l in log_lines:\n",
    "    for k, v in extract_lines.items():\n",
    "        if v in l:\n",
    "            ldata = l.split(v)[-1].strip()\n",
    "            vldata = v + ldata\n",
    "            if vldata not in useful_lines[k]:\n",
    "                useful_lines[k].append(vldata)"
   ]
  },
  {
   "cell_type": "code",
   "execution_count": 41,
   "id": "d7ccc948",
   "metadata": {},
   "outputs": [
    {
     "data": {
      "text/plain": [
       "['NLL Validation: loss = 1.782290. correct prediction ratio  1041/1536 ~  0.677734',\n",
       " 'NLL Validation: loss = 1.367543. correct prediction ratio  1069/1536 ~  0.695964',\n",
       " 'NLL Validation: loss = 1.053357. correct prediction ratio  1087/1536 ~  0.707682',\n",
       " 'NLL Validation: loss = 0.924300. correct prediction ratio  1095/1536 ~  0.712891',\n",
       " 'NLL Validation: loss = 0.875859. correct prediction ratio  1104/1536 ~  0.718750',\n",
       " 'NLL Validation: loss = 0.850196. correct prediction ratio  1108/1536 ~  0.721354',\n",
       " 'NLL Validation: loss = 0.836891. correct prediction ratio  1113/1536 ~  0.724609',\n",
       " 'NLL Validation: loss = 0.836513. correct prediction ratio  1121/1536 ~  0.729818',\n",
       " 'NLL Validation: loss = 0.840433. correct prediction ratio  1121/1536 ~  0.729818',\n",
       " 'NLL Validation: loss = 0.860442. correct prediction ratio  1122/1536 ~  0.730469',\n",
       " 'NLL Validation: loss = 0.902931. correct prediction ratio  1120/1536 ~  0.729167',\n",
       " 'NLL Validation: loss = 0.961234. correct prediction ratio  1115/1536 ~  0.725911',\n",
       " 'NLL Validation: loss = 1.059825. correct prediction ratio  1126/1536 ~  0.733073',\n",
       " 'NLL Validation: loss = 1.125346. correct prediction ratio  1118/1536 ~  0.727865',\n",
       " 'NLL Validation: loss = 1.195817. correct prediction ratio  1127/1536 ~  0.733724',\n",
       " 'NLL Validation: loss = 1.243295. correct prediction ratio  1121/1536 ~  0.729818',\n",
       " 'NLL Validation: loss = 1.288398. correct prediction ratio  1115/1536 ~  0.725911',\n",
       " 'NLL Validation: loss = 1.308836. correct prediction ratio  1116/1536 ~  0.726562',\n",
       " 'NLL Validation: loss = 1.371715. correct prediction ratio  1111/1536 ~  0.723307',\n",
       " 'NLL Validation: loss = 1.425545. correct prediction ratio  1105/1536 ~  0.719401',\n",
       " 'NLL Validation: loss = 1.488133. correct prediction ratio  1103/1536 ~  0.718099',\n",
       " 'NLL Validation: loss = 1.437919. correct prediction ratio  1123/1536 ~  0.731120',\n",
       " 'NLL Validation: loss = 1.452167. correct prediction ratio  1111/1536 ~  0.723307',\n",
       " 'NLL Validation: loss = 1.453791. correct prediction ratio  1115/1536 ~  0.725911',\n",
       " 'NLL Validation: loss = 1.454270. correct prediction ratio  1107/1536 ~  0.720703',\n",
       " 'NLL Validation: loss = 1.461609. correct prediction ratio  1121/1536 ~  0.729818',\n",
       " 'NLL Validation: loss = 1.502939. correct prediction ratio  1104/1536 ~  0.718750',\n",
       " 'NLL Validation: loss = 1.454221. correct prediction ratio  1113/1536 ~  0.724609',\n",
       " 'NLL Validation: loss = 1.473675. correct prediction ratio  1114/1536 ~  0.725260']"
      ]
     },
     "execution_count": 41,
     "metadata": {},
     "output_type": "execute_result"
    }
   ],
   "source": [
    "useful_lines['nll_validation']"
   ]
  },
  {
   "cell_type": "code",
   "execution_count": 38,
   "id": "cd7ba003",
   "metadata": {},
   "outputs": [
    {
     "data": {
      "text/plain": [
       "['New Best validation checkpoint /scratch/ddr8143/multiqa/baseline_runs_v0/ambigqa_bm25_100.from_nq.bs_48.ws_4.t_0.s_0/best_checkpoint.1',\n",
       " 'New Best validation checkpoint /scratch/ddr8143/multiqa/baseline_runs_v0/ambigqa_bm25_100.from_nq.bs_48.ws_4.t_0.s_0/best_checkpoint.2',\n",
       " 'New Best validation checkpoint /scratch/ddr8143/multiqa/baseline_runs_v0/ambigqa_bm25_100.from_nq.bs_48.ws_4.t_0.s_0/best_checkpoint.3',\n",
       " 'New Best validation checkpoint /scratch/ddr8143/multiqa/baseline_runs_v0/ambigqa_bm25_100.from_nq.bs_48.ws_4.t_0.s_0/best_checkpoint.4',\n",
       " 'New Best validation checkpoint /scratch/ddr8143/multiqa/baseline_runs_v0/ambigqa_bm25_100.from_nq.bs_48.ws_4.t_0.s_0/best_checkpoint.5',\n",
       " 'New Best validation checkpoint /scratch/ddr8143/multiqa/baseline_runs_v0/ambigqa_bm25_100.from_nq.bs_48.ws_4.t_0.s_0/best_checkpoint.6',\n",
       " 'New Best validation checkpoint /scratch/ddr8143/multiqa/baseline_runs_v0/ambigqa_bm25_100.from_nq.bs_48.ws_4.t_0.s_0/best_checkpoint.7',\n",
       " 'New Best validation checkpoint /scratch/ddr8143/multiqa/baseline_runs_v0/ambigqa_bm25_100.from_nq.bs_48.ws_4.t_0.s_0/best_checkpoint.8',\n",
       " 'New Best validation checkpoint /scratch/ddr8143/multiqa/baseline_runs_v0/ambigqa_bm25_100.from_nq.bs_48.ws_4.t_0.s_0/best_checkpoint.30',\n",
       " 'New Best validation checkpoint /scratch/ddr8143/multiqa/baseline_runs_v0/ambigqa_bm25_100.from_nq.bs_48.ws_4.t_0.s_0/best_checkpoint.31',\n",
       " 'New Best validation checkpoint /scratch/ddr8143/multiqa/baseline_runs_v0/ambigqa_bm25_100.from_nq.bs_48.ws_4.t_0.s_0/best_checkpoint.32',\n",
       " 'New Best validation checkpoint /scratch/ddr8143/multiqa/baseline_runs_v0/ambigqa_bm25_100.from_nq.bs_48.ws_4.t_0.s_0/best_checkpoint.33']"
      ]
     },
     "execution_count": 38,
     "metadata": {},
     "output_type": "execute_result"
    }
   ],
   "source": [
    "useful_lines['best_checkpoint']"
   ]
  },
  {
   "cell_type": "code",
   "execution_count": 42,
   "id": "83364b58",
   "metadata": {},
   "outputs": [],
   "source": [
    "best_checkpoint = \"/scratch/ddr8143/multiqa/baseline_runs_v0/ambigqa_bm25_100.from_nq.bs_48.ws_4.t_0.s_0/best_checkpoint.8\""
   ]
  },
  {
   "cell_type": "code",
   "execution_count": null,
   "id": "0d5c9b18",
   "metadata": {},
   "outputs": [],
   "source": []
  },
  {
   "cell_type": "code",
   "execution_count": null,
   "id": "1ff1b0f1",
   "metadata": {},
   "outputs": [],
   "source": []
  },
  {
   "cell_type": "code",
   "execution_count": null,
   "id": "c18d58f4",
   "metadata": {},
   "outputs": [],
   "source": []
  },
  {
   "cell_type": "code",
   "execution_count": null,
   "id": "0fa25614",
   "metadata": {},
   "outputs": [],
   "source": []
  }
 ],
 "metadata": {
  "kernelspec": {
   "display_name": "Python 3 (ipykernel)",
   "language": "python",
   "name": "python3"
  },
  "language_info": {
   "codemirror_mode": {
    "name": "ipython",
    "version": 3
   },
   "file_extension": ".py",
   "mimetype": "text/x-python",
   "name": "python",
   "nbconvert_exporter": "python",
   "pygments_lexer": "ipython3",
   "version": "3.9.0"
  }
 },
 "nbformat": 4,
 "nbformat_minor": 5
}
