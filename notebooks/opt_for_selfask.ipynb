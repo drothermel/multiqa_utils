{
 "cells": [
  {
   "cell_type": "markdown",
   "id": "43fda408",
   "metadata": {},
   "source": [
    "# Testing out OPT on Self-Ask Decomposition\n",
    "\n",
    "Lets see how large of a model we can effectively use!"
   ]
  },
  {
   "cell_type": "code",
   "execution_count": 1,
   "id": "a0658b93",
   "metadata": {},
   "outputs": [],
   "source": [
    "from transformers import AutoTokenizer\n",
    "from llm_serving.model.wrapper import get_model"
   ]
  },
  {
   "cell_type": "code",
   "execution_count": null,
   "id": "376c8507",
   "metadata": {},
   "outputs": [
    {
     "data": {
      "application/vnd.jupyter.widget-view+json": {
       "model_id": "31f59e2b1e30444a955d5e73455b7eaa",
       "version_major": 2,
       "version_minor": 0
      },
      "text/plain": [
       "Downloading:   0%|          | 0.00/685 [00:00<?, ?B/s]"
      ]
     },
     "metadata": {},
     "output_type": "display_data"
    },
    {
     "data": {
      "application/vnd.jupyter.widget-view+json": {
       "model_id": "b2ffff14afeb429983dd1dbb087956b9",
       "version_major": 2,
       "version_minor": 0
      },
      "text/plain": [
       "Downloading:   0%|          | 0.00/676 [00:00<?, ?B/s]"
      ]
     },
     "metadata": {},
     "output_type": "display_data"
    },
    {
     "data": {
      "application/vnd.jupyter.widget-view+json": {
       "model_id": "896cef251c9c4962915580c5e8305065",
       "version_major": 2,
       "version_minor": 0
      },
      "text/plain": [
       "Downloading:   0%|          | 0.00/899k [00:00<?, ?B/s]"
      ]
     },
     "metadata": {},
     "output_type": "display_data"
    },
    {
     "data": {
      "application/vnd.jupyter.widget-view+json": {
       "model_id": "48b5150cf6784a29908b90c809eaec88",
       "version_major": 2,
       "version_minor": 0
      },
      "text/plain": [
       "Downloading:   0%|          | 0.00/456k [00:00<?, ?B/s]"
      ]
     },
     "metadata": {},
     "output_type": "display_data"
    },
    {
     "data": {
      "application/vnd.jupyter.widget-view+json": {
       "model_id": "19034ebb18dd48daa3a68b5dd9423f54",
       "version_major": 2,
       "version_minor": 0
      },
      "text/plain": [
       "Downloading:   0%|          | 0.00/221 [00:00<?, ?B/s]"
      ]
     },
     "metadata": {},
     "output_type": "display_data"
    },
    {
     "name": "stdout",
     "output_type": "stream",
     "text": [
      "Cannot find cached weights under '/scratch/ddr8143/opt_weights/opt-66b-np'.\n",
      "Load the pre-trained pytorch weights of opt-66b from huggingface. The downloading and cpu loading can take dozens of minutes. If it seems to get stuck, you can monitor the progress by checking the memory usage of this process.\n"
     ]
    },
    {
     "data": {
      "application/vnd.jupyter.widget-view+json": {
       "model_id": "20a273c114874531903db54ca0736bdf",
       "version_major": 2,
       "version_minor": 0
      },
      "text/plain": [
       "Downloading:   0%|          | 0.00/89.9k [00:00<?, ?B/s]"
      ]
     },
     "metadata": {},
     "output_type": "display_data"
    },
    {
     "data": {
      "application/vnd.jupyter.widget-view+json": {
       "model_id": "6044fc2bb8cd47fca2f553d4f47fcf26",
       "version_major": 2,
       "version_minor": 0
      },
      "text/plain": [
       "Downloading:   0%|          | 0.00/9.80G [00:00<?, ?B/s]"
      ]
     },
     "metadata": {},
     "output_type": "display_data"
    },
    {
     "data": {
      "application/vnd.jupyter.widget-view+json": {
       "model_id": "d0f06aa3e17640848389f10b3b62decc",
       "version_major": 2,
       "version_minor": 0
      },
      "text/plain": [
       "Downloading:   0%|          | 0.00/9.85G [00:00<?, ?B/s]"
      ]
     },
     "metadata": {},
     "output_type": "display_data"
    },
    {
     "data": {
      "application/vnd.jupyter.widget-view+json": {
       "model_id": "eb244e88629c497785c79ce00da4ecf0",
       "version_major": 2,
       "version_minor": 0
      },
      "text/plain": [
       "Downloading:   0%|          | 0.00/9.85G [00:00<?, ?B/s]"
      ]
     },
     "metadata": {},
     "output_type": "display_data"
    },
    {
     "data": {
      "application/vnd.jupyter.widget-view+json": {
       "model_id": "0c54995e61e2475bb1a980bf49982791",
       "version_major": 2,
       "version_minor": 0
      },
      "text/plain": [
       "Downloading:   0%|          | 0.00/9.51G [00:00<?, ?B/s]"
      ]
     },
     "metadata": {},
     "output_type": "display_data"
    },
    {
     "data": {
      "application/vnd.jupyter.widget-view+json": {
       "model_id": "7d02083a92d7446c89214560c2ad60e7",
       "version_major": 2,
       "version_minor": 0
      },
      "text/plain": [
       "Downloading:   0%|          | 0.00/9.51G [00:00<?, ?B/s]"
      ]
     },
     "metadata": {},
     "output_type": "display_data"
    },
    {
     "data": {
      "application/vnd.jupyter.widget-view+json": {
       "model_id": "0b00dd954a7a4f5188d56804aaf92301",
       "version_major": 2,
       "version_minor": 0
      },
      "text/plain": [
       "Downloading:   0%|          | 0.00/9.85G [00:00<?, ?B/s]"
      ]
     },
     "metadata": {},
     "output_type": "display_data"
    },
    {
     "data": {
      "application/vnd.jupyter.widget-view+json": {
       "model_id": "10acc5606cde43d4850f62851da05dd1",
       "version_major": 2,
       "version_minor": 0
      },
      "text/plain": [
       "Downloading:   0%|          | 0.00/9.85G [00:00<?, ?B/s]"
      ]
     },
     "metadata": {},
     "output_type": "display_data"
    },
    {
     "data": {
      "application/vnd.jupyter.widget-view+json": {
       "model_id": "0c658657d2924330892c6e7b876bfb48",
       "version_major": 2,
       "version_minor": 0
      },
      "text/plain": [
       "Downloading:   0%|          | 0.00/9.51G [00:00<?, ?B/s]"
      ]
     },
     "metadata": {},
     "output_type": "display_data"
    },
    {
     "data": {
      "application/vnd.jupyter.widget-view+json": {
       "model_id": "8d62570df4424a498f1cd6b975a0ee50",
       "version_major": 2,
       "version_minor": 0
      },
      "text/plain": [
       "Downloading:   0%|          | 0.00/9.51G [00:00<?, ?B/s]"
      ]
     },
     "metadata": {},
     "output_type": "display_data"
    },
    {
     "data": {
      "application/vnd.jupyter.widget-view+json": {
       "model_id": "df1970e41b704cfb8cefc0c266bb0461",
       "version_major": 2,
       "version_minor": 0
      },
      "text/plain": [
       "Downloading:   0%|          | 0.00/9.85G [00:00<?, ?B/s]"
      ]
     },
     "metadata": {},
     "output_type": "display_data"
    },
    {
     "data": {
      "application/vnd.jupyter.widget-view+json": {
       "model_id": "0c49bf95cd0347dbbbdf7cd4716c706a",
       "version_major": 2,
       "version_minor": 0
      },
      "text/plain": [
       "Downloading:   0%|          | 0.00/9.85G [00:00<?, ?B/s]"
      ]
     },
     "metadata": {},
     "output_type": "display_data"
    },
    {
     "data": {
      "application/vnd.jupyter.widget-view+json": {
       "model_id": "7e256a5388e543cfa9c2026d498a64df",
       "version_major": 2,
       "version_minor": 0
      },
      "text/plain": [
       "Downloading:   0%|          | 0.00/9.51G [00:00<?, ?B/s]"
      ]
     },
     "metadata": {},
     "output_type": "display_data"
    },
    {
     "data": {
      "application/vnd.jupyter.widget-view+json": {
       "model_id": "0b1bbf23c8e841259a5d628cac3d926c",
       "version_major": 2,
       "version_minor": 0
      },
      "text/plain": [
       "Downloading:   0%|          | 0.00/9.51G [00:00<?, ?B/s]"
      ]
     },
     "metadata": {},
     "output_type": "display_data"
    },
    {
     "data": {
      "application/vnd.jupyter.widget-view+json": {
       "model_id": "9c21f4d66a384095838e9976cf906f7a",
       "version_major": 2,
       "version_minor": 0
      },
      "text/plain": [
       "Downloading:   0%|          | 0.00/6.36G [00:00<?, ?B/s]"
      ]
     },
     "metadata": {},
     "output_type": "display_data"
    }
   ],
   "source": [
    "#size=\"13b\"\n",
    "# Load the tokenizer. All OPT models with different sizes share the same tokenizer\n",
    "tokenizer = AutoTokenizer.from_pretrained(f\"facebook/opt-66b\")\n",
    "tokenizer.add_bos_token = False\n",
    "\n",
    "# Load the model. Alpa automatically downloads the weights to the specificed path\n",
    "\n",
    "model = get_model(model_name=f\"alpa/opt-66b\", path=\"/scratch/ddr8143/opt_weights/\")"
   ]
  },
  {
   "cell_type": "code",
   "execution_count": null,
   "id": "562d9267",
   "metadata": {},
   "outputs": [],
   "source": [
    "# Generate\n",
    "prompt = \"\"\"Question: Harmony Korine was both screenwriter and director of what movie?\n",
    "Can this be decomposed: Yes.\n",
    "Question 1: Harmony Korine was the screenwriter of what movie?\n",
    "Question 2: Harmony Korine was the director of what movie?\n",
    "So the final answers are: Spring Breakers, Trash Humpers, Julien Donkey-Boy, Mister Lonely, The Beach Bum, Gummo\n",
    "\n",
    "Question: Who was both a graduate from Ananda College and University of Ceylon?\n",
    "Can this be decomposed: Yes.\n",
    "Question 1: Who graduated from Ananda College?\n",
    "Question 2: Who graduated from University of Ceylon?\n",
    "So the final answers are: Tissa Vitharana, V. K. Samaranayake, Chandre Dharma-wardana, D. Shelton A. Gunaratne, K. D. Arulpragasam, J. B. Disanayake\n",
    "\n",
    "Question: Which movie had K. S. L. Swamy as its director and Vijaya Bhaskar as its musical composer?\n",
    "Can this be decomposed: Yes.\n",
    "Question 1: Which movie has K. S. L. Swamy as its director?\n",
    "Question 2: Which movie has Vijaya Bhaskar as its musical composer?\n",
    "So the final answers are: Anna Thamma, Thulasi, Devaru Kotta Thangi, Manku Dinne, Lagna Pathrike, Malaya Marutha, Mugdha Manava, Banashankari, Aaru Mooru Ombhatthu, Bhagya Jyothi, Bhagyada Bagilu, Bhale Adrushtavo Adrushta, Maagiya Kanasu, Mithileya Seetheyaru, Arishina Kumkuma, Makkala Bhagya, Jimmy Gallu, Huli Hejje, CID 72, Lakshmi Saraswathi, Thoogudeepa\n",
    "\n",
    "Question: What music was composed by Devi Sri Prasad and  produced by Dil Raju?\n",
    "Can this be decomposed: Yes.\n",
    "Question 1: What music was composed by Devi Sri Prasad?\n",
    "Question 2: What music was produced by Dil Raju?\n",
    "So the final answers are: Arya, Bommarillu, Nenu Local, Mr. Perfect, Bhadra, Yevadu, Maharshi, Middle Class Abbai\n",
    "\n",
    "Question: What movie did Irwin Allen both direct and produce?\n",
    "Can this be decomposed:\"\"\"\n",
    "\n",
    "input_ids = tokenizer(prompt, return_tensors=\"pt\").input_ids\n",
    "output = model.generate(\n",
    "    input_ids=input_ids,\n",
    "    max_length=600,\n",
    "    do_sample=True,\n",
    ")\n",
    "generated_string = tokenizer.batch_decode(output, skip_special_tokens=True)\n",
    "\n",
    "print(generated_string[0])"
   ]
  },
  {
   "cell_type": "code",
   "execution_count": null,
   "id": "26d9759b",
   "metadata": {},
   "outputs": [],
   "source": []
  }
 ],
 "metadata": {
  "kernelspec": {
   "display_name": "Python 3 (ipykernel)",
   "language": "python",
   "name": "python3"
  },
  "language_info": {
   "codemirror_mode": {
    "name": "ipython",
    "version": 3
   },
   "file_extension": ".py",
   "mimetype": "text/x-python",
   "name": "python",
   "nbconvert_exporter": "python",
   "pygments_lexer": "ipython3",
   "version": "3.9.0"
  }
 },
 "nbformat": 4,
 "nbformat_minor": 5
}
