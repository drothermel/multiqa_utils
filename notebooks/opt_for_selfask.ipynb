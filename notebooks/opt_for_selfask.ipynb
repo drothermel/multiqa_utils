{
 "cells": [
  {
   "cell_type": "markdown",
   "id": "7ddf9380",
   "metadata": {},
   "source": [
    "# Testing out OPT on Self-Ask Decomposition\n",
    "\n",
    "Lets see how large of a model we can effectively use!"
   ]
  },
  {
   "cell_type": "code",
   "execution_count": 1,
   "id": "3760c2b8",
   "metadata": {},
   "outputs": [],
   "source": [
    "from transformers import AutoTokenizer\n",
    "from llm_serving.model.wrapper import get_model"
   ]
  },
  {
   "cell_type": "code",
   "execution_count": null,
   "id": "b70c2184",
   "metadata": {},
   "outputs": [
    {
     "data": {
      "application/vnd.jupyter.widget-view+json": {
       "model_id": "31f59e2b1e30444a955d5e73455b7eaa",
       "version_major": 2,
       "version_minor": 0
      },
      "text/plain": [
       "Downloading:   0%|          | 0.00/685 [00:00<?, ?B/s]"
      ]
     },
     "metadata": {},
     "output_type": "display_data"
    },
    {
     "data": {
      "application/vnd.jupyter.widget-view+json": {
       "model_id": "b2ffff14afeb429983dd1dbb087956b9",
       "version_major": 2,
       "version_minor": 0
      },
      "text/plain": [
       "Downloading:   0%|          | 0.00/676 [00:00<?, ?B/s]"
      ]
     },
     "metadata": {},
     "output_type": "display_data"
    },
    {
     "data": {
      "application/vnd.jupyter.widget-view+json": {
       "model_id": "896cef251c9c4962915580c5e8305065",
       "version_major": 2,
       "version_minor": 0
      },
      "text/plain": [
       "Downloading:   0%|          | 0.00/899k [00:00<?, ?B/s]"
      ]
     },
     "metadata": {},
     "output_type": "display_data"
    },
    {
     "data": {
      "application/vnd.jupyter.widget-view+json": {
       "model_id": "48b5150cf6784a29908b90c809eaec88",
       "version_major": 2,
       "version_minor": 0
      },
      "text/plain": [
       "Downloading:   0%|          | 0.00/456k [00:00<?, ?B/s]"
      ]
     },
     "metadata": {},
     "output_type": "display_data"
    },
    {
     "data": {
      "application/vnd.jupyter.widget-view+json": {
       "model_id": "19034ebb18dd48daa3a68b5dd9423f54",
       "version_major": 2,
       "version_minor": 0
      },
      "text/plain": [
       "Downloading:   0%|          | 0.00/221 [00:00<?, ?B/s]"
      ]
     },
     "metadata": {},
     "output_type": "display_data"
    },
    {
     "name": "stdout",
     "output_type": "stream",
     "text": [
      "Cannot find cached weights under '/scratch/ddr8143/opt_weights/opt-66b-np'.\n",
      "Load the pre-trained pytorch weights of opt-66b from huggingface. The downloading and cpu loading can take dozens of minutes. If it seems to get stuck, you can monitor the progress by checking the memory usage of this process.\n"
     ]
    },
    {
     "data": {
      "application/vnd.jupyter.widget-view+json": {
       "model_id": "20a273c114874531903db54ca0736bdf",
       "version_major": 2,
       "version_minor": 0
      },
      "text/plain": [
       "Downloading:   0%|          | 0.00/89.9k [00:00<?, ?B/s]"
      ]
     },
     "metadata": {},
     "output_type": "display_data"
    },
    {
     "data": {
      "application/vnd.jupyter.widget-view+json": {
       "model_id": "6044fc2bb8cd47fca2f553d4f47fcf26",
       "version_major": 2,
       "version_minor": 0
      },
      "text/plain": [
       "Downloading:   0%|          | 0.00/9.80G [00:00<?, ?B/s]"
      ]
     },
     "metadata": {},
     "output_type": "display_data"
    },
    {
     "data": {
      "application/vnd.jupyter.widget-view+json": {
       "model_id": "d0f06aa3e17640848389f10b3b62decc",
       "version_major": 2,
       "version_minor": 0
      },
      "text/plain": [
       "Downloading:   0%|          | 0.00/9.85G [00:00<?, ?B/s]"
      ]
     },
     "metadata": {},
     "output_type": "display_data"
    },
    {
     "data": {
      "application/vnd.jupyter.widget-view+json": {
       "model_id": "eb244e88629c497785c79ce00da4ecf0",
       "version_major": 2,
       "version_minor": 0
      },
      "text/plain": [
       "Downloading:   0%|          | 0.00/9.85G [00:00<?, ?B/s]"
      ]
     },
     "metadata": {},
     "output_type": "display_data"
    },
    {
     "data": {
      "application/vnd.jupyter.widget-view+json": {
       "model_id": "0c54995e61e2475bb1a980bf49982791",
       "version_major": 2,
       "version_minor": 0
      },
      "text/plain": [
       "Downloading:   0%|          | 0.00/9.51G [00:00<?, ?B/s]"
      ]
     },
     "metadata": {},
     "output_type": "display_data"
    },
    {
     "data": {
      "application/vnd.jupyter.widget-view+json": {
       "model_id": "7d02083a92d7446c89214560c2ad60e7",
       "version_major": 2,
       "version_minor": 0
      },
      "text/plain": [
       "Downloading:   0%|          | 0.00/9.51G [00:00<?, ?B/s]"
      ]
     },
     "metadata": {},
     "output_type": "display_data"
    },
    {
     "data": {
      "application/vnd.jupyter.widget-view+json": {
       "model_id": "0b00dd954a7a4f5188d56804aaf92301",
       "version_major": 2,
       "version_minor": 0
      },
      "text/plain": [
       "Downloading:   0%|          | 0.00/9.85G [00:00<?, ?B/s]"
      ]
     },
     "metadata": {},
     "output_type": "display_data"
    },
    {
     "data": {
      "application/vnd.jupyter.widget-view+json": {
       "model_id": "10acc5606cde43d4850f62851da05dd1",
       "version_major": 2,
       "version_minor": 0
      },
      "text/plain": [
       "Downloading:   0%|          | 0.00/9.85G [00:00<?, ?B/s]"
      ]
     },
     "metadata": {},
     "output_type": "display_data"
    },
    {
     "data": {
      "application/vnd.jupyter.widget-view+json": {
       "model_id": "0c658657d2924330892c6e7b876bfb48",
       "version_major": 2,
       "version_minor": 0
      },
      "text/plain": [
       "Downloading:   0%|          | 0.00/9.51G [00:00<?, ?B/s]"
      ]
     },
     "metadata": {},
     "output_type": "display_data"
    },
    {
     "data": {
      "application/vnd.jupyter.widget-view+json": {
       "model_id": "8d62570df4424a498f1cd6b975a0ee50",
       "version_major": 2,
       "version_minor": 0
      },
      "text/plain": [
       "Downloading:   0%|          | 0.00/9.51G [00:00<?, ?B/s]"
      ]
     },
     "metadata": {},
     "output_type": "display_data"
    },
    {
     "data": {
      "application/vnd.jupyter.widget-view+json": {
       "model_id": "df1970e41b704cfb8cefc0c266bb0461",
       "version_major": 2,
       "version_minor": 0
      },
      "text/plain": [
       "Downloading:   0%|          | 0.00/9.85G [00:00<?, ?B/s]"
      ]
     },
     "metadata": {},
     "output_type": "display_data"
    },
    {
     "data": {
      "application/vnd.jupyter.widget-view+json": {
       "model_id": "0c49bf95cd0347dbbbdf7cd4716c706a",
       "version_major": 2,
       "version_minor": 0
      },
      "text/plain": [
       "Downloading:   0%|          | 0.00/9.85G [00:00<?, ?B/s]"
      ]
     },
     "metadata": {},
     "output_type": "display_data"
    },
    {
     "data": {
      "application/vnd.jupyter.widget-view+json": {
       "model_id": "7e256a5388e543cfa9c2026d498a64df",
       "version_major": 2,
       "version_minor": 0
      },
      "text/plain": [
       "Downloading:   0%|          | 0.00/9.51G [00:00<?, ?B/s]"
      ]
     },
     "metadata": {},
     "output_type": "display_data"
    },
    {
     "data": {
      "application/vnd.jupyter.widget-view+json": {
       "model_id": "0b1bbf23c8e841259a5d628cac3d926c",
       "version_major": 2,
       "version_minor": 0
      },
      "text/plain": [
       "Downloading:   0%|          | 0.00/9.51G [00:00<?, ?B/s]"
      ]
     },
     "metadata": {},
     "output_type": "display_data"
    },
    {
     "data": {
      "application/vnd.jupyter.widget-view+json": {
       "model_id": "9c21f4d66a384095838e9976cf906f7a",
       "version_major": 2,
       "version_minor": 0
      },
      "text/plain": [
       "Downloading:   0%|          | 0.00/6.36G [00:00<?, ?B/s]"
      ]
     },
     "metadata": {},
     "output_type": "display_data"
    }
   ],
   "source": [
    "#size=\"13b\"\n",
    "# Load the tokenizer. All OPT models with different sizes share the same tokenizer\n",
    "tokenizer = AutoTokenizer.from_pretrained(f\"facebook/opt-66b\")\n",
    "tokenizer.add_bos_token = False\n",
    "\n",
    "# Load the model. Alpa automatically downloads the weights to the specificed path\n",
    "\n",
    "model = get_model(model_name=f\"alpa/opt-66b\", path=\"/scratch/ddr8143/opt_weights/\")"
   ]
  },
  {
   "cell_type": "code",
   "execution_count": null,
   "id": "10463bc9",
   "metadata": {},
   "outputs": [],
   "source": [
    "# Generate\n",
    "prompt = \"\"\"Question: Harmony Korine was both screenwriter and director of what movie?\n",
    "Can this be decomposed: Yes.\n",
    "Question 1: Harmony Korine was the screenwriter of what movie?\n",
    "Question 2: Harmony Korine was the director of what movie?\n",
    "So the final answers are: Spring Breakers, Trash Humpers, Julien Donkey-Boy, Mister Lonely, The Beach Bum, Gummo\n",
    "\n",
    "Question: Who was both a graduate from Ananda College and University of Ceylon?\n",
    "Can this be decomposed: Yes.\n",
    "Question 1: Who graduated from Ananda College?\n",
    "Question 2: Who graduated from University of Ceylon?\n",
    "So the final answers are: Tissa Vitharana, V. K. Samaranayake, Chandre Dharma-wardana, D. Shelton A. Gunaratne, K. D. Arulpragasam, J. B. Disanayake\n",
    "\n",
    "Question: Which movie had K. S. L. Swamy as its director and Vijaya Bhaskar as its musical composer?\n",
    "Can this be decomposed: Yes.\n",
    "Question 1: Which movie has K. S. L. Swamy as its director?\n",
    "Question 2: Which movie has Vijaya Bhaskar as its musical composer?\n",
    "So the final answers are: Anna Thamma, Thulasi, Devaru Kotta Thangi, Manku Dinne, Lagna Pathrike, Malaya Marutha, Mugdha Manava, Banashankari, Aaru Mooru Ombhatthu, Bhagya Jyothi, Bhagyada Bagilu, Bhale Adrushtavo Adrushta, Maagiya Kanasu, Mithileya Seetheyaru, Arishina Kumkuma, Makkala Bhagya, Jimmy Gallu, Huli Hejje, CID 72, Lakshmi Saraswathi, Thoogudeepa\n",
    "\n",
    "Question: What music was composed by Devi Sri Prasad and  produced by Dil Raju?\n",
    "Can this be decomposed: Yes.\n",
    "Question 1: What music was composed by Devi Sri Prasad?\n",
    "Question 2: What music was produced by Dil Raju?\n",
    "So the final answers are: Arya, Bommarillu, Nenu Local, Mr. Perfect, Bhadra, Yevadu, Maharshi, Middle Class Abbai\n",
    "\n",
    "Question: What movie did Irwin Allen both direct and produce?\n",
    "Can this be decomposed:\"\"\"\n",
    "\n",
    "input_ids = tokenizer(prompt, return_tensors=\"pt\").input_ids\n",
    "output = model.generate(\n",
    "    input_ids=input_ids,\n",
    "    max_length=600,\n",
    "    do_sample=True,\n",
    ")\n",
    "generated_string = tokenizer.batch_decode(output, skip_special_tokens=True)\n",
    "\n",
    "print(generated_string[0])"
   ]
  },
  {
   "cell_type": "code",
   "execution_count": null,
   "id": "05dc6d3f",
   "metadata": {},
   "outputs": [],
   "source": []
  },
  {
   "cell_type": "code",
   "execution_count": 1,
   "id": "022e6200",
   "metadata": {},
   "outputs": [],
   "source": [
    "import jsonlines\n",
    "import json\n",
    "import numpy as np\n",
    "import random\n",
    "import openai\n",
    "from collections import defaultdict\n",
    "\n",
    "import multiqa_utils.openai_utils as ou\n",
    "import multiqa_utils.qampari_utils as qu\n",
    "import multiqa_utils.decomposition_utils as du\n",
    "\n",
    "%load_ext autoreload\n",
    "%autoreload 2"
   ]
  },
  {
   "cell_type": "code",
   "execution_count": 3,
   "id": "3aac3ef8",
   "metadata": {},
   "outputs": [
    {
     "name": "stdout",
     "output_type": "stream",
     "text": [
      "Num Dev Qs: 1000\n",
      "Num Train Qs: 61911\n"
     ]
    }
   ],
   "source": [
    "qmp_dev = qu.load_dev_data()\n",
    "qmp_train = qu.load_train_data()\n",
    "print(\"Num Dev Qs:\", len(qmp_dev))\n",
    "print(\"Num Train Qs:\", len(qmp_train))"
   ]
  },
  {
   "cell_type": "code",
   "execution_count": 4,
   "id": "ad07ca6b",
   "metadata": {},
   "outputs": [],
   "source": [
    "qmp_train_wd = [d for d in qmp_train if 'wikitables' not in d['qid']]"
   ]
  },
  {
   "cell_type": "code",
   "execution_count": 5,
   "id": "f1470539",
   "metadata": {},
   "outputs": [
    {
     "data": {
      "text/plain": [
       "56075"
      ]
     },
     "execution_count": 5,
     "metadata": {},
     "output_type": "execute_result"
    }
   ],
   "source": [
    "len(qmp_train_wd)"
   ]
  },
  {
   "cell_type": "code",
   "execution_count": 7,
   "id": "ec6493a8",
   "metadata": {},
   "outputs": [],
   "source": [
    "## Load my manual decompositions to use for prompt creation\n",
    "output_dir = \"/scratch/ddr8143/multiqa/qampari_data/decomposition_v0/\"\n",
    "manual_train_decomp_file = f\"{output_dir}manual_decompositions_train.json\"\n",
    "#json.dump(official_train_decomp, open(manual_train_decomp_file, 'w+'))\n",
    "manual_train_decomp = {int(k): v for k, v in json.load(open(manual_train_decomp_file)).items()}"
   ]
  },
  {
   "cell_type": "code",
   "execution_count": 9,
   "id": "502c317a",
   "metadata": {},
   "outputs": [],
   "source": [
    "curr_best_prompt = du.get_qmp_decomp_prompt_base_v1(qmp_train_wd, manual_train_decomp)"
   ]
  },
  {
   "cell_type": "code",
   "execution_count": 10,
   "id": "d3aabfc9",
   "metadata": {},
   "outputs": [
    {
     "name": "stdout",
     "output_type": "stream",
     "text": [
      "Instructions:\n",
      "Choose the question type out of: composition or intersection.\n",
      "\n",
      "Simple questions only require one piece of information. Example:\n",
      "\n",
      "“Question: Which software, art, etc. has Don Broco as performer?\n",
      "Question Type: simple.\n",
      "Explanation: This is a simple question because we only need to know what Don Broco has performed in.”\n",
      "\n",
      "Composition questions require getting one answer and then getting more information about that answer. Example:\n",
      "\n",
      "“Question: What are the dates of death of persons that were a member of the political party Australian Labor Party (Anti-Communist)?\n",
      "Question Type: composition.\n",
      "Explanation: This is a complosition question because we need to know who were members of the political party and then we need to get additional information about each of them.”\n",
      "\n",
      "Intersection questions require getting answers to two questions and then combining them. Example:\n",
      "\n",
      "“Question: Which film has M. G. Ramachandran as a member of its cast and has J. Jayalalithaa as a member of its cast?\n",
      "Question Type: intersection.\n",
      "Explanation: This is an intersection question because we need to combine the answers to the first question, which film has M. G. Ramachandran as a member of its cast, with the second question, which film has J. Jayalalithaa as a member of its cast.”\n",
      "\n",
      "----------\n",
      "\n",
      "Examples:\n",
      "\n",
      "Question: Which player played for both the Fort Wayne Mad Ants and the Indiana Pacers?\n",
      "Question Type: intersection.\n",
      "Question 1: Which player played for the Fort Wayne Mad Ants?\n",
      "Question 2: Which player played for the Indiana Pacers?\n",
      "\n",
      "Question: Who are the cast members of film that  had Stephen Sommers as screenwriter?\n",
      "Question Type: composition.\n",
      "Question 1: What films had Stephen Sommers as screenwriter?\n",
      "Question 2: Who are the cast members of [ANS1]?\n",
      "\n",
      "Question: Who played for the Stirling Albion F.C.?\n",
      "Question Type: simple.\n",
      "Question 1: Who played for the Stirling Albion F.C.?\n",
      "Question 2: None\n",
      "\n",
      "Question: Who is a Royal Military College alumni and arrived to the rank lieutenant general?\n",
      "Question Type: intersection.\n",
      "Question 1: Who is a Royal Military College alumni?\n",
      "Question 2: Who arrived to the rank lieutenant general?\n",
      "\n",
      "Question: Which infrastructure is a part of Muni Metro and What entities were operated by San Francisco Municipal Railway?\n",
      "Question Type: intersection.\n",
      "Question 1: Which infrastructure is a part of Muni Metro?\n",
      "Question 2: What entities were operated by San Francisco Municipal Railway?\n",
      "\n",
      "Question: What are the locations of buildings that were designed by John S. Van Bergen?\n",
      "Question Type: composition.\n",
      "Question 1: What buildings were designed by John S. Van Bergen?\n",
      "Question 2: What is the location of [ANS1]?\n",
      "\n",
      "Question: Which film has Saritha as a member of its cast?\n",
      "Question Type: simple.\n",
      "Question 1: Which film has Saritha as a member of its cast?\n",
      "Question 2: None\n",
      "\n",
      "Question: Edward Montagne directed a work released in what year?\n",
      "Question Type: composition.\n",
      "Question 1: Edward Montagne directed what works?\n",
      "Question 2: What year was [ANS1] released?\n",
      "\n",
      "Question: Which software, art, etc. has Sean Maguire as performer?\n",
      "Question Type: simple.\n",
      "Question 1: Which software, art, etc. has Sean Maguire as performer?\n",
      "Question 2: None\n",
      "\n",
      "Question: Who played for the Hartford Whalers and played for the Columbus Blue Jackets?\n",
      "Question Type: intersection.\n",
      "Question 1: Who played for the Hartford Whalers?\n",
      "Question 2: Who played for the Columbus Blue Jackets?\n",
      "\n",
      "Question: Who are the cast members of software, art, etc. that  were directed by Chakri Toleti?\n",
      "Question Type: composition.\n",
      "Question 1: What software, art, etc. was were directed by Chakri Toleti?\n",
      "Question 2: Who are the cast members of [ANS1]?\n",
      "\n",
      "\n"
     ]
    }
   ],
   "source": [
    "print(curr_best_prompt)"
   ]
  },
  {
   "cell_type": "code",
   "execution_count": null,
   "id": "17e1511c",
   "metadata": {},
   "outputs": [],
   "source": []
  },
  {
   "cell_type": "code",
   "execution_count": null,
   "id": "98b79669",
   "metadata": {},
   "outputs": [],
   "source": [
    "mu.decomp_prompt_base(path_args)"
   ]
  },
  {
   "cell_type": "code",
   "execution_count": null,
   "id": "58902214",
   "metadata": {},
   "outputs": [],
   "source": []
  }
 ],
 "metadata": {
  "kernelspec": {
   "display_name": "Python 3 (ipykernel)",
   "language": "python",
   "name": "python3"
  },
  "language_info": {
   "codemirror_mode": {
    "name": "ipython",
    "version": 3
   },
   "file_extension": ".py",
   "mimetype": "text/x-python",
   "name": "python",
   "nbconvert_exporter": "python",
   "pygments_lexer": "ipython3",
   "version": "3.9.0"
  }
 },
 "nbformat": 4,
 "nbformat_minor": 5
}
