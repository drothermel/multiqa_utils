{
 "cells": [
  {
   "cell_type": "code",
   "execution_count": 1,
   "id": "9040378d",
   "metadata": {},
   "outputs": [],
   "source": [
    "import wikipedia\n",
    "import os\n",
    "import json\n",
    "import tqdm\n",
    "\n",
    "import multiqa_utils.general_utils as gu\n",
    "import multiqa_utils.qampari_utils as qu\n",
    "import multiqa_utils.retrieval_utils as ru\n",
    "import multiqa_utils.wikipedia_utils as wu\n",
    "\n",
    "%load_ext autoreload\n",
    "%autoreload 2"
   ]
  },
  {
   "cell_type": "code",
   "execution_count": 2,
   "id": "86dfa2a0",
   "metadata": {},
   "outputs": [],
   "source": [
    "## Lets do it!"
   ]
  },
  {
   "cell_type": "code",
   "execution_count": 3,
   "id": "2ee3864a",
   "metadata": {},
   "outputs": [],
   "source": [
    "tagme_wiki_dir = \"/scratch/ddr8143/wikipedia/tagme_dumps_qampari_wikipedia/\""
   ]
  },
  {
   "cell_type": "code",
   "execution_count": 4,
   "id": "2df4fbf8",
   "metadata": {},
   "outputs": [],
   "source": [
    "postp_tagme_wiki_dir = f\"{tagme_wiki_dir}postprocessed/\""
   ]
  },
  {
   "cell_type": "code",
   "execution_count": 5,
   "id": "b1e7e125",
   "metadata": {},
   "outputs": [],
   "source": [
    "all_titles_path = f\"{postp_tagme_wiki_dir}wikiversion_title_set.json\""
   ]
  },
  {
   "cell_type": "raw",
   "id": "e86c7c87",
   "metadata": {},
   "source": [
    "if not os.path.exists(all_titles_path):\n",
    "    all_titles = wu.wikipedia_title_set(tagme_wiki_dir, verbose=True)\n",
    "    json.dump(list(all_titles), open(all_titles_path, 'w+'))\n",
    "    print(\">> Dumped unique list of all wikiversion titles to:\", all_titles_path)\n",
    "else:\n",
    "    print(\">> Index already exists:\", all_titles_path)\n",
    "all_titles = json.load(open('/scratch/ddr8143/wikipedia/tagme_dumps_qampari_wikipedia/postprocessed/wikiversion_title_set.json'))"
   ]
  },
  {
   "cell_type": "raw",
   "id": "01c7cd9c",
   "metadata": {},
   "source": [
    "# Succesfully ran\n",
    "all_paths = wu.wikipedia_title_to_links_tagmes_strs(\n",
    "    input_wikipath=tagme_wiki_dir,\n",
    "    output_dir=postp_tagme_wiki_dir,\n",
    "    output_name=\"title2linktagmestrs\",\n",
    "    verbose=True,\n",
    "    force=False,\n",
    "    #start=\"AG\",\n",
    ")"
   ]
  },
  {
   "cell_type": "code",
   "execution_count": 6,
   "id": "b0513411",
   "metadata": {},
   "outputs": [],
   "source": [
    "gpt_ans_raw_path = \"/scratch/ddr8143/multiqa/qampari_data/qmp_simple_gpt3_answers.json\"\n",
    "gpt_ans_path = \"/scratch/ddr8143/multiqa/qampari_data/qmp_simple_gpt3_answers_structured.json\""
   ]
  },
  {
   "cell_type": "raw",
   "id": "54ced411",
   "metadata": {},
   "source": [
    "ru.convert_gpt_raw_to_structured(gpt_ans_raw_path, gpt_ans_path, force=False)\n",
    "gpt_ans = json.load(open(gpt_ans_path))"
   ]
  },
  {
   "cell_type": "code",
   "execution_count": null,
   "id": "4ee0ffb4",
   "metadata": {},
   "outputs": [],
   "source": []
  },
  {
   "cell_type": "raw",
   "id": "cc318e92",
   "metadata": {},
   "source": [
    "# Succesfully ran\n",
    "aggregate_strs_to_add_to_cache(\n",
    "    #gpt_ans_path=None,\n",
    "    #elq_ans_path=None,\n",
    "    #processed_wikitags_path_regexp=None,\n",
    "    #output_path=None,\n",
    "    use_tqdm=True,\n",
    ")\n",
    ">> After Adding ELQ: 1224\n",
    ">> After Adding GPT3: 4336\n",
    ">> After Adding Wikipedia Tags and Links: 9072313\n",
    ">> Dumped to: /scratch/ddr8143/wikipedia/tagme_dumps_qampari_wikipedia/postprocessed/strs_to_add_to_cache_v0.json"
   ]
  },
  {
   "cell_type": "code",
   "execution_count": 7,
   "id": "8a693eeb",
   "metadata": {},
   "outputs": [],
   "source": [
    "curr_cache = json.load(open('/scratch/ddr8143/wikipedia/tagme_dumps_qampari_wikipedia/postprocessed/str2wikipage_cache.json'))"
   ]
  },
  {
   "cell_type": "code",
   "execution_count": 8,
   "id": "e9c83450",
   "metadata": {},
   "outputs": [
    {
     "name": "stdout",
     "output_type": "stream",
     "text": [
      ">> Load existing string list: /scratch/ddr8143/wikipedia/tagme_dumps_qampari_wikipedia/postprocessed/strs_to_add_to_cache_v0.json\n",
      ">> Initial string list length: 3988891\n",
      ">> Removing strings already in cache\n",
      ">> New string list length: 3988715\n",
      ">> Writing file\n",
      ">> Dumped to: /scratch/ddr8143/wikipedia/tagme_dumps_qampari_wikipedia/postprocessed/strs_to_add_to_cache_v0.json\n"
     ]
    }
   ],
   "source": [
    "ru.aggregate_strs_to_add_to_cache(\n",
    "    gpt_ans_path=None,\n",
    "    elq_ans_path=None,\n",
    "    processed_wikitags_path_regexp=None,\n",
    "    #output_path=None,\n",
    "    use_tqdm=True,\n",
    "    curr_cache=curr_cache,\n",
    ")"
   ]
  },
  {
   "cell_type": "code",
   "execution_count": 9,
   "id": "e26ab195",
   "metadata": {},
   "outputs": [],
   "source": [
    "strs_to_add = json.load(open(\"/scratch/ddr8143/wikipedia/tagme_dumps_qampari_wikipedia/postprocessed/strs_to_add_to_cache_v0.json\"))"
   ]
  },
  {
   "cell_type": "code",
   "execution_count": null,
   "id": "a0478866",
   "metadata": {},
   "outputs": [
    {
     "name": "stdout",
     "output_type": "stream",
     "text": [
      ">> Loading the cache\n",
      ">> Initial cache size: 6308282\n",
      ">> Adding new strings to cache: 3988715\n"
     ]
    },
    {
     "name": "stderr",
     "output_type": "stream",
     "text": [
      "  0%|                                                                                                                                                                                                 | 25/3988715 [00:13<579:55:25,  1.91it/s]/ext3/miniconda3/envs/multiqa/lib/python3.9/site-packages/wikipedia/wikipedia.py:389: GuessedAtParserWarning: No parser was explicitly specified, so I'm using the best available HTML parser for this system (\"lxml\"). This usually isn't a problem, but if you run this code on another system, or in a different virtual environment, it may use a different parser and behave differently.\n",
      "\n",
      "The code that caused this warning is on line 389 of the file /ext3/miniconda3/envs/multiqa/lib/python3.9/site-packages/wikipedia/wikipedia.py. To get rid of this warning, pass the additional argument 'features=\"lxml\"' to the BeautifulSoup constructor.\n",
      "\n",
      "  lis = BeautifulSoup(html).find_all('li')\n",
      "  0%|                                                                                                                                                                                               | 1349/3988715 [12:52<615:04:20,  1.80it/s]"
     ]
    }
   ],
   "source": [
    "wu.build_str2wikipage_cache(\n",
    "    strs_to_add=strs_to_add,\n",
    "    force=False,\n",
    "    use_tqdm=True,\n",
    "    write_every=10000,\n",
    "    #disambig_cache_path=default,\n",
    "    #cache_path=default,\n",
    "    #wikiversion_title_set_path=default,\n",
    ")"
   ]
  },
  {
   "cell_type": "code",
   "execution_count": null,
   "id": "2767658c",
   "metadata": {},
   "outputs": [],
   "source": []
  },
  {
   "cell_type": "code",
   "execution_count": null,
   "id": "44da8ea1",
   "metadata": {},
   "outputs": [],
   "source": []
  },
  {
   "cell_type": "code",
   "execution_count": null,
   "id": "fae608b0",
   "metadata": {},
   "outputs": [],
   "source": []
  },
  {
   "cell_type": "code",
   "execution_count": null,
   "id": "683f11be",
   "metadata": {},
   "outputs": [],
   "source": []
  },
  {
   "cell_type": "code",
   "execution_count": null,
   "id": "3caba064",
   "metadata": {},
   "outputs": [],
   "source": []
  },
  {
   "cell_type": "code",
   "execution_count": null,
   "id": "594f04fb",
   "metadata": {},
   "outputs": [],
   "source": []
  },
  {
   "cell_type": "code",
   "execution_count": null,
   "id": "da8d9cc2",
   "metadata": {},
   "outputs": [],
   "source": []
  }
 ],
 "metadata": {
  "kernelspec": {
   "display_name": "Python 3 (ipykernel)",
   "language": "python",
   "name": "python3"
  },
  "language_info": {
   "codemirror_mode": {
    "name": "ipython",
    "version": 3
   },
   "file_extension": ".py",
   "mimetype": "text/x-python",
   "name": "python",
   "nbconvert_exporter": "python",
   "pygments_lexer": "ipython3",
   "version": "3.9.0"
  }
 },
 "nbformat": 4,
 "nbformat_minor": 5
}
