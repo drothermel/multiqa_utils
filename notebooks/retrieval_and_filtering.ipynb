{
 "cells": [
  {
   "cell_type": "code",
   "execution_count": 1,
   "id": "5ef15a59",
   "metadata": {},
   "outputs": [],
   "source": [
    "import jsonlines\n",
    "import json\n",
    "import numpy as np\n",
    "import random\n",
    "from collections import defaultdict\n",
    "import wikipedia\n",
    "\n",
    "import multiqa_utils.qampari_utils as qu\n",
    "import multiqa_utils.retrieval_utils as ru\n",
    "\n",
    "%load_ext autoreload\n",
    "%autoreload 2"
   ]
  },
  {
   "cell_type": "code",
   "execution_count": 2,
   "id": "66a906b5",
   "metadata": {},
   "outputs": [],
   "source": [
    "## Lets do it!"
   ]
  },
  {
   "cell_type": "code",
   "execution_count": null,
   "id": "205795aa",
   "metadata": {},
   "outputs": [],
   "source": []
  }
 ],
 "metadata": {
  "kernelspec": {
   "display_name": "Python 3 (ipykernel)",
   "language": "python",
   "name": "python3"
  },
  "language_info": {
   "codemirror_mode": {
    "name": "ipython",
    "version": 3
   },
   "file_extension": ".py",
   "mimetype": "text/x-python",
   "name": "python",
   "nbconvert_exporter": "python",
   "pygments_lexer": "ipython3",
   "version": "3.9.0"
  }
 },
 "nbformat": 4,
 "nbformat_minor": 5
}
