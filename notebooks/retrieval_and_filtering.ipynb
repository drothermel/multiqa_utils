{
 "cells": [
  {
   "cell_type": "code",
   "execution_count": 35,
   "id": "f3cc1c24",
   "metadata": {},
   "outputs": [
    {
     "name": "stdout",
     "output_type": "stream",
     "text": [
      "The autoreload extension is already loaded. To reload it, use:\n",
      "  %reload_ext autoreload\n"
     ]
    }
   ],
   "source": [
    "import wikipedia\n",
    "import os\n",
    "import json\n",
    "import tqdm\n",
    "import argparse\n",
    "\n",
    "import multiqa_utils.general_utils as gu\n",
    "import multiqa_utils.qampari_utils as qu\n",
    "import multiqa_utils.retrieval_utils as ru\n",
    "import multiqa_utils.wikipedia_utils as wu\n",
    "import multiqa_utils.distributed_utils as du\n",
    "\n",
    "%load_ext autoreload\n",
    "%autoreload 2"
   ]
  },
  {
   "cell_type": "code",
   "execution_count": null,
   "id": "b2532ffa",
   "metadata": {},
   "outputs": [],
   "source": []
  },
  {
   "cell_type": "markdown",
   "id": "7503810c",
   "metadata": {},
   "source": [
    "## First, build the ent_string to wikipage_title cache"
   ]
  },
  {
   "cell_type": "code",
   "execution_count": 68,
   "id": "73516e96",
   "metadata": {},
   "outputs": [],
   "source": [
    "path_args = gu.current_default_path_args()"
   ]
  },
  {
   "cell_type": "code",
   "execution_count": 43,
   "id": "6176b672",
   "metadata": {},
   "outputs": [
    {
     "name": "stdout",
     "output_type": "stream",
     "text": [
      ">> Index already exists: /scratch/ddr8143/wikipedia/tagme_dumps_qampari_wikipedia/postprocessed/gt_title_set.json\n"
     ]
    }
   ],
   "source": [
    "all_titles = wu.build_gt_wikititle_set(path_args, force=False)"
   ]
  },
  {
   "cell_type": "code",
   "execution_count": 44,
   "id": "cb0b5358",
   "metadata": {},
   "outputs": [
    {
     "name": "stdout",
     "output_type": "stream",
     "text": [
      ">> Loading the cache\n",
      ">> Initial cache size: 6325468\n"
     ]
    }
   ],
   "source": [
    "curr_cache = wu.get_initial_str2wikipage_cache(all_titles, path_args, force=False)"
   ]
  },
  {
   "cell_type": "code",
   "execution_count": 45,
   "id": "68b73a19",
   "metadata": {},
   "outputs": [
    {
     "name": "stdout",
     "output_type": "stream",
     "text": [
      ">> Load existing string list: /scratch/ddr8143/wikipedia/tagme_dumps_qampari_wikipedia/postprocessed/strs_to_add_to_cache_v0.json\n",
      ">> Initial string list length: 3971529\n",
      ">> Removing strings already in cache\n",
      ">> New string list length: 3971529\n",
      ">> Writing file\n",
      ">> Dumped to: /scratch/ddr8143/wikipedia/tagme_dumps_qampari_wikipedia/postprocessed/strs_to_add_to_cache_v0.json\n"
     ]
    }
   ],
   "source": [
    "# Without any flags set true (add_elq, add_gpt, add_wikitags) this just\n",
    "#   goes through the current list and removes strings already in cache.\n",
    "ru.aggregate_strs_to_add_to_cache(\n",
    "    path_args,\n",
    "    use_tqdm=True,\n",
    "    curr_cache=curr_cache,\n",
    ")"
   ]
  },
  {
   "cell_type": "code",
   "execution_count": 46,
   "id": "194cdeb3",
   "metadata": {},
   "outputs": [],
   "source": [
    "strs_to_add = json.load(open(path_args.strs_for_cache_path))"
   ]
  },
  {
   "cell_type": "code",
   "execution_count": 50,
   "id": "bcbb0097",
   "metadata": {},
   "outputs": [
    {
     "name": "stdout",
     "output_type": "stream",
     "text": [
      ">> This job gets from 0 to 100 of full list length 3971529 bc its job 0 of 40000\n",
      ">> Index already exists: /scratch/ddr8143/wikipedia/tagme_dumps_qampari_wikipedia/postprocessed/gt_title_set.json\n",
      ">> Loading the cache\n",
      ">> Initial cache size: 6325468\n",
      ">> Adding new strings to cache: 100\n"
     ]
    },
    {
     "name": "stderr",
     "output_type": "stream",
     "text": [
      "100%|████████████████████████████████████████████████████████████████████████████████████████████████████████████████████████████████████████████████████████████████████████████████████████████████████████| 100/100 [00:13<00:00,  7.47it/s]\n"
     ]
    },
    {
     "name": "stdout",
     "output_type": "stream",
     "text": [
      ">> Final cache size: 6325557\n",
      ">> Dumped: /scratch/ddr8143/wikipedia/tagme_dumps_qampari_wikipedia/postprocessed/str2wikipage_cache.json__job0\n",
      ">> Dumped: /scratch/ddr8143/wikipedia/tagme_dumps_qampari_wikipedia/postprocessed/str2wikipage_disambig_cache.json__job0\n"
     ]
    }
   ],
   "source": [
    "du.distributed_build_str2wikipage_cache(\n",
    "    path_args,\n",
    "    job_id=0,\n",
    "    total_num_jobs=40000,\n",
    "    all_strs_to_add=strs_to_add,\n",
    "    use_tqdm=True,    \n",
    ")"
   ]
  },
  {
   "cell_type": "code",
   "execution_count": 65,
   "id": "7eed8203",
   "metadata": {},
   "outputs": [
    {
     "name": "stdout",
     "output_type": "stream",
     "text": [
      ">> Only one file, skipping aggregation\n"
     ]
    }
   ],
   "source": [
    "du.aggregate_checkpoint_dicts(path_args.cache_path, remove_processed=False)"
   ]
  },
  {
   "cell_type": "code",
   "execution_count": 66,
   "id": "17e16c34",
   "metadata": {},
   "outputs": [
    {
     "name": "stdout",
     "output_type": "stream",
     "text": [
      ">> Only one file, skipping aggregation\n"
     ]
    }
   ],
   "source": [
    "du.aggregate_checkpoint_dicts(path_args.disambig_cache_path, remove_processed=False)"
   ]
  },
  {
   "cell_type": "code",
   "execution_count": null,
   "id": "50a6deab",
   "metadata": {},
   "outputs": [],
   "source": []
  },
  {
   "cell_type": "markdown",
   "id": "44eeb3af",
   "metadata": {},
   "source": [
    "## Previously Ran\n",
    "But haven't retested after the refactor."
   ]
  },
  {
   "cell_type": "raw",
   "id": "598257aa",
   "metadata": {},
   "source": [
    "# Postprocess all of the wikipedia raw tag dumps\n",
    "all_paths = wu.wikipedia_title_to_links_tagmes_strs(\n",
    "    path_args,\n",
    "    output_name='title2linktagmestrs',\n",
    "    verbose=True,\n",
    "    force=False,\n",
    ")"
   ]
  },
  {
   "cell_type": "raw",
   "id": "89f6d085",
   "metadata": {},
   "source": [
    "# Postprocess the gpt answers\n",
    "ru.convert_gpt_raw_to_structured(\n",
    "    path_args.gpt_ans_raw_path,\n",
    "    path_args.gpt_ans_path,\n",
    "    force=False,\n",
    ")\n",
    "gpt_ans = json.load(open(gpt_ans_path))"
   ]
  },
  {
   "cell_type": "raw",
   "id": "6304d576",
   "metadata": {},
   "source": [
    "# Add all the different ent_strings to the list for\n",
    "#   updating the cache.\n",
    "aggregate_strs_to_add_to_cache(\n",
    "    path_args,\n",
    "    add_elq=True,\n",
    "    add_gpt=True,\n",
    "    add_wikitags=True,\n",
    "    use_tqdm=True,\n",
    "    curr_cache=curr_cache,\n",
    ")\n",
    ">> After Adding ELQ: 1224\n",
    ">> After Adding GPT3: 4336\n",
    ">> After Adding Wikipedia Tags and Links: 9072313\n",
    ">> Dumped to: /scratch/ddr8143/wikipedia/tagme_dumps_qampari_wikipedia/postprocessed/strs_to_add_to_cache_v0.json"
   ]
  },
  {
   "cell_type": "code",
   "execution_count": null,
   "id": "cdf64da2",
   "metadata": {},
   "outputs": [],
   "source": []
  }
 ],
 "metadata": {
  "kernelspec": {
   "display_name": "Python 3 (ipykernel)",
   "language": "python",
   "name": "python3"
  },
  "language_info": {
   "codemirror_mode": {
    "name": "ipython",
    "version": 3
   },
   "file_extension": ".py",
   "mimetype": "text/x-python",
   "name": "python",
   "nbconvert_exporter": "python",
   "pygments_lexer": "ipython3",
   "version": "3.9.0"
  }
 },
 "nbformat": 4,
 "nbformat_minor": 5
}
