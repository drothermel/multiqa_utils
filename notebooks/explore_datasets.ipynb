{
 "cells": [
  {
   "cell_type": "markdown",
   "id": "597e95a5",
   "metadata": {},
   "source": [
    "## Load Checkpoint"
   ]
  },
  {
   "cell_type": "code",
   "execution_count": 3,
   "id": "3a7b2fb1",
   "metadata": {},
   "outputs": [],
   "source": [
    "import transformers\n",
    "import torch\n",
    "import sh"
   ]
  },
  {
   "cell_type": "code",
   "execution_count": 4,
   "id": "81dc55c3",
   "metadata": {},
   "outputs": [
    {
     "data": {
      "text/plain": [
       "/scratch/ddr8143/repos/DPR/downloads/checkpoint/retriever/single/nq/bert-base-encoder.cp"
      ]
     },
     "execution_count": 4,
     "metadata": {},
     "output_type": "execute_result"
    }
   ],
   "source": [
    "sh.ls(\"/scratch/ddr8143/repos/DPR/downloads/checkpoint/retriever/single/nq/bert-base-encoder.cp\")"
   ]
  },
  {
   "cell_type": "code",
   "execution_count": 6,
   "id": "9cce7b2c",
   "metadata": {},
   "outputs": [],
   "source": [
    "the_model = torch.load(\"/scratch/ddr8143/repos/DPR/downloads/checkpoint/retriever/single/nq/bert-base-encoder.cp\", map_location=torch.device('cpu'))"
   ]
  },
  {
   "cell_type": "code",
   "execution_count": 7,
   "id": "517e7ce6",
   "metadata": {},
   "outputs": [
    {
     "data": {
      "text/plain": [
       "odict_keys(['model_dict', 'optimizer_dict', 'scheduler_dict', 'offset', 'epoch', 'encoder_params'])"
      ]
     },
     "execution_count": 7,
     "metadata": {},
     "output_type": "execute_result"
    }
   ],
   "source": [
    "the_model.keys()"
   ]
  },
  {
   "cell_type": "code",
   "execution_count": 13,
   "id": "c2917185",
   "metadata": {},
   "outputs": [],
   "source": [
    "model_dict = the_model[\"model_dict\"]"
   ]
  },
  {
   "cell_type": "code",
   "execution_count": 14,
   "id": "aa06c6a1",
   "metadata": {},
   "outputs": [],
   "source": [
    "top_levels = set([k.split(\".\")[0] for k in model_dict.keys()])"
   ]
  },
  {
   "cell_type": "code",
   "execution_count": 15,
   "id": "e21b9225",
   "metadata": {},
   "outputs": [
    {
     "data": {
      "text/plain": [
       "{'ctx_model', 'question_model'}"
      ]
     },
     "execution_count": 15,
     "metadata": {},
     "output_type": "execute_result"
    }
   ],
   "source": [
    "top_levels"
   ]
  },
  {
   "cell_type": "code",
   "execution_count": 21,
   "id": "80cb2f8c",
   "metadata": {},
   "outputs": [],
   "source": [
    "q_model_ks = [k for k in model_dict.keys() if 'question_model' in k and 'embeddings' in k]\n",
    "c_model_ks = [k for k in model_dict.keys() if 'ctx_model' in k and 'embeddings' in k]"
   ]
  },
  {
   "cell_type": "code",
   "execution_count": 22,
   "id": "4dce5e50",
   "metadata": {},
   "outputs": [
    {
     "data": {
      "text/plain": [
       "['question_model.embeddings.word_embeddings.weight',\n",
       " 'question_model.embeddings.position_embeddings.weight',\n",
       " 'question_model.embeddings.token_type_embeddings.weight',\n",
       " 'question_model.embeddings.LayerNorm.weight',\n",
       " 'question_model.embeddings.LayerNorm.bias']"
      ]
     },
     "execution_count": 22,
     "metadata": {},
     "output_type": "execute_result"
    }
   ],
   "source": [
    "q_model_ks"
   ]
  },
  {
   "cell_type": "code",
   "execution_count": 23,
   "id": "af402298",
   "metadata": {},
   "outputs": [
    {
     "data": {
      "text/plain": [
       "['ctx_model.embeddings.word_embeddings.weight',\n",
       " 'ctx_model.embeddings.position_embeddings.weight',\n",
       " 'ctx_model.embeddings.token_type_embeddings.weight',\n",
       " 'ctx_model.embeddings.LayerNorm.weight',\n",
       " 'ctx_model.embeddings.LayerNorm.bias']"
      ]
     },
     "execution_count": 23,
     "metadata": {},
     "output_type": "execute_result"
    }
   ],
   "source": [
    "c_model_ks"
   ]
  },
  {
   "cell_type": "code",
   "execution_count": null,
   "id": "a5cb7cb1",
   "metadata": {},
   "outputs": [],
   "source": [
    "cfg = BertConfig.from_pretrained(cfg_name if cfg_name else \"bert-base-uncased\")"
   ]
  },
  {
   "cell_type": "code",
   "execution_count": 24,
   "id": "903dcea1",
   "metadata": {},
   "outputs": [],
   "source": [
    "from transformers import BertModel, BertConfig"
   ]
  },
  {
   "cell_type": "code",
   "execution_count": 27,
   "id": "5cf3ded1",
   "metadata": {},
   "outputs": [
    {
     "name": "stderr",
     "output_type": "stream",
     "text": [
      "Some weights of the model checkpoint at bert-base-uncased were not used when initializing BertModel: ['cls.predictions.transform.LayerNorm.weight', 'cls.predictions.decoder.weight', 'cls.predictions.bias', 'cls.predictions.transform.dense.weight', 'cls.predictions.transform.LayerNorm.bias', 'cls.predictions.transform.dense.bias', 'cls.seq_relationship.weight', 'cls.seq_relationship.bias']\n",
      "- This IS expected if you are initializing BertModel from the checkpoint of a model trained on another task or with another architecture (e.g. initializing a BertForSequenceClassification model from a BertForPreTraining model).\n",
      "- This IS NOT expected if you are initializing BertModel from the checkpoint of a model that you expect to be exactly identical (initializing a BertForSequenceClassification model from a BertForSequenceClassification model).\n"
     ]
    }
   ],
   "source": [
    "cfg = BertConfig.from_pretrained(\"bert-base-uncased\")\n",
    "model = BertModel.from_pretrained(\"bert-base-uncased\")"
   ]
  },
  {
   "cell_type": "code",
   "execution_count": 31,
   "id": "ba44eb25",
   "metadata": {},
   "outputs": [],
   "source": [
    "hf_bert = model.state_dict()"
   ]
  },
  {
   "cell_type": "code",
   "execution_count": 32,
   "id": "6ed74210",
   "metadata": {},
   "outputs": [
    {
     "data": {
      "text/plain": [
       "['embeddings.position_ids',\n",
       " 'embeddings.word_embeddings.weight',\n",
       " 'embeddings.position_embeddings.weight',\n",
       " 'embeddings.token_type_embeddings.weight',\n",
       " 'embeddings.LayerNorm.weight',\n",
       " 'embeddings.LayerNorm.bias']"
      ]
     },
     "execution_count": 32,
     "metadata": {},
     "output_type": "execute_result"
    }
   ],
   "source": [
    "model_embed_ks = [k for k in hf_bert.keys() if \"embeddings\" in k]\n",
    "model_embed_ks"
   ]
  },
  {
   "cell_type": "markdown",
   "id": "95ae1378",
   "metadata": {},
   "source": [
    "## Test using BM25 search"
   ]
  },
  {
   "cell_type": "code",
   "execution_count": 11,
   "id": "b4c85bcd",
   "metadata": {},
   "outputs": [],
   "source": [
    "from pyserini.search.lucene import LuceneSearcher\n",
    "from pyserini.index.lucene import IndexReader"
   ]
  },
  {
   "cell_type": "code",
   "execution_count": 12,
   "id": "ee9411f7",
   "metadata": {},
   "outputs": [],
   "source": [
    "#LuceneSearcher.list_prebuilt_indexes()"
   ]
  },
  {
   "cell_type": "code",
   "execution_count": 13,
   "id": "bdc48682",
   "metadata": {},
   "outputs": [
    {
     "name": "stdout",
     "output_type": "stream",
     "text": [
      "Attempting to initialize pre-built index wikipedia-dpr.\n",
      "/home/ddr8143/.cache/pyserini/indexes/index-wikipedia-dpr-20210120-d1b9e6.c28f3a56b2dfcef25bf3bf755c264d04 already exists, skipping download.\n",
      "Initializing wikipedia-dpr...\n"
     ]
    }
   ],
   "source": [
    "searcher = LuceneSearcher.from_prebuilt_index('wikipedia-dpr')"
   ]
  },
  {
   "cell_type": "code",
   "execution_count": 4,
   "id": "7c030f40",
   "metadata": {},
   "outputs": [],
   "source": [
    "hits = searcher.search('hubble space telescope')"
   ]
  },
  {
   "cell_type": "code",
   "execution_count": 5,
   "id": "4e9dd177",
   "metadata": {},
   "outputs": [
    {
     "name": "stdout",
     "output_type": "stream",
     "text": [
      " 1 500264          17.42493, {  \"id\" : \"500264\",  \"contents\" : \"\\\"Hubble Space Telescope\\\"\\nHubble Space Telescope The Hubble S\n",
      " 2 500350          17.02356, {  \"id\" : \"500350\",  \"contents\" : \"\\\"Hubble Space Telescope\\\"\\nThese are often European in origin,\n",
      " 3 500368          16.58024, {  \"id\" : \"500368\",  \"contents\" : \"\\\"Hubble Space Telescope\\\"\\nvery narrow field—Lucky Cam, for ex\n",
      " 4 500266          16.45677, {  \"id\" : \"500266\",  \"contents\" : \"\\\"Hubble Space Telescope\\\"\\ndata, while the Goddard Space Fligh\n",
      " 5 500367          16.37399, {  \"id\" : \"500367\",  \"contents\" : \"\\\"Hubble Space Telescope\\\"\\nthe visible, ultraviolet, and infra\n",
      " 6 500265          16.27738, {  \"id\" : \"500265\",  \"contents\" : \"\\\"Hubble Space Telescope\\\"\\nultraviolet, visible, and near infr\n",
      " 7 500362          16.26323, {  \"id\" : \"500362\",  \"contents\" : \"\\\"Hubble Space Telescope\\\"\\n(SCRS). , the Trump Administration \n",
      " 8 14244283        16.20809, {  \"id\" : \"14244283\",  \"contents\" : \"\\\"Hubble (film)\\\"\\nHubble (film) Hubble (also known as Hubble\n",
      " 9 500363          16.19711, {  \"id\" : \"500363\",  \"contents\" : \"\\\"Hubble Space Telescope\\\"\\nobjects generally older and farther\n",
      "10 2986290         16.19711, {  \"id\" : \"2986290\",  \"contents\" : \"\\\"John M. Grunsfeld\\\"\\ncommunicating space science topics to t\n"
     ]
    }
   ],
   "source": [
    "for i in range(0, 10):\n",
    "    doc = searcher.doc(hits[i].docid)\n",
    "    docstr = doc.raw()[:100].replace(\"\\n\", \"\")\n",
    "    print(f'{i+1:2} {hits[i].docid:15} {hits[i].score:.5f}, {docstr}')"
   ]
  },
  {
   "cell_type": "code",
   "execution_count": 6,
   "id": "92fe150e",
   "metadata": {},
   "outputs": [
    {
     "name": "stdout",
     "output_type": "stream",
     "text": [
      "{\n",
      "  \"id\" : \"500264\",\n",
      "  \"contents\" : \"\\\"Hubble Space Telescope\\\"\\nHubble Space Telescope The Hubble Space Telescope (HST) is a space telescope that was launched into low Earth orbit in 1990 and remains in operation. Although not the first space telescope, Hubble is one of the largest and most versatile and is well known as both a vital research tool and a public relations boon for astronomy. The HST is named after the astronomer Edwin Hubble and is one of NASA's Great Observatories, along with the Compton Gamma Ray Observatory, the Chandra X-ray Observatory and the Spitzer Space Telescope. With a mirror, Hubble's four main instruments observe in the near\"\n",
      "}\n"
     ]
    }
   ],
   "source": [
    "print(hits[0].raw)"
   ]
  },
  {
   "cell_type": "code",
   "execution_count": 7,
   "id": "dac17aa8",
   "metadata": {},
   "outputs": [],
   "source": [
    "# python -m pyserini.search.lucene \\\n",
    "#   --index wikipedia-dpr \\\n",
    "#   --topics dpr-nq-test \\\n",
    "#   --output runs/run.dpr.nq-test.bm25.trec"
   ]
  },
  {
   "cell_type": "markdown",
   "id": "de69be61",
   "metadata": {},
   "source": [
    "## Then load NQ and AmbigQA and get queries"
   ]
  },
  {
   "cell_type": "code",
   "execution_count": 2,
   "id": "bb42e598",
   "metadata": {},
   "outputs": [],
   "source": [
    "import sh\n",
    "import json"
   ]
  },
  {
   "cell_type": "code",
   "execution_count": 3,
   "id": "cd8dc6c1",
   "metadata": {},
   "outputs": [],
   "source": [
    "base_path = \"/scratch/ddr8143/repos/DPR/downloads/data\"\n",
    "ambigqa_path = f\"{base_path}/ambigqa\"\n",
    "ambigqa_light_path = f\"{base_path}/ambigqa_light\"\n",
    "nq_path = f\"{base_path}/retriever\"\n",
    "qp_path = f\"{base_path}/qampari\""
   ]
  },
  {
   "cell_type": "code",
   "execution_count": 3,
   "id": "58ae81a5",
   "metadata": {},
   "outputs": [
    {
     "data": {
      "text/plain": [
       "dev.json  train.json"
      ]
     },
     "execution_count": 3,
     "metadata": {},
     "output_type": "execute_result"
    }
   ],
   "source": [
    "sh.ls(ambigqa_light_path)"
   ]
  },
  {
   "cell_type": "code",
   "execution_count": 4,
   "id": "52c541a3",
   "metadata": {},
   "outputs": [],
   "source": [
    "nq_data = json.load(open(f\"{nq_path}/nq-dev.json\"))"
   ]
  },
  {
   "cell_type": "code",
   "execution_count": 6,
   "id": "f333003d",
   "metadata": {},
   "outputs": [
    {
     "name": "stdout",
     "output_type": "stream",
     "text": [
      "NQ Keys: dict_keys(['dataset', 'question', 'answers', 'positive_ctxs', 'negative_ctxs', 'hard_negative_ctxs'])\n",
      "\n",
      "question:  who sings does he love me with reba\n",
      "answers:  ['Linda Davis']\n",
      "{'title': \"Why Don't You Love Me (Beyoncé song)\", 'text': 'song. According to the lyrics of \"Why Don\\'t You Love Me\", Knowles impersonates a woman who questions her love interest about the reason for which he does not value her fabulousness, convincing him she\\'s the best thing for him as she sings: \"Why don\\'t you love me... when I make me so damn easy to love?... I got beauty... I got class... I got style and I got ass...\". The singer further tells her love interest that the decision not to choose her is \"entirely foolish\". Originally released as a pre-order bonus track on the deluxe edition of \"I Am...', 'score': 14.678405, 'title_score': 0, 'passage_id': '14525568'}\n"
     ]
    }
   ],
   "source": [
    "print(\"NQ Keys:\", nq_data[0].keys())\n",
    "print()\n",
    "for k in [\"question\", \"answers\"]:\n",
    "    print(k + \": \", nq_data[0][k])\n",
    "print(nq_data[0][\"hard_negative_ctxs\"][0])"
   ]
  },
  {
   "cell_type": "code",
   "execution_count": 14,
   "id": "d670618c",
   "metadata": {},
   "outputs": [
    {
     "data": {
      "text/plain": [
       "[{'title': 'Great Lakes',\n",
       "  'text': 'Great Lakes The Great Lakes (), also called the Laurentian Great Lakes and the Great Lakes of North America, are a series of interconnected freshwater lakes located primarily in the upper mid-east region of North America, on the Canada–United States border, which connect to the Atlantic Ocean through the Saint Lawrence River. They consist of Lakes Superior, Michigan, Huron, Erie, and Ontario, although hydrologically, there are four lakes, Superior, Erie, Ontario, and Michigan-Huron. The lakes are interconnected by the Great Lakes Waterway. The Great Lakes are the largest group of freshwater lakes on Earth by total area, and second largest',\n",
       "  'score': 1000,\n",
       "  'title_score': 1,\n",
       "  'passage_id': '151960'},\n",
       " {'title': 'Great Lakes',\n",
       "  'text': 'Great Lakes The Great Lakes (), also called the Laurentian Great Lakes and the Great Lakes of North America, are a series of interconnected freshwater lakes located primarily in the upper mid-east region of North America, on the Canada–United States border, which connect to the Atlantic Ocean through the Saint Lawrence River. They consist of Lakes Superior, Michigan, Huron, Erie, and Ontario, although hydrologically, there are four lakes, Superior, Erie, Ontario, and Michigan-Huron. The lakes are interconnected by the Great Lakes Waterway. The Great Lakes are the largest group of freshwater lakes on Earth by total area, and second largest',\n",
       "  'score': 11.393292,\n",
       "  'title_score': 0,\n",
       "  'passage_id': '151960'},\n",
       " {'title': 'Great Lakes',\n",
       "  'text': 'its impact on the environment. On December 18, 2006, the Coast Guard announced its decision to withdraw the entire proposal. Officials said they would look into alternative ammunition, modifying the proposed zones and have more public dialogue before proposing a new plan. Dynamically updated data Great Lakes The Great Lakes (), also called the Laurentian Great Lakes and the Great Lakes of North America, are a series of interconnected freshwater lakes located primarily in the upper mid-east region of North America, on the Canada–United States border, which connect to the Atlantic Ocean through the Saint Lawrence River. They consist of',\n",
       "  'score': 10.97442,\n",
       "  'title_score': 0,\n",
       "  'passage_id': '152029'},\n",
       " {'title': 'Great Lakes',\n",
       "  'text': 'form a single, naturally interconnected body of fresh water, within the Great Lakes Basin. They form a chain connecting the east-central interior of North America to the Atlantic Ocean. From the interior to the outlet at the Saint Lawrence River, water flows from Superior to Huron and Michigan, southward to Erie, and finally northward to Lake Ontario. The lakes drain a large watershed via many rivers, and are studded with approximately 35,000 islands. There are also several thousand smaller lakes, often called \"inland lakes,\" within the basin. The surface area of the five primary lakes combined is roughly equal to',\n",
       "  'score': 10.432816,\n",
       "  'title_score': 0,\n",
       "  'passage_id': '151963'},\n",
       " {'title': 'Lake Ontario',\n",
       "  'text': \"the Niagara River from Lake Erie. The last in the Great Lakes chain, Lake Ontario serves as the outlet to the Atlantic Ocean via the Saint Lawrence River. It is the only Great Lake not to border the state of Michigan. Lake Ontario is the easternmost of the Great Lakes and the smallest in surface area (7,340 sq mi, 18,960 km), although it exceeds Lake Erie in volume (393 cu mi, 1,639 km). It is the 14th largest lake in the world. When its islands are included, the lake's shoreline is long. As the last lake in the Great Lakes'\",\n",
       "  'score': 10.284986,\n",
       "  'title_score': 0,\n",
       "  'passage_id': '239917'},\n",
       " {'title': 'New York (state)',\n",
       "  'text': 'that includes within its borders parts of the Great Lakes and the Atlantic Ocean. The Hudson River begins near Lake Tear of the Clouds and flows south through the eastern part of the state, without draining Lakes George or Champlain. Lake George empties at its north end into Lake Champlain, whose northern end extends into Canada, where it drains into the Richelieu River and then ultimately the Saint Lawrence River. The western section of the state is drained by the Allegheny River and rivers of the Susquehanna and Delaware River systems. Niagara Falls is shared between New York and Ontario',\n",
       "  'score': 10.10671,\n",
       "  'title_score': 0,\n",
       "  'passage_id': '9238055'}]"
      ]
     },
     "execution_count": 14,
     "metadata": {},
     "output_type": "execute_result"
    }
   ],
   "source": [
    "nq_data[1][\"positive_ctxs\"]"
   ]
  },
  {
   "cell_type": "code",
   "execution_count": null,
   "id": "12e733df",
   "metadata": {},
   "outputs": [],
   "source": []
  },
  {
   "cell_type": "code",
   "execution_count": 11,
   "id": "bf19f42f",
   "metadata": {},
   "outputs": [],
   "source": [
    "abl_data = json.load(open(f\"{ambigqa_light_path}/dev.json\"))"
   ]
  },
  {
   "cell_type": "code",
   "execution_count": 12,
   "id": "b3167851",
   "metadata": {},
   "outputs": [
    {
     "name": "stdout",
     "output_type": "stream",
     "text": [
      "ABL Keys: dict_keys(['annotations', 'id', 'question'])\n"
     ]
    }
   ],
   "source": [
    "print(\"ABL Keys:\", abl_data[0].keys())"
   ]
  },
  {
   "cell_type": "code",
   "execution_count": 13,
   "id": "c86e3b1b",
   "metadata": {},
   "outputs": [
    {
     "name": "stdout",
     "output_type": "stream",
     "text": [
      "============================= Example 0 ==================================\n",
      "{\n",
      "    \"annotations\": [\n",
      "        {\n",
      "            \"type\": \"singleAnswer\",\n",
      "            \"answer\": [\n",
      "                \"Tony Goldwyn\",\n",
      "                \"Goldwyn\"\n",
      "            ]\n",
      "        }\n",
      "    ],\n",
      "    \"id\": \"-807825952267713091\",\n",
      "    \"question\": \"Who plays the doctor in dexter season 1?\"\n",
      "}\n",
      "\n",
      "============================= Example 1 ==================================\n",
      "{\n",
      "    \"annotations\": [\n",
      "        {\n",
      "            \"type\": \"singleAnswer\",\n",
      "            \"answer\": [\n",
      "                \"usually continues uninterrupted until death\"\n",
      "            ]\n",
      "        },\n",
      "        {\n",
      "            \"type\": \"singleAnswer\",\n",
      "            \"answer\": [\n",
      "                \"constant\",\n",
      "                \"usually continues uninterrupted until death\"\n",
      "            ]\n",
      "        }\n",
      "    ],\n",
      "    \"id\": \"8266116451988110240\",\n",
      "    \"question\": \"How often does spermatogeneis\\u2014the production of sperm\\u2014occur?\"\n",
      "}\n",
      "\n",
      "============================= Example 2 ==================================\n",
      "{\n",
      "    \"annotations\": [\n",
      "        {\n",
      "            \"type\": \"singleAnswer\",\n",
      "            \"answer\": [\n",
      "                \"1950\"\n",
      "            ]\n",
      "        },\n",
      "        {\n",
      "            \"type\": \"singleAnswer\",\n",
      "            \"answer\": [\n",
      "                \"1950\"\n",
      "            ]\n",
      "        }\n",
      "    ],\n",
      "    \"id\": \"7336174019902289593\",\n",
      "    \"question\": \"When was the first remote control tv invented?\"\n",
      "}\n",
      "\n",
      "============================= Example 3 ==================================\n",
      "{\n",
      "    \"annotations\": [\n",
      "        {\n",
      "            \"type\": \"singleAnswer\",\n",
      "            \"answer\": [\n",
      "                \"mediocrity of the Cardinals,a then-21-year-old stadium,game attendance to dwindle\"\n",
      "            ]\n",
      "        },\n",
      "        {\n",
      "            \"type\": \"multipleQAs\",\n",
      "            \"qaPairs\": [\n",
      "                {\n",
      "                    \"question\": \"What ability caused the st louis cardinals move to arizona?\",\n",
      "                    \"answer\": [\n",
      "                        \"overall mediocrity of the Cardinals\"\n",
      "                    ]\n",
      "                },\n",
      "                {\n",
      "                    \"question\": \"What physical issue caused the st louis cardinals move to arizona?\",\n",
      "                    \"answer\": [\n",
      "                        \"old stadium\"\n",
      "                    ]\n",
      "                },\n",
      "                {\n",
      "                    \"question\": \"What fan issue caused the st louis cardinals move to arizona?\",\n",
      "                    \"answer\": [\n",
      "                        \"game attendance to dwindle\"\n",
      "                    ]\n",
      "                }\n",
      "            ]\n",
      "        }\n",
      "    ],\n",
      "    \"id\": \"8630912480840635425\",\n",
      "    \"question\": \"Why did the st louis cardinals move to arizona?\"\n",
      "}\n",
      "\n",
      "============================= Example 4 ==================================\n",
      "{\n",
      "    \"annotations\": [\n",
      "        {\n",
      "            \"type\": \"singleAnswer\",\n",
      "            \"answer\": [\n",
      "                \"10\"\n",
      "            ]\n",
      "        },\n",
      "        {\n",
      "            \"type\": \"singleAnswer\",\n",
      "            \"answer\": [\n",
      "                \"10\"\n",
      "            ]\n",
      "        }\n",
      "    ],\n",
      "    \"id\": \"9187719029377880470\",\n",
      "    \"question\": \"How many episodes are in season 2 of chesapeake shores?\"\n",
      "}\n",
      "\n",
      "============================= Example 5 ==================================\n",
      "{\n",
      "    \"annotations\": [\n",
      "        {\n",
      "            \"type\": \"singleAnswer\",\n",
      "            \"answer\": [\n",
      "                \"1919\"\n",
      "            ]\n",
      "        },\n",
      "        {\n",
      "            \"type\": \"singleAnswer\",\n",
      "            \"answer\": [\n",
      "                \"October of that year\",\n",
      "                \"October 1919\"\n",
      "            ]\n",
      "        }\n",
      "    ],\n",
      "    \"id\": \"-6975273415196871312\",\n",
      "    \"question\": \"When was the first airline meal served during a flight?\"\n",
      "}\n",
      "\n",
      "============================= Example 6 ==================================\n",
      "{\n",
      "    \"annotations\": [\n",
      "        {\n",
      "            \"type\": \"multipleQAs\",\n",
      "            \"qaPairs\": [\n",
      "                {\n",
      "                    \"question\": \"Who is the 4th chairman of african union commission?\",\n",
      "                    \"answer\": [\n",
      "                        \"Moussa Faki\",\n",
      "                        \"Moussa Faki Mahamat\"\n",
      "                    ]\n",
      "                },\n",
      "                {\n",
      "                    \"question\": \"Who is the 3rd chairman of african union commission?\",\n",
      "                    \"answer\": [\n",
      "                        \"Nkosazana Clarice Dlamini-Zuma\",\n",
      "                        \"Nkosazana Dlamini-Zuma\"\n",
      "                    ]\n",
      "                },\n",
      "                {\n",
      "                    \"question\": \"Who is the 2nd chairman of african union commission?\",\n",
      "                    \"answer\": [\n",
      "                        \"Jean Ping\"\n",
      "                    ]\n",
      "                }\n",
      "            ]\n",
      "        },\n",
      "        {\n",
      "            \"type\": \"multipleQAs\",\n",
      "            \"qaPairs\": [\n",
      "                {\n",
      "                    \"question\": \"Who became the chairman of african union commission in 2017?\",\n",
      "                    \"answer\": [\n",
      "                        \"Moussa Faki\",\n",
      "                        \"Moussa Faki Mahamat\"\n",
      "                    ]\n",
      "                },\n",
      "                {\n",
      "                    \"question\": \"Who became the chairman of african union commission in 2012?\",\n",
      "                    \"answer\": [\n",
      "                        \"Nkosazana Clarice Dlamini-Zuma\",\n",
      "                        \"Nkosazana Dlamini-Zuma\",\n",
      "                        \"NDZ\"\n",
      "                    ]\n",
      "                },\n",
      "                {\n",
      "                    \"question\": \"Who became the chairman of african union commission in 2008?\",\n",
      "                    \"answer\": [\n",
      "                        \"Jean Ping\"\n",
      "                    ]\n",
      "                }\n",
      "            ]\n",
      "        }\n",
      "    ],\n",
      "    \"id\": \"5780388869788119926\",\n",
      "    \"question\": \"Who is the current chairman of african union commission?\"\n",
      "}\n",
      "\n",
      "============================= Example 7 ==================================\n",
      "{\n",
      "    \"annotations\": [\n",
      "        {\n",
      "            \"type\": \"multipleQAs\",\n",
      "            \"qaPairs\": [\n",
      "                {\n",
      "                    \"question\": \"Who won the Final HoH in the American reality show Big Brother 20?\",\n",
      "                    \"answer\": [\n",
      "                        \"Kaycee Clark\"\n",
      "                    ]\n",
      "                },\n",
      "                {\n",
      "                    \"question\": \"Who won the final vote in the British reality show Celebrity Big Brother 20?\",\n",
      "                    \"answer\": [\n",
      "                        \"Sarah Harding\"\n",
      "                    ]\n",
      "                }\n",
      "            ]\n",
      "        }\n",
      "    ],\n",
      "    \"id\": \"-962065981949449467\",\n",
      "    \"question\": \"Who won the final hoh big brother 20?\"\n",
      "}\n",
      "\n",
      "============================= Example 8 ==================================\n",
      "{\n",
      "    \"annotations\": [\n",
      "        {\n",
      "            \"type\": \"singleAnswer\",\n",
      "            \"answer\": [\n",
      "                \"Theresa May\"\n",
      "            ]\n",
      "        },\n",
      "        {\n",
      "            \"type\": \"singleAnswer\",\n",
      "            \"answer\": [\n",
      "                \"Theresa Mary May\",\n",
      "                \"Theresa May\"\n",
      "            ]\n",
      "        }\n",
      "    ],\n",
      "    \"id\": \"7047651726317069852\",\n",
      "    \"question\": \"Who is the prime minister of england 2018?\"\n",
      "}\n",
      "\n",
      "============================= Example 9 ==================================\n",
      "{\n",
      "    \"annotations\": [\n",
      "        {\n",
      "            \"type\": \"multipleQAs\",\n",
      "            \"qaPairs\": [\n",
      "                {\n",
      "                    \"question\": \"How long do contestants get to answer a typical question on jeopardy?\",\n",
      "                    \"answer\": [\n",
      "                        \"five seconds\"\n",
      "                    ]\n",
      "                },\n",
      "                {\n",
      "                    \"question\": \"How long do contestants get to answer a final jeopardy question on jeopardy?\",\n",
      "                    \"answer\": [\n",
      "                        \"30 seconds\"\n",
      "                    ]\n",
      "                },\n",
      "                {\n",
      "                    \"question\": \"How long do contestants get to answer on jeopardy's online test?\",\n",
      "                    \"answer\": [\n",
      "                        \"15 seconds\"\n",
      "                    ]\n",
      "                }\n",
      "            ]\n",
      "        },\n",
      "        {\n",
      "            \"type\": \"multipleQAs\",\n",
      "            \"qaPairs\": [\n",
      "                {\n",
      "                    \"question\": \"How long do contestants have to answer during the first two rounds of Jeopardy!?\",\n",
      "                    \"answer\": [\n",
      "                        \"5 seconds\"\n",
      "                    ]\n",
      "                },\n",
      "                {\n",
      "                    \"question\": \"How long do contestants have to answer during the last round of Jeopardy!?\",\n",
      "                    \"answer\": [\n",
      "                        \"30 seconds\"\n",
      "                    ]\n",
      "                }\n",
      "            ]\n",
      "        }\n",
      "    ],\n",
      "    \"id\": \"-6301642079833452476\",\n",
      "    \"question\": \"How long do contestants get to answer on jeopardy?\"\n",
      "}\n",
      "\n"
     ]
    }
   ],
   "source": [
    "for i in range(10):\n",
    "    print(f\"============================= Example {i} ==================================\")\n",
    "    print(json.dumps(abl_data[i], indent=4))\n",
    "    print()"
   ]
  },
  {
   "cell_type": "code",
   "execution_count": 10,
   "id": "b27e5ad5",
   "metadata": {},
   "outputs": [
    {
     "ename": "NameError",
     "evalue": "name 'abl_data' is not defined",
     "output_type": "error",
     "traceback": [
      "\u001b[0;31m---------------------------------------------------------------------------\u001b[0m",
      "\u001b[0;31mNameError\u001b[0m                                 Traceback (most recent call last)",
      "Cell \u001b[0;32mIn [10], line 1\u001b[0m\n\u001b[0;32m----> 1\u001b[0m \u001b[43mabl_data\u001b[49m[\u001b[38;5;241m0\u001b[39m]\n",
      "\u001b[0;31mNameError\u001b[0m: name 'abl_data' is not defined"
     ]
    }
   ],
   "source": [
    "abl_data[0]"
   ]
  },
  {
   "cell_type": "code",
   "execution_count": 8,
   "id": "b4f47152",
   "metadata": {},
   "outputs": [],
   "source": [
    "ab_data = json.load(open(f\"{ambigqa_path}/dev.json\"))"
   ]
  },
  {
   "cell_type": "code",
   "execution_count": 9,
   "id": "2b6c17a4",
   "metadata": {},
   "outputs": [
    {
     "data": {
      "text/plain": [
       "{'viewed_doc_titles': ['Dexter (season 1)'],\n",
       " 'used_queries': [{'query': 'Who plays the doctor in dexter season 1?',\n",
       "   'results': [{'title': 'Dexter (season 1)',\n",
       "     'snippet': 'The first <b>season</b> of <b>Dexter</b> is an adaptation of Jeff Lindsay&#39;s first novel in a series \\nof the same ... and left taunting clues, leading <b>Dexter</b> to believe that the Killer is \\n<b>playing</b> a game with him. ... An unexplained suicide of a wealthy and powerful \\nwoman leads <b>Dexter</b> to suspect that her psychologist, <b>Dr</b>. Emmett Meridian, may&nbsp;...'},\n",
       "    {'title': 'Christian Camargo',\n",
       "     'snippet': 'Christian Camargo (né Minnick; born July 7, 1971) is an American <b>actor</b>, \\nproducer, writer, and director. He is perhaps best known for his roles as Brian \\nMoser in the Showtime drama <b>Dexter</b>, Michael Corrigan in the Netflix ... He guest \\nstarred as Wade Crocker on the third <b>season</b> of Syfy&#39;s Haven. Camargo portrayed \\nthe title&nbsp;...'},\n",
       "    {'title': 'Peter Facinelli',\n",
       "     'snippet': 'Peter Facinelli (born November 26, 1973) is an American <b>actor</b> and producer. He \\nstarred as Donovan &quot;Van&quot; Ray on the Fox series Fastlane from 2002 to 2003. He \\n<b>played Dr</b>. Carlisle Cullen in the film adaptations of the Twilight novel series, and \\nis also known for his role as Mike <b>Dexter</b> in the 1998 film Can&#39;t Hardly Wait. ... He \\n<b>played Dr</b>. Fitch Cooper for seven <b>seasons</b> on the Showtime dark comedy&nbsp;...'},\n",
       "    {'title': 'Love American Style (Dexter)',\n",
       "     'snippet': '<b>Dexter</b> (<b>season 1</b>) &middot; List of <b>Dexter</b> episodes. &quot;Love American Style&quot; is the fifth \\nepisode of the first season of the American television drama ... Devon Graye as \\nTeenage Dexter Morgan &middot; Ashley Rose Orr as Mindy; June Angela as Doctor; \\nJosh&nbsp;...'},\n",
       "    {'title': 'Dexter (TV series)',\n",
       "     'snippet': '<b>Dexter</b> is an American television crime drama mystery series that aired on \\nShowtime from ... The show&#39;s first <b>season</b> was derived from the novel Darkly \\nDreaming <b>Dexter</b> ... However, it was not us who sent you the text, but <b>one of</b> your \\nfriends. ... Besides Michael C. Hall <b>playing</b> the title character, the show&#39;s \\nsupporting cast&nbsp;...'},\n",
       "    {'title': 'Dexter Morgan',\n",
       "     'snippet': 'In <b>season</b> four, before killing a police officer who has murdered her own husband \\nand daughter, <b>Dexter</b> is overwhelmed with the realization that he does not want&nbsp;...'},\n",
       "    {'title': 'List of Dexter characters',\n",
       "     'snippet': 'This is a list of characters from the Showtime TV series <b>Dexter</b> and the Jeff \\nLindsay novels, ... 3.1 Minor characters in <b>season 1</b>; 3.2 Minor characters in \\nseason 2; 3.3 Minor ... Quinn thanks <b>Dexter</b>, <b>who plays</b> dumb and just says &quot;For \\nwhat? ... Saxon and <b>Dr</b>. Vogel reunite, but Vogel eventually decides to let <b>Dexter</b> \\nkill him after&nbsp;...'},\n",
       "    {'title': 'David Walton (actor)',\n",
       "     'snippet': 'David B. Walton (born October 27, 1978) is an American <b>actor</b>. He is known for \\nhis role in the ... He <b>played Dr</b>. Rick in the comedy film Fired Up! (2009). ... to \\nJohn Hunter Walton Jr. and his wife, Carolyn K. Walton, he is <b>one of</b> seven \\nsiblings. ... and afterwards attended <b>Dexter</b> School in Brookline, Massachusetts, \\nand the St.'},\n",
       "    {'title': 'Born Free (Dexter)',\n",
       "     'snippet': '<b>Dexter</b> (<b>season 1</b>) &middot; List of <b>Dexter</b> episodes. &quot;Born Free&quot; is the twelfth episode of \\nseason one and first-season finale of the American ... In the novel, <b>Dexter</b> and his \\nbrother are nearly identical, whereas the actors <b>playing</b> the two characters are&nbsp;...'},\n",
       "    {'title': 'Dexter (season 8)',\n",
       "     'snippet': 'The eighth and final <b>season</b> of <b>Dexter</b> premiered on June 30, 2013. The <b>season</b> \\nfollows <b>Dexter</b> Morgan, who is forced to deal with his past when he comes&nbsp;...'}]}],\n",
       " 'annotations': [{'type': 'singleAnswer',\n",
       "   'answer': ['Tony Goldwyn', 'Goldwyn']}],\n",
       " 'nq_answer': ['Tony Goldwyn'],\n",
       " 'id': '-807825952267713091',\n",
       " 'nq_doc_title': 'Dexter (season 1)',\n",
       " 'question': 'Who plays the doctor in dexter season 1?'}"
      ]
     },
     "execution_count": 9,
     "metadata": {},
     "output_type": "execute_result"
    }
   ],
   "source": [
    "ab_data[0]"
   ]
  },
  {
   "cell_type": "code",
   "execution_count": 44,
   "id": "5706c512",
   "metadata": {},
   "outputs": [
    {
     "name": "stdout",
     "output_type": "stream",
     "text": [
      "AB Keys: dict_keys(['viewed_doc_titles', 'used_queries', 'annotations', 'nq_answer', 'id', 'nq_doc_title', 'question'])\n",
      "\n",
      "0\n",
      "     q:   Who plays the doctor in dexter season 1?\n",
      "         SA| t: singleAnswer a: ['Tony Goldwyn', 'Goldwyn']\n",
      "     nqa: ['Tony Goldwyn']\n",
      "1\n",
      "     q:   How often does spermatogeneis—the production of sperm—occur?\n",
      "         SA| t: singleAnswer a: ['usually continues uninterrupted until death']\n",
      "         SA| t: singleAnswer a: ['constant', 'usually continues uninterrupted until death']\n",
      "     nqa: ['74 days']\n",
      "2\n",
      "     q:   When was the first remote control tv invented?\n",
      "         SA| t: singleAnswer a: ['1950']\n",
      "         SA| t: singleAnswer a: ['1950']\n",
      "     nqa: ['1950']\n",
      "3\n",
      "     q:   Why did the st louis cardinals move to arizona?\n",
      "         SA| t: singleAnswer a: ['mediocrity of the Cardinals,a then-21-year-old stadium,game attendance to dwindle']\n",
      "         MA| t: [['overall mediocrity of the Cardinals'], ['old stadium'], ['game attendance to dwindle']]\n",
      "     nqa: ['1988']\n",
      "4\n",
      "     q:   How many episodes are in season 2 of chesapeake shores?\n",
      "         SA| t: singleAnswer a: ['10']\n",
      "         SA| t: singleAnswer a: ['10']\n",
      "     nqa: ['10']\n",
      "5\n",
      "     q:   When was the first airline meal served during a flight?\n",
      "         SA| t: singleAnswer a: ['1919']\n",
      "         SA| t: singleAnswer a: ['October of that year', 'October 1919']\n",
      "     nqa: ['1919']\n",
      "6\n",
      "     q:   Who is the current chairman of african union commission?\n",
      "         MA| t: [['Moussa Faki', 'Moussa Faki Mahamat'], ['Nkosazana Clarice Dlamini-Zuma', 'Nkosazana Dlamini-Zuma'], ['Jean Ping']]\n",
      "         MA| t: [['Moussa Faki', 'Moussa Faki Mahamat'], ['Nkosazana Clarice Dlamini-Zuma', 'Nkosazana Dlamini-Zuma', 'NDZ'], ['Jean Ping']]\n",
      "     nqa: ['Moussa Faki']\n",
      "7\n",
      "     q:   Who won the final hoh big brother 20?\n",
      "         MA| t: [['Kaycee Clark'], ['Sarah Harding']]\n",
      "     nqa: ['Kaycee']\n",
      "8\n",
      "     q:   Who is the prime minister of england 2018?\n",
      "         SA| t: singleAnswer a: ['Theresa May']\n",
      "         SA| t: singleAnswer a: ['Theresa Mary May', 'Theresa May']\n",
      "     nqa: ['Theresa May']\n",
      "9\n",
      "     q:   How long do contestants get to answer on jeopardy?\n",
      "         MA| t: [['five seconds'], ['30 seconds'], ['15 seconds']]\n",
      "         MA| t: [['5 seconds'], ['30 seconds']]\n",
      "     nqa: ['five seconds']\n"
     ]
    }
   ],
   "source": [
    "print(\"AB Keys:\", ab_data[0].keys())\n",
    "print()\n",
    "#for k in [\"question\", \"nq_answers\"]:\n",
    "for i in range(10):\n",
    "    print(i)\n",
    "    print(\"     q:  \", ab_data[i][\"question\"])\n",
    "    for a in ab_data[i][\"annotations\"]:\n",
    "        if \"answer\" in a:\n",
    "            print(\"         SA| t:\", a[\"type\"], \"a:\", a[\"answer\"])\n",
    "        else:\n",
    "            print(\"         MA| t:\", [dd[\"answer\"] for dd in a[\"qaPairs\"]])\n",
    "    \n",
    "    #print(\"     at: \", ab_data[i][\"annotations\"][0][\"type\"])\n",
    "    print(\"     nqa:\", ab_data[i][\"nq_answer\"])\n",
    "    #print(\"     ann:\", ab_data[i][\"annotations\"])\n",
    "#for k in ab_data[0].keys():\n",
    "#    print(k + \": \", ab_data[0][k])\n",
    "#print(ab_data[0][\"hard_negative_ctxs\"][0])"
   ]
  },
  {
   "cell_type": "code",
   "execution_count": null,
   "id": "4fec6a05",
   "metadata": {},
   "outputs": [],
   "source": []
  },
  {
   "cell_type": "code",
   "execution_count": null,
   "id": "f6881e5e",
   "metadata": {},
   "outputs": [],
   "source": []
  },
  {
   "cell_type": "markdown",
   "id": "ad247c22",
   "metadata": {},
   "source": [
    "# And QAMPARI"
   ]
  },
  {
   "cell_type": "code",
   "execution_count": 4,
   "id": "4a26a38d",
   "metadata": {},
   "outputs": [
    {
     "data": {
      "text/plain": [
       "dev_data.jsonl\ttest_data.jsonl  train_data.jsonl"
      ]
     },
     "execution_count": 4,
     "metadata": {},
     "output_type": "execute_result"
    }
   ],
   "source": [
    "sh.ls(qp_path)"
   ]
  },
  {
   "cell_type": "code",
   "execution_count": 5,
   "id": "ed5880d4",
   "metadata": {},
   "outputs": [],
   "source": [
    "qp_data = []\n",
    "for l in open(f\"{qp_path}/train_data.jsonl\").readlines():\n",
    "    qp_data.append(json.loads(l))"
   ]
  },
  {
   "cell_type": "code",
   "execution_count": 6,
   "id": "1fe62385",
   "metadata": {},
   "outputs": [
    {
     "data": {
      "text/plain": [
       "{'entities': [{'entity_url': 'https://en.wikipedia.org/wiki/Chezhiyan',\n",
       "   'entity_text': 'Chezhiyan',\n",
       "   'aliases': ['Chezhiyan']}],\n",
       " 'question_text': 'Which movie, clip, TV show etc. had Chezhiyan as director of photography?',\n",
       " 'answer_list': [{'answer_text': 'To Let',\n",
       "   'aid': '0__wikidata_simple__train__0',\n",
       "   'aliases': ['To Let'],\n",
       "   'answer_url': 'https://en.wikipedia.org/wiki/To_Let_(film)',\n",
       "   'proof': [{'proof_text': 'To let is a 2017 indian tamil-language drama film written, directed and filmed by chezhiyan.',\n",
       "     'found_in_url': 'https://en.wikipedia.org/wiki/To_Let_(film)',\n",
       "     'pid': '0__wikidata_simple__train__0__0'}]},\n",
       "  {'answer_text': 'Kalloori',\n",
       "   'aid': '0__wikidata_simple__train__1',\n",
       "   'aliases': ['Kalloori'],\n",
       "   'answer_url': 'https://en.wikipedia.org/wiki/Kalloori',\n",
       "   'proof': [{'proof_text': 'Chezhiyan is an indian filmmaker and director of photography who works primarily in the tamil film industry. He received critical acclaim for his work in \"kalloori\" (2007), \"paradesi\" (2013) and \"to let\" (2017).',\n",
       "     'found_in_url': 'https://en.wikipedia.org/wiki/Chezhiyan',\n",
       "     'pid': '0__wikidata_simple__train__1__0'}]},\n",
       "  {'answer_text': 'Thenmerku Paruvakaatru',\n",
       "   'aid': '0__wikidata_simple__train__2',\n",
       "   'aliases': ['Thenmerku Paruvakaatru'],\n",
       "   'answer_url': 'https://en.wikipedia.org/wiki/Thenmerku_Paruvakaatru',\n",
       "   'proof': [{'proof_text': 'It stars saranya ponvannan in her 100th film, along with vijay sethupathi and vasundhra chiyertra. The music was composed by n. R. Raghunanthan with cinematography by chezhiyan and editing by mu.',\n",
       "     'found_in_url': 'https://en.wikipedia.org/wiki/Thenmerku_Paruvakaatru',\n",
       "     'pid': '0__wikidata_simple__train__2__0'}]},\n",
       "  {'answer_text': 'A Little Dream',\n",
       "   'aid': '0__wikidata_simple__train__3',\n",
       "   'aliases': ['A Little Dream', 'Little Dream'],\n",
       "   'answer_url': 'https://en.wikipedia.org/wiki/A_Little_Dream',\n",
       "   'proof': [{'proof_text': 'Chezhiyan received the katha award for his short story \"harmoniam\" in 2004. He has also authored a series of books on cinema titled \"ulaga cinema\" (world cinema) in tamil, and the series was published by the tamil weekly \"ananda vikatan\" between 2005 and 2007. The recognition got him a fellowship from the department of culture for two years, to explore the theme of imagery in short stories. He has worked as a cinematographer in many documentaries, including \"a little dream\" (2008), a biographical docu-fiction about the former india president a. P. J. Abdul kalam, and a documentary about the tamil writer jayakanthan.',\n",
       "     'found_in_url': 'https://en.wikipedia.org/wiki/Chezhiyan',\n",
       "     'pid': '0__wikidata_simple__train__3__0'}]},\n",
       "  {'answer_text': 'Paradesi',\n",
       "   'aid': '0__wikidata_simple__train__4',\n",
       "   'aliases': ['Paradesi'],\n",
       "   'answer_url': 'https://en.wikipedia.org/wiki/Paradesi_(2013_film)',\n",
       "   'proof': [{'proof_text': 'Chezhiyan is an indian filmmaker and director of photography who works primarily in the tamil film industry. He received critical acclaim for his work in \"kalloori\" (2007), \"paradesi\" (2013) and \"to let\" (2017).',\n",
       "     'found_in_url': 'https://en.wikipedia.org/wiki/Chezhiyan',\n",
       "     'pid': '0__wikidata_simple__train__4__0'}]},\n",
       "  {'answer_text': 'Sawaari',\n",
       "   'aid': '0__wikidata_simple__train__5',\n",
       "   'aliases': ['Sawaari'],\n",
       "   'proof': [{'proof_text': 'The film marked the debut of director guhan senniappan, who had finished as a runner up in the reality show naalaya iyakkunar\\'s third edition. Vishal chandrasekhar was signed on to compose the film\\'s music, while chezhiyan and kishore worked on the cinematography and editing for the project, with \"sawaari\", become kishore\\'s final project to release after his death in 2015. Guhan described the film as a \"psycho thriller\" featuring a predominantly new cast of benito franklin, karthik yogi and mathivanan rajendran.',\n",
       "     'found_in_url': 'https://en.wikipedia.org/wiki/Sawaari',\n",
       "     'pid': '0__wikidata_simple__train__5__0'}]}],\n",
       " 'qid': '0__wikidata_simple__train'}"
      ]
     },
     "execution_count": 6,
     "metadata": {},
     "output_type": "execute_result"
    }
   ],
   "source": [
    "qp_data[0]"
   ]
  },
  {
   "cell_type": "code",
   "execution_count": 40,
   "id": "2abfd8dd",
   "metadata": {},
   "outputs": [
    {
     "data": {
      "text/plain": [
       "' is a japanese manga series written by buronson and illustrated by ryoichi ikegami, published shogakukan\\'s \"big comic superior\" from 1996 to 1998.\\nplot.\\nmayo is a professional assassin who is hired by the \"organization\" to kill the mother of a young prostitute, shion.'"
      ]
     },
     "execution_count": 40,
     "metadata": {},
     "output_type": "execute_result"
    }
   ],
   "source": [
    "p1 = qp_data[0][\"answer_list\"][-1][\"proof\"][0][\"proof_text\"]\n",
    "p1"
   ]
  },
  {
   "cell_type": "code",
   "execution_count": 41,
   "id": "0143b751",
   "metadata": {},
   "outputs": [],
   "source": [
    "hits = searcher.search(p1, 100)"
   ]
  },
  {
   "cell_type": "code",
   "execution_count": 43,
   "id": "6a8bec29",
   "metadata": {},
   "outputs": [
    {
     "data": {
      "text/plain": [
       "'{\\n  \"id\" : \"6946343\",\\n  \"contents\" : \"Buronson\\\\nare \\\\\"\\\\\"Phantom Burai\\\\\"\\\\\", with art by Kaoru Shintani. Buronson , real name , also known as , is a Japanese manga writer, most known for creating \\\\\"\\\\\"Fist of the North Star\\\\\"\\\\\". In 2002, he shared the Shogakukan Manga Award for general manga for \\\\\"\\\\\"Heat\\\\\"\\\\\" with Ryoichi Ikegami. Buronson was born on June 16, 1947 in Saku, Nagano. He graduated from the Japan Air Self-Defense Forces Training School in 1967 and served as an Air Force radar mechanic. In 1969 he was discharged from the Japan Maritime Self-Defense Force and was soon hired by Hiroshi Motomiya as a manga assistant. He\"\\n}'"
      ]
     },
     "execution_count": 43,
     "metadata": {},
     "output_type": "execute_result"
    }
   ],
   "source": [
    "hits[0].raw"
   ]
  },
  {
   "cell_type": "code",
   "execution_count": 42,
   "id": "b614af73",
   "metadata": {},
   "outputs": [
    {
     "name": "stdout",
     "output_type": "stream",
     "text": [
      " 1 6946343         39.76038, {  \"id\" : \"6946343\",  \"contents\" : \"Buronson\\nare \\\"\\\"Phantom Burai\\\"\\\", with art by Kaoru Shintan\n",
      " 2 6946341         39.65023, {  \"id\" : \"6946341\",  \"contents\" : \"Buronson\\nBuronson , real name , also known as , is a Japanese\n",
      " 3 12548776        35.82513, {  \"id\" : \"12548776\",  \"contents\" : \"\\\"Lord (manga)\\\"\\nLord (manga) Chō-Sangokushi -LORD (超三国志-覇, \n",
      " 4 12548777        35.35414, {  \"id\" : \"12548777\",  \"contents\" : \"\\\"Lord (manga)\\\"\\nthe Romance of the Three Kingdoms. A 3 volu\n",
      " 5 4197649         32.12986, {  \"id\" : \"4197649\",  \"contents\" : \"\\\"Mai, the Psychic Girl\\\"\\nMai, the Psychic Girl Mai, the Psyc\n",
      " 6 14580850        31.18036, {  \"id\" : \"14580850\",  \"contents\" : \"\\\"Rainbow: Nisha Rokubō no Shichinin\\\"\\nsimulcast distributi\n",
      " 7 6946342         30.62995, {  \"id\" : \"6946342\",  \"contents\" : \"Buronson\\nthe script of \\\"\\\"\\\"\\\" in 1972, drawn by Goro Sakai.\n",
      " 8 14580847        30.36670, {  \"id\" : \"14580847\",  \"contents\" : \"\\\"Rainbow: Nisha Rokubō no Shichinin\\\"\\nRainbow: Nisha Rokub\n",
      " 9 6175014         29.51784, {  \"id\" : \"6175014\",  \"contents\" : \"Azumi\\nAzumi \\\"\\\"Azumi\\\"\\\" was originally published by Shogaku\n",
      "10 5602911         29.15393, {  \"id\" : \"5602911\",  \"contents\" : \"\\\"Spider-Man: The Manga\\\"\\nSpider-Man: The Manga Spider-Man: T\n",
      "11 12618258        28.77073, {  \"id\" : \"12618258\",  \"contents\" : \"\\\"Tsurupika Hagemaru\\\"\\nTsurupika Hagemaru , or simply Hagema\n",
      "12 12618261        28.61916, {  \"id\" : \"12618261\",  \"contents\" : \"\\\"Tsurupika Hagemaru\\\"\\nTonarida and Busu-chan with the words\n",
      "13 9783801         28.08711, {  \"id\" : \"9783801\",  \"contents\" : \"\\\"Alternative versions of Spider-Man\\\"\\nlife he left behind, e\n",
      "14 5602914         27.91868, {  \"id\" : \"5602914\",  \"contents\" : \"\\\"Spider-Man: The Manga\\\"\\nissue, #31, began the translation o\n",
      "15 16298579        27.41158, {  \"id\" : \"16298579\",  \"contents\" : \"\\\"Shut Hell\\\"\\nthem, giving her a chance to kill him. Shut He\n",
      "16 10282671        27.39050, {  \"id\" : \"10282671\",  \"contents\" : \"\\\"Shion no Ō\\\"\\nShion no Ō , subtitled \\\"\\\"The Flowers of Ha\n",
      "17 2281657         27.06785, {  \"id\" : \"2281657\",  \"contents\" : \"\\\"Fushigi Yûgi\\\"\\nFushigi Yûgi , also known as Fushigi Yûgi: \n",
      "18 12111187        26.88414, {  \"id\" : \"12111187\",  \"contents\" : \"\\\"Kaze no Daichi\\\"\\nKaze no Daichi The series focuses on the \n",
      "19 6175023         26.62890, {  \"id\" : \"6175023\",  \"contents\" : \"Azumi\\nAzumi. \\\"\\\"Azumi Original Soundtrack\\\"\\\" containing mus\n",
      "20 10510480        26.26752, {  \"id\" : \"10510480\",  \"contents\" : \"\\\"Benkei in New York\\\"\\nexecuted\\\"\\\". Christopher Butcher sai\n",
      "21 18710828        26.20961, {  \"id\" : \"18710828\",  \"contents\" : \"\\\"True Love (manga)\\\"\\nTrue Love (manga) True Love is a Japan\n",
      "22 17009838        26.12230, {  \"id\" : \"17009838\",  \"contents\" : \"\\\"Danchi Tomoo\\\"\\nDanchi Tomoo \\\"\\\"Danchi Tomoo\\\"\\\" stars ele\n",
      "23 10748946        25.96193, {  \"id\" : \"10748946\",  \"contents\" : \"Croket!\\nCroket! , also spelled Korokke!, is a Japanese manga\n",
      "24 10748948        25.96193, {  \"id\" : \"10748948\",  \"contents\" : \"Croket!\\nenough Kinkas to fill the largest Kinka Bank. Settin\n",
      "25 2281672         25.86569, {  \"id\" : \"2281672\",  \"contents\" : \"\\\"Fushigi Yûgi\\\"\\nbetween Miaka and Tamahome became \\\"\\\"incre\n",
      "26 12804339        25.80000, {  \"id\" : \"12804339\",  \"contents\" : \"\\\"Human Crossing\\\"\\nHuman Crossing Human Crossing, originally\n",
      "27 13295360        25.79364, {  \"id\" : \"13295360\",  \"contents\" : \"\\\"Ikigami: The Ultimate Limit\\\"\\nTowards the end of the film \n",
      "28 16487468        25.76795, {  \"id\" : \"16487468\",  \"contents\" : \"\\\"Shūichi Higurashi\\\"\\nhis work outside of \\\"\\\"Big Comic\\\"\\\"\n",
      "29 6475951         25.50593, {  \"id\" : \"6475951\",  \"contents\" : \"\\\"Spider-Man (Japanese TV series)\\\"\\nApart from the costume an\n",
      "30 16298577        25.41317, {  \"id\" : \"16298577\",  \"contents\" : \"\\\"Shut Hell\\\"\\nShut Hell , also known as , is a Japanese Sein\n",
      "31 4075920         25.31206, {  \"id\" : \"4075920\",  \"contents\" : \"\\\"Kazuo Koike\\\"\\nKazuo Koike Early in Koike's career, he studi\n",
      "32 3495834         25.23060, {  \"id\" : \"3495834\",  \"contents\" : \"Beyblade\\nBeyblade Beyblade, known in Japan as , is a Japanese\n",
      "33 12960576        25.12071, {  \"id\" : \"12960576\",  \"contents\" : \"\\\"Purple Eyes in the Dark\\\"\\nPurple Eyes in the Dark The seri\n",
      "34 18358339        24.90883, {  \"id\" : \"18358339\",  \"contents\" : \"Shimoneta\\nShimoneta , officially abbreviated as in Japan, is\n",
      "35 19208832        24.84817, {  \"id\" : \"19208832\",  \"contents\" : \"\\\"Hideout (manga)\\\"\\nHideout (manga) Hideout is a psychologic\n",
      "36 13915477        24.79691, {  \"id\" : \"13915477\",  \"contents\" : \"\\\"Seizō Watase\\\"\\nreceived the Bungeishunjū Manga Award in 1\n",
      "37 19208833        24.76028, {  \"id\" : \"19208833\",  \"contents\" : \"\\\"Hideout (manga)\\\"\\na happy man - an aspiring writer, a cont\n",
      "38 4197653         24.74509, {  \"id\" : \"4197653\",  \"contents\" : \"\\\"Mai, the Psychic Girl\\\"\\nget their \\\"\\\"Mai, the Psychic Girl\n",
      "39 103819          24.69540, {  \"id\" : \"103819\",  \"contents\" : \"Doraemon\\n\\\"\\\"Tentōmushi Comics\\\"\\\" imprint, from 1974 to 1996.\n",
      "40 7466540         24.63980, {  \"id\" : \"7466540\",  \"contents\" : \"\\\"Rumic Theater\\\"\\nRumic Theater Rumiko Takahashi Anthology, a\n",
      "41 10282674        24.57394, {  \"id\" : \"10282674\",  \"contents\" : \"\\\"Shion no Ō\\\"\\nbased on the series was released by Mainichi\n",
      "42 7466542         24.35239, {  \"id\" : \"7466542\",  \"contents\" : \"\\\"Rumic Theater\\\"\\nJapanese Title: L saizu no shiawase Japanes\n",
      "43 3495857         24.34263, {  \"id\" : \"3495857\",  \"contents\" : \"Beyblade\\nof a game. Common Sense Media described the series a\n",
      "44 4703367         24.09821, {  \"id\" : \"4703367\",  \"contents\" : \"Uzumaki\\nwriter H. P. Lovecraft was one of his inspirations wh\n",
      "45 15246691        24.05431, {  \"id\" : \"15246691\",  \"contents\" : \"\\\"I Am a Hero\\\"\\nby simply the ZQN, but also from their fello\n",
      "46 10510478        24.00829, {  \"id\" : \"10510478\",  \"contents\" : \"\\\"Benkei in New York\\\"\\nBenkei in New York The manga was orig\n",
      "47 13044368        24.00050, {  \"id\" : \"13044368\",  \"contents\" : \"Bambino!\\nBambino! NTV broadcast the live-action TV drama fro\n",
      "48 8345150         23.84862, {  \"id\" : \"8345150\",  \"contents\" : \"\\\"Eagle: The Making of an Asian-American President\\\"\\nKuraiton\n",
      "49 14580849        23.83353, {  \"id\" : \"14580849\",  \"contents\" : \"\\\"Rainbow: Nisha Rokubō no Shichinin\\\"\\nShogakukan Publishin\n",
      "50 16159976        23.74131, {  \"id\" : \"16159976\",  \"contents\" : \"\\\"Magico (manga)\\\"\\nfirst of which is to marry Shion!? What o\n",
      "51 9463843         23.69975, {  \"id\" : \"9463843\",  \"contents\" : \"\\\"Akuma na Eros\\\"\\nwings of her own, she covers him. Michael o\n",
      "52 19406841        23.66426, {  \"id\" : \"19406841\",  \"contents\" : \"\\\"Wisut Ponnimit\\\"\\nmanga artist for Japanese publishing comp\n",
      "53 4150720         23.58980, {  \"id\" : \"4150720\",  \"contents\" : \"\\\"Duel Masters\\\"\\nBesides its various unnamed members, among i\n",
      "54 6225007         23.55833, {  \"id\" : \"6225007\",  \"contents\" : \"\\\"Sonic the Hedgehog\\\"\\nRalph\\\"\\\", \\\"\\\"Ralph Breaks the Intern\n",
      "55 3416825         23.50778, {  \"id\" : \"3416825\",  \"contents\" : \"\\\"Akira (manga)\\\"\\nAkira (manga) Akira (Japanese: アキラ Hepburn:\n",
      "56 103813          23.46024, {  \"id\" : \"103813\",  \"contents\" : \"Doraemon\\nDoraemon Doraemon () is a Japanese manga series writt\n",
      "57 1739535         23.43933, {  \"id\" : \"1739535\",  \"contents\" : \"Tekken\\nfamily and also the Unknown character from \\\"\\\"Tekken \n",
      "58 6427054         23.38434, {  \"id\" : \"6427054\",  \"contents\" : \"\\\"Happy Hustle High\\\"\\ninterest in girls. When the Girls' coun\n",
      "59 10282673        23.31675, {  \"id\" : \"10282673\",  \"contents\" : \"\\\"Shion no Ō\\\"\\nThe manga of \\\"\\\"Shion no Ō\\\"\\\" is written b\n",
      "60 4770826         23.28758, {  \"id\" : \"4770826\",  \"contents\" : \"\\\"Project ARMS\\\"\\ngone out of print. However, Discotek Media a\n",
      "61 7922527         23.28318, {  \"id\" : \"7922527\",  \"contents\" : \"\\\"Believers (manga)\\\"\\nconnections with Shogakukan to borrow t\n",
      "62 15651271        23.16192, {  \"id\" : \"15651271\",  \"contents\" : \"Haganai\\nfor the series might be \\\"\\\"It's Probably For The Be\n",
      "63 2281661         22.99925, {  \"id\" : \"2281661\",  \"contents\" : \"\\\"Fushigi Yûgi\\\"\\nthe Priestess of Seiryuu, working against M\n",
      "64 12704776        22.92948, {  \"id\" : \"12704776\",  \"contents\" : \"\\\"Even a Monkey Can Draw Manga\\\"\\nEven a Monkey Can Draw Mang\n",
      "65 18964328        22.91596, {  \"id\" : \"18964328\",  \"contents\" : \"\\\"The Laughing Salesman\\\"\\nhe is satisfied with his job and l\n",
      "66 3345455         22.81494, {  \"id\" : \"3345455\",  \"contents\" : \"\\\"Jing: King of Bandits\\\"\\nJing: King of Bandits , is a Japane\n",
      "67 15651255        22.80357, {  \"id\" : \"15651255\",  \"contents\" : \"Haganai\\nHaganai , short for , is a Japanese light novel seri\n",
      "68 17679888        22.75670, {  \"id\" : \"17679888\",  \"contents\" : \"Jinsei\\nLife Consulting\\\"\\\". The first light novel volume was\n",
      "69 12951463        22.74489, {  \"id\" : \"12951463\",  \"contents\" : \"\\\"Gaku: Minna no Yama\\\"\\nTohan Comic Ranking, volume seven al\n",
      "70 16699334        22.71738, {  \"id\" : \"16699334\",  \"contents\" : \"Aikatsu!\\narranged by monaca, and performed by members of the\n",
      "71 17887481        22.70526, {  \"id\" : \"17887481\",  \"contents\" : \"\\\"Goodnight Punpun\\\"\\nmagazine, Asano created the manga for r\n",
      "72 11277648        22.63317, {  \"id\" : \"11277648\",  \"contents\" : \"\\\"Freesia (manga)\\\"\\nFreesia (manga) In alternate history Jap\n",
      "73 9549831         22.59731, {  \"id\" : \"9549831\",  \"contents\" : \"\\\"Sukiyaki Western Django\\\"\\nor average reviews\\\"\\\". On June 8\n",
      "74 14580490        22.56918, {  \"id\" : \"14580490\",  \"contents\" : \"\\\"Suki Desu Suzuki-kun!!\\\"\\nthe 35th best-selling manga serie\n",
      "75 18094042        22.56549, {  \"id\" : \"18094042\",  \"contents\" : \"Splatoon\\non the chart's 2015 year-end list. Two manga series\n",
      "76 17679887        22.52210, {  \"id\" : \"17679887\",  \"contents\" : \"Jinsei\\nJinsei , subtitled La Bonne Vie (\\\"\\\"The Good Life\\\"\\\n",
      "77 12776807        22.50337, {  \"id\" : \"12776807\",  \"contents\" : \"\\\"Madness (manga)\\\"\\nComics, Inc.. The manga is licensed in N\n",
      "78 7329293         22.49295, {  \"id\" : \"7329293\",  \"contents\" : \"\\\"History of manga\\\"\\ncriminal and espionage conspiracies to b\n",
      "79 4437857         22.49247, {  \"id\" : \"4437857\",  \"contents\" : \"\\\"Blue Submarine No. 6\\\"\\nBlue Submarine No. 6 , officially tr\n",
      "80 2725253         22.49128, {  \"id\" : \"2725253\",  \"contents\" : \"\\\"Monster (manga)\\\"\\nthe scope of the atrocities committed by \n",
      "81 14242924        22.47122, {  \"id\" : \"14242924\",  \"contents\" : \"\\\"Beyblade: Metal Fusion\\\"\\nBeyblade: Metal Fusion Beyblade: \n",
      "82 8463164         22.40174, {  \"id\" : \"8463164\",  \"contents\" : \"\\\"Monthly Sunday Gene-X\\\"\\ninterest as a Japanese-Korean anime\n",
      "83 9087575         22.34995, {  \"id\" : \"9087575\",  \"contents\" : \"\\\"Team Medical Dragon\\\"\\nin \\\"\\\"Big Comic Superior\\\"\\\" between\n",
      "84 19723337        22.33995, {  \"id\" : \"19723337\",  \"contents\" : \"\\\"Hokuto Gaiden\\\"\\nto December 2008. The series was released \n",
      "85 3905234         22.19676, {  \"id\" : \"3905234\",  \"contents\" : \"\\\"Naoki Urasawa\\\"\\nNaoki Urasawa Urasawa cited Osamu Tezuka as\n",
      "86 14200760        22.14177, {  \"id\" : \"14200760\",  \"contents\" : \"\\\"Dengeki Daisy\\\"\\ncaused her brothers death. The series is w\n",
      "87 19020281        22.12876, {  \"id\" : \"19020281\",  \"contents\" : \"\\\"Opus (manga)\\\"\\nOpus (manga) Opus is a Japanese \\\"\\\"seinen\\\n",
      "88 1067619         22.04792, {  \"id\" : \"1067619\",  \"contents\" : \"Inuyasha\\nInuyasha , also known as , is a Japanese manga serie\n",
      "89 7273650         22.03371, {  \"id\" : \"7273650\",  \"contents\" : \"\\\"Ushio and Tora\\\"\\nfighting evil and defending the innocent w\n",
      "90 3661118         22.01637, {  \"id\" : \"3661118\",  \"contents\" : \"Gantz\\nthat all the drawings he has ever illustrated have been\n",
      "91 10522317        21.99093, {  \"id\" : \"10522317\",  \"contents\" : \"\\\"Shōnen Big Comic\\\"\\nShōnen Big Comic In 1987, the magazine\n",
      "92 2468257         21.99004, {  \"id\" : \"2468257\",  \"contents\" : \"\\\"Ceres, Celestial Legend\\\"\\nlicense for the series, and will \n",
      "93 10131670        21.98736, {  \"id\" : \"10131670\",  \"contents\" : \"Tekkonkinkreet\\nShiro, and is forced to fight the \\\"\\\"minotau\n",
      "94 12256714        21.97058, {  \"id\" : \"12256714\",  \"contents\" : \"\\\"Beast Master (manga)\\\"\\ncircumstances regarding Leo's famil\n",
      "95 13750826        21.96498, {  \"id\" : \"13750826\",  \"contents\" : \"\\\"Cirque du Freak (manga)\\\"\\nDarren's house is based on his S\n",
      "96 4601489         21.90653, {  \"id\" : \"4601489\",  \"contents\" : \"\\\"Taiyō Matsumoto\\\"\\n\\\"\\\"Comic Aré\\\"\\\" magazine. \\\"\\\"Ping Pon\n",
      "97 18194198        21.89163, {  \"id\" : \"18194198\",  \"contents\" : \"\\\"Sunny (manga)\\\"\\nSunny (manga) Sunny is a Japanese slice of\n",
      "98 7368090         21.88553, {  \"id\" : \"7368090\",  \"contents\" : \"\\\"Crying Freeman\\\"\\nboth pass the tests given to them. It prov\n",
      "99 7953378         21.87253, {  \"id\" : \"7953378\",  \"contents\" : \"Gyo\\nin the form of a man-eating shark. I thought it would be \n",
      "100 10522318        21.83988, {  \"id\" : \"10522318\",  \"contents\" : \"\\\"Shōnen Big Comic\\\"\\nMotor and Tamiya Corporation. Shōnen B\n"
     ]
    }
   ],
   "source": [
    "for i in range(0, len(hits)):\n",
    "    doc = searcher.doc(hits[i].docid)\n",
    "    docstr = doc.raw()[:100].replace(\"\\n\", \"\")\n",
    "    print(f'{i+1:2} {hits[i].docid:15} {hits[i].score:.5f}, {docstr}')"
   ]
  },
  {
   "cell_type": "code",
   "execution_count": 18,
   "id": "07deb84a",
   "metadata": {},
   "outputs": [
    {
     "name": "stdout",
     "output_type": "stream",
     "text": [
      "{\n",
      "  \"id\" : \"12548776\",\n",
      "  \"contents\" : \"\\\"Lord (manga)\\\"\\nLord (manga) Chō-Sangokushi -LORD (超三国志-覇, lit. \\\"\\\"Extraordinary Records of Three Kingdoms -LORD\\\"\\\") also known as LORD (覇, \\\"\\\"Ha\\\"\\\", lit: Conqueror) is the manga drawn by Ryoichi Ikegami (池上 遼一, IKEGAMI Ryoichi) and written by Buronson (武論尊; 史村 翔, FUMIMURA Shō; 岡村 善行, OKAMURA Yoshiyuki). Lord marks the fourth time this creative team have worked together on a manga. They previously collaborated on Strain, Sanctuary, and Heat, the 2002 Shogakukan Manga Award winner. The story is loosely based on the Three Kingdoms period, using both real and original characters and events from the historical period in Chinese history and folklore of\"\n",
      "}\n"
     ]
    }
   ],
   "source": [
    "print(hits[0].raw)"
   ]
  },
  {
   "cell_type": "code",
   "execution_count": 19,
   "id": "504854b7",
   "metadata": {},
   "outputs": [
    {
     "name": "stdout",
     "output_type": "stream",
     "text": [
      "{\n",
      "  \"id\" : \"12548777\",\n",
      "  \"contents\" : \"\\\"Lord (manga)\\\"\\nthe Romance of the Three Kingdoms. A 3 volume sequel called Soul Lord 2 ended in 2013. Lord (manga) Chō-Sangokushi -LORD (超三国志-覇, lit. \\\"\\\"Extraordinary Records of Three Kingdoms -LORD\\\"\\\") also known as LORD (覇, \\\"\\\"Ha\\\"\\\", lit: Conqueror) is the manga drawn by Ryoichi Ikegami (池上 遼一, IKEGAMI Ryoichi) and written by Buronson (武論尊; 史村 翔, FUMIMURA Shō; 岡村 善行, OKAMURA Yoshiyuki). Lord marks the fourth time this creative team have worked together on a manga. They previously collaborated on Strain, Sanctuary, and Heat, the 2002 Shogakukan Manga Award winner. The story is loosely based on the Three Kingdoms period, using\"\n",
      "}\n"
     ]
    }
   ],
   "source": [
    "print(hits[1].raw)"
   ]
  },
  {
   "cell_type": "code",
   "execution_count": null,
   "id": "5c31c7ec",
   "metadata": {},
   "outputs": [],
   "source": []
  }
 ],
 "metadata": {
  "kernelspec": {
   "display_name": "Python 3 (ipykernel)",
   "language": "python",
   "name": "python3"
  },
  "language_info": {
   "codemirror_mode": {
    "name": "ipython",
    "version": 3
   },
   "file_extension": ".py",
   "mimetype": "text/x-python",
   "name": "python",
   "nbconvert_exporter": "python",
   "pygments_lexer": "ipython3",
   "version": "3.7.13"
  }
 },
 "nbformat": 4,
 "nbformat_minor": 5
}
