{
 "cells": [
  {
   "cell_type": "markdown",
   "id": "1b40da52",
   "metadata": {},
   "source": [
    "# Self-Ask Exploration\n",
    "\n",
    "The goal is to test out self-ask on complex questions from QAMPARI and RoMQA.\n",
    "\n",
    "We'll start with QAMPARI, getting all of the complex questions from the dev set.\n",
    "\n",
    "## Results\n",
    "\n",
    "Created a prompt using hand selected questions from the training data.\n",
    "Used the prompt on 100 questions of each type and automatically evaluated whether the quesiton type was correct.\n",
    "Then manually annotated the decomposition and whether the GT question type was correct.\n",
    "\n",
    "Results\n",
    "```\n",
    "                          | Type Correct %      Decomp Correct % | Auto Type Correct %\n",
    "---------------------------------------------------------------------------------------\n",
    "simple                    |    96.00                100.00       |       96.00\n",
    "composition               |    85.00                 83.00       |       77.00\n",
    "intersection              |    80.81                 80.81       |       61.62\n",
    "```"
   ]
  },
  {
   "cell_type": "code",
   "execution_count": 66,
   "id": "a84ee12d",
   "metadata": {},
   "outputs": [
    {
     "name": "stdout",
     "output_type": "stream",
     "text": [
      "The autoreload extension is already loaded. To reload it, use:\n",
      "  %reload_ext autoreload\n"
     ]
    }
   ],
   "source": [
    "import jsonlines\n",
    "import json\n",
    "import numpy as np\n",
    "import random\n",
    "import openai\n",
    "from collections import defaultdict\n",
    "\n",
    "import multiqa_utils.openai_utils as ou\n",
    "import multiqa_utils.qampari_utils as qu\n",
    "import multiqa_utils.decomposition_utils as du\n",
    "\n",
    "%load_ext autoreload\n",
    "%autoreload 2"
   ]
  },
  {
   "cell_type": "code",
   "execution_count": null,
   "id": "bd26732e",
   "metadata": {},
   "outputs": [],
   "source": []
  },
  {
   "cell_type": "code",
   "execution_count": 3,
   "id": "c8a42aab",
   "metadata": {},
   "outputs": [],
   "source": [
    "output_dir = \"/scratch/ddr8143/multiqa/qampari_data/decomposition_v0/\""
   ]
  },
  {
   "cell_type": "markdown",
   "id": "c0c69dc0",
   "metadata": {},
   "source": [
    "**Load & Sort QAMPARI Data**"
   ]
  },
  {
   "cell_type": "code",
   "execution_count": 4,
   "id": "d83b9a22",
   "metadata": {},
   "outputs": [],
   "source": [
    "# This will use the fxn default, but at the time of writing, these were the defaults\n",
    "#qmp_dev_data_path = \"/scratch/ddr8143/multiqa/downloads/data/qampari/dev_data.jsonl\"\n",
    "#qmp_train_data_path = \"/scratch/ddr8143/multiqa/downloads/data/qampari/train_data.jsonl\"\n",
    "qmp_dev = qu.load_wikidata_dev_data()\n",
    "qmp_train = qu.load_wikidata_train_data()\n",
    "print(\"Num Dev Wikidata Qs:\", len(qmp_dev))\n",
    "print(\"Num Train Wikidata Qs:\", len(qmp_train))"
   ]
  },
  {
   "cell_type": "code",
   "execution_count": 12,
   "id": "6890ed1a",
   "metadata": {},
   "outputs": [
    {
     "name": "stdout",
     "output_type": "stream",
     "text": [
      "0 Which movie, clip, TV show etc. had Chezhiyan as director of photography?\n",
      "1 Which movie, clip, TV show etc. had Andrew Droz Palermo as director of photography?\n",
      "2 Which movie, clip, TV show etc. had Nizar Shafi as director of photography?\n",
      "3 Which movie, clip, TV show etc. had Steven Soderbergh as director of photography?\n",
      "4 Which movie, clip, TV show etc. had Haris Savides as director of photography?\n",
      "5 Which movie, clip, TV show etc. had Philip H. Lathrop as director of photography?\n",
      "6 Which movie, clip, TV show etc. had Claude Lelouch as director of photography?\n",
      "7 Which movie, clip, TV show etc. had Russ Meyer as director of photography?\n",
      "8 Which movie, clip, TV show etc. had Herman Schopp as director of photography?\n",
      "9 Which movie, clip, TV show etc. had Peter Hyams as director of photography?\n"
     ]
    }
   ],
   "source": [
    "for i in range(10):\n",
    "    print(i, qmp_train[i]['question_text'])"
   ]
  },
  {
   "cell_type": "code",
   "execution_count": 12,
   "id": "6cd5a12a",
   "metadata": {},
   "outputs": [
    {
     "name": "stdout",
     "output_type": "stream",
     "text": [
      "0 Which movie, clip, TV show etc. had Chezhiyan as director of photography?\n",
      "1 Which movie, clip, TV show etc. had Andrew Droz Palermo as director of photography?\n",
      "2 Which movie, clip, TV show etc. had Nizar Shafi as director of photography?\n",
      "3 Which movie, clip, TV show etc. had Steven Soderbergh as director of photography?\n",
      "4 Which movie, clip, TV show etc. had Haris Savides as director of photography?\n",
      "5 Which movie, clip, TV show etc. had Philip H. Lathrop as director of photography?\n",
      "6 Which movie, clip, TV show etc. had Claude Lelouch as director of photography?\n",
      "7 Which movie, clip, TV show etc. had Russ Meyer as director of photography?\n",
      "8 Which movie, clip, TV show etc. had Herman Schopp as director of photography?\n",
      "9 Which movie, clip, TV show etc. had Peter Hyams as director of photography?\n"
     ]
    }
   ],
   "source": [
    "for i in range(10):\n",
    "    print(i, qmp_dev[i]['question_text'])"
   ]
  },
  {
   "cell_type": "code",
   "execution_count": null,
   "id": "a1b5f44e",
   "metadata": {},
   "outputs": [],
   "source": []
  },
  {
   "cell_type": "markdown",
   "id": "46eedfe5",
   "metadata": {},
   "source": [
    "## Create Final Prompts with Train Data"
   ]
  },
  {
   "cell_type": "markdown",
   "id": "2de026a8",
   "metadata": {},
   "source": [
    "**Sample equal number of samples from each type for prompt**"
   ]
  },
  {
   "cell_type": "code",
   "execution_count": 13,
   "id": "615173b2",
   "metadata": {},
   "outputs": [
    {
     "name": "stdout",
     "output_type": "stream",
     "text": [
      "wikidata_simple:          28574, first 5: [0, 1, 2, 3, 4]\n",
      "wikidata_comp:            25200, first 5: [28574, 28575, 28576, 28577, 28578]\n",
      "wikidata_intersection:    2301, first 5: [53774, 53775, 53776, 53777, 53778]\n",
      "wikidata_simple:            10, first 5: [7199, 8848, 26966, 4493, 28041]\n",
      "wikidata_comp:              10, first 5: [36126, 32477, 43983, 30907, 43492]\n",
      "wikidata_intersection:      10, first 5: [54872, 55891, 55192, 55877, 54550]\n"
     ]
    }
   ],
   "source": [
    "# Example of how I created the fixed lists below\n",
    "qtype_id_lists = qu.split_dataset_by_question_type(qmp_train)\n",
    "inds_to_use = qu.random_sample_n_per_type(qtype_id_lists, 10)"
   ]
  },
  {
   "cell_type": "code",
   "execution_count": 14,
   "id": "f81a940a",
   "metadata": {},
   "outputs": [],
   "source": [
    "# Fix the inds for train data to make prompts (\"random\" sampling variant)\n",
    "# Train Data\n",
    "inds_to_use = {\n",
    "    \"wikidata_simple\": [16043, 4484, 11212, 7078, 22726, 22999, 13441, 26081, 8947, 25243],\n",
    "    \"wikidata_comp\": [49871, 53056, 40308, 36854, 44983, 40413, 44919, 51530, 45160, 38873],\n",
    "    \"wikidata_intersection\": [55083, 54453, 54839, 53887, 55449, 55315, 55284, 54935, 54931, 55950],\n",
    "}"
   ]
  },
  {
   "cell_type": "code",
   "execution_count": 15,
   "id": "7f036cb9",
   "metadata": {},
   "outputs": [],
   "source": [
    "# Dev Data\n",
    "dev_inds_to_use = {\n",
    "    \"wikidata_simple\": [152, 189, 76, 536, 591, 197, 76, 478, 258, 463, 573, 501, 648, 591, 401, 392, 404, 158, 790, 238],\n",
    "    \"wikidata_comp\": [515, 522, 723, 154, 678, 671, 202, 79, 343, 719, 584, 62, 767, 107, 802, 662, 379, 488, 618, 569],\n",
    "    \"wikidata_intersection\": [735, 380, 582, 92, 71, 178, 365, 410, 596, 677, 553, 633, 600, 1, 780, 611, 652, 673, 63, 222],\n",
    "}"
   ]
  },
  {
   "cell_type": "code",
   "execution_count": null,
   "id": "109132bb",
   "metadata": {},
   "outputs": [],
   "source": []
  },
  {
   "cell_type": "code",
   "execution_count": 16,
   "id": "93002ad6",
   "metadata": {},
   "outputs": [],
   "source": [
    "## Load my manual decompositions to use for prompt creation\n",
    "manual_train_decomp_file = f\"{output_dir}manual_decompositions_train.json\"\n",
    "#json.dump(official_train_decomp, open(manual_train_decomp_file, 'w+'))\n",
    "manual_train_decomp = {int(k): v for k, v in json.load(open(manual_train_decomp_file)).items()}"
   ]
  },
  {
   "cell_type": "code",
   "execution_count": 25,
   "id": "ca046998",
   "metadata": {},
   "outputs": [
    {
     "name": "stdout",
     "output_type": "stream",
     "text": [
      "Instructions:\n",
      "Choose the question type out of: composition or intersection.\n",
      "\n",
      "Simple questions only require one piece of information. Example:\n",
      "\n",
      "“Question: Which software, art, etc. has Don Broco as performer?\n",
      "Question Type: simple.\n",
      "Explanation: This is a simple question because we only need to know what Don Broco has performed in.”\n",
      "\n",
      "Composition questions require getting one answer and then getting more information about that answer. Example:\n",
      "\n",
      "“Question: What are the dates of death of persons that were a member of the political party Australian Labor Party (Anti-Communist)?\n",
      "Question Type: composition.\n",
      "Explanation: This is a complosition question because we need to know who were members of the political party and then we need to get additional information about each of them.”\n",
      "\n",
      "Intersection questions require getting answers to two questions and then combining them. Example:\n",
      "\n",
      "“Question: Which film has M. G. Ramachandran as a member of its cast and has J. Jayalalithaa as a member of its cast?\n",
      "Question Type: intersection.\n",
      "Explanation: This is an intersection question because we need to combine the answers to the first question, which film has M. G. Ramachandran as a member of its cast, with the second question, which film has J. Jayalalithaa as a member of its cast.”\n",
      "\n",
      "----------\n",
      "\n",
      "Examples:\n",
      "\n",
      "Question: Which player played for both the Fort Wayne Mad Ants and the Indiana Pacers?\n",
      "Question Type: intersection.\n",
      "Question 1: Which player played for the Fort Wayne Mad Ants?\n",
      "Question 2: Which player played for the Indiana Pacers?\n",
      "\n",
      "Question: Who are the cast members of film that  had Stephen Sommers as screenwriter?\n",
      "Question Type: composition.\n",
      "Question 1: What films had Stephen Sommers as screenwriter?\n",
      "Question 2: Who are the cast members of [ANS1]?\n",
      "\n",
      "Question: Who played for the Stirling Albion F.C.?\n",
      "Question Type: simple.\n",
      "Question 1: Who played for the Stirling Albion F.C.?\n",
      "Question 2: None\n",
      "\n",
      "Question: Who is a Royal Military College alumni and arrived to the rank lieutenant general?\n",
      "Question Type: intersection.\n",
      "Question 1: Who is a Royal Military College alumni?\n",
      "Question 2: Who arrived to the rank lieutenant general?\n",
      "\n",
      "Question: Which infrastructure is a part of Muni Metro and What entities were operated by San Francisco Municipal Railway?\n",
      "Question Type: intersection.\n",
      "Question 1: Which infrastructure is a part of Muni Metro?\n",
      "Question 2: What entities were operated by San Francisco Municipal Railway?\n",
      "\n",
      "Question: What are the locations of buildings that were designed by John S. Van Bergen?\n",
      "Question Type: composition.\n",
      "Question 1: What buildings were designed by John S. Van Bergen?\n",
      "Question 2: What is the location of [ANS1]?\n",
      "\n",
      "Question: Which film has Saritha as a member of its cast?\n",
      "Question Type: simple.\n",
      "Question 1: Which film has Saritha as a member of its cast?\n",
      "Question 2: None\n",
      "\n",
      "Question: Edward Montagne directed a work released in what year?\n",
      "Question Type: composition.\n",
      "Question 1: Edward Montagne directed what works?\n",
      "Question 2: What year was [ANS1] released?\n",
      "\n",
      "Question: Which software, art, etc. has Sean Maguire as performer?\n",
      "Question Type: simple.\n",
      "Question 1: Which software, art, etc. has Sean Maguire as performer?\n",
      "Question 2: None\n",
      "\n",
      "Question: Who played for the Hartford Whalers and played for the Columbus Blue Jackets?\n",
      "Question Type: intersection.\n",
      "Question 1: Who played for the Hartford Whalers?\n",
      "Question 2: Who played for the Columbus Blue Jackets?\n",
      "\n",
      "Question: Who are the cast members of software, art, etc. that  were directed by Chakri Toleti?\n",
      "Question Type: composition.\n",
      "Question 1: What software, art, etc. was were directed by Chakri Toleti?\n",
      "Question 2: Who are the cast members of [ANS1]?\n",
      "\n",
      "\n"
     ]
    }
   ],
   "source": [
    "## An old prompt example here\n",
    "#qu.qdata_to_print_prompt_v0(qmp_train, manual_train_decomp, num_each=3, include_simple=False, shuffle=True)\n",
    "\n",
    "## But the actual prompt we want to use is:\n",
    "curr_best_prompt = qu.get_qmp_decomp_prompt_base_v1(qmp_train, manual_train_decomp)\n",
    "print(curr_best_prompt)"
   ]
  },
  {
   "cell_type": "code",
   "execution_count": null,
   "id": "4bdfe459",
   "metadata": {},
   "outputs": [],
   "source": []
  },
  {
   "cell_type": "markdown",
   "id": "1bbe420d",
   "metadata": {},
   "source": [
    "## Use GPT3 API"
   ]
  },
  {
   "cell_type": "markdown",
   "id": "e37e33e9",
   "metadata": {},
   "source": [
    "**Setup Using GPT3 Prompt**"
   ]
  },
  {
   "cell_type": "code",
   "execution_count": 39,
   "id": "c98dc574",
   "metadata": {},
   "outputs": [
    {
     "name": "stdout",
     "output_type": "stream",
     "text": [
      ">> API key set\n"
     ]
    }
   ],
   "source": [
    "ou.setup_apikey()"
   ]
  },
  {
   "cell_type": "code",
   "execution_count": 40,
   "id": "ac180214",
   "metadata": {},
   "outputs": [
    {
     "name": "stdout",
     "output_type": "stream",
     "text": [
      " going to be something that pushes the boundaries of exploration and discovery. He could be working on a project to explore the depths of the ocean, or to develop a new type of spacecraft that could take us to the outer reaches of our solar system. He could also be working on a project to develop new technologies that could help us better understand the universe around us. Whatever it is, I'm sure it will be something that will be groundbreaking and inspiring.\n"
     ]
    }
   ],
   "source": [
    "# Example\n",
    "res, res_text = ou.prompt_openai(\"Now that we know Elon Musk is an adventurer, I think his next project is\")\n",
    "print(res_text)"
   ]
  },
  {
   "cell_type": "code",
   "execution_count": null,
   "id": "a97a8c5d",
   "metadata": {},
   "outputs": [],
   "source": [
    "# Next goal: sample the data and run it through, evaluate it and then report the results!"
   ]
  },
  {
   "cell_type": "markdown",
   "id": "1206e71b",
   "metadata": {},
   "source": [
    "**Sample the data to evaluate**"
   ]
  },
  {
   "cell_type": "raw",
   "id": "b4d4d688",
   "metadata": {},
   "source": [
    "# Sample 100 examples from the dev set for each data type\n",
    "# to evaluate decomposition on.  Switched to raw to avoid\n",
    "# overwriting the saved file (for reproduction purposes).\n",
    "\n",
    "num_to_sample = 100\n",
    "output_file = f\"{output_dir}dev_indices_100random_each_for_decomp.json\"\n",
    "\n",
    "print(\"Initial Split Count\")\n",
    "split_indices_dev = qu.split_dataset_by_question_type(qmp_dev)\n",
    "\n",
    "print()\n",
    "print(\"Final Ind List Counts & Sample\")\n",
    "to_eval_dev = qu.random_sample_n_per_type(split_indices_dev, num_to_sample)\n",
    "    \n",
    "#with open(output_file, 'w+') as f:\n",
    "#    json.dump(to_eval_dev, f)\n",
    "#print(\">> Wrote indices to:\", output_file)"
   ]
  },
  {
   "cell_type": "markdown",
   "id": "820a463e",
   "metadata": {},
   "source": [
    "**Then we can make individual prompts like so:**"
   ]
  },
  {
   "cell_type": "code",
   "execution_count": 76,
   "id": "0d95ae3b",
   "metadata": {},
   "outputs": [
    {
     "name": "stdout",
     "output_type": "stream",
     "text": [
      "Question: Who directed the movie that was written by Charles Edward Pogue?\n",
      "Question Type: composition.\n",
      "Question 1: What movie was written by Charles Edward Pogue?\n",
      "Question 2: Who directed [ANS1]?\n",
      "\n",
      "Ground truth type: composition\n",
      "Pred type: composition\n",
      "Correct? True\n",
      "\n"
     ]
    },
    {
     "name": "stdin",
     "output_type": "stream",
     "text": [
      "Is the decomposition correct? >> True\n",
      "Any notes on this example? >> \n"
     ]
    }
   ],
   "source": [
    "# Choose the question to evaluate\n",
    "to_eval_dev_inds_file = f\"{output_dir}dev_indices_100random_each_for_decomp.json\"\n",
    "to_eval_dev_inds = json.load(open(to_eval_dev_inds_file))\n",
    "ev_ind = to_eval_dev_inds['wikidata_comp'][0]\n",
    "\n",
    "# Load the necessary data\n",
    "#qmp_train = qu.load_wikidata_train_data()\n",
    "#qmp_dev = qu.load_wikidata_dev_data()\n",
    "manual_train_decomp = du.load_manual_train_decomp('qampari')\n",
    "\n",
    "# Create the prompt\n",
    "qdata = qmp_dev[ev_ind]\n",
    "qprompt = du.get_qmp_decomp_prompt_v1(qmp_train, manual_train_decomp, qdata)\n",
    "\n",
    "# Run the query\n",
    "_, res_text = ou.prompt_openai(qprompt)\n",
    "q_output = du.prompt_output_to_eval_dict(qdata, qprompt, res_text, manual_check=True)"
   ]
  },
  {
   "cell_type": "code",
   "execution_count": 74,
   "id": "37751de2",
   "metadata": {},
   "outputs": [
    {
     "name": "stdout",
     "output_type": "stream",
     "text": [
      ">> Simple question, type correct, skip manual check\n"
     ]
    }
   ],
   "source": [
    "# Lets say we want to do the manual check\n",
    "q_output = du.prompt_output_to_eval_dict(qdata, qprompt, res_text, manual_check=True)"
   ]
  },
  {
   "cell_type": "code",
   "execution_count": null,
   "id": "1ac4c630",
   "metadata": {},
   "outputs": [],
   "source": []
  },
  {
   "cell_type": "markdown",
   "id": "25b27bed",
   "metadata": {},
   "source": [
    "**And finally we can put it all together to evaluate a tiny test set**"
   ]
  },
  {
   "cell_type": "code",
   "execution_count": 83,
   "id": "29f8343d",
   "metadata": {},
   "outputs": [],
   "source": [
    "decomp_dev_100random_file = f\"{output_dir}decomposed_dev_100random_prompt_v1.jsonl\""
   ]
  },
  {
   "cell_type": "raw",
   "id": "696dec5e",
   "metadata": {},
   "source": [
    "## This is what I ran to query the whole set.\n",
    "#  Be very careful about rerunning bc it involves expensive queries to openai.\n",
    "to_eval_dev_inds_file = f\"{output_dir}dev_indices_100random_each_for_decomp.json\"\n",
    "to_eval_dev_inds = json.load(open(to_eval_dev_inds_file))\n",
    "du.decompose_indmap_with_prompt(\n",
    "    to_eval_dev_inds=to_eval_dev_inds,\n",
    "    outfile=decomp_dev_100random_file,\n",
    "    progress_increment=10,\n",
    ")"
   ]
  },
  {
   "cell_type": "code",
   "execution_count": 84,
   "id": "5e6f9666",
   "metadata": {},
   "outputs": [],
   "source": [
    "ddtiny_file = decomp_dev_100random_file + \"__tiny_test\""
   ]
  },
  {
   "cell_type": "code",
   "execution_count": 85,
   "id": "1adcd684",
   "metadata": {},
   "outputs": [
    {
     "data": {
      "text/plain": [
       "{'wikidata_simple': [29, 108],\n",
       " 'wikidata_comp': [606, 352],\n",
       " 'wikidata_intersection': [296, 773]}"
      ]
     },
     "execution_count": 85,
     "metadata": {},
     "output_type": "execute_result"
    }
   ],
   "source": [
    "to_eval_dev_inds_tiny = {k: v[:2] for k, v in to_eval_dev.items()}\n",
    "to_eval_dev_inds_tiny"
   ]
  },
  {
   "cell_type": "code",
   "execution_count": 86,
   "id": "217aa630",
   "metadata": {},
   "outputs": [
    {
     "name": "stdout",
     "output_type": "stream",
     "text": [
      "Starting to decompose wikidata_simple, 2 queries to go\n",
      ">> elem 0\n",
      ">> elem 1\n",
      "Starting to decompose wikidata_comp, 2 queries to go\n",
      ">> elem 0\n",
      ">> elem 1\n",
      "Starting to decompose wikidata_intersection, 2 queries to go\n",
      ">> elem 0\n",
      ">> elem 1\n",
      "Fnished Decomp & Wrote: /scratch/ddr8143/multiqa/qampari_data/decomposition_v0/decomposed_dev_100random_prompt_v1.jsonl__tiny_test\n"
     ]
    }
   ],
   "source": [
    "du.decompose_indmap_with_prompt(\n",
    "    to_eval_dev_inds=to_eval_dev_inds_tiny,\n",
    "    outfile=ddtiny_file,\n",
    "    progress_increment=1,\n",
    ")"
   ]
  },
  {
   "cell_type": "code",
   "execution_count": 106,
   "id": "f803ec26",
   "metadata": {},
   "outputs": [],
   "source": [
    "stats, new_out = du.process_prompt_outputs(ddtiny_file, manual_check=False)"
   ]
  },
  {
   "cell_type": "code",
   "execution_count": 107,
   "id": "161ddff5",
   "metadata": {},
   "outputs": [
    {
     "name": "stdout",
     "output_type": "stream",
     "text": [
      "And finally, the result will be:\n"
     ]
    },
    {
     "data": {
      "text/plain": [
       "{'incorrect_ids': {},\n",
       " 'num_total': {'simple': 2, 'composition': 2, 'intersection': 2},\n",
       " 'num_correct_type': {'simple': 2, 'composition': 2, 'intersection': 2},\n",
       " 'correct_type_percent': {'simple': 100.0,\n",
       "  'composition': 100.0,\n",
       "  'intersection': 100.0}}"
      ]
     },
     "execution_count": 107,
     "metadata": {},
     "output_type": "execute_result"
    }
   ],
   "source": [
    "print(\"And finally, the result will be:\")\n",
    "stats"
   ]
  },
  {
   "cell_type": "markdown",
   "id": "ed1313ac",
   "metadata": {},
   "source": [
    "### Now lets annotate the decomposition of the full output of the 100 samples"
   ]
  },
  {
   "cell_type": "code",
   "execution_count": 111,
   "id": "63683854",
   "metadata": {},
   "outputs": [
    {
     "data": {
      "text/plain": [
       "{'simple': 96.0, 'composition': 77.0, 'intersection': 61.61616161616162}"
      ]
     },
     "execution_count": 111,
     "metadata": {},
     "output_type": "execute_result"
    }
   ],
   "source": [
    "# First get the overall stats\n",
    "stats, _ = du.process_prompt_outputs(decomp_dev_100random_file, manual_check=False)\n",
    "stats['correct_type_percent']"
   ]
  },
  {
   "cell_type": "raw",
   "id": "9539feda",
   "metadata": {},
   "source": [
    "# Now, lets annotate manually\n",
    "stats_full, new_out_decomp_dev_100random = du.process_prompt_outputs(decomp_dev_100random_file, manual_check=True)"
   ]
  },
  {
   "cell_type": "raw",
   "id": "05215bf6",
   "metadata": {},
   "source": [
    "manann_decomp_dev_100random_file = decomp_dev_100random_file + \"__manual_annotated\"\n",
    "with jsonlines.open(manann_decomp_dev_100random_file, mode='w') as writer:\n",
    "    for d in new_out_decomp_dev_100random:\n",
    "        writer.write(d)\n",
    "print(\"Wrote manual annotations to:\", manann_decomp_dev_100random_file)"
   ]
  },
  {
   "cell_type": "code",
   "execution_count": 115,
   "id": "5b7bab52",
   "metadata": {},
   "outputs": [
    {
     "data": {
      "text/plain": [
       "dict_keys(['failed_queries', 'incorrect_ids', 'num_total', 'num_correct_type', 'correct_type_percent', 'num_correct_decomp', 'correct_decomp_percent'])"
      ]
     },
     "execution_count": 115,
     "metadata": {},
     "output_type": "execute_result"
    }
   ],
   "source": [
    "stats_full.keys()"
   ]
  },
  {
   "cell_type": "code",
   "execution_count": 116,
   "id": "f74a6539",
   "metadata": {},
   "outputs": [
    {
     "data": {
      "text/plain": [
       "{'simple': 96.0, 'composition': 77.0, 'intersection': 61.61616161616162}"
      ]
     },
     "execution_count": 116,
     "metadata": {},
     "output_type": "execute_result"
    }
   ],
   "source": [
    "stats_full['correct_type_percent']"
   ]
  },
  {
   "cell_type": "code",
   "execution_count": 117,
   "id": "6545c4aa",
   "metadata": {},
   "outputs": [
    {
     "data": {
      "text/plain": [
       "{'simple': 0.0, 'composition': 75.0, 'intersection': 61.61616161616162}"
      ]
     },
     "execution_count": 117,
     "metadata": {},
     "output_type": "execute_result"
    }
   ],
   "source": [
    "stats_full['correct_decomp_percent']"
   ]
  },
  {
   "cell_type": "code",
   "execution_count": 123,
   "id": "0f9b7950",
   "metadata": {},
   "outputs": [],
   "source": [
    "ma_updates = {k: 0 for k in stats_full['correct_decomp_percent'].keys()}\n",
    "for ma in new_out_decomp_dev_100random:\n",
    "    if not ma['pred_type_correct']:\n",
    "        if ma['note'] == \"GT Wrong\":\n",
    "            ma_updates[ma['gt_type']] += 1"
   ]
  },
  {
   "cell_type": "code",
   "execution_count": 132,
   "id": "82bc3aee",
   "metadata": {},
   "outputs": [
    {
     "name": "stdout",
     "output_type": "stream",
     "text": [
      "simple                    | Type Correct: 96.00 Decomp Correct: 100.00 | Auto Type Correct: 96.00\n",
      "composition               | Type Correct: 85.00 Decomp Correct: 83.00 | Auto Type Correct: 77.00\n",
      "intersection              | Type Correct: 80.81 Decomp Correct: 80.81 | Auto Type Correct: 61.62\n"
     ]
    }
   ],
   "source": [
    "for k, v in ma_updates.items():\n",
    "    total_right_type = ma_updates[k] + stats_full['num_correct_type'][k]\n",
    "    if k == \"simple\":\n",
    "        total_right_decomp = stats_full['num_total']['simple']\n",
    "    else:\n",
    "        total_right_decomp = ma_updates[k] + stats_full['num_correct_decomp'][k]\n",
    "    total = stats_full['num_total'][k]\n",
    "    print(f\"{k:25} | Type Correct: {total_right_type * 100.0 / total:0.2f} Decomp Correct: {total_right_decomp * 100.0 / total:0.2f} | Auto Type Correct: {stats_full['correct_type_percent'][k]:0.2f}\")"
   ]
  },
  {
   "cell_type": "code",
   "execution_count": null,
   "id": "0a3952e3",
   "metadata": {},
   "outputs": [],
   "source": []
  },
  {
   "cell_type": "code",
   "execution_count": null,
   "id": "068b397d",
   "metadata": {},
   "outputs": [],
   "source": []
  },
  {
   "cell_type": "code",
   "execution_count": null,
   "id": "803b8c05",
   "metadata": {},
   "outputs": [],
   "source": []
  },
  {
   "cell_type": "code",
   "execution_count": null,
   "id": "61891b02",
   "metadata": {},
   "outputs": [],
   "source": []
  },
  {
   "cell_type": "markdown",
   "id": "606757a2",
   "metadata": {},
   "source": [
    "## Explore Prompt Formats Using Dev Data"
   ]
  },
  {
   "cell_type": "markdown",
   "id": "b19ad151",
   "metadata": {},
   "source": [
    "**Directly Use 4-shot Self-Ask Prompt**"
   ]
  },
  {
   "cell_type": "code",
   "execution_count": null,
   "id": "edc2f991",
   "metadata": {},
   "outputs": [],
   "source": [
    "# Taken from: https://github.com/ofirpress/self-ask/blob/main/self-ask_plus_search-engine_demo.ipynb\n",
    "base_prompt = ['''Question: Who lived longer, Muhammad Ali or Alan Turing?\n",
    "Are follow up questions needed here: Yes.\n",
    "Follow up: How old was Muhammad Ali when he died?\n",
    "Intermediate answer: Muhammad Ali was 74 years old when he died.\n",
    "Follow up: How old was Alan Turing when he died?\n",
    "Intermediate answer: Alan Turing was 41 years old when he died.\n",
    "So the final answer is: Muhammad Ali \n",
    "\n",
    "Question: When was the founder of craigslist born?\n",
    "Are follow up questions needed here: Yes.\n",
    "Follow up: Who was the founder of craigslist?\n",
    "Intermediate answer: Craigslist was founded by Craig Newmark.\n",
    "Follow up: When was Craig Newmark born?\n",
    "Intermediate answer: Craig Newmark was born on December 6, 1952.\n",
    "So the final answer is: December 6, 1952\n",
    "\n",
    "Question: Who was the maternal grandfather of George Washington?\n",
    "Are follow up questions needed here: Yes.\n",
    "Follow up: Who was the mother of George Washington?\n",
    "Intermediate answer: The mother of George Washington was Mary Ball Washington.\n",
    "Follow up: Who was the father of Mary Ball Washington?\n",
    "Intermediate answer: The father of Mary Ball Washington was Joseph Ball.\n",
    "So the final answer is: Joseph Ball \n",
    "\n",
    "Question: Are both the directors of Jaws and Casino Royale from the same country? \n",
    "Are follow up questions needed here: Yes. \n",
    "Follow up: Who is the director of Jaws? \n",
    "Intermediate Answer: The director of Jaws is Steven Spielberg. \n",
    "Follow up: Where is Steven Spielberg from? \n",
    "Intermediate Answer: The United States. \n",
    "Follow up: Who is the director of Casino Royale? \n",
    "Intermediate Answer: The director of Casino Royale is Martin Campbell. \n",
    "Follow up: Where is Martin Campbell from? \n",
    "Intermediate Answer: New Zealand. \n",
    "So the final answer is: No\n",
    "\n",
    "Question: ''', \n",
    "'''\n",
    "Are follow up questions needed here:''', ]"
   ]
  },
  {
   "cell_type": "code",
   "execution_count": null,
   "id": "a015e218",
   "metadata": {},
   "outputs": [],
   "source": [
    "# Also taken from: https://github.com/ofirpress/self-ask/blob/main/self-ask_plus_search-engine_demo.ipynb\n",
    "# But then modified\n",
    "\n",
    "#def promptf(question, prompt, intermediate = \"\\nIntermediate answer:\", followup = \"Follow up:\", finalans= '\\nSo the final answer is:'):\n",
    "INTERMEDIATE = \"\\nIntermediate answer:\"\n",
    "FOLLOWUP = \"Follow up:\"\n",
    "FINALANS = \"\\nSo the final answer is:\"\n",
    "def printprompt(qid, devqs, prompt):\n",
    "    question = devqs[qid]['question_text']\n",
    "    cur_prompt = prompt[0] +  question + prompt[1]\n",
    "\n",
    "    print(cur_prompt, end ='')\n",
    "\n",
    "    \"\"\"\n",
    "    ret_text = call_gpt(cur_prompt, intermediate)\n",
    "\n",
    "    while followup in get_last_line(ret_text):\n",
    "\n",
    "      \n",
    "      cur_prompt += ret_text\n",
    "      question = extract_question(ret_text)\n",
    "      external_answer = get_answer(question)\n",
    "\n",
    "      if external_answer is not None:\n",
    "        cur_prompt += intermediate + ' ' + external_answer + '.'\n",
    "        print(intermediate + ' ' + yellowfy(external_answer) + '.', end='' )\n",
    "        ret_text = call_gpt(cur_prompt, intermediate)\n",
    "      else:\n",
    "        #We only get here in the very rare case that Google returns no answer.\n",
    "        cur_prompt += intermediate\n",
    "        print(intermediate + ' ')\n",
    "        gpt_answer = call_gpt(cur_prompt, ['\\n'+followup, finalans])\n",
    "        cur_prompt += gpt_answer\n",
    "\n",
    "    \n",
    "    if finalans not in ret_text:\n",
    "      cur_prompt += finalans\n",
    "      print(finalans, end = '')\n",
    "      ret_text = call_gpt(cur_prompt, '\\n')\n",
    "\n",
    "    return cur_prompt + ret_text\n",
    "    \"\"\""
   ]
  },
  {
   "cell_type": "code",
   "execution_count": null,
   "id": "8f9156ab",
   "metadata": {},
   "outputs": [],
   "source": [
    "printprompt(0, qmp_comp_devd, base_prompt)"
   ]
  },
  {
   "cell_type": "code",
   "execution_count": null,
   "id": "2b8117d7",
   "metadata": {},
   "outputs": [],
   "source": []
  },
  {
   "cell_type": "code",
   "execution_count": null,
   "id": "ef45242c",
   "metadata": {},
   "outputs": [],
   "source": []
  },
  {
   "cell_type": "markdown",
   "id": "54a27ce6",
   "metadata": {},
   "source": [
    "**Now Choose Subset to Try and Try Them**"
   ]
  },
  {
   "cell_type": "code",
   "execution_count": null,
   "id": "ff2c3a06",
   "metadata": {},
   "outputs": [],
   "source": [
    "for i in range(30):\n",
    "    offset = 200\n",
    "    if \"wikidata_comp\" not in qmp_comp_devd[i+offset]['qid']:\n",
    "        continue\n",
    "    print(i+offset, qmp_comp_devd[i+offset]['question_text'])"
   ]
  },
  {
   "cell_type": "code",
   "execution_count": null,
   "id": "9f80eaf6",
   "metadata": {},
   "outputs": [],
   "source": [
    "inds_to_try = [\n",
    "    0,  # 0. screenwriter and director\n",
    "    3,  # 1. where taught\n",
    "    10, # 2. competed and won\n",
    "    27, # 3. film steinbeck wrote\n",
    "    32, # 4. institiution where educated\n",
    "    44, # 5. graduated from two places\n",
    "    59, # 6. which one did peerson win\n",
    "    232,# 7. company produced wirtten\n",
    "    255,# 8. composer for movie produced\n",
    "    347,# 9. objects person designed depicted what\n",
    "]"
   ]
  },
  {
   "cell_type": "code",
   "execution_count": null,
   "id": "ca6f3c93",
   "metadata": {},
   "outputs": [],
   "source": [
    "for i in inds_to_try:\n",
    "    print(qmp_comp_devd[i]['question_text'])"
   ]
  },
  {
   "cell_type": "code",
   "execution_count": null,
   "id": "d8f70901",
   "metadata": {},
   "outputs": [],
   "source": [
    "test_ind = 0\n",
    "print(qmp_comp_devd[inds_to_try[test_ind]]['question_text'])\n",
    "print([a['answer_text'] for a in qmp_comp_devd[inds_to_try[test_ind]]['answer_list']])\n",
    "\n",
    "print()\n",
    "\n",
    "printprompt(inds_to_try[0], qmp_comp_devd, base_prompt)"
   ]
  },
  {
   "cell_type": "code",
   "execution_count": 6,
   "id": "7b8eac16",
   "metadata": {},
   "outputs": [],
   "source": [
    "inds_to_type = {\n",
    "    \"composition\": [228, 229, 230, 231, 23, 24, 27, 28, 50, 51, 53, 54, 57],\n",
    "    \"intersection\": [222, 226, 20, 21, 22, 25, 26, 55, 56, 58],\n",
    "    \"filter\": [223, 225, 227, 29, 52, 59]\n",
    "}"
   ]
  },
  {
   "cell_type": "markdown",
   "id": "7d00b48c",
   "metadata": {},
   "source": [
    "**Make a better prompt**"
   ]
  },
  {
   "cell_type": "code",
   "execution_count": 7,
   "id": "b0b15a2d",
   "metadata": {},
   "outputs": [
    {
     "name": "stdout",
     "output_type": "stream",
     "text": [
      "29 374__wikidata_intersection__dev\n",
      "Which PGA Champsionship did Jack Nicklaus win?\n",
      "['1980 PGA Championship', '1975 PGA Championship', '1971 PGA Championship', '1973 PGA Championship', '1963 PGA Championship']\n",
      "\n",
      "52 418__wikidata_intersection__dev\n",
      "Which Monaco Grand Prix was won by Michael Schumacher?\n",
      "['1999 Monaco Grand Prix', '1994 Monaco Grand Prix', '1997 Monaco Grand Prix', '2001 Monaco Grand Prix', '1995 Monaco Grand Prix']\n",
      "\n",
      "59 103__wikidata_intersection__dev\n",
      "Which Monaco Grand Prix did Ayrton Senna win?\n",
      "['1993 Monaco Grand Prix', '1989 Monaco Grand Prix', '1987 Monaco Grand Prix', '1990 Monaco Grand Prix', '1991 Monaco Grand Prix', '1992 Monaco Grand Prix']\n",
      "\n",
      "223 129__wikidata_intersection__dev\n",
      "In which FA Cup Final did Blackburn Rovers F.C. compete?\n",
      "['1882 FA Cup Final', '1960 FA Cup Final', '1891 FA Cup Final', '1890 FA Cup Final', '1884 FA Cup Final', '1885 FA Cup Final', '1928 FA Cup Final', '1886 FA Cup Final']\n",
      "\n",
      "225 329__wikidata_intersection__dev\n",
      "Which Super Bowl did the San Francisco 49ers compete in?\n",
      "['Super Bowl XXIV', 'Super Bowl XXIII', 'Super Bowl XLVII', 'Super Bowl XVI', 'Super Bowl XIX', 'Super Bowl XXIX', 'Super Bowl LIV']\n",
      "\n",
      "227 229__wikidata_intersection__dev\n",
      "Carlton Football Club competed in which VFL/AFL Grand Final?\n",
      "['1910 VFL Grand Final', '1970 VFL Grand Final', '1986 VFL Grand Final', '1907 VFL Grand Final', '1972 VFL Grand Final', '1906 VFL Grand Final', '1969 VFL Grand Final', '1999 AFL Grand Final', '1904 VFL Grand Final', '1915 VFL Grand Final', '1938 VFL Grand Final', '1982 VFL Grand Final', '1993 AFL Grand Final', '1947 VFL Grand Final', '1968 VFL Grand Final', '1916 VFL Grand Final', '1949 VFL Grand Final', '1987 VFL Grand Final', '1995 AFL Grand Final', '1909 VFL Grand Final', '1981 VFL Grand Final', '1914 VFL Grand Final', '1979 VFL Grand Final', '1908 VFL Grand Final', '1921 VFL Grand Final', '1932 VFL Grand Final', '1962 VFL Grand Final', '1945 VFL Grand Final']\n",
      "\n"
     ]
    }
   ],
   "source": [
    "# Can we make a prompt out of these?\n",
    "for ii in sorted(inds_to_type['filter']):#range(10):\n",
    "    i = ii + 0\n",
    "    print(i, qmp_comp_devd[i]['qid'])\n",
    "    print(qmp_comp_devd[i]['question_text'])\n",
    "    print([a['answer_text'] for a in qmp_comp_devd[i]['answer_list']])\n",
    "    print()"
   ]
  },
  {
   "cell_type": "code",
   "execution_count": 54,
   "id": "1dd31ab7",
   "metadata": {},
   "outputs": [],
   "source": [
    "\"\"\"\n",
    "[{\n",
    "        'question_text': '',\n",
    "        'question_type': '',\n",
    "        'subquestions': [\n",
    "            '',\n",
    "            '',\n",
    "        ]\n",
    "    }],\n",
    "\"\"\"\n",
    "decomposed_qs_intersection = {\n",
    "    0: [{\n",
    "        'question_text': 'Harmony Korine was both screenwriter and director of what movie?',\n",
    "        'question_type': 'intersection',\n",
    "        'subquestions': [\n",
    "            'Harmony Korine was the screenwriter of what movie?',\n",
    "            'Harmony Korine was the director of what movie?',\n",
    "        ]\n",
    "    }],\n",
    "    22: [{ # intersection\n",
    "        \"question_text\": \"Who was both a graduate from Ananda College and University of Ceylon?\",\n",
    "        \"question_type\": \"intersection\",\n",
    "        \"subquestions\": [\n",
    "            \"Who graduated from Ananda College?\",\n",
    "            \"Who graduated from University of Ceylon?\",\n",
    "        ],\n",
    "    }],\n",
    "    25: [{\n",
    "        'question_text': 'Which movie had K. S. L. Swamy as its director and Vijaya Bhaskar as its musical composer?',\n",
    "        'question_type': 'intersection',\n",
    "        'subquestions': [\n",
    "            'Which movie has K. S. L. Swamy as its director?',\n",
    "            'Which movie has Vijaya Bhaskar as its musical composer?',\n",
    "        ]\n",
    "    }],\n",
    "    29: [{\n",
    "        \"question_text\": \"Which PGA Champsionship did Jack Nicklaus win?\",\n",
    "        \"question_type\": \"intersection\",\n",
    "        \"subquestions\": [\n",
    "            \"Which PGA Champsionship have been played?\",\n",
    "            \"What games has Jack Nicklaus won?\"\n",
    "        ]\n",
    "    }],\n",
    "    90: [{ # intersection (but I see filter too)\n",
    "        \"question_text\": \"What Superbowls did the Washington Football Team play in?\",\n",
    "        \"question_type\": \"intersection\",\n",
    "        \"subquestions\": [\n",
    "            \"Which Superbowls were played?\",\n",
    "            \"Which games did the Washington Football Team play in?\"\n",
    "        ]\n",
    "    }],\n",
    "    95: [{\n",
    "        'question_text': 'What music was composed by Devi Sri Prasad and produced by Dil Raju?',\n",
    "        'question_type': 'intersection',\n",
    "        'subquestions': [\n",
    "            'What music was composed by Devi Sri Prasad?',\n",
    "            'What music was produced by Dil Raju?',\n",
    "        ]\n",
    "    }],\n",
    "    380: [{ # intersection\n",
    "        \"question_text\": \"Which competition had Vitória F.C. and S.L. Benfica as participants?\",\n",
    "        \"question_type\": \"intersection\",\n",
    "        \"subquestions\": [\n",
    "            \"Which competition had Vitória F.C. as a participant?\",\n",
    "            \"Which competition had S.L. Benfica as a participant?\",\n",
    "\n",
    "        ],\n",
    "    }],\n",
    "    385: [{\n",
    "        'question_text': 'What movie did Irwin Allen both direct and produce?',\n",
    "        'question_type': 'intersection',\n",
    "        'subquestions': [\n",
    "            'What movie did Irwin Allen direct?',\n",
    "            'What movie did Irwin Allen produce?',\n",
    "        ]\n",
    "    }],\n",
    "}\n",
    "\n",
    "\"\"\"\n",
    "[{\n",
    "            'question_text': '',\n",
    "            'question_type': '',\n",
    "            'subquestions': [\n",
    "                '',\n",
    "                '',\n",
    "            ]\n",
    "        }],\n",
    "\"\"\"\n",
    "decomposed_qs_composition = {\n",
    "    11: [{\n",
    "        'question_text': 'Joe Pasternak produced a motion picture that was directed by who?',\n",
    "        'question_type': 'composition',\n",
    "        'subquestions': [\n",
    "            'What motion pictures did Joe Pasternak produce?',\n",
    "            'Who directed it?',\n",
    "        ]\n",
    "    }],\n",
    "    110: [{\n",
    "        'question_text': 'Who directed the TV show that Tom Kauffman worked on as a screenwriter?',\n",
    "        'question_type': 'composition',\n",
    "        'subquestions': [\n",
    "            'What TV shows did Tom Kauffman work on as a screenwriter?',\n",
    "            'Who directed it?',\n",
    "        ]\n",
    "    }],\n",
    "    120: [{\n",
    "        'question_text': 'Where did former Bishops of Warrington go to school?',\n",
    "        'question_type': 'composition',\n",
    "        'subquestions': [\n",
    "            'Who were the former Bishops of Warrington?',\n",
    "            'Where did they go to school?',\n",
    "        ]\n",
    "    }],\n",
    "    150: [{ # compositional\n",
    "        \"question_text\": \"Who was credited as director for a movie penned by Peter Baynham?\",\n",
    "        \"question_type\": \"composition\",\n",
    "        \"subquestions\": [\n",
    "            \"What movies were penned by Peter Baynham?\",\n",
    "            \"Who was credited the director for it?\"\n",
    "        ],\n",
    "    }],\n",
    "    221: [{\n",
    "        'question_text': 'Where did an employee of University of Pennsylvania Law School receive their education?',\n",
    "        'question_type': 'composition',\n",
    "        'subquestions': [\n",
    "            'Who was an employee of University of Pennsylvania Law School?',\n",
    "            'Where did they receive their education?',\n",
    "        ]\n",
    "    }],\n",
    "}\n",
    "\n",
    "# many of these are intersections that are better answered as filters\n",
    "decomposed_qs_filter = {\n",
    "    29: [{\n",
    "        \"question_text\": \"Which PGA Champsionship did Jack Nicklaus win?\",\n",
    "        \"question_type\": \"filter\",\n",
    "        \"subquestions\": [\n",
    "            \"Which PGA Champsionship have been played?\",\n",
    "            \"Did Jack Nicklaus win it?\"\n",
    "        ]\n",
    "    }],\n",
    "    52: [{\n",
    "        \"question_text\": \"Which Monaco Grand Prix was won by Michael Schumacher?\",\n",
    "        \"question_type\": \"filter\",\n",
    "        \"subquestions\": [\n",
    "            \"Which Monaco Grand Prix have been held?\",\n",
    "            \"Did Michael Schumacher win it?\"\n",
    "        ]\n",
    "    }],\n",
    "    59: [{\n",
    "        \"question_text\": \"Which Monaco Grand Prix did Ayrton Senna win?\",\n",
    "        \"question_type\": \"filter\",\n",
    "        \"subquestions\": [\n",
    "            \"Which Monaco Grand Prix have been held?\",\n",
    "            \"Did Ayrton Senna win it?\"\n",
    "        ]\n",
    "    }],\n",
    "    90 : [{ # intersection (but I see filter too)\n",
    "        \"question_text\": \"What Superbowls did the Washington Football Team play in?\",\n",
    "        \"question_type\": \"filter\",\n",
    "        \"subquestions\": [\n",
    "            \"Which Superbowls have been played?\",\n",
    "            \"Did the Washington Football Team play in it?\"\n",
    "        ]\n",
    "    }],\n",
    "    155: [{\n",
    "        'question_text': 'Which FA Cup Final featured the Tottenham Hotspurs as competitors?',\n",
    "        'question_type': 'filter',\n",
    "        'subquestions': [\n",
    "            'Which FA Cup Finals were played?',\n",
    "            'Did it feature the Tottenham Hotsurs as a competitor?',\n",
    "        ]\n",
    "    }],\n",
    "    223: [{\n",
    "        \"question_text\": \"In which FA Cup Final did Blackburn Rovers F.C. compete?\",\n",
    "        \"question_type\": \"filter\",\n",
    "        \"subquestions\": [\n",
    "            \"Which FA Cup Finals have been played?\",\n",
    "            \"Did Blackburn Rovers F.C. compete in it?\"\n",
    "        ]\n",
    "    }],\n",
    "}"
   ]
  },
  {
   "cell_type": "code",
   "execution_count": null,
   "id": "263ab3b2",
   "metadata": {},
   "outputs": [],
   "source": [
    "qmp_comp_devd[155]['qid']"
   ]
  },
  {
   "cell_type": "code",
   "execution_count": null,
   "id": "6db1d3cc",
   "metadata": {},
   "outputs": [],
   "source": []
  },
  {
   "cell_type": "code",
   "execution_count": 50,
   "id": "daa0dd34",
   "metadata": {},
   "outputs": [],
   "source": [
    "# Then, lets focus on pure intersections for now as the first trial q is a pure intersection\n",
    "\"\"\"\n",
    "Question: Who lived longer, Muhammad Ali or Alan Turing?\n",
    "Are follow up questions needed here: Yes.\n",
    "Follow up: How old was Muhammad Ali when he died?\n",
    "Intermediate answer: Muhammad Ali was 74 years old when he died.\n",
    "Follow up: How old was Alan Turing when he died?\n",
    "Intermediate answer: Alan Turing was 41 years old when he died.\n",
    "So the final answer is: Muhammad Ali \n",
    "\"\"\"\n",
    "#Is this a composition, filter or intersection question: {qtype}\n",
    "\n",
    "def qdata_to_prompt(qdata, qdecompose):\n",
    "    #Question 2: {subqs2}\"\"\".format(\n",
    "    return \"\"\"\n",
    "Question: {init_q}\n",
    "Can this be decomposed: Yes.\n",
    "Is this a composition or intersection question: {qtype}.\n",
    "Question 1: {subqs1}\n",
    "Question 2: {subqs2}\n",
    "So the final answers are: {answer_list}.\"\"\".format(\n",
    "        init_q=qdata['question_text'],\n",
    "        qtype=qdecompose['question_type'],\n",
    "        subqs1=qdecompose['subquestions'][0],\n",
    "        subqs2=qdecompose['subquestions'][1],\n",
    "        answer_list=\", \".join(list(set([a['answer_text'] for a in qdata['answer_list']]))[:5]),\n",
    "    )"
   ]
  },
  {
   "cell_type": "code",
   "execution_count": null,
   "id": "9aece6af",
   "metadata": {},
   "outputs": [],
   "source": [
    "qind = 22\n",
    "print(qdata_to_prompt(qmp_comp_devd[qind], decomposed_qs_intersection[qind][0]))"
   ]
  },
  {
   "cell_type": "code",
   "execution_count": null,
   "id": "5b42c128",
   "metadata": {},
   "outputs": [],
   "source": [
    "# Intersection Prompt\n",
    "test_qind = 385\n",
    "for qind in [\n",
    "    0, \n",
    "    22, \n",
    "    25, \n",
    "    95,\n",
    "    385\n",
    "]:\n",
    "    if qind == test_qind:\n",
    "        continue\n",
    "    print(qdata_to_prompt(qmp_comp_devd[qind], decomposed_qs_intersection[qind][0]))\n",
    "print()\n",
    "print(\"Question: \" + qmp_comp_devd[test_qind]['question_text'])\n",
    "print(\"Can this be decomposed:\")"
   ]
  },
  {
   "cell_type": "code",
   "execution_count": null,
   "id": "e05dbd18",
   "metadata": {},
   "outputs": [],
   "source": [
    "# Composition Prompt\n",
    "test_qind = 11\n",
    "for qind in [\n",
    "    11, \n",
    "    110, \n",
    "    120, \n",
    "    150,\n",
    "    221\n",
    "]:\n",
    "    if qind == test_qind:\n",
    "        continue\n",
    "    print(qdata_to_prompt(qmp_comp_devd[qind], decomposed_qs_composition[qind][0]))\n",
    "print()\n",
    "print(\"Question: \" + qmp_comp_devd[test_qind]['question_text'])\n",
    "print(\"Can this be decomposed:\")"
   ]
  },
  {
   "cell_type": "code",
   "execution_count": null,
   "id": "b364f688",
   "metadata": {},
   "outputs": [],
   "source": [
    "# Combined: get q type too\n",
    "test_qind = 25\n",
    "curr_qs_comp = {**decomposed_qs_composition, **decomposed_qs_intersection}\n",
    "for qind in [\n",
    "    0, \n",
    "    11, \n",
    "    110, \n",
    "    22, \n",
    "    120, \n",
    "    25, \n",
    "]:\n",
    "    if qind == test_qind:\n",
    "        continue\n",
    "    print(qdata_to_prompt(qmp_comp_devd[qind], curr_qs_comp[qind][0]))\n",
    "print()\n",
    "print(\"Question: \" + qmp_comp_devd[test_qind]['question_text'])\n",
    "print(\"Can this be decomposed:\")"
   ]
  },
  {
   "cell_type": "code",
   "execution_count": 31,
   "id": "b26bfe69",
   "metadata": {},
   "outputs": [
    {
     "name": "stdout",
     "output_type": "stream",
     "text": [
      "\n",
      "Question: Which PGA Champsionship did Jack Nicklaus win?\n",
      "Can this be decomposed: Yes.\n",
      "Is this a composition, filter or intersection question: filter.\n",
      "Question 1: Which PGA Champsionship have been played?\n",
      "Question 2: Did Jack Nicklaus win it?\n",
      "So the final answers are: 1980 PGA Championship, 1971 PGA Championship, 1975 PGA Championship, 1963 PGA Championship, 1973 PGA Championship.\n",
      "\n",
      "Question: Which Monaco Grand Prix was won by Michael Schumacher?\n",
      "Can this be decomposed: Yes.\n",
      "Is this a composition, filter or intersection question: filter.\n",
      "Question 1: Which Monaco Grand Prix have been held?\n",
      "Question 2: Did Michael Schumacher win it?\n",
      "So the final answers are: 1999 Monaco Grand Prix, 1997 Monaco Grand Prix, 1994 Monaco Grand Prix, 2001 Monaco Grand Prix, 1995 Monaco Grand Prix.\n",
      "\n",
      "Question: What Superbowls did the Washington Football Team play in?\n",
      "Can this be decomposed: Yes.\n",
      "Is this a composition, filter or intersection question: filter.\n",
      "Question 1: Which Superbowls have been played?\n",
      "Question 2: Did the Washington Football Team play in it?\n",
      "So the final answers are: Super Bowl XXVI, Super Bowl XVII, Super Bowl VII, Super Bowl XVIII, Super Bowl XXII.\n",
      "\n",
      "Question: Which FA Cup Final featured the Tottenham Hotspurs as competitors?\n",
      "Can this be decomposed: Yes.\n",
      "Is this a composition, filter or intersection question: filter.\n",
      "Question 1: Which FA Cup Finals were played?\n",
      "Question 2: Did it feature the Tottenham Hotsurs as a competitor?\n",
      "So the final answers are: 1921 FA Cup Final, 1982 FA Cup Final, 1961 FA Cup Final, 1981 FA Cup Final, 1962 FA Cup Final.\n",
      "\n",
      "Question: In which FA Cup Final did Blackburn Rovers F.C. compete?\n",
      "Can this be decomposed:\n"
     ]
    }
   ],
   "source": [
    "# Filter prompt\n",
    "test_qind = 223\n",
    "curr_qs_comp = {**decomposed_qs_composition, **decomposed_qs_intersection, **decomposed_qs_filter}\n",
    "for qind in [\n",
    "    29,\n",
    "    52,\n",
    "    90,\n",
    "    155,\n",
    "    223,\n",
    "]:\n",
    "    if qind == test_qind:\n",
    "        continue\n",
    "    print(qdata_to_prompt(qmp_comp_devd[qind], curr_qs_comp[qind][0]))\n",
    "print()\n",
    "print(\"Question: \" + qmp_comp_devd[test_qind]['question_text'])\n",
    "print(\"Can this be decomposed:\")"
   ]
  },
  {
   "cell_type": "code",
   "execution_count": 55,
   "id": "c61638ca",
   "metadata": {},
   "outputs": [
    {
     "name": "stdout",
     "output_type": "stream",
     "text": [
      "\n",
      "Question: Harmony Korine was both screenwriter and director of what movie?\n",
      "Can this be decomposed: Yes.\n",
      "Is this a composition or intersection question: intersection.\n",
      "Question 1: Harmony Korine was the screenwriter of what movie?\n",
      "Question 2: Harmony Korine was the director of what movie?\n",
      "So the final answers are: Gummo, The Beach Bum, Mister Lonely, Spring Breakers, Julien Donkey-Boy.\n",
      "\n",
      "Question: Joe Pasternak produced a motion picture that was directed by who?\n",
      "Can this be decomposed: Yes.\n",
      "Is this a composition or intersection question: composition.\n",
      "Question 1: What motion pictures did Joe Pasternak produce?\n",
      "Question 2: Who directed it?\n",
      "So the final answers are: Richard Wallace, Erich Schönfelder, Norman Taurog, Charles Walters, Richard Thorpe.\n",
      "\n",
      "Question: Who was both a graduate from Ananda College and University of Ceylon?\n",
      "Can this be decomposed: Yes.\n",
      "Is this a composition or intersection question: intersection.\n",
      "Question 1: Who graduated from Ananda College?\n",
      "Question 2: Who graduated from University of Ceylon?\n",
      "So the final answers are: J. B. Disanayake, K. D. Arulpragasam, D. Shelton A. Gunaratne, Chandre Dharma-wardana, V. K. Samaranayake.\n",
      "\n",
      "Question: Which PGA Champsionship did Jack Nicklaus win?\n",
      "Can this be decomposed: Yes.\n",
      "Is this a composition or intersection question: intersection.\n",
      "Question 1: Which PGA Champsionship have been played?\n",
      "Question 2: What games has Jack Nicklaus won?\n",
      "So the final answers are: 1975 PGA Championship, 1963 PGA Championship, 1973 PGA Championship, 1980 PGA Championship, 1971 PGA Championship.\n",
      "\n",
      "Question: What music was composed by Devi Sri Prasad and  produced by Dil Raju?\n",
      "Can this be decomposed: Yes.\n",
      "Is this a composition or intersection question: intersection.\n",
      "Question 1: What music was composed by Devi Sri Prasad?\n",
      "Question 2: What music was produced by Dil Raju?\n",
      "So the final answers are: Arya, Bhadra, Nenu Local, Yevadu, Middle Class Abbai.\n",
      "\n",
      "Question: Who directed the TV show that Tom Kauffman worked on as a screenwriter?\n",
      "Can this be decomposed: Yes.\n",
      "Is this a composition or intersection question: composition.\n",
      "Question 1: What TV shows did Tom Kauffman work on as a screenwriter?\n",
      "Question 2: Who directed it?\n",
      "So the final answers are: Anthony Chun, Stephen Sandoval, Kate Herron, Wes Archer, Bryan Newton.\n",
      "\n",
      "Question: Where did former Bishops of Warrington go to school?\n",
      "Can this be decomposed: Yes.\n",
      "Is this a composition or intersection question: composition.\n",
      "Question 1: Who were the former Bishops of Warrington?\n",
      "Question 2: Where did they go to school?\n",
      "So the final answers are: Rugby School, Christ Church, Trinity College, King's College London, Durham University.\n",
      "\n",
      "Question: Who was credited as director for a movie penned by Peter Baynham?\n",
      "Can this be decomposed: Yes.\n",
      "Is this a composition or intersection question: composition.\n",
      "Question 1: What movies were penned by Peter Baynham?\n",
      "Question 2: Who was credited the director for it?\n",
      "So the final answers are: Genndy Tartakovsky, Jason Winer, Larry Charles, Louis Leterrier, Sarah Smith.\n",
      "\n",
      "Question: Where did an employee of University of Pennsylvania Law School receive their education?\n",
      "Can this be decomposed: Yes.\n",
      "Is this a composition or intersection question: composition.\n",
      "Question 1: Who was an employee of University of Pennsylvania Law School?\n",
      "Question 2: Where did they receive their education?\n",
      "So the final answers are: Merton College, Northwestern University School of Law, University of Michigan Law School, Princeton University, Lower Merion High School.\n",
      "\n",
      "Question: What movie did Irwin Allen both direct and produce?\n",
      "Can this be decomposed: Yes.\n",
      "Is this a composition or intersection question: intersection.\n",
      "Question 1: What movie did Irwin Allen direct?\n",
      "Question 2: What movie did Irwin Allen produce?\n",
      "So the final answers are: Five Weeks in a Balloon, The Animal World, The Lost World, City Beneath the Sea, Voyage to the Bottom of the Sea.\n",
      "\n",
      "1\n",
      "Question: Where did administrators of the UN Development Programme attend school?\n",
      "Can this be decomposed:\n",
      "\n",
      "2\n",
      "Question: Who directed a film that had P. Balachandran as a screenwriter?\n",
      "Can this be decomposed:\n",
      "\n",
      "3\n",
      "Question: Where was a Bishop of Bradford taught?\n",
      "Can this be decomposed:\n",
      "\n",
      "4\n",
      "Question: For which movie did Mani Ratnam work on the script and serve as producer?\n",
      "Can this be decomposed:\n",
      "\n",
      "5\n",
      "Question: From which country did Seattle Storm make draft selections?\n",
      "Can this be decomposed:\n",
      "\n",
      "6\n",
      "Question: who are alumnus of both Upper Canada College and Trinity College?\n",
      "Can this be decomposed:\n",
      "\n",
      "7\n",
      "Question: Where did a First-Circuit Appeals Court Judge of the United States attend college?\n",
      "Can this be decomposed:\n",
      "\n",
      "8\n",
      "Question: Who directed the TV show whose screenplay was written by B. J. Novak?\n",
      "Can this be decomposed:\n",
      "\n",
      "9\n",
      "Question: Which movie was both directed and screenwritten by Kamal Haasan?\n",
      "Can this be decomposed:\n",
      "\n",
      "10\n",
      "Question: Arsenal F.C. competed in and won which competition?\n",
      "Can this be decomposed:\n",
      "\n",
      "52\n",
      "Question: Which Monaco Grand Prix was won by Michael Schumacher?\n",
      "Can this be decomposed:\n",
      "\n",
      "74\n",
      "Question: Which Formula One season did Lewis Hamilton win?\n",
      "Can this be decomposed:\n",
      "\n",
      "130\n",
      "Question: Which directors worked on the films that were screenwritten by Patrick Sheane Duncan?\n",
      "Can this be decomposed:\n",
      "\n",
      "131\n",
      "Question: Lewis Hamilton won which Japanese Grand Prix competition?\n",
      "Can this be decomposed:\n",
      "\n",
      "132\n",
      "Question: Which competition had the St. Louis Cardinals as a participant, and ultimate victor?\n",
      "Can this be decomposed:\n",
      "\n",
      "133\n",
      "Question: Which school or university attended Long-Term Capital Management employees?\n",
      "Can this be decomposed:\n",
      "\n",
      "134\n",
      "Question: In which competition did Manchester United F.C and Manchester City F.C participated together?\n",
      "Can this be decomposed:\n",
      "\n",
      "135\n",
      "Question: What TV show/episode was produced by Philip Hinchcliffe?\n",
      "Can this be decomposed:\n",
      "\n",
      "136\n",
      "Question: Which sports competition sponsored by embassies was won by Stephen Hendry?\n",
      "Can this be decomposed:\n",
      "\n",
      "137\n",
      "Question: What T. Rajendar production featured compositions by T. Rajendar?\n",
      "Can this be decomposed:\n",
      "\n",
      "138\n",
      "Question: For what film did Ethan Coen act as both producer and director?\n",
      "Can this be decomposed:\n",
      "\n",
      "139\n",
      "Question: Where was the Counselor to the President educated?\n",
      "Can this be decomposed:\n",
      "\n",
      "184\n",
      "Question: Which British Grand Prix was won by Lewis Hamilton?\n",
      "Can this be decomposed:\n",
      "\n",
      "205\n",
      "Question: Which Hungarian Grand Prix did Lewis Hamilton win?\n",
      "Can this be decomposed:\n",
      "\n",
      "270\n",
      "Question: Essenden Football Club competed against Carlton Football Club at what event?\n",
      "Can this be decomposed:\n",
      "\n",
      "271\n",
      "Question: In which Super Bowl the New York Giants took part?\n",
      "Can this be decomposed:\n",
      "\n",
      "272\n",
      "Question: What educational institutions have people who have held the role of Bishop of Newcastle attended?\n",
      "Can this be decomposed:\n",
      "\n",
      "273\n",
      "Question: The person who is a member of the Ten American Painters was educated at what institution?\n",
      "Can this be decomposed:\n",
      "\n",
      "274\n",
      "Question: Where did a Managing Director of the IMF attend school?\n",
      "Can this be decomposed:\n",
      "\n",
      "275\n",
      "Question: What motion picture was scripted by the team of Craig Pearce and Baz Luhrmann?\n",
      "Can this be decomposed:\n",
      "\n",
      "276\n",
      "Question: What TV show did both Angela Kang and Corey Reed screenwrite?\n",
      "Can this be decomposed:\n",
      "\n",
      "277\n",
      "Question: Which football match featured Manchester United versus Leicester City?\n",
      "Can this be decomposed:\n",
      "\n",
      "278\n",
      "Question: What competition featured Manchester United F.C. as both participant and winner?\n",
      "Can this be decomposed:\n",
      "\n",
      "279\n",
      "Question: Which movie did John Carpenter direct for which he also composed the music?\n",
      "Can this be decomposed:\n",
      "\n",
      "300\n",
      "Question: Which movie was an EON production and had Richard Maibaum as its screenwriter?\n",
      "Can this be decomposed:\n",
      "\n",
      "301\n",
      "Question: Which of Arnold Schoenberg's pupils counted themselves among the Second Viennese School?\n",
      "Can this be decomposed:\n",
      "\n",
      "302\n",
      "Question: Which driver was the winner of the Daytona 500?\n",
      "Can this be decomposed:\n",
      "\n",
      "303\n",
      "Question: Which movie did Geethapriya  direct which also had Vijaya Bhaskar as its musical composer?\n",
      "Can this be decomposed:\n",
      "\n",
      "304\n",
      "Question: Who works for both the National and the American Leagues?\n",
      "Can this be decomposed:\n",
      "\n",
      "305\n",
      "Question: Which film screenwritten by David CHase was also directed by Tim Van Patten?\n",
      "Can this be decomposed:\n",
      "\n",
      "306\n",
      "Question: The Bishop of London went to what educational places?\n",
      "Can this be decomposed:\n",
      "\n",
      "307\n",
      "Question: What FA cup was won by Manchester Cty FC?\n",
      "Can this be decomposed:\n",
      "\n",
      "308\n",
      "Question: Who directed the movie that had a screenplay written by Stephen Gaghan?\n",
      "Can this be decomposed:\n",
      "\n",
      "309\n",
      "Question: Dan Halstead served as producer on a project directed by who?\n",
      "Can this be decomposed:\n",
      "\n",
      "340\n",
      "Question: Which movie or series written by John Lee Mahin did Victor Fleming direct?\n",
      "Can this be decomposed:\n",
      "\n",
      "341\n",
      "Question: Which team was a finalist in a UEFA Champions League?\n",
      "Can this be decomposed:\n",
      "\n",
      "342\n",
      "Question: Where did a US Army chief of staff attend college?\n",
      "Can this be decomposed:\n",
      "\n",
      "343\n",
      "Question: Who was responsible for direction of a Shashi Kapoor-produced film?\n",
      "Can this be decomposed:\n",
      "\n",
      "344\n",
      "Question: What movie did Christopher Nolan write and produce?\n",
      "Can this be decomposed:\n",
      "\n",
      "345\n",
      "Question: Stephanie Savage was screenwriter for a television program directed by who?\n",
      "Can this be decomposed:\n",
      "\n",
      "346\n",
      "Question: Which competition did Manchester City compete in, and ultimately win?\n",
      "Can this be decomposed:\n",
      "\n",
      "347\n",
      "Question: The objects Charles E. Barber designed depicted what entity?\n",
      "Can this be decomposed:\n",
      "\n",
      "348\n",
      "Question: In which Super Bowl was the Pittsburgh Steelers team a competitor?\n",
      "Can this be decomposed:\n",
      "\n",
      "349\n",
      "Question: Southern Newspaper owns an organization located in what city?\n",
      "Can this be decomposed:\n",
      "\n",
      "360\n",
      "Question: Who directed the movie which featured music composed by T. Rajendar?\n",
      "Can this be decomposed:\n",
      "\n",
      "361\n",
      "Question: Which competition featured both the Manchester City and Arsenal football clubs as participants?\n",
      "Can this be decomposed:\n",
      "\n",
      "383\n",
      "Question: Which French Grand Prix featured Michael Schumacher as the winner?\n",
      "Can this be decomposed:\n"
     ]
    }
   ],
   "source": [
    "# Combined: get q type too\n",
    "test_qind = 40\n",
    "curr_qs_comp = {**decomposed_qs_composition, **decomposed_qs_intersection}#, **decomposed_qs_filter}\n",
    "for qind in sorted([\n",
    "    # Intersection\n",
    "    0, \n",
    "    22, \n",
    "    29, # FILTER\n",
    "    #25, \n",
    "    95,\n",
    "    385,\n",
    "    # Composition\n",
    "    11, \n",
    "    110, \n",
    "    120, \n",
    "    150,\n",
    "    221,\n",
    "    # Filter\n",
    "    #29,\n",
    "    #52,\n",
    "    #90,\n",
    "    #155,\n",
    "    #223,\n",
    "]):\n",
    "    if qind == test_qind:\n",
    "        continue\n",
    "    print(qdata_to_prompt(qmp_comp_devd[qind], curr_qs_comp[qind][0]))\n",
    "    \n",
    "for test_qind in [1, 2, 3, 4, 5, 6, 7, 8, 9, 10, 52, 74, 130, 131, 132, 133, 134, 135, 136, 137, 138, 139, 184, 205, 270, 271, 272, 273, 274, 275, 276, 277, 278, 279, 300, 301, 302, 303, 304, 305, 306, 307, 308, 309, 340, 341, 342, 343, 344, 345, 346, 347, 348, 349, 360, 361, 383]:\n",
    "    #test_qind = i+40\n",
    "    #if \"int\" not in qmp_comp_devd[test_qind]['qid']:\n",
    "    #    continue\n",
    "    print()\n",
    "    print(test_qind)\n",
    "    print(\"Question: \" + qmp_comp_devd[test_qind]['question_text'])\n",
    "    print(\"Can this be decomposed:\")"
   ]
  },
  {
   "cell_type": "code",
   "execution_count": null,
   "id": "c4dbdee6",
   "metadata": {},
   "outputs": [],
   "source": [
    "test_qind = 221\n",
    "for qind in [\n",
    "    11, \n",
    "    110, \n",
    "    120, \n",
    "    150,\n",
    "    221\n",
    "]:\n",
    "    if qind == test_qind:\n",
    "        continue\n",
    "    print(qdata_to_prompt(qmp_comp_devd[qind], decomposed_qs_composition[qind][0]))\n",
    "print()\n",
    "print(\"Question: \" + qmp_comp_devd[test_qind]['question_text'])\n",
    "print(\"Can this be decomposed:\")"
   ]
  },
  {
   "cell_type": "code",
   "execution_count": null,
   "id": "da424f1c",
   "metadata": {},
   "outputs": [],
   "source": []
  },
  {
   "cell_type": "code",
   "execution_count": null,
   "id": "8c86dc4a",
   "metadata": {},
   "outputs": [],
   "source": []
  },
  {
   "cell_type": "code",
   "execution_count": null,
   "id": "c3305eb0",
   "metadata": {},
   "outputs": [],
   "source": [
    "def comp_ans(gta_str, preda_str):\n",
    "    gta = list(set([a.replace(' ', '').lower() for a in gta_str.split(\", \")]))\n",
    "    preda = set(list([a.replace(' ', '').lower() for a in preda_str.split(\", \")]))\n",
    "    print(\"Num pred answers:\", len(preda))\n",
    "    num_in = 0\n",
    "    for a in gta:\n",
    "        if a in preda:\n",
    "            num_in += 1\n",
    "            \n",
    "    print(f\"Num GT pred: {num_in} / {len(gta)}\")\n",
    "    print(f\"Num pred not GT: {len(preda) - num_in}\")"
   ]
  },
  {
   "cell_type": "code",
   "execution_count": null,
   "id": "8fbfa897",
   "metadata": {},
   "outputs": [],
   "source": [
    "comp_ans(\n",
    "    gta_str=\"University of Pennsylvania, University of Oklahoma, New College of Florida, University of Pennsylvania Law School, University of Toronto, Alfred University, Southwestern College, University of Pennsylvania, Stanford Law School, Merton College, St Antony's College, Harvard Law School, Harvard University, Yale University, Reading High School, Smith College, Harvard University, Yale Law School, University of Pennsylvania Law School, University of Chicago Law School, University of Pennsylvania Law School, Lower Merion High School, Massachusetts Institute of Technology, Islamic Azad University, University of Pennsylvania Law School, Northwestern University School of Law, Harvard University, University of California, Harvard Law School, University of North Carolina at Chapel Hill, University of Chicago, Yale Law School, University of Pennsylvania Law School, Yale Law School, Princeton University, Somerville College, Cornell University, University of Oklahoma, University of Michigan Law School, University of Pennsylvania Law School, University of Michigan, University of Pennsylvania Law School, University of Pennsylvania Law School\",\n",
    "    preda_str=\"Stanford University, Harvard University, Yale University, University of California, Berkeley, University of Virginia, Columbia University, University of Michigan, Duke University, University of Pennsylvania, Georgetown University, Cornell University, Northwestern University\",\n",
    ")"
   ]
  },
  {
   "cell_type": "code",
   "execution_count": null,
   "id": "d67d705c",
   "metadata": {},
   "outputs": [],
   "source": []
  }
 ],
 "metadata": {
  "kernelspec": {
   "display_name": "Python 3 (ipykernel)",
   "language": "python",
   "name": "python3"
  },
  "language_info": {
   "codemirror_mode": {
    "name": "ipython",
    "version": 3
   },
   "file_extension": ".py",
   "mimetype": "text/x-python",
   "name": "python",
   "nbconvert_exporter": "python",
   "pygments_lexer": "ipython3",
   "version": "3.9.0"
  }
 },
 "nbformat": 4,
 "nbformat_minor": 5
}
