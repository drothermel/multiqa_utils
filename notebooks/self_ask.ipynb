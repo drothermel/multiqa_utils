{
 "cells": [
  {
   "cell_type": "markdown",
   "id": "4b6583bc",
   "metadata": {},
   "source": [
    "# Self-Ask Exploration\n",
    "\n",
    "The goal is to test out self-ask on complex questions from QAMPARI and RoMQA.\n",
    "\n",
    "We'll start with QAMPARI, getting all of the complex questions from the dev set."
   ]
  },
  {
   "cell_type": "code",
   "execution_count": 1,
   "id": "f822c60f",
   "metadata": {},
   "outputs": [],
   "source": [
    "import jsonlines"
   ]
  },
  {
   "cell_type": "code",
   "execution_count": null,
   "id": "9eefa579",
   "metadata": {},
   "outputs": [],
   "source": []
  },
  {
   "cell_type": "markdown",
   "id": "6b08312d",
   "metadata": {},
   "source": [
    "**Load & Sort QAMPARI Data**"
   ]
  },
  {
   "cell_type": "code",
   "execution_count": 2,
   "id": "992927e0",
   "metadata": {},
   "outputs": [],
   "source": [
    "qmp_dev_data_path = \"/scratch/ddr8143/multiqa/downloads/data/qampari/dev_data.jsonl\""
   ]
  },
  {
   "cell_type": "code",
   "execution_count": 3,
   "id": "460a187b",
   "metadata": {},
   "outputs": [],
   "source": [
    "qmp_comp_devd = []\n",
    "with open(qmp_dev_data_path) as f:\n",
    "    qmp_devd_iter = jsonlines.Reader(f)\n",
    "    for d in qmp_devd_iter:\n",
    "        if 'wikitables' in d['qid'] or 'wikidata_simple' in d['qid']:\n",
    "            continue\n",
    "        qmp_comp_devd.append(d)"
   ]
  },
  {
   "cell_type": "code",
   "execution_count": 4,
   "id": "5b0df28e",
   "metadata": {},
   "outputs": [
    {
     "name": "stdout",
     "output_type": "stream",
     "text": [
      "Num Dev Non-Simple Wikidata Qs: 400\n"
     ]
    }
   ],
   "source": [
    "print(\"Num Dev Non-Simple Wikidata Qs:\", len(qmp_comp_devd))"
   ]
  },
  {
   "cell_type": "code",
   "execution_count": 5,
   "id": "223403de",
   "metadata": {},
   "outputs": [
    {
     "name": "stdout",
     "output_type": "stream",
     "text": [
      "0 Harmony Korine was both screenwriter and director of what movie?\n",
      "1 Where did administrators of the UN Development Programme attend school?\n",
      "2 Who directed a film that had P. Balachandran as a screenwriter?\n",
      "3 Where was a Bishop of Bradford taught?\n",
      "4 For which movie did Mani Ratnam work on the script and serve as producer?\n",
      "5 From which country did Seattle Storm make draft selections?\n",
      "6 who are alumnus of both Upper Canada College and Trinity College?\n",
      "7 Where did a First-Circuit Appeals Court Judge of the United States attend college?\n",
      "8 Who directed the TV show whose screenplay was written by B. J. Novak?\n",
      "9 Which movie was both directed and screenwritten by Kamal Haasan?\n",
      "10 Arsenal F.C. competed in and won which competition?\n",
      "11 Joe Pasternak produced a motion picture that was directed by who?\n",
      "12 Who won a Coke Zero Sugar 400 competition?\n",
      "13 What team emerged victorious in the competition that included the Detroit Tigers?\n",
      "14 What film was directed by Radha Mohan and produced by Prakash Raj?\n",
      "15 S. A. Rajkumar composed the music for which film directed by S. Narayan?\n",
      "16 Who employs a consultant?\n",
      "17 Bob Cobert composed the musics for which software, art, etc. directed by Dan Curtis?\n",
      "18 Who directed the TV program that Mitchell Burgess wrote for?\n",
      "19 Who directed a George Pal production?\n",
      "20 Who was employed by both the Curtis Institute of Music and the Juilliard School?\n",
      "21 Which movie directed by A. Vincent had its music composed by G. Devarajan?\n",
      "22 Who was both a graduate from Ananda College and University of Ceylon?\n",
      "23 Which team played in a competition won by Collingwood Football Club?\n",
      "24 Where are the headquarters of areas that are a non metropolitan Roman Catholic archdiocese?\n",
      "25 Which movie had K. S. L. Swamy as its director and Vijaya Bhaskar as its musical composer?\n",
      "26 Which movie has P. Subramaniam as its director and G. Devarajan as its musical composer?\n",
      "27 Who directed the film that John Steinbeck wrote?\n",
      "28 Who screen wrote the film that Carlos Baeza directed?\n",
      "29 Which PGA Champsionship did Jack Nicklaus win?\n"
     ]
    }
   ],
   "source": [
    "for i in range(30):\n",
    "    print(i, qmp_comp_devd[i]['question_text'])"
   ]
  },
  {
   "cell_type": "code",
   "execution_count": null,
   "id": "6c3a285d",
   "metadata": {},
   "outputs": [],
   "source": []
  },
  {
   "cell_type": "markdown",
   "id": "ae18f29a",
   "metadata": {},
   "source": [
    "**Directly Use 4-shot Self-Ask Prompt**"
   ]
  },
  {
   "cell_type": "code",
   "execution_count": 26,
   "id": "3184a19c",
   "metadata": {},
   "outputs": [],
   "source": [
    "# Taken from: https://github.com/ofirpress/self-ask/blob/main/self-ask_plus_search-engine_demo.ipynb\n",
    "base_prompt = ['''Question: Who lived longer, Muhammad Ali or Alan Turing?\n",
    "Are follow up questions needed here: Yes.\n",
    "Follow up: How old was Muhammad Ali when he died?\n",
    "Intermediate answer: Muhammad Ali was 74 years old when he died.\n",
    "Follow up: How old was Alan Turing when he died?\n",
    "Intermediate answer: Alan Turing was 41 years old when he died.\n",
    "So the final answer is: Muhammad Ali \n",
    "\n",
    "Question: When was the founder of craigslist born?\n",
    "Are follow up questions needed here: Yes.\n",
    "Follow up: Who was the founder of craigslist?\n",
    "Intermediate answer: Craigslist was founded by Craig Newmark.\n",
    "Follow up: When was Craig Newmark born?\n",
    "Intermediate answer: Craig Newmark was born on December 6, 1952.\n",
    "So the final answer is: December 6, 1952\n",
    "\n",
    "Question: Who was the maternal grandfather of George Washington?\n",
    "Are follow up questions needed here: Yes.\n",
    "Follow up: Who was the mother of George Washington?\n",
    "Intermediate answer: The mother of George Washington was Mary Ball Washington.\n",
    "Follow up: Who was the father of Mary Ball Washington?\n",
    "Intermediate answer: The father of Mary Ball Washington was Joseph Ball.\n",
    "So the final answer is: Joseph Ball \n",
    "\n",
    "Question: Are both the directors of Jaws and Casino Royale from the same country? \n",
    "Are follow up questions needed here: Yes. \n",
    "Follow up: Who is the director of Jaws? \n",
    "Intermediate Answer: The director of Jaws is Steven Spielberg. \n",
    "Follow up: Where is Steven Spielberg from? \n",
    "Intermediate Answer: The United States. \n",
    "Follow up: Who is the director of Casino Royale? \n",
    "Intermediate Answer: The director of Casino Royale is Martin Campbell. \n",
    "Follow up: Where is Martin Campbell from? \n",
    "Intermediate Answer: New Zealand. \n",
    "So the final answer is: No\n",
    "\n",
    "Question: ''', \n",
    "'''\n",
    "Are follow up questions needed here:''', ]"
   ]
  },
  {
   "cell_type": "code",
   "execution_count": 23,
   "id": "3d05d833",
   "metadata": {},
   "outputs": [],
   "source": [
    "# Also taken from: https://github.com/ofirpress/self-ask/blob/main/self-ask_plus_search-engine_demo.ipynb\n",
    "# But then modified\n",
    "\n",
    "#def promptf(question, prompt, intermediate = \"\\nIntermediate answer:\", followup = \"Follow up:\", finalans= '\\nSo the final answer is:'):\n",
    "INTERMEDIATE = \"\\nIntermediate answer:\"\n",
    "FOLLOWUP = \"Follow up:\"\n",
    "FINALANS = \"\\nSo the final answer is:\"\n",
    "def printprompt(qid, devqs, prompt):\n",
    "    question = devqs[qid]['question_text']\n",
    "    cur_prompt = prompt[0] +  question + prompt[1]\n",
    "\n",
    "    print(cur_prompt, end ='')\n",
    "\n",
    "    \"\"\"\n",
    "    ret_text = call_gpt(cur_prompt, intermediate)\n",
    "\n",
    "    while followup in get_last_line(ret_text):\n",
    "\n",
    "      \n",
    "      cur_prompt += ret_text\n",
    "      question = extract_question(ret_text)\n",
    "      external_answer = get_answer(question)\n",
    "\n",
    "      if external_answer is not None:\n",
    "        cur_prompt += intermediate + ' ' + external_answer + '.'\n",
    "        print(intermediate + ' ' + yellowfy(external_answer) + '.', end='' )\n",
    "        ret_text = call_gpt(cur_prompt, intermediate)\n",
    "      else:\n",
    "        #We only get here in the very rare case that Google returns no answer.\n",
    "        cur_prompt += intermediate\n",
    "        print(intermediate + ' ')\n",
    "        gpt_answer = call_gpt(cur_prompt, ['\\n'+followup, finalans])\n",
    "        cur_prompt += gpt_answer\n",
    "\n",
    "    \n",
    "    if finalans not in ret_text:\n",
    "      cur_prompt += finalans\n",
    "      print(finalans, end = '')\n",
    "      ret_text = call_gpt(cur_prompt, '\\n')\n",
    "\n",
    "    return cur_prompt + ret_text\n",
    "    \"\"\""
   ]
  },
  {
   "cell_type": "code",
   "execution_count": 27,
   "id": "da4f942d",
   "metadata": {},
   "outputs": [
    {
     "name": "stdout",
     "output_type": "stream",
     "text": [
      "Question: Who lived longer, Muhammad Ali or Alan Turing?\n",
      "Are follow up questions needed here: Yes.\n",
      "Follow up: How old was Muhammad Ali when he died?\n",
      "Intermediate answer: Muhammad Ali was 74 years old when he died.\n",
      "Follow up: How old was Alan Turing when he died?\n",
      "Intermediate answer: Alan Turing was 41 years old when he died.\n",
      "So the final answer is: Muhammad Ali \n",
      "\n",
      "Question: When was the founder of craigslist born?\n",
      "Are follow up questions needed here: Yes.\n",
      "Follow up: Who was the founder of craigslist?\n",
      "Intermediate answer: Craigslist was founded by Craig Newmark.\n",
      "Follow up: When was Craig Newmark born?\n",
      "Intermediate answer: Craig Newmark was born on December 6, 1952.\n",
      "So the final answer is: December 6, 1952\n",
      "\n",
      "Question: Who was the maternal grandfather of George Washington?\n",
      "Are follow up questions needed here: Yes.\n",
      "Follow up: Who was the mother of George Washington?\n",
      "Intermediate answer: The mother of George Washington was Mary Ball Washington.\n",
      "Follow up: Who was the father of Mary Ball Washington?\n",
      "Intermediate answer: The father of Mary Ball Washington was Joseph Ball.\n",
      "So the final answer is: Joseph Ball \n",
      "\n",
      "Question: Are both the directors of Jaws and Casino Royale from the same country? \n",
      "Are follow up questions needed here: Yes. \n",
      "Follow up: Who is the director of Jaws? \n",
      "Intermediate Answer: The director of Jaws is Steven Spielberg. \n",
      "Follow up: Where is Steven Spielberg from? \n",
      "Intermediate Answer: The United States. \n",
      "Follow up: Who is the director of Casino Royale? \n",
      "Intermediate Answer: The director of Casino Royale is Martin Campbell. \n",
      "Follow up: Where is Martin Campbell from? \n",
      "Intermediate Answer: New Zealand. \n",
      "So the final answer is: No\n",
      "\n",
      "Question: Harmony Korine was both screenwriter and director of what movie?\n",
      "Are follow up questions needed here:"
     ]
    }
   ],
   "source": [
    "printprompt(0, qmp_comp_devd, base_prompt)"
   ]
  },
  {
   "cell_type": "code",
   "execution_count": null,
   "id": "04933284",
   "metadata": {},
   "outputs": [],
   "source": []
  },
  {
   "cell_type": "code",
   "execution_count": null,
   "id": "62118504",
   "metadata": {},
   "outputs": [],
   "source": []
  },
  {
   "cell_type": "markdown",
   "id": "543edaae",
   "metadata": {},
   "source": [
    "**Now Choose Subset to Try and Try Them**"
   ]
  },
  {
   "cell_type": "code",
   "execution_count": 11,
   "id": "87215d60",
   "metadata": {},
   "outputs": [
    {
     "name": "stdout",
     "output_type": "stream",
     "text": [
      "201 Who directed the movie that had a screenplay written by Dan Gilroy?\n",
      "202 Who is the filmmaker behind a movie written by Abbas Kiarostami?\n",
      "204 A member of The Cars had what educational place?\n",
      "206 Who created the script of a movie under the production of Dhanush?\n",
      "207 Utah Jazz draftees are citizens of what country?\n",
      "208 What positions are held by people that are alumni of St. Charles Borromeo Seminary?\n",
      "209 Who directed a Red Chillies Entertainment series?\n",
      "212 What body of water can be found near a state in the U.S.?\n",
      "214 Who directed the movie that Aline Brosh McKenna wrote for the screen?\n",
      "216 Andrew Bovell was a screenwriter for a movie that had whom as its director?\n",
      "218 Which university or school did University of Minnesota Law School staff attend?\n",
      "219 Who directed the TV show that was written by Ian Maxtone-Graham?\n",
      "220 Who directed the movie with Vijay Tendulkar as its screenwriter?\n",
      "221 Where did an employee of University of Pennsylvania Law School receive their education?\n",
      "228 Where did a Baltimore Orioles draftee attend school?\n",
      "229 Who operates on vehicles manufactured by Charleston Naval Shipyard?\n"
     ]
    }
   ],
   "source": [
    "for i in range(30):\n",
    "    offset = 200\n",
    "    if \"wikidata_comp\" not in qmp_comp_devd[i+offset]['qid']:\n",
    "        continue\n",
    "    print(i+offset, qmp_comp_devd[i+offset]['question_text'])"
   ]
  },
  {
   "cell_type": "code",
   "execution_count": 35,
   "id": "3ffd3381",
   "metadata": {},
   "outputs": [],
   "source": [
    "inds_to_try = [\n",
    "    0,  # 0. screenwriter and director\n",
    "    3,  # 1. where taught\n",
    "    10, # 2. competed and won\n",
    "    27, # 3. film steinbeck wrote\n",
    "    32, # 4. institiution where educated\n",
    "    44, # 5. graduated from two places\n",
    "    59, # 6. which one did peerson win\n",
    "    232,# 7. company produced wirtten\n",
    "    255,# 8. composer for movie produced\n",
    "    347,# 9. objects person designed depicted what\n",
    "]"
   ]
  },
  {
   "cell_type": "code",
   "execution_count": 43,
   "id": "2230a454",
   "metadata": {},
   "outputs": [
    {
     "name": "stdout",
     "output_type": "stream",
     "text": [
      "Harmony Korine was both screenwriter and director of what movie?\n",
      "Where was a Bishop of Bradford taught?\n",
      "Arsenal F.C. competed in and won which competition?\n",
      "Who directed the film that John Steinbeck wrote?\n",
      "At which institution was a Judge of the United States Court of Appeals for the Second Circuit educated?\n",
      "Who graduated from Stuyvesant High School and Brooklyn Law School?\n",
      "Which Monaco Grand Prix did Ayrton Senna win?\n",
      "What company produced the movie that was written by Jon Spaihts?\n",
      "Who was the composer for a movie directed by A. Karunakaran?\n",
      "The objects Charles E. Barber designed depicted what entity?\n"
     ]
    }
   ],
   "source": [
    "for i in inds_to_try:\n",
    "    print(qmp_comp_devd[i]['question_text'])"
   ]
  },
  {
   "cell_type": "code",
   "execution_count": 44,
   "id": "f315a275",
   "metadata": {},
   "outputs": [
    {
     "name": "stdout",
     "output_type": "stream",
     "text": [
      "Harmony Korine was both screenwriter and director of what movie?\n",
      "['Spring Breakers', 'Trash Humpers', 'Julien Donkey-Boy', 'Mister Lonely', 'The Beach Bum', 'Gummo']\n",
      "\n",
      "Question: Who lived longer, Muhammad Ali or Alan Turing?\n",
      "Are follow up questions needed here: Yes.\n",
      "Follow up: How old was Muhammad Ali when he died?\n",
      "Intermediate answer: Muhammad Ali was 74 years old when he died.\n",
      "Follow up: How old was Alan Turing when he died?\n",
      "Intermediate answer: Alan Turing was 41 years old when he died.\n",
      "So the final answer is: Muhammad Ali \n",
      "\n",
      "Question: When was the founder of craigslist born?\n",
      "Are follow up questions needed here: Yes.\n",
      "Follow up: Who was the founder of craigslist?\n",
      "Intermediate answer: Craigslist was founded by Craig Newmark.\n",
      "Follow up: When was Craig Newmark born?\n",
      "Intermediate answer: Craig Newmark was born on December 6, 1952.\n",
      "So the final answer is: December 6, 1952\n",
      "\n",
      "Question: Who was the maternal grandfather of George Washington?\n",
      "Are follow up questions needed here: Yes.\n",
      "Follow up: Who was the mother of George Washington?\n",
      "Intermediate answer: The mother of George Washington was Mary Ball Washington.\n",
      "Follow up: Who was the father of Mary Ball Washington?\n",
      "Intermediate answer: The father of Mary Ball Washington was Joseph Ball.\n",
      "So the final answer is: Joseph Ball \n",
      "\n",
      "Question: Are both the directors of Jaws and Casino Royale from the same country? \n",
      "Are follow up questions needed here: Yes. \n",
      "Follow up: Who is the director of Jaws? \n",
      "Intermediate Answer: The director of Jaws is Steven Spielberg. \n",
      "Follow up: Where is Steven Spielberg from? \n",
      "Intermediate Answer: The United States. \n",
      "Follow up: Who is the director of Casino Royale? \n",
      "Intermediate Answer: The director of Casino Royale is Martin Campbell. \n",
      "Follow up: Where is Martin Campbell from? \n",
      "Intermediate Answer: New Zealand. \n",
      "So the final answer is: No\n",
      "\n",
      "Question: Harmony Korine was both screenwriter and director of what movie?\n",
      "Are follow up questions needed here:"
     ]
    }
   ],
   "source": [
    "test_ind = 0\n",
    "print(qmp_comp_devd[inds_to_try[test_ind]]['question_text'])\n",
    "print([a['answer_text'] for a in qmp_comp_devd[inds_to_try[test_ind]]['answer_list']])\n",
    "\n",
    "print()\n",
    "\n",
    "printprompt(inds_to_try[0], qmp_comp_devd, base_prompt)"
   ]
  },
  {
   "cell_type": "code",
   "execution_count": null,
   "id": "83c474a6",
   "metadata": {},
   "outputs": [],
   "source": []
  },
  {
   "cell_type": "markdown",
   "id": "3b57cd79",
   "metadata": {},
   "source": [
    "**Make a better prompt**"
   ]
  },
  {
   "cell_type": "code",
   "execution_count": 53,
   "id": "b23284a3",
   "metadata": {},
   "outputs": [
    {
     "name": "stdout",
     "output_type": "stream",
     "text": [
      "Which movie had K. S. L. Swamy as its director and Vijaya Bhaskar as its musical composer?\n",
      "['Anna Thamma', 'Thulasi', 'Devaru Kotta Thangi', 'Manku Dinne', 'Lagna Pathrike', 'Malaya Marutha', 'Mugdha Manava', 'Banashankari', 'Aaru Mooru Ombhatthu', 'Bhagya Jyothi', 'Bhagyada Bagilu', 'Bhale Adrushtavo Adrushta', 'Maagiya Kanasu', 'Mithileya Seetheyaru', 'Arishina Kumkuma', 'Makkala Bhagya', 'Jimmy Gallu', 'Huli Hejje', 'CID 72', 'Lakshmi Saraswathi', 'Thoogudeepa']\n",
      "\n",
      "What music was composed by Devi Sri Prasad and  produced by Dil Raju?\n",
      "['Arya', 'Bommarillu', 'Nenu Local', 'Mr. Perfect', 'Bhadra', 'Yevadu', 'Maharshi', 'Middle Class Abbai']\n",
      "\n",
      "Which FA Cup Final featured the Tottenham Hotspurs as competitors?\n",
      "['1967 FA Cup Final', '1991 FA Cup Final', '1901 FA Cup Final', '1981 FA Cup Final', '1962 FA Cup Final', '1987 FA Cup Final', '1921 FA Cup Final', '1961 FA Cup Final', '1982 FA Cup Final']\n",
      "\n",
      "What movie did Irwin Allen both direct and produce?\n",
      "['The Swarm', 'Voyage to the Bottom of the Sea', 'Beyond the Poseidon Adventure', 'The Lost World', 'The Story of Mankind', 'The Animal World', 'City Beneath the Sea', 'Five Weeks in a Balloon']\n",
      "\n"
     ]
    }
   ],
   "source": [
    "# Can we make a prompt out of these?\n",
    "for i in [25, 95, 155, 385]:\n",
    "    print(qmp_comp_devd[i]['question_text'])\n",
    "    print([a['answer_text'] for a in qmp_comp_devd[i]['answer_list']])\n",
    "    print()"
   ]
  },
  {
   "cell_type": "code",
   "execution_count": 12,
   "id": "6a9ec080",
   "metadata": {},
   "outputs": [],
   "source": [
    "\"\"\"\n",
    "[{\n",
    "        'question_text': '',\n",
    "        'question_type': '',\n",
    "        'subquestions': [\n",
    "            '',\n",
    "            '',\n",
    "        ]\n",
    "    }],\n",
    "\"\"\"\n",
    "decomposed_qs_intersection = {\n",
    "    0: [{\n",
    "        'question_text': 'Harmony Korine was both screenwriter and director of what movie?',\n",
    "        'question_type': 'intersection',\n",
    "        'subquestions': [\n",
    "            'Harmony Korine was the screenwriter of what movie?',\n",
    "            'Harmony Korine was the director of what movie?',\n",
    "        ]\n",
    "    }],\n",
    "    22: [{ # intersection\n",
    "        \"question_text\": \"Who was both a graduate from Ananda College and University of Ceylon?\",\n",
    "        \"question_type\": \"intersection\",\n",
    "        \"subquestions\": [\n",
    "            \"Who graduated from Ananda College?\",\n",
    "            \"Who graduated from University of Ceylon?\",\n",
    "        ],\n",
    "    }],\n",
    "    25: [{\n",
    "        'question_text': 'Which movie had K. S. L. Swamy as its director and Vijaya Bhaskar as its musical composer?',\n",
    "        'question_type': 'intersection',\n",
    "        'subquestions': [\n",
    "            'Which movie has K. S. L. Swamy as its director?',\n",
    "            'Which movie has Vijaya Bhaskar as its musical composer?',\n",
    "        ]\n",
    "    }],\n",
    "    90: [{ # intersection (but I see filter too)\n",
    "        \"question_text\": \"What Superbowls did the Washington Football Team play in?\",\n",
    "        \"question_type\": \"intersection\",\n",
    "        \"subquestions\": [\n",
    "            \"Which Superbowls were played?\",\n",
    "            \"Which games did the Washington Football Team play in?\"\n",
    "        ]\n",
    "    }],\n",
    "    95: [{\n",
    "        'question_text': 'What music was composed by Devi Sri Prasad and produced by Dil Raju?',\n",
    "        'question_type': 'intersection',\n",
    "        'subquestions': [\n",
    "            'What music was composed by Devi Sri Prasad?',\n",
    "            'What music was produced by Dil Raju?',\n",
    "        ]\n",
    "    }],\n",
    "    380: [{ # intersection\n",
    "        \"question_text\": \"Which competition had Vitória F.C. and S.L. Benfica as participants?\",\n",
    "        \"question_type\": \"intersection\",\n",
    "        \"subquestions\": [\n",
    "            \"Which competition had Vitória F.C. as a participant?\",\n",
    "            \"Which competition had S.L. Benfica as a participant?\",\n",
    "\n",
    "        ],\n",
    "    }],\n",
    "    385: [{\n",
    "        'question_text': 'What movie did Irwin Allen both direct and produce?',\n",
    "        'question_type': 'intersection',\n",
    "        'subquestions': [\n",
    "            'What movie did Irwin Allen direct?',\n",
    "            'What movie did Irwin Allen produce?',\n",
    "        ]\n",
    "    }],\n",
    "}\n",
    "\n",
    "\"\"\"\n",
    "[{\n",
    "        'question_text': '',\n",
    "        'question_type': '',\n",
    "        'subquestions': [\n",
    "            '',\n",
    "            '',\n",
    "        ]\n",
    "    }],\n",
    "\"\"\"\n",
    "decomposed_qs_composition = {\n",
    "    11: [{\n",
    "        'question_text': 'Joe Pasternak produced a motion picture that was directed by who?',\n",
    "        'question_type': 'composition',\n",
    "        'subquestions': [\n",
    "            'What motion pictures did Joe Pasternak produce?',\n",
    "            'Who directed it?',\n",
    "        ]\n",
    "    }],\n",
    "    110: [{\n",
    "        'question_text': 'Who directed the TV show that Tom Kauffman worked on as a screenwriter?',\n",
    "        'question_type': 'composition',\n",
    "        'subquestions': [\n",
    "            'What TV shows did Tom Kauffman work on as a screenwriter?',\n",
    "            'Who directed it?',\n",
    "        ]\n",
    "    }],\n",
    "    120: [{\n",
    "        'question_text': 'Where did former Bishops of Warrington go to school?',\n",
    "        'question_type': 'composition',\n",
    "        'subquestions': [\n",
    "            'Who were the former Bishops of Warrington?',\n",
    "            'Where did they go to school?',\n",
    "        ]\n",
    "    }],\n",
    "    150: [{ # compositional\n",
    "        \"question_text\": \"Who was credited as director for a movie penned by Peter Baynham?\",\n",
    "        \"question_type\": \"composition\",\n",
    "        \"subquestions\": [\n",
    "            \"What movies were penned by Peter Baynham?\",\n",
    "            \"Who was credited the director for it?\"\n",
    "        ],\n",
    "    }],\n",
    "    221: [{\n",
    "        'question_text': 'Where did an employee of University of Pennsylvania Law School receive their education?',\n",
    "        'question_type': 'composition',\n",
    "        'subquestions': [\n",
    "            'Who was an employee of University of Pennsylvania Law School?',\n",
    "            'Where did they receive their education?',\n",
    "        ]\n",
    "    }],\n",
    "}\n",
    "\n",
    "# many of these are intersections that are better answered as filters\n",
    "decomposed_qs_filter = {\n",
    "    90 : [{ # intersection (but I see filter too)\n",
    "        \"question_text\": \"What Superbowls did the Washington Football Team play in?\",\n",
    "        \"question_type\": \"filter\",\n",
    "        \"subquestions\": [\n",
    "            \"Which Superbowls have been played?\",\n",
    "            \"Did the Washington Football Team play in it?\"\n",
    "        ]\n",
    "    }],\n",
    "    155: [{\n",
    "        'question_text': 'Which FA Cup Final featured the Tottenham Hotspurs as competitors?',\n",
    "        'question_type': 'filter',\n",
    "        'subquestions': [\n",
    "            'Which FA Cup Finals were played?',\n",
    "            'Did it feature the Tottenham Hotsurs as a competitor?',\n",
    "        ]\n",
    "    }],    \n",
    "}"
   ]
  },
  {
   "cell_type": "code",
   "execution_count": 55,
   "id": "eca90f96",
   "metadata": {},
   "outputs": [
    {
     "data": {
      "text/plain": [
       "'378__wikidata_intersection__dev'"
      ]
     },
     "execution_count": 55,
     "metadata": {},
     "output_type": "execute_result"
    }
   ],
   "source": [
    "qmp_comp_devd[155]['qid']"
   ]
  },
  {
   "cell_type": "code",
   "execution_count": null,
   "id": "1535837b",
   "metadata": {},
   "outputs": [],
   "source": []
  },
  {
   "cell_type": "code",
   "execution_count": 32,
   "id": "e040f632",
   "metadata": {},
   "outputs": [],
   "source": [
    "# Then, lets focus on pure intersections for now as the first trial q is a pure intersection\n",
    "\"\"\"\n",
    "Question: Who lived longer, Muhammad Ali or Alan Turing?\n",
    "Are follow up questions needed here: Yes.\n",
    "Follow up: How old was Muhammad Ali when he died?\n",
    "Intermediate answer: Muhammad Ali was 74 years old when he died.\n",
    "Follow up: How old was Alan Turing when he died?\n",
    "Intermediate answer: Alan Turing was 41 years old when he died.\n",
    "So the final answer is: Muhammad Ali \n",
    "\"\"\"\n",
    "\n",
    "def qdata_to_prompt(qdata, qdecompose):\n",
    "    #Question 2: {subqs2}\"\"\".format(\n",
    "    return \"\"\"\n",
    "Question: {init_q}\n",
    "Can this be decomposed: Yes.\n",
    "Is this a composition or intersection question: {qtype}\n",
    "Question 1: {subqs1}\n",
    "Question 2: {subqs2}\n",
    "So the final answers are: {answer_list}\"\"\".format(\n",
    "        init_q=qdata['question_text'],\n",
    "        qtype=qdecompose['question_type'],\n",
    "        subqs1=qdecompose['subquestions'][0],\n",
    "        subqs2=qdecompose['subquestions'][1],\n",
    "        answer_list=\", \".join([a['answer_text'] for a in qdata['answer_list']]),\n",
    "    )"
   ]
  },
  {
   "cell_type": "code",
   "execution_count": 33,
   "id": "7d573ae4",
   "metadata": {},
   "outputs": [
    {
     "name": "stdout",
     "output_type": "stream",
     "text": [
      "\n",
      "Question: Who was both a graduate from Ananda College and University of Ceylon?\n",
      "Can this be decomposed: Yes.\n",
      "Is this a composition or intersection question: intersection\n",
      "Question 1: Who graduated from Ananda College?\n",
      "Question 2: Who graduated from University of Ceylon?\n",
      "So the final answers are: Tissa Vitharana, V. K. Samaranayake, Chandre Dharma-wardana, D. Shelton A. Gunaratne, K. D. Arulpragasam, J. B. Disanayake\n"
     ]
    }
   ],
   "source": [
    "qind = 22\n",
    "print(qdata_to_prompt(qmp_comp_devd[qind], decomposed_qs_intersection[qind][0]))"
   ]
  },
  {
   "cell_type": "code",
   "execution_count": 102,
   "id": "4711e86f",
   "metadata": {},
   "outputs": [
    {
     "name": "stdout",
     "output_type": "stream",
     "text": [
      "\n",
      "Question: Harmony Korine was both screenwriter and director of what movie?\n",
      "Can this be decomposed: Yes.\n",
      "Question 1: Harmony Korine was the screenwriter of what movie?\n",
      "Question 2: Harmony Korine was the director of what movie?\n",
      "So the final answers are: Spring Breakers, Trash Humpers, Julien Donkey-Boy, Mister Lonely, The Beach Bum, Gummo\n",
      "\n",
      "Question: Who was both a graduate from Ananda College and University of Ceylon?\n",
      "Can this be decomposed: Yes.\n",
      "Question 1: Who graduated from Ananda College?\n",
      "Question 2: Who graduated from University of Ceylon?\n",
      "So the final answers are: Tissa Vitharana, V. K. Samaranayake, Chandre Dharma-wardana, D. Shelton A. Gunaratne, K. D. Arulpragasam, J. B. Disanayake\n",
      "\n",
      "Question: Which movie had K. S. L. Swamy as its director and Vijaya Bhaskar as its musical composer?\n",
      "Can this be decomposed: Yes.\n",
      "Question 1: Which movie has K. S. L. Swamy as its director?\n",
      "Question 2: Which movie has Vijaya Bhaskar as its musical composer?\n",
      "So the final answers are: Anna Thamma, Thulasi, Devaru Kotta Thangi, Manku Dinne, Lagna Pathrike, Malaya Marutha, Mugdha Manava, Banashankari, Aaru Mooru Ombhatthu, Bhagya Jyothi, Bhagyada Bagilu, Bhale Adrushtavo Adrushta, Maagiya Kanasu, Mithileya Seetheyaru, Arishina Kumkuma, Makkala Bhagya, Jimmy Gallu, Huli Hejje, CID 72, Lakshmi Saraswathi, Thoogudeepa\n",
      "\n",
      "Question: What music was composed by Devi Sri Prasad and  produced by Dil Raju?\n",
      "Can this be decomposed: Yes.\n",
      "Question 1: What music was composed by Devi Sri Prasad?\n",
      "Question 2: What music was produced by Dil Raju?\n",
      "So the final answers are: Arya, Bommarillu, Nenu Local, Mr. Perfect, Bhadra, Yevadu, Maharshi, Middle Class Abbai\n",
      "\n",
      "Question: What movie did Irwin Allen both direct and produce?\n",
      "Can this be decomposed:\n"
     ]
    }
   ],
   "source": [
    "# Intersection Prompt\n",
    "test_qind = 385\n",
    "for qind in [\n",
    "    0, \n",
    "    22, \n",
    "    25, \n",
    "    95,\n",
    "    385\n",
    "]:\n",
    "    if qind == test_qind:\n",
    "        continue\n",
    "    print(qdata_to_prompt(qmp_comp_devd[qind], decomposed_qs_intersection[qind][0]))\n",
    "print()\n",
    "print(\"Question: \" + qmp_comp_devd[test_qind]['question_text'])\n",
    "print(\"Can this be decomposed:\")"
   ]
  },
  {
   "cell_type": "code",
   "execution_count": 15,
   "id": "b630627e",
   "metadata": {},
   "outputs": [
    {
     "name": "stdout",
     "output_type": "stream",
     "text": [
      "\n",
      "Question: Who directed the TV show that Tom Kauffman worked on as a screenwriter?\n",
      "Can this be decomposed: Yes.\n",
      "Question 1: What TV shows did Tom Kauffman work on as a screenwriter?\n",
      "Question 2: Who directed it?\n",
      "So the final answers are: Stephen Sandoval, Bryan Newton, Wes Archer, Anthony Chun, Kate Herron\n",
      "\n",
      "Question: Where did former Bishops of Warrington go to school?\n",
      "Can this be decomposed: Yes.\n",
      "Question 1: Who were the former Bishops of Warrington?\n",
      "Question 2: Where did they go to school?\n",
      "So the final answers are: Hertford College, The Manchester Grammar School, Durham University, Rugby School, King's College London, Trinity College, The Manchester Grammar School, Christ Church\n",
      "\n",
      "Question: Who was credited as director for a movie penned by Peter Baynham?\n",
      "Can this be decomposed: Yes.\n",
      "Question 1: What movies were penned by Peter Baynham?\n",
      "Question 2: Who was credited the director for it?\n",
      "So the final answers are: Genndy Tartakovsky, Sarah Smith, Louis Leterrier, Larry Charles, Sarah Smith, Jason Woliner, Jason Winer\n",
      "\n",
      "Question: Where did an employee of University of Pennsylvania Law School receive their education?\n",
      "Can this be decomposed: Yes.\n",
      "Question 1: Who was an employee of University of Pennsylvania Law School?\n",
      "Question 2: Where did they receive their education?\n",
      "So the final answers are: University of Pennsylvania, University of Oklahoma, New College of Florida, University of Pennsylvania Law School, University of Toronto, Alfred University, Southwestern College, University of Pennsylvania, Stanford Law School, Merton College, St Antony's College, Harvard Law School, Harvard University, Yale University, Reading High School, Smith College, Harvard University, Yale Law School, University of Pennsylvania Law School, University of Chicago Law School, University of Pennsylvania Law School, Lower Merion High School, Massachusetts Institute of Technology, Islamic Azad University, University of Pennsylvania Law School, Northwestern University School of Law, Harvard University, University of California, Harvard Law School, University of North Carolina at Chapel Hill, University of Chicago, Yale Law School, University of Pennsylvania Law School, Yale Law School, Princeton University, Somerville College, Cornell University, University of Oklahoma, University of Michigan Law School, University of Pennsylvania Law School, University of Michigan, University of Pennsylvania Law School, University of Pennsylvania Law School\n",
      "\n",
      "Question: Joe Pasternak produced a motion picture that was directed by who?\n",
      "Can this be decomposed:\n"
     ]
    }
   ],
   "source": [
    "test_qind = 11\n",
    "for qind in [\n",
    "    11, \n",
    "    110, \n",
    "    120, \n",
    "    150,\n",
    "    221\n",
    "]:\n",
    "    if qind == test_qind:\n",
    "        continue\n",
    "    print(qdata_to_prompt(qmp_comp_devd[qind], decomposed_qs_composition[qind][0]))\n",
    "print()\n",
    "print(\"Question: \" + qmp_comp_devd[test_qind]['question_text'])\n",
    "print(\"Can this be decomposed:\")"
   ]
  },
  {
   "cell_type": "code",
   "execution_count": 44,
   "id": "ee8911a4",
   "metadata": {},
   "outputs": [
    {
     "name": "stdout",
     "output_type": "stream",
     "text": [
      "\n",
      "Question: Harmony Korine was both screenwriter and director of what movie?\n",
      "Can this be decomposed: Yes.\n",
      "Is this a composition or intersection question: intersection\n",
      "Question 1: Harmony Korine was the screenwriter of what movie?\n",
      "Question 2: Harmony Korine was the director of what movie?\n",
      "So the final answers are: Spring Breakers, Trash Humpers, Julien Donkey-Boy, Mister Lonely, The Beach Bum, Gummo\n",
      "\n",
      "Question: Joe Pasternak produced a motion picture that was directed by who?\n",
      "Can this be decomposed: Yes.\n",
      "Is this a composition or intersection question: composition\n",
      "Question 1: What motion pictures did Joe Pasternak produce?\n",
      "Question 2: Who directed it?\n",
      "So the final answers are: Charles Vidor, Edmund Heuberger, Richard Thorpe, László Kardos, Richard Brooks, Roy Rowland, William Dieterle, László Kardos, Richard Wallace, Henry Koster, Charles Walters, George Sidney, Alexander Hall, William Dieterle, Henry Levin, Steve Sekely, Géza von Bolváry, David Miller, Roy Rowland, László Benedek, Richard Thorpe, Henry Koster, Robert Z. Leonard, Richard Whorf, William Dieterle, George Sidney, Richard Thorpe, Norman Taurog, Richard Thorpe, Harvey Hart, Richard Thorpe, Norman Taurog, René Clair, Nicholas Ray, Richard Thorpe, Erich Schönfelder, Edmund Heuberger, Vincente Minnelli, George Sidney, Norman Taurog, Richard Thorpe, Charles Walters, Norman Taurog, Sidney Lanfield, Richard Thorpe, Fred M. Wilcox, William Dieterle\n",
      "\n",
      "Question: Who directed the TV show that Tom Kauffman worked on as a screenwriter?\n",
      "Can this be decomposed: Yes.\n",
      "Is this a composition or intersection question: composition\n",
      "Question 1: What TV shows did Tom Kauffman work on as a screenwriter?\n",
      "Question 2: Who directed it?\n",
      "So the final answers are: Stephen Sandoval, Bryan Newton, Wes Archer, Anthony Chun, Kate Herron\n",
      "\n",
      "Question: Who was both a graduate from Ananda College and University of Ceylon?\n",
      "Can this be decomposed: Yes.\n",
      "Is this a composition or intersection question: intersection\n",
      "Question 1: Who graduated from Ananda College?\n",
      "Question 2: Who graduated from University of Ceylon?\n",
      "So the final answers are: Tissa Vitharana, V. K. Samaranayake, Chandre Dharma-wardana, D. Shelton A. Gunaratne, K. D. Arulpragasam, J. B. Disanayake\n",
      "\n",
      "Question: Where did former Bishops of Warrington go to school?\n",
      "Can this be decomposed: Yes.\n",
      "Is this a composition or intersection question: composition\n",
      "Question 1: Who were the former Bishops of Warrington?\n",
      "Question 2: Where did they go to school?\n",
      "So the final answers are: Hertford College, The Manchester Grammar School, Durham University, Rugby School, King's College London, Trinity College, The Manchester Grammar School, Christ Church\n",
      "\n",
      "Question: Which movie had K. S. L. Swamy as its director and Vijaya Bhaskar as its musical composer?\n",
      "Can this be decomposed:\n"
     ]
    }
   ],
   "source": [
    "# Combined: get q type too\n",
    "test_qind = 25\n",
    "curr_qs_comp = {**decomposed_qs_composition, **decomposed_qs_intersection}\n",
    "for qind in [\n",
    "    0, \n",
    "    11, \n",
    "    110, \n",
    "    22, \n",
    "    120, \n",
    "    25, \n",
    "]:\n",
    "    if qind == test_qind:\n",
    "        continue\n",
    "    print(qdata_to_prompt(qmp_comp_devd[qind], curr_qs_comp[qind][0]))\n",
    "print()\n",
    "print(\"Question: \" + qmp_comp_devd[test_qind]['question_text'])\n",
    "print(\"Can this be decomposed:\")"
   ]
  },
  {
   "cell_type": "code",
   "execution_count": 30,
   "id": "c27a863c",
   "metadata": {},
   "outputs": [
    {
     "name": "stdout",
     "output_type": "stream",
     "text": [
      "\n",
      "Question: Joe Pasternak produced a motion picture that was directed by who?\n",
      "Can this be decomposed: Yes.\n",
      "Question 1: What motion pictures did Joe Pasternak produce?\n",
      "Question 2: Who directed it?\n",
      "So the final answers are: Charles Vidor, Edmund Heuberger, Richard Thorpe, László Kardos, Richard Brooks, Roy Rowland, William Dieterle, László Kardos, Richard Wallace, Henry Koster, Charles Walters, George Sidney, Alexander Hall, William Dieterle, Henry Levin, Steve Sekely, Géza von Bolváry, David Miller, Roy Rowland, László Benedek, Richard Thorpe, Henry Koster, Robert Z. Leonard, Richard Whorf, William Dieterle, George Sidney, Richard Thorpe, Norman Taurog, Richard Thorpe, Harvey Hart, Richard Thorpe, Norman Taurog, René Clair, Nicholas Ray, Richard Thorpe, Erich Schönfelder, Edmund Heuberger, Vincente Minnelli, George Sidney, Norman Taurog, Richard Thorpe, Charles Walters, Norman Taurog, Sidney Lanfield, Richard Thorpe, Fred M. Wilcox, William Dieterle\n",
      "\n",
      "Question: Who directed the TV show that Tom Kauffman worked on as a screenwriter?\n",
      "Can this be decomposed: Yes.\n",
      "Question 1: What TV shows did Tom Kauffman work on as a screenwriter?\n",
      "Question 2: Who directed it?\n",
      "So the final answers are: Stephen Sandoval, Bryan Newton, Wes Archer, Anthony Chun, Kate Herron\n",
      "\n",
      "Question: Where did former Bishops of Warrington go to school?\n",
      "Can this be decomposed: Yes.\n",
      "Question 1: Who were the former Bishops of Warrington?\n",
      "Question 2: Where did they go to school?\n",
      "So the final answers are: Hertford College, The Manchester Grammar School, Durham University, Rugby School, King's College London, Trinity College, The Manchester Grammar School, Christ Church\n",
      "\n",
      "Question: Who was credited as director for a movie penned by Peter Baynham?\n",
      "Can this be decomposed: Yes.\n",
      "Question 1: What movies were penned by Peter Baynham?\n",
      "Question 2: Who was credited the director for it?\n",
      "So the final answers are: Genndy Tartakovsky, Sarah Smith, Louis Leterrier, Larry Charles, Sarah Smith, Jason Woliner, Jason Winer\n",
      "\n",
      "Question: Where did an employee of University of Pennsylvania Law School receive their education?\n",
      "Can this be decomposed:\n"
     ]
    }
   ],
   "source": [
    "test_qind = 221\n",
    "for qind in [\n",
    "    11, \n",
    "    110, \n",
    "    120, \n",
    "    150,\n",
    "    221\n",
    "]:\n",
    "    if qind == test_qind:\n",
    "        continue\n",
    "    print(qdata_to_prompt(qmp_comp_devd[qind], decomposed_qs_composition[qind][0]))\n",
    "print()\n",
    "print(\"Question: \" + qmp_comp_devd[test_qind]['question_text'])\n",
    "print(\"Can this be decomposed:\")"
   ]
  },
  {
   "cell_type": "code",
   "execution_count": null,
   "id": "2032966b",
   "metadata": {},
   "outputs": [],
   "source": []
  },
  {
   "cell_type": "code",
   "execution_count": null,
   "id": "7dd330b0",
   "metadata": {},
   "outputs": [],
   "source": []
  },
  {
   "cell_type": "code",
   "execution_count": 22,
   "id": "13e28010",
   "metadata": {},
   "outputs": [],
   "source": [
    "def comp_ans(gta_str, preda_str):\n",
    "    gta = list(set([a.replace(' ', '').lower() for a in gta_str.split(\", \")]))\n",
    "    preda = set(list([a.replace(' ', '').lower() for a in preda_str.split(\", \")]))\n",
    "    print(\"Num pred answers:\", len(preda))\n",
    "    num_in = 0\n",
    "    for a in gta:\n",
    "        if a in preda:\n",
    "            num_in += 1\n",
    "            \n",
    "    print(f\"Num GT pred: {num_in} / {len(gta)}\")\n",
    "    print(f\"Num pred not GT: {len(preda) - num_in}\")"
   ]
  },
  {
   "cell_type": "code",
   "execution_count": 31,
   "id": "c63a9d93",
   "metadata": {},
   "outputs": [
    {
     "name": "stdout",
     "output_type": "stream",
     "text": [
      "Num pred answers: 13\n",
      "Num GT pred: 6 / 29\n",
      "Num pred not GT: 7\n"
     ]
    }
   ],
   "source": [
    "comp_ans(\n",
    "    gta_str=\"University of Pennsylvania, University of Oklahoma, New College of Florida, University of Pennsylvania Law School, University of Toronto, Alfred University, Southwestern College, University of Pennsylvania, Stanford Law School, Merton College, St Antony's College, Harvard Law School, Harvard University, Yale University, Reading High School, Smith College, Harvard University, Yale Law School, University of Pennsylvania Law School, University of Chicago Law School, University of Pennsylvania Law School, Lower Merion High School, Massachusetts Institute of Technology, Islamic Azad University, University of Pennsylvania Law School, Northwestern University School of Law, Harvard University, University of California, Harvard Law School, University of North Carolina at Chapel Hill, University of Chicago, Yale Law School, University of Pennsylvania Law School, Yale Law School, Princeton University, Somerville College, Cornell University, University of Oklahoma, University of Michigan Law School, University of Pennsylvania Law School, University of Michigan, University of Pennsylvania Law School, University of Pennsylvania Law School\",\n",
    "    preda_str=\"Stanford University, Harvard University, Yale University, University of California, Berkeley, University of Virginia, Columbia University, University of Michigan, Duke University, University of Pennsylvania, Georgetown University, Cornell University, Northwestern University\",\n",
    ")"
   ]
  },
  {
   "cell_type": "code",
   "execution_count": null,
   "id": "3f8c9b51",
   "metadata": {},
   "outputs": [],
   "source": []
  }
 ],
 "metadata": {
  "kernelspec": {
   "display_name": "Python 3 (ipykernel)",
   "language": "python",
   "name": "python3"
  },
  "language_info": {
   "codemirror_mode": {
    "name": "ipython",
    "version": 3
   },
   "file_extension": ".py",
   "mimetype": "text/x-python",
   "name": "python",
   "nbconvert_exporter": "python",
   "pygments_lexer": "ipython3",
   "version": "3.9.0"
  }
 },
 "nbformat": 4,
 "nbformat_minor": 5
}
