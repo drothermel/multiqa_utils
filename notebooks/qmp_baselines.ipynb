{
 "cells": [
  {
   "cell_type": "markdown",
   "id": "79b1b754",
   "metadata": {},
   "source": [
    "# Prep, Run and Eval QAMPARI Baselines\n",
    "\n",
    "This includes\n",
    "- Use of new utils to view the retrieval results (positive)\n",
    "- Use of new utils to calculate some metrics (Recall, Precision, F1)\n",
    "- Evaluated the qmp_bm25 and qmp_dpr retreival performance (full set and split by question type).\n",
    "\n",
    "TODO:\n",
    "- It would be good to color the answer list based on whether they were found in the positive contexts.\n",
    "- It would be good to visualize the top k contexts too (not just the postive ones)\n",
    "- Also, do matching based on how QAMPARI determined positive contexts, because for element 2 they definitely aren't by exact match.  Figure this out."
   ]
  },
  {
   "cell_type": "code",
   "execution_count": 16,
   "id": "8747ebcf",
   "metadata": {},
   "outputs": [
    {
     "name": "stdout",
     "output_type": "stream",
     "text": [
      "The autoreload extension is already loaded. To reload it, use:\n",
      "  %reload_ext autoreload\n"
     ]
    }
   ],
   "source": [
    "import json\n",
    "import jsonlines\n",
    "import sh\n",
    "\n",
    "import multiqa_utils.general_utils as gu\n",
    "import multiqa_utils.qampari_utils as qu\n",
    "import multiqa_utils.eval_utils as eu\n",
    "\n",
    "%load_ext autoreload\n",
    "%autoreload 2"
   ]
  },
  {
   "cell_type": "markdown",
   "id": "71ef3d63",
   "metadata": {},
   "source": [
    "## Inspect QAMPARI provided retrieval results\n",
    "\n",
    "They provide BM25/DPR predictions [here](https://samsam3232.github.io/qampari)."
   ]
  },
  {
   "cell_type": "code",
   "execution_count": 17,
   "id": "6c4ee6f9",
   "metadata": {},
   "outputs": [],
   "source": [
    "qmp_dwn_path = \"/scratch/ddr8143/multiqa/qampari_data/qampari_downloads/\""
   ]
  },
  {
   "cell_type": "code",
   "execution_count": 18,
   "id": "4f0913ca",
   "metadata": {},
   "outputs": [
    {
     "name": "stdout",
     "output_type": "stream",
     "text": [
      "fid_bm25_results  fid_dpr_results  rag_results\n",
      "\n",
      ">> fid_bm25_results\n",
      "full_dev_data.jsonl\t  full_test_data_gold.jsonl.gz\n",
      "full_dev_data_gold.jsonl  full_train_data.jsonl.gz\n",
      "full_test_data.jsonl.gz\n",
      "\n",
      "\n",
      ">> fid_dpr_results\n",
      "full_dev_data.jsonl  full_test_data.jsonl.gz  full_train_data.jsonl.gz\n",
      "\n"
     ]
    }
   ],
   "source": [
    "print(sh.ls(qmp_dwn_path))\n",
    "print(\">> fid_bm25_results\")\n",
    "print(sh.ls(f\"{qmp_dwn_path}/fid_bm25_results\"))\n",
    "print()\n",
    "print(\">> fid_dpr_results\")\n",
    "print(sh.ls(f\"{qmp_dwn_path}/fid_dpr_results\"))"
   ]
  },
  {
   "cell_type": "code",
   "execution_count": 19,
   "id": "b34386b2",
   "metadata": {},
   "outputs": [],
   "source": [
    "fid_bm25_dev = gu.loadjsonl(f\"{qmp_dwn_path}/fid_bm25_results/full_dev_data.jsonl\")\n",
    "fid_dpr_dev = gu.loadjsonl(f\"{qmp_dwn_path}/fid_dpr_results/full_dev_data.jsonl\")"
   ]
  },
  {
   "cell_type": "code",
   "execution_count": 32,
   "id": "9688561f",
   "metadata": {},
   "outputs": [
    {
     "name": "stdout",
     "output_type": "stream",
     "text": [
      "['New Pittsburgh Courier', 'The Michigan FrontPage', 'Michigan Chronicle', 'Chicago Defender', 'Atlanta Daily World']\n",
      "Type:                564__wikidata_simple__dev\n",
      "Question:            Which entity does Real Times have control over?\n",
      "Question Keywords:   \u001b[31mWhich\u001b[0m, \u001b[31mentity\u001b[0m, \u001b[31mdoes\u001b[0m, \u001b[31mReal\u001b[0m, \u001b[31mTimes\u001b[0m, \u001b[31mcontrol\u001b[0m, \u001b[31mover\u001b[0m\n",
      "Answers:             \u001b[32mNew Pittsburgh Courier\u001b[0m, \u001b[32mThe Michigan FrontPage\u001b[0m, \u001b[32mMichigan Chronicle\u001b[0m, \u001b[32mChicago Defender\u001b[0m, \u001b[32mAtlanta Daily World\u001b[0m\n",
      "Len pos contexts:    5\n",
      "Len ctxs:            200\n",
      "----------------------------------\n",
      "136.7562 | \u001b[32mNew Pittsburgh Courier\u001b[0m\n",
      "    >> The \u001b[32mNew Pittsburgh Courier\u001b[0m is a weekly African-American newspaper based in Pittsburgh, Pennsylvania, United States. It is owned by\n",
      "       \u001b[31mReal\u001b[0m \u001b[31mTimes\u001b[0m. The newspaper is named after the original \"Pittsburgh Courier\" (1907–65), \u001b[31mWhich\u001b[0m in the 1930s and 1940s was one\n",
      "       of the largest and most influential African-American newspapers in the country, with a nationwide circulation of more than 350,000. After circulation\n",
      "       declines in the 1950s and 1960s, the original \"Courier\" was purchased in 1965 by John H. Sengstacke, publisher of \"The Chicago Daily Defender ,\" in\n",
      "       1966.\n",
      "\n",
      "104.7050 | \u001b[32mAtlanta Daily World\u001b[0m\n",
      "    >> The \u001b[32mAtlanta Daily World\u001b[0m is the oldest black newspaper in Atlanta, Georgia, founded in 1928. Currently owned by \u001b[31mReal\u001b[0m \u001b[31mTimes\u001b[0m\n",
      "       Inc., it publishes daily online. It was \"one of the earliest and most influential black newspapers.\" History. Establishment. It was founded as the\n",
      "       weekly \"Atlanta World\" on August 5, 1928, by William Alexander Scott II who was only 26 at the time. Scott was a Morehouse graduate who later worked\n",
      "       as the only black clerk on the Jacksonville to Washington, D.C., rail line, then in 1927 published a Jacksonville business directory to help blacks\n",
      "       find each other.\n",
      "\n",
      "83.8548 | The \u001b[32mChicago Defender\u001b[0m\n",
      "    >> During the height of the civil rights movement era, it was published as \"The Chicago Daily Defender,\" a daily newspaper, beginning in 1956. It\n",
      "       returned to a weekly paper in 2008. In 2019, its publisher, \u001b[31mReal\u001b[0m \u001b[31mTimes\u001b[0m Media Inc., announced that the \"Defender\" would cease its\n",
      "       print edition but continue as an online publication. The editorial board of the \"Chicago Tribune\", noting the impact \"The Defender\" has had in its 114\n",
      "       years, praised the continuation of the publication in its new form. Foundation and social impact, role in the Great Migration.\n",
      "\n",
      "82.5385 | \u001b[32mThe Michigan FrontPage\u001b[0m\n",
      "    >> \u001b[32mThe Michigan FrontPage\u001b[0m is a weekly African-American newspaper based in Detroit, Michigan, serving the African-American community. It was\n",
      "       founded in 2000 by a former publisher of the \"\u001b[32mMichigan Chronicle\u001b[0m\" and has been owned by the \"Chronicle\" parent company, \u001b[31mReal\u001b[0m\n",
      "       \u001b[31mTimes\u001b[0m Inc., since 2003. Its headquarters are in the \u001b[31mReal\u001b[0m \u001b[31mTimes\u001b[0m offices in Midtown Detroit. \"\u001b[32mChicago Defender\u001b[0m\" and\n",
      "       \"\u001b[32mMichigan Chronicle\u001b[0m\" owner John H. Sengstacke died in 1997. Amid the uncertainty \u001b[31mover\u001b[0m the \"Chronicle\" future ownership, longtime\n",
      "       publisher Sam Logan left the paper in 2000 and in May of that year formed a competing weekly, \"\u001b[32mThe Michigan FrontPage\u001b[0m\", \u001b[31mWhich\u001b[0m he\n",
      "       envisioned as \"a weekend read\", published on Fridays.\n",
      "\n",
      "50.1559 | \u001b[32mMichigan Chronicle\u001b[0m\n",
      "    >> The Chronicle is a weekly African-American newspaper based in Detroit, Michigan. It was founded in 1936 by John H. Sengstacke, editor of the\n",
      "       \"\u001b[32mChicago Defender\u001b[0m\". Together with the \"Defender\" and a handful of other African-American newspapers, it is owned by Detroit-based\n",
      "       \u001b[31mReal\u001b[0m \u001b[31mTimes\u001b[0m Inc. Its headquarters are in the \u001b[31mReal\u001b[0m \u001b[31mTimes\u001b[0m offices in Midtown Detroit. Early history. The \"Chronicle\"\n",
      "       first editor was Louis E. Martin, whom Sengstacke sent to Detroit on June 6, giving him a $5.00 raise above his $15-per-week salary at the\n",
      "       \"\u001b[32mChicago Defender\u001b[0m\", $10 in cash and a one-way bus ticket. The \"Chronicle\"'s first issue had a circulation of 5,000 copies.\n",
      "\n",
      "----------------------------------\n",
      "\n"
     ]
    }
   ],
   "source": [
    "qu.print_retrieval_data(fid_dpr_dev[2])"
   ]
  },
  {
   "cell_type": "code",
   "execution_count": 18,
   "id": "7bbcbcfc",
   "metadata": {},
   "outputs": [
    {
     "name": "stdout",
     "output_type": "stream",
     "text": [
      "Type:                958__wikidata_comp__dev\n",
      "Question:            Where did the White House Deputy Chief of Staff receive their education?\n",
      "Question Keywords:   \u001b[31mWhere\u001b[0m, \u001b[31mdid\u001b[0m, \u001b[31mWhite\u001b[0m, \u001b[31mHouse\u001b[0m, \u001b[31mDeputy\u001b[0m, \u001b[31mChief\u001b[0m, \u001b[31mStaff\u001b[0m, \u001b[31mreceive\u001b[0m, \u001b[31meducation\u001b[0m\n",
      "Answers:             \u001b[32mHillcrest High School\u001b[0m, \u001b[32mUniversity of Auckland\u001b[0m, \u001b[32mUC Berkeley School of Law\u001b[0m, \u001b[32mKenyon College\u001b[0m, \u001b[32mStanford University\u001b[0m\n",
      "Len pos contexts:    10\n",
      "Len ctxs:            200\n",
      "----------------------------------\n",
      "182.5096 | Harriet Miers\n",
      "    >> Harriet Ellan Miers (born August 10, 1945) is an American lawyer who served as \u001b[31mWhite\u001b[0m \u001b[31mHouse\u001b[0m Counsel to President George W. Bush from\n",
      "       2005 to 2007. A member of the Republican Party since 1988, she previously served as \u001b[31mWhite\u001b[0m \u001b[31mHouse\u001b[0m \u001b[31mStaff\u001b[0m Secretary from 2001\n",
      "       to 2003 and \u001b[31mWhite\u001b[0m \u001b[31mHouse\u001b[0m \u001b[31mDeputy\u001b[0m \u001b[31mChief\u001b[0m of \u001b[31mStaff\u001b[0m for Policy from 2003 until 2005. In 2005, Miers was\n",
      "       nominated by Bush to be an associate justice of the Supreme Court of the United States to replace retiring Justice Sandra Day O'Connor, but—in the\n",
      "       face of bipartisan opposition—asked Bush to withdraw her nomination.\n",
      "\n",
      "140.5194 | Maria Echaveste\n",
      "    >> Her family later moved to California, \u001b[31mWhere\u001b[0m she \u001b[31mreceive\u001b[0md a Bachelor of Arts in anthropology from \u001b[32mStanford University\u001b[0m in\n",
      "       1976 and a Juris Doctor from the University of California, Berkeley, School of Law (Boalt Hall) in 1980. Following her graduation from Boalt,\n",
      "       Echaveste specialized in corporate litigation at the former Los Angeles firm Wyman Bautzer and at Rosenman & Colin in New York. Public service. From\n",
      "       1993 to 1997, Echaveste served as the administrator of the Wage and Hour Division of the Department of Labor.\n",
      "\n",
      "135.6289 | Joe Hagin\n",
      "    >> Joseph \u001b[31mWhite\u001b[0m\u001b[31mHouse\u001b[0m Hagin II (born January 6, 1956) is an American political aide who served as \u001b[31mWhite\u001b[0m \u001b[31mHouse\u001b[0m\n",
      "       \u001b[31mDeputy\u001b[0m \u001b[31mChief\u001b[0m of \u001b[31mStaff\u001b[0m for Operations under President Donald Trump from 2017 to 2018, a role he also served in for President\n",
      "       George W. Bush from 2001 until July 2008. In September 2008, he was interim CEO of Jet Support Services Inc. Joe Hagin co-founded Command Consulting\n",
      "       Group in April 2009. Early life. Hagin was born in Lexington, Kentucky and raised in the Village of Indian Hill near Cincinnati, Ohio.\n",
      "\n",
      "102.1910 | Chris Liddell\n",
      "    >> Christopher Pell Liddell (born 24 April 1958) is a New Zealand-American businessperson who served as \u001b[31mChief\u001b[0m Financial Officer of Microsoft,\n",
      "       the Vice Chairman of General Motors, Senior Vice President and CFO of International Paper, Director and Chairman of Xero and the \u001b[31mWhite\u001b[0m\n",
      "       \u001b[31mHouse\u001b[0m \u001b[31mDeputy\u001b[0m \u001b[31mChief\u001b[0m of \u001b[31mStaff\u001b[0m in the Trump Administration. Liddell has been active in a number of philanthropic\n",
      "       projects, mostly in his native New Zealand and in the 2016 New Year Honours, he was appointed a Companion of the New Zealand Order of Merit for\n",
      "       services to business and philanthropy. Early life. Liddell was born in Matamata, New Zealand, the youngest of five siblings.\n",
      "\n",
      "102.0782 | Harriet Miers\n",
      "    >> Following her withdrawal in 2007, Miers returned to private practice, becoming a partner in the litigation and public policy group at Locke Lord.\n",
      "       Early life and \u001b[31meducation\u001b[0m. Miers was born in Dallas and spent most of her life there until she moved to Washington, D.C. (2001) to work in the\n",
      "       Bush Administration. She has described herself as a \"Texan through and through.\" She is the fourth of the five children of real estate investor Harris\n",
      "       Wood Miers Sr., and his wife, the former Erma (Sally) Grace Richardson. Miers graduated from \u001b[32mHillcrest High School\u001b[0m, a public high school, in\n",
      "       1963. Miers entered Southern Methodist University intending to become a teacher.\n",
      "\n",
      "72.8376 | Harold M. Ickes\n",
      "    >> Harold McEwen Ickes (; born September 4, 1939) was \u001b[31mWhite\u001b[0m \u001b[31mHouse\u001b[0m \u001b[31mDeputy\u001b[0m \u001b[31mChief\u001b[0m of \u001b[31mStaff\u001b[0m for President Bill\n",
      "       Clinton. He was a leading figure in the Clinton administration's healthcare reform initiative. Ickes is the son of Harold L. Ickes, who was Secretary\n",
      "       of the Interior under Franklin D. Roosevelt. Background. Ickes was born in Baltimore, Maryland to Harold L. Ickes and Jane Dahlman. Ickes is a\n",
      "       graduate of \u001b[32mStanford University\u001b[0m (1964, AB, Economics) and Columbia Law School. Ickes was a student civil rights activist in the 1960s and\n",
      "       took part in Freedom Summer. He has practiced labor law for many years in New York City. He is founder and president emeritus of civic data firm\n",
      "       Catalist.\n",
      "\n",
      "61.2316 | Maria Echaveste\n",
      "    >> Maria Echaveste (born May 31, 1954) is a former U.S. presidential advisor to Bill Clinton and \u001b[31mWhite\u001b[0m \u001b[31mHouse\u001b[0m \u001b[31mDeputy\u001b[0m\n",
      "       \u001b[31mChief\u001b[0m of \u001b[31mStaff\u001b[0m during the second Clinton administration. She is one of the highest-ranking Latinas to have served in a presidential\n",
      "       administration. She is currently a Senior Fellow at the Center for American Progress and a co-founder of the Nueva Vista Group, a policy, legislative\n",
      "       strategy and advocacy group working with non-profit and corporate clients. Early life. Echaveste was born in Texas as one of seven children born to\n",
      "       Mexican immigrants.\n",
      "\n",
      "61.2299 | Chris Liddell\n",
      "    >> His father was a school teacher and died while Liddell was young. His mother supported Liddell and his siblings by working a variety of jobs,\n",
      "       including at Smith & Caughey's in Auckland. Liddell \u001b[31mreceive\u001b[0md his secondary \u001b[31meducation\u001b[0m at Mount Albert Grammar School. He holds a\n",
      "       Bachelor of Engineering degree with honors from the \u001b[32mUniversity of Auckland\u001b[0m and a Master of Philosophy degree from Oxford University. He was\n",
      "       nominated for a Rhodes Scholarship, by Auckland University in 1979, and named one of the university's Distinguished Alumni in 2003. Career. Corporate.\n",
      "\n",
      "46.3368 | Joe Hagin\n",
      "    >> He \u001b[31mreceive\u001b[0md a Bachelor of Arts from \u001b[32mKenyon College\u001b[0m in 1979 \u001b[31mWhere\u001b[0m he was a member of the Delta Kappa Epsilon fraternity.\n",
      "       Career. Hagin aided George H.W. Bush during his unsuccessful GOP presidential nomination campaign in 1979. When Bush became Vice President in 1981, he\n",
      "       selected Hagin as his personal aide. Bush also appointed him to head the Vice President's Legislative Affairs, 1983-85. In 1985, Hagin left the\n",
      "       \u001b[31mWhite\u001b[0m \u001b[31mHouse\u001b[0m to be Public Affairs Director for Federated Department Stores, which owns Macy's and Bloomingdale's.\n",
      "\n",
      "45.3515 | Harold M. Ickes\n",
      "    >> Harold McEwen Ickes (; born September 4, 1939) was \u001b[31mWhite\u001b[0m \u001b[31mHouse\u001b[0m \u001b[31mDeputy\u001b[0m \u001b[31mChief\u001b[0m of \u001b[31mStaff\u001b[0m for President Bill\n",
      "       Clinton. He was a leading figure in the Clinton administration's healthcare reform initiative. Ickes is the son of Harold L. Ickes, who was Secretary\n",
      "       of the Interior under Franklin D. Roosevelt. Background. Ickes was born in Baltimore, Maryland to Harold L. Ickes and Jane Dahlman. Ickes is a\n",
      "       graduate of \u001b[32mStanford University\u001b[0m (1964, AB, Economics) and Columbia Law School. Ickes was a student civil rights activist in the 1960s and\n",
      "       took part in Freedom Summer. He has practiced labor law for many years in New York City. He is founder and president emeritus of civic data firm\n",
      "       Catalist.\n",
      "\n",
      "----------------------------------\n",
      "\n"
     ]
    }
   ],
   "source": [
    "qu.print_data(fid_bm25_dev[2])"
   ]
  },
  {
   "cell_type": "markdown",
   "id": "82ef454a",
   "metadata": {},
   "source": [
    "## Calculate Metrics on Data"
   ]
  },
  {
   "cell_type": "markdown",
   "id": "53601779",
   "metadata": {},
   "source": [
    "**Calculating metrics on the fid_\\<retrieval\\>_dev dataset.**"
   ]
  },
  {
   "cell_type": "code",
   "execution_count": 19,
   "id": "9040de53",
   "metadata": {},
   "outputs": [
    {
     "name": "stdout",
     "output_type": "stream",
     "text": [
      "Performance @20\n",
      "avg_recall:               36.18%\n",
      "avg_precision:            23.56%\n",
      "avg_f1:                   25.47%\n",
      "\n",
      "Performance @100\n",
      "avg_recall:               56.17%\n",
      "avg_precision:            15.35%\n",
      "avg_f1:                   21.06%\n",
      "\n",
      "Performance @200\n",
      "avg_recall:               62.40%\n",
      "avg_precision:            12.07%\n",
      "avg_f1:                   17.38%\n",
      "\n"
     ]
    }
   ],
   "source": [
    "for kv in [20, 100, 200]:\n",
    "    print(f\"Performance @{kv}\")\n",
    "    dataset_results = eu.evaluate_dataset(fid_bm25_dev, k=kv)\n",
    "    for k, v in dataset_results.items():\n",
    "        if \"avg\" in k:\n",
    "            print(f\"{k + ':':25} {v*100.0:0.2f}%\")\n",
    "    print()"
   ]
  },
  {
   "cell_type": "code",
   "execution_count": 17,
   "id": "fb2ef37a",
   "metadata": {},
   "outputs": [
    {
     "name": "stdout",
     "output_type": "stream",
     "text": [
      "Question: Which Judge of the United States Court of Appeals for the Second Circuit works for Yale Law School?\n",
      "Answers: [['Charles Edward Clark'], ['Henry Wade Rogers'], ['John M. Walker, Jr.'], ['Ralph K. Winter, Jr.'], ['Thomas Walter Swan'], ['Guido Calabresi']]\n",
      "-------\n",
      "Returned Answers: ['Charles Edward Clark', 'Ralph K. Winter, Jr.', 'Thomas Walter Swan', 'Guido Calabresi']\n",
      "[Recall: 66.67%] 4 out of 6 in context list\n",
      "[Precision: 9.00%] 18 out of 200 contexts contained an answer\n"
     ]
    }
   ],
   "source": [
    "eu.viz_correct_answers_context_list(fid_bm25_dev[1])"
   ]
  },
  {
   "cell_type": "code",
   "execution_count": 20,
   "id": "7c179f51",
   "metadata": {},
   "outputs": [
    {
     "name": "stdout",
     "output_type": "stream",
     "text": [
      "Performance @20\n",
      "avg_recall:               21.29%\n",
      "avg_precision:            14.64%\n",
      "avg_f1:                   14.52%\n",
      "\n",
      "Performance @100\n",
      "avg_recall:               34.14%\n",
      "avg_precision:            9.52%\n",
      "avg_f1:                   12.29%\n",
      "\n",
      "Performance @200\n",
      "avg_recall:               40.48%\n",
      "avg_precision:            7.90%\n",
      "avg_f1:                   10.92%\n",
      "\n"
     ]
    }
   ],
   "source": [
    "for kv in [20, 100, 200]:\n",
    "    print(f\"Performance @{kv}\")\n",
    "    dataset_results = eu.evaluate_dataset(fid_dpr_dev, k=kv)\n",
    "    for k, v in dataset_results.items():\n",
    "        if \"avg\" in k:\n",
    "            print(f\"{k + ':':25} {v*100.0:0.2f}%\")\n",
    "    print()"
   ]
  },
  {
   "cell_type": "code",
   "execution_count": 21,
   "id": "790ad67a",
   "metadata": {},
   "outputs": [
    {
     "name": "stdout",
     "output_type": "stream",
     "text": [
      "Question: Where was a Bishop of Bradford taught?\n",
      "Answers: [['Nottingham High School'], ['Marlborough College'], [\"King's College\"], [\"King's College London\"], ['University of Birmingham']]\n",
      "-------\n",
      "Returned Answers: ['Nottingham High School', \"King's College\", \"King's College London\", 'University of Birmingham']\n",
      "[Recall: 80.00%] 4 out of 5 in context list\n",
      "[Precision: 3.00%] 6 out of 200 contexts contained an answer\n"
     ]
    }
   ],
   "source": [
    "eu.viz_correct_answers_context_list(fid_dpr_dev[1])"
   ]
  },
  {
   "cell_type": "markdown",
   "id": "20844d03",
   "metadata": {},
   "source": [
    "**Splitting out results by question type**"
   ]
  },
  {
   "cell_type": "code",
   "execution_count": 39,
   "id": "ebcc8283",
   "metadata": {},
   "outputs": [
    {
     "name": "stdout",
     "output_type": "stream",
     "text": [
      "19.7 18.29 33.31999999999999 20.86 29.29 29.03\n"
     ]
    }
   ],
   "source": [
    "print(50.72-31.02,\n",
    "54.46-36.17,\n",
    "72.16-38.84,\n",
    "56.89-36.03,\n",
    "72.16-42.87,\n",
    "76.92-47.89)"
   ]
  },
  {
   "cell_type": "code",
   "execution_count": 33,
   "id": "523aacaf",
   "metadata": {},
   "outputs": [
    {
     "name": "stdout",
     "output_type": "stream",
     "text": [
      "BM25 Results\n",
      ">> Question type: simple\n",
      "Performance @20\n",
      "avg_recall:               30.47%\n",
      "avg_precision:            19.85%\n",
      "avg_f1:                   21.12%\n",
      "\n",
      "Performance @100\n",
      "avg_recall:               50.72%\n",
      "avg_precision:            13.44%\n",
      "avg_f1:                   18.80%\n",
      "\n",
      "Performance @200\n",
      "avg_recall:               56.89%\n",
      "avg_precision:            10.32%\n",
      "avg_f1:                   15.35%\n",
      "\n",
      ">> Question type: comp\n",
      "Performance @20\n",
      "avg_recall:               35.52%\n",
      "avg_precision:            26.08%\n",
      "avg_f1:                   26.48%\n",
      "\n",
      "Performance @100\n",
      "avg_recall:               54.46%\n",
      "avg_precision:            16.89%\n",
      "avg_f1:                   21.58%\n",
      "\n",
      "Performance @200\n",
      "avg_recall:               61.77%\n",
      "avg_precision:            13.70%\n",
      "avg_f1:                   18.47%\n",
      "\n",
      ">> Question type: intersection\n",
      "Performance @20\n",
      "avg_recall:               51.27%\n",
      "avg_precision:            28.98%\n",
      "avg_f1:                   34.67%\n",
      "\n",
      "Performance @100\n",
      "avg_recall:               72.16%\n",
      "avg_precision:            17.80%\n",
      "avg_f1:                   25.83%\n",
      "\n",
      "Performance @200\n",
      "avg_recall:               76.92%\n",
      "avg_precision:            13.93%\n",
      "avg_f1:                   20.79%\n",
      "\n"
     ]
    }
   ],
   "source": [
    "print(\"BM25 Results\")\n",
    "for qt in ['simple', 'comp', 'intersection']:\n",
    "    print(\">> Question type:\", qt)\n",
    "    for kv in [20, 100, 200]:\n",
    "        print(f\"Performance @{kv}\")\n",
    "        dataset_results = eu.evaluate_dataset([q for q in fid_bm25_dev if qt in q['id']], k=kv)\n",
    "        for k, v in dataset_results.items():\n",
    "            if \"avg\" in k:\n",
    "                print(f\"{k + ':':25} {v*100.0:0.2f}%\")\n",
    "        print()"
   ]
  },
  {
   "cell_type": "code",
   "execution_count": 34,
   "id": "dc85c7f4",
   "metadata": {},
   "outputs": [
    {
     "name": "stdout",
     "output_type": "stream",
     "text": [
      "DPR Results\n",
      ">> Question type: simple\n",
      "Performance @20\n",
      "avg_recall:               20.21%\n",
      "avg_precision:            14.08%\n",
      "avg_f1:                   13.34%\n",
      "\n",
      "Performance @100\n",
      "avg_recall:               31.02%\n",
      "avg_precision:            8.47%\n",
      "avg_f1:                   10.98%\n",
      "\n",
      "Performance @200\n",
      "avg_recall:               36.03%\n",
      "avg_precision:            6.63%\n",
      "avg_f1:                   9.36%\n",
      "\n",
      ">> Question type: comp\n",
      "Performance @20\n",
      "avg_recall:               21.43%\n",
      "avg_precision:            16.65%\n",
      "avg_f1:                   16.54%\n",
      "\n",
      "Performance @100\n",
      "avg_recall:               36.17%\n",
      "avg_precision:            12.39%\n",
      "avg_f1:                   15.86%\n",
      "\n",
      "Performance @200\n",
      "avg_recall:               42.87%\n",
      "avg_precision:            10.95%\n",
      "avg_f1:                   14.97%\n",
      "\n",
      ">> Question type: intersection\n",
      "Performance @20\n",
      "avg_recall:               23.73%\n",
      "avg_precision:            13.03%\n",
      "avg_f1:                   14.41%\n",
      "\n",
      "Performance @100\n",
      "avg_recall:               38.84%\n",
      "avg_precision:            7.82%\n",
      "avg_f1:                   10.23%\n",
      "\n",
      "Performance @200\n",
      "avg_recall:               47.89%\n",
      "avg_precision:            6.49%\n",
      "avg_f1:                   8.73%\n",
      "\n"
     ]
    }
   ],
   "source": [
    "print(\"DPR Results\")\n",
    "for qt in ['simple', 'comp', 'intersection']:\n",
    "    print(\">> Question type:\", qt)\n",
    "    for kv in [20, 100, 200]:\n",
    "        print(f\"Performance @{kv}\")\n",
    "        dataset_results = eu.evaluate_dataset([q for q in fid_dpr_dev if qt in q['id']], k=kv)\n",
    "        for k, v in dataset_results.items():\n",
    "            if \"avg\" in k:\n",
    "                print(f\"{k + ':':25} {v*100.0:0.2f}%\")\n",
    "        print()"
   ]
  },
  {
   "cell_type": "code",
   "execution_count": null,
   "id": "b17dab53",
   "metadata": {},
   "outputs": [],
   "source": []
  }
 ],
 "metadata": {
  "kernelspec": {
   "display_name": "Python 3 (ipykernel)",
   "language": "python",
   "name": "python3"
  },
  "language_info": {
   "codemirror_mode": {
    "name": "ipython",
    "version": 3
   },
   "file_extension": ".py",
   "mimetype": "text/x-python",
   "name": "python",
   "nbconvert_exporter": "python",
   "pygments_lexer": "ipython3",
   "version": "3.9.0"
  }
 },
 "nbformat": 4,
 "nbformat_minor": 5
}
