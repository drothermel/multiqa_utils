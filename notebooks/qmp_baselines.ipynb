{
 "cells": [
  {
   "cell_type": "markdown",
   "id": "2b067f0e",
   "metadata": {},
   "source": [
    "# Prep, Run and Eval QAMPARI Baselines\n",
    "\n",
    "This includes\n",
    "- Use of new utils to view the retrieval results (positive)\n",
    "- Use of new utils to calculate some metrics (Recall, Precision, F1)\n",
    "\n",
    "TODO:\n",
    "- It would be good to color the answer list based on whether they were found in the positive contexts.\n",
    "- It would be good to visualize the top k contexts too (not just the postive ones)\n",
    "- It would be good to get some metrics (maybe print then per question? but mainly, across the dataset\n",
    "- Also, do matching based on how QAMPARI determined positive contexts, because for element 2 they definitely aren't by exact match.  Figure this out."
   ]
  },
  {
   "cell_type": "code",
   "execution_count": 2,
   "id": "353db84a",
   "metadata": {},
   "outputs": [],
   "source": [
    "import json\n",
    "import jsonlines\n",
    "import sh\n",
    "\n",
    "import multiqa_utils.general_utils as gu\n",
    "import multiqa_utils.qampari_utils as qu\n",
    "import multiqa_utils.eval_utils as eu\n",
    "\n",
    "%load_ext autoreload\n",
    "%autoreload 2"
   ]
  },
  {
   "cell_type": "markdown",
   "id": "18ce8d86",
   "metadata": {},
   "source": [
    "## Inspect QAMPARI provided retrieval results\n",
    "\n",
    "They provide BM25/DPR predictions [here](https://samsam3232.github.io/qampari)."
   ]
  },
  {
   "cell_type": "code",
   "execution_count": 3,
   "id": "42ee3a02",
   "metadata": {},
   "outputs": [],
   "source": [
    "qmp_dwn_path = \"/scratch/ddr8143/multiqa/qampari_data/qampari_downloads/\""
   ]
  },
  {
   "cell_type": "code",
   "execution_count": 4,
   "id": "e66948bb",
   "metadata": {},
   "outputs": [
    {
     "name": "stdout",
     "output_type": "stream",
     "text": [
      "fid_bm25_results  fid_dpr_results  rag_results\n",
      "\n",
      ">> fid_bm25_results\n",
      "full_dev_data.jsonl\t  full_test_data_gold.jsonl.gz\n",
      "full_dev_data_gold.jsonl  full_train_data.jsonl.gz\n",
      "full_test_data.jsonl.gz\n",
      "\n"
     ]
    }
   ],
   "source": [
    "print(sh.ls(qmp_dwn_path))\n",
    "print(\">> fid_bm25_results\")\n",
    "print(sh.ls(f\"{qmp_dwn_path}/fid_bm25_results\"))"
   ]
  },
  {
   "cell_type": "code",
   "execution_count": 5,
   "id": "e5cc8293",
   "metadata": {},
   "outputs": [],
   "source": [
    "fid_bm25_dev = gu.readjsonl(f\"{qmp_dwn_path}/fid_bm25_results/full_dev_data.jsonl\")\n",
    "fid_bm25_dev_gold = gu.readjsonl(f\"{qmp_dwn_path}/fid_bm25_results/full_dev_data_gold.jsonl\")"
   ]
  },
  {
   "cell_type": "code",
   "execution_count": 6,
   "id": "03562b75",
   "metadata": {},
   "outputs": [
    {
     "data": {
      "text/plain": [
       "dict_keys(['id', 'question', 'answers', 'ans_mappings', 'target', 'ctxs', 'positive_ctxs'])"
      ]
     },
     "execution_count": 6,
     "metadata": {},
     "output_type": "execute_result"
    }
   ],
   "source": [
    "fid_bm25_dev[0].keys()"
   ]
  },
  {
   "cell_type": "code",
   "execution_count": 7,
   "id": "d997acf1",
   "metadata": {},
   "outputs": [
    {
     "name": "stdout",
     "output_type": "stream",
     "text": [
      "Type:                958__wikidata_comp__dev\n",
      "Question:            Where did the White House Deputy Chief of Staff receive their education?\n",
      "Question Keywords:   \u001b[31mWhere\u001b[0m, \u001b[31mdid\u001b[0m, \u001b[31mWhite\u001b[0m, \u001b[31mHouse\u001b[0m, \u001b[31mDeputy\u001b[0m, \u001b[31mChief\u001b[0m, \u001b[31mStaff\u001b[0m, \u001b[31mreceive\u001b[0m, \u001b[31meducation\u001b[0m\n",
      "Answers:             \u001b[32mHillcrest High School\u001b[0m, \u001b[32mUniversity of Auckland\u001b[0m, \u001b[32mUC Berkeley School of Law\u001b[0m, \u001b[32mKenyon College\u001b[0m, \u001b[32mStanford University\u001b[0m\n",
      "Len pos contexts:    10\n",
      "Len ctxs:            200\n",
      "----------------------------------\n",
      "182.5096 | Harriet Miers\n",
      "    >> Harriet Ellan Miers (born August 10, 1945) is an American lawyer who served as \u001b[31mWhite\u001b[0m \u001b[31mHouse\u001b[0m Counsel to President George W. Bush from\n",
      "       2005 to 2007. A member of the Republican Party since 1988, she previously served as \u001b[31mWhite\u001b[0m \u001b[31mHouse\u001b[0m \u001b[31mStaff\u001b[0m Secretary from 2001\n",
      "       to 2003 and \u001b[31mWhite\u001b[0m \u001b[31mHouse\u001b[0m \u001b[31mDeputy\u001b[0m \u001b[31mChief\u001b[0m of \u001b[31mStaff\u001b[0m for Policy from 2003 until 2005. In 2005, Miers was\n",
      "       nominated by Bush to be an associate justice of the Supreme Court of the United States to replace retiring Justice Sandra Day O'Connor, but—in the\n",
      "       face of bipartisan opposition—asked Bush to withdraw her nomination.\n",
      "\n",
      "140.5194 | Maria Echaveste\n",
      "    >> Her family later moved to California, \u001b[31mWhere\u001b[0m she \u001b[31mreceive\u001b[0md a Bachelor of Arts in anthropology from \u001b[32mStanford University\u001b[0m in\n",
      "       1976 and a Juris Doctor from the University of California, Berkeley, School of Law (Boalt Hall) in 1980. Following her graduation from Boalt,\n",
      "       Echaveste specialized in corporate litigation at the former Los Angeles firm Wyman Bautzer and at Rosenman & Colin in New York. Public service. From\n",
      "       1993 to 1997, Echaveste served as the administrator of the Wage and Hour Division of the Department of Labor.\n",
      "\n",
      "135.6289 | Joe Hagin\n",
      "    >> Joseph \u001b[31mWhite\u001b[0m\u001b[31mHouse\u001b[0m Hagin II (born January 6, 1956) is an American political aide who served as \u001b[31mWhite\u001b[0m \u001b[31mHouse\u001b[0m\n",
      "       \u001b[31mDeputy\u001b[0m \u001b[31mChief\u001b[0m of \u001b[31mStaff\u001b[0m for Operations under President Donald Trump from 2017 to 2018, a role he also served in for President\n",
      "       George W. Bush from 2001 until July 2008. In September 2008, he was interim CEO of Jet Support Services Inc. Joe Hagin co-founded Command Consulting\n",
      "       Group in April 2009. Early life. Hagin was born in Lexington, Kentucky and raised in the Village of Indian Hill near Cincinnati, Ohio.\n",
      "\n",
      "102.1910 | Chris Liddell\n",
      "    >> Christopher Pell Liddell (born 24 April 1958) is a New Zealand-American businessperson who served as \u001b[31mChief\u001b[0m Financial Officer of Microsoft,\n",
      "       the Vice Chairman of General Motors, Senior Vice President and CFO of International Paper, Director and Chairman of Xero and the \u001b[31mWhite\u001b[0m\n",
      "       \u001b[31mHouse\u001b[0m \u001b[31mDeputy\u001b[0m \u001b[31mChief\u001b[0m of \u001b[31mStaff\u001b[0m in the Trump Administration. Liddell has been active in a number of philanthropic\n",
      "       projects, mostly in his native New Zealand and in the 2016 New Year Honours, he was appointed a Companion of the New Zealand Order of Merit for\n",
      "       services to business and philanthropy. Early life. Liddell was born in Matamata, New Zealand, the youngest of five siblings.\n",
      "\n",
      "102.0782 | Harriet Miers\n",
      "    >> Following her withdrawal in 2007, Miers returned to private practice, becoming a partner in the litigation and public policy group at Locke Lord.\n",
      "       Early life and \u001b[31meducation\u001b[0m. Miers was born in Dallas and spent most of her life there until she moved to Washington, D.C. (2001) to work in the\n",
      "       Bush Administration. She has described herself as a \"Texan through and through.\" She is the fourth of the five children of real estate investor Harris\n",
      "       Wood Miers Sr., and his wife, the former Erma (Sally) Grace Richardson. Miers graduated from \u001b[32mHillcrest High School\u001b[0m, a public high school, in\n",
      "       1963. Miers entered Southern Methodist University intending to become a teacher.\n",
      "\n",
      "72.8376 | Harold M. Ickes\n",
      "    >> Harold McEwen Ickes (; born September 4, 1939) was \u001b[31mWhite\u001b[0m \u001b[31mHouse\u001b[0m \u001b[31mDeputy\u001b[0m \u001b[31mChief\u001b[0m of \u001b[31mStaff\u001b[0m for President Bill\n",
      "       Clinton. He was a leading figure in the Clinton administration's healthcare reform initiative. Ickes is the son of Harold L. Ickes, who was Secretary\n",
      "       of the Interior under Franklin D. Roosevelt. Background. Ickes was born in Baltimore, Maryland to Harold L. Ickes and Jane Dahlman. Ickes is a\n",
      "       graduate of \u001b[32mStanford University\u001b[0m (1964, AB, Economics) and Columbia Law School. Ickes was a student civil rights activist in the 1960s and\n",
      "       took part in Freedom Summer. He has practiced labor law for many years in New York City. He is founder and president emeritus of civic data firm\n",
      "       Catalist.\n",
      "\n",
      "61.2316 | Maria Echaveste\n",
      "    >> Maria Echaveste (born May 31, 1954) is a former U.S. presidential advisor to Bill Clinton and \u001b[31mWhite\u001b[0m \u001b[31mHouse\u001b[0m \u001b[31mDeputy\u001b[0m\n",
      "       \u001b[31mChief\u001b[0m of \u001b[31mStaff\u001b[0m during the second Clinton administration. She is one of the highest-ranking Latinas to have served in a presidential\n",
      "       administration. She is currently a Senior Fellow at the Center for American Progress and a co-founder of the Nueva Vista Group, a policy, legislative\n",
      "       strategy and advocacy group working with non-profit and corporate clients. Early life. Echaveste was born in Texas as one of seven children born to\n",
      "       Mexican immigrants.\n",
      "\n",
      "61.2299 | Chris Liddell\n",
      "    >> His father was a school teacher and died while Liddell was young. His mother supported Liddell and his siblings by working a variety of jobs,\n",
      "       including at Smith & Caughey's in Auckland. Liddell \u001b[31mreceive\u001b[0md his secondary \u001b[31meducation\u001b[0m at Mount Albert Grammar School. He holds a\n",
      "       Bachelor of Engineering degree with honors from the \u001b[32mUniversity of Auckland\u001b[0m and a Master of Philosophy degree from Oxford University. He was\n",
      "       nominated for a Rhodes Scholarship, by Auckland University in 1979, and named one of the university's Distinguished Alumni in 2003. Career. Corporate.\n",
      "\n",
      "46.3368 | Joe Hagin\n",
      "    >> He \u001b[31mreceive\u001b[0md a Bachelor of Arts from \u001b[32mKenyon College\u001b[0m in 1979 \u001b[31mWhere\u001b[0m he was a member of the Delta Kappa Epsilon fraternity.\n",
      "       Career. Hagin aided George H.W. Bush during his unsuccessful GOP presidential nomination campaign in 1979. When Bush became Vice President in 1981, he\n",
      "       selected Hagin as his personal aide. Bush also appointed him to head the Vice President's Legislative Affairs, 1983-85. In 1985, Hagin left the\n",
      "       \u001b[31mWhite\u001b[0m \u001b[31mHouse\u001b[0m to be Public Affairs Director for Federated Department Stores, which owns Macy's and Bloomingdale's.\n",
      "\n",
      "45.3515 | Harold M. Ickes\n",
      "    >> Harold McEwen Ickes (; born September 4, 1939) was \u001b[31mWhite\u001b[0m \u001b[31mHouse\u001b[0m \u001b[31mDeputy\u001b[0m \u001b[31mChief\u001b[0m of \u001b[31mStaff\u001b[0m for President Bill\n",
      "       Clinton. He was a leading figure in the Clinton administration's healthcare reform initiative. Ickes is the son of Harold L. Ickes, who was Secretary\n",
      "       of the Interior under Franklin D. Roosevelt. Background. Ickes was born in Baltimore, Maryland to Harold L. Ickes and Jane Dahlman. Ickes is a\n",
      "       graduate of \u001b[32mStanford University\u001b[0m (1964, AB, Economics) and Columbia Law School. Ickes was a student civil rights activist in the 1960s and\n",
      "       took part in Freedom Summer. He has practiced labor law for many years in New York City. He is founder and president emeritus of civic data firm\n",
      "       Catalist.\n",
      "\n",
      "----------------------------------\n",
      "\n"
     ]
    }
   ],
   "source": [
    "qu.print_data(fid_bm25_dev[2])"
   ]
  },
  {
   "cell_type": "markdown",
   "id": "b4736ea8",
   "metadata": {},
   "source": [
    "## Calculate Metrics on Data"
   ]
  },
  {
   "cell_type": "markdown",
   "id": "59108fb2",
   "metadata": {},
   "source": [
    "**Calculating metrics on the fid_bm25_dev dataset.**"
   ]
  },
  {
   "cell_type": "code",
   "execution_count": 19,
   "id": "97512e83",
   "metadata": {},
   "outputs": [
    {
     "name": "stdout",
     "output_type": "stream",
     "text": [
      "Performance @20\n",
      "avg_recall:               36.18%\n",
      "avg_precision:            23.56%\n",
      "avg_f1:                   25.47%\n",
      "\n",
      "Performance @100\n",
      "avg_recall:               56.17%\n",
      "avg_precision:            15.35%\n",
      "avg_f1:                   21.06%\n",
      "\n",
      "Performance @200\n",
      "avg_recall:               62.40%\n",
      "avg_precision:            12.07%\n",
      "avg_f1:                   17.38%\n",
      "\n"
     ]
    }
   ],
   "source": [
    "for kv in [20, 100, 200]:\n",
    "    print(f\"Performance @{kv}\")\n",
    "    dataset_results = eu.evaluate_dataset(fid_bm25_dev, k=kv)\n",
    "    for k, v in dataset_results.items():\n",
    "        if \"avg\" in k:\n",
    "            print(f\"{k + ':':25} {v*100.0:0.2f}%\")\n",
    "    print()"
   ]
  },
  {
   "cell_type": "code",
   "execution_count": 17,
   "id": "d0b934eb",
   "metadata": {},
   "outputs": [
    {
     "name": "stdout",
     "output_type": "stream",
     "text": [
      "Question: Which Judge of the United States Court of Appeals for the Second Circuit works for Yale Law School?\n",
      "Answers: [['Charles Edward Clark'], ['Henry Wade Rogers'], ['John M. Walker, Jr.'], ['Ralph K. Winter, Jr.'], ['Thomas Walter Swan'], ['Guido Calabresi']]\n",
      "-------\n",
      "Returned Answers: ['Charles Edward Clark', 'Ralph K. Winter, Jr.', 'Thomas Walter Swan', 'Guido Calabresi']\n",
      "[Recall: 66.67%] 4 out of 6 in context list\n",
      "[Precision: 9.00%] 18 out of 200 contexts contained an answer\n"
     ]
    }
   ],
   "source": [
    "eu.viz_correct_answers_context_list(fid_bm25_dev[1])"
   ]
  },
  {
   "cell_type": "code",
   "execution_count": null,
   "id": "39a1d263",
   "metadata": {},
   "outputs": [],
   "source": []
  }
 ],
 "metadata": {
  "kernelspec": {
   "display_name": "Python 3 (ipykernel)",
   "language": "python",
   "name": "python3"
  },
  "language_info": {
   "codemirror_mode": {
    "name": "ipython",
    "version": 3
   },
   "file_extension": ".py",
   "mimetype": "text/x-python",
   "name": "python",
   "nbconvert_exporter": "python",
   "pygments_lexer": "ipython3",
   "version": "3.9.0"
  }
 },
 "nbformat": 4,
 "nbformat_minor": 5
}
