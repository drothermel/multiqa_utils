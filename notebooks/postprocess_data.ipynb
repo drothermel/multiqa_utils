{
 "cells": [
  {
   "cell_type": "code",
   "execution_count": 1,
   "id": "af9d145a",
   "metadata": {},
   "outputs": [],
   "source": [
    "import json\n",
    "import sh\n",
    "import os\n",
    "\n",
    "from pyserini.search.lucene import LuceneSearcher"
   ]
  },
  {
   "cell_type": "code",
   "execution_count": 4,
   "id": "cf92259e",
   "metadata": {},
   "outputs": [],
   "source": [
    "base_path = \"/scratch/ddr8143/repos/DPR/downloads/data\"\n",
    "ambigqa_path = f\"{base_path}/ambigqa\"\n",
    "ambigqa_light_path = f\"{base_path}/ambigqa_light\"\n",
    "nq_path = f\"{base_path}/retriever\"\n",
    "qp_path = f\"{base_path}/qampari\""
   ]
  },
  {
   "cell_type": "code",
   "execution_count": 5,
   "id": "c36af7d8",
   "metadata": {},
   "outputs": [],
   "source": [
    "bm25_out_path = \"/scratch/ddr8143/repos/pyserini/runs\"\n",
    "bm25_out_name = lambda dataset, split, hits: f\"{bm25_out_path}/bm25.{dataset}.{split}.h{hits}.json\""
   ]
  },
  {
   "cell_type": "code",
   "execution_count": 6,
   "id": "d2b05dad",
   "metadata": {},
   "outputs": [
    {
     "data": {
      "text/plain": [
       "'/scratch/ddr8143/repos/pyserini/runs/bm25.ambigqa_light.dev.h100.json'"
      ]
     },
     "execution_count": 6,
     "metadata": {},
     "output_type": "execute_result"
    }
   ],
   "source": [
    "bm25_out_name(\"ambigqa_light\", \"dev\", 100)"
   ]
  },
  {
   "cell_type": "code",
   "execution_count": 7,
   "id": "d16c85cc",
   "metadata": {},
   "outputs": [],
   "source": [
    "# Goal 1: Inspect the context annotations"
   ]
  },
  {
   "cell_type": "code",
   "execution_count": 8,
   "id": "85338f63",
   "metadata": {},
   "outputs": [],
   "source": [
    "def count_no_positive(dataset_path, hits):\n",
    "    no_pos_path = f\"{dataset_path}__w_no_pos\"\n",
    "    if os.path.exists(no_pos_path):\n",
    "        dataset = json.load(open(no_pos_path))\n",
    "    else:\n",
    "        dataset = json.load(open(dataset_path))\n",
    "    total_len = len(dataset)\n",
    "    no_positive = [d for d in dataset if len(d[\"positive_ctxs\"]) == 0]\n",
    "    no_pos_len = len(no_positive)\n",
    "    print(f\"{hits:4} | {no_pos_len}/{total_len} ({no_pos_len * 100 / total_len:0.2f}%)\")"
   ]
  },
  {
   "cell_type": "code",
   "execution_count": 9,
   "id": "43f2015f",
   "metadata": {},
   "outputs": [
    {
     "name": "stdout",
     "output_type": "stream",
     "text": [
      "Hits | No Positive Contexts Retrieved\n",
      "---- | ------------------------------\n",
      " 100 | 319/2002 (15.93%)\n",
      " 400 | 221/2002 (11.04%)\n",
      "1000 | 170/2002 (8.49%)\n"
     ]
    }
   ],
   "source": [
    "print(f\"Hits | No Positive Contexts Retrieved\")\n",
    "print(f\"---- | ------------------------------\")\n",
    "for hits in [100, 400, 1000]:\n",
    "    count_no_positive(bm25_out_name(\"ambigqa_light\", \"dev\", hits), hits)"
   ]
  },
  {
   "cell_type": "code",
   "execution_count": 10,
   "id": "18432e28",
   "metadata": {},
   "outputs": [],
   "source": [
    "dev_dataset = json.load(open(bm25_out_name(\"ambigqa_light\", \"dev\", 100)))"
   ]
  },
  {
   "cell_type": "code",
   "execution_count": 11,
   "id": "e7ac9f61",
   "metadata": {},
   "outputs": [
    {
     "data": {
      "text/plain": [
       "{'question': 'Who plays the doctor in dexter season 1?',\n",
       " 'answers': ['Goldwyn', 'Tony Goldwyn'],\n",
       " 'positive_ctxs': [{'docid': '13691534',\n",
       "   'score': '9.432925',\n",
       "   'text': '\"Dexter (season 1)\"\\nKiller case closed, though Doakes keeps close tabs on Dexter, still suspicious of his actions. Rita discovers evidence that Dexter may have set up Paul. The series pilot was developed by James Manos, Jr. based on Jeff Lindsay\\'s novel. Manos served as an executive producer for the pilot along with John Goldwyn and Sara Colleton. The pilot was produced by Dennis Bishop. Steven Brown also served as a producer for the pilot episode. Chad Tomasoski worked as an associate producer. The pilot was directed by Michael Cuesta. Manos, Goldwyn and Colleton returned as executive producers for the first season. Mid-season',\n",
       "   'has_answer': True}],\n",
       " 'hard_negative_ctxs': [{'docid': '2499310',\n",
       "   'score': '12.204408',\n",
       "   'text': '\"Denise Crosby\"\\n\"\"Key West\"\". She also appeared in two episodes of the cable television series \"\"Red Shoe Diaries\"\", playing a different character in each episode. Crosby had a small recurring role in Aaron Spelling\\'s prime time drama, \"\"Models Inc\"\", a spin-off from \"\"Melrose Place\"\". She was a guest star on the eighth season of \"\"The X-Files\"\" for two episodes, in which she plays a doctor who examined Agent Scully\\'s baby. In 1991, she was a guest star in \"\"The Deadly Nightshade\"\", a first season \"\"The Flash\"\" episode as Dr. Rebecca Frost. In 2006, she was a guest star in \"\"Dexter\"\" as Dexter\\'s',\n",
       "   'has_answer': False}]}"
      ]
     },
     "execution_count": 11,
     "metadata": {},
     "output_type": "execute_result"
    }
   ],
   "source": [
    "dev_dataset[0]"
   ]
  },
  {
   "cell_type": "code",
   "execution_count": 4,
   "id": "99bfb1f3",
   "metadata": {},
   "outputs": [
    {
     "name": "stdout",
     "output_type": "stream",
     "text": [
      "/scratch/ddr8143/repos/DPR/downloads/data/ambigqa_light\n"
     ]
    },
    {
     "data": {
      "text/plain": [
       "dev.json  train.json"
      ]
     },
     "execution_count": 4,
     "metadata": {},
     "output_type": "execute_result"
    }
   ],
   "source": [
    "print(ambigqa_light_path)\n",
    "sh.ls(ambigqa_light_path)"
   ]
  },
  {
   "cell_type": "code",
   "execution_count": 5,
   "id": "78dd94a4",
   "metadata": {},
   "outputs": [],
   "source": [
    "train_dataset_path = '/'.join([ambigqa_light_path, \"train.json\"])\n",
    "train_dataset = json.load(open(train_dataset_path))"
   ]
  },
  {
   "cell_type": "code",
   "execution_count": 23,
   "id": "eeb596a2",
   "metadata": {},
   "outputs": [],
   "source": [
    "strange_ds = []\n",
    "for d in train_dataset:\n",
    "    if len(d[\"annotations\"]) > 1:\n",
    "        strange_ds.append(d)"
   ]
  },
  {
   "cell_type": "code",
   "execution_count": 24,
   "id": "e0954c22",
   "metadata": {},
   "outputs": [
    {
     "data": {
      "text/plain": [
       "149"
      ]
     },
     "execution_count": 24,
     "metadata": {},
     "output_type": "execute_result"
    }
   ],
   "source": [
    "len(strange_ds)"
   ]
  },
  {
   "cell_type": "code",
   "execution_count": 29,
   "id": "07dcbd46",
   "metadata": {},
   "outputs": [
    {
     "data": {
      "text/plain": [
       "{'annotations': [{'type': 'singleAnswer', 'answer': ['New Delhi']},\n",
       "  {'type': 'singleAnswer',\n",
       "   'answer': ['New Delhi', 'New Delhi, India', 'Delhi']}],\n",
       " 'id': '3978528412752837293',\n",
       " 'question': \"India's first ever all india institute of ayurveda has come up in which city?\"}"
      ]
     },
     "execution_count": 29,
     "metadata": {},
     "output_type": "execute_result"
    }
   ],
   "source": [
    "strange_ds[2]"
   ]
  },
  {
   "cell_type": "code",
   "execution_count": 33,
   "id": "e9044006",
   "metadata": {},
   "outputs": [
    {
     "name": "stdout",
     "output_type": "stream",
     "text": [
      "Dogri language is spoken in which state of india?\n",
      "       A: ['Jammu and Kashmir, Himachal Pradesh, Punjab', 'Jammu and Kashmir, Himachal Pradesh, Punjab']\n",
      "       A: {'Jammu and Kashmir, Himachal Pradesh, Punjab'}\n",
      "Who plays granny on once upon a time?\n",
      "       A: ['Beverley Elliott', 'Elliott', 'Beverley Elliott']\n",
      "       A: {'Beverley Elliott', 'Elliott'}\n",
      "India's first ever all india institute of ayurveda has come up in which city?\n",
      "       A: ['New Delhi', 'New Delhi', 'New Delhi, India', 'Delhi']\n",
      "       A: {'Delhi', 'New Delhi, India', 'New Delhi'}\n",
      "Type of epithelial tissue containing cells that can change shapes as the tissue stretches?\n",
      "       A: ['Transitional epithelium', 'a type of stratified epithelium', 'Transitional epithelium']\n",
      "       A: {'a type of stratified epithelium', 'Transitional epithelium'}\n",
      "When did the ranch season 2 come out?\n",
      "       A: ['June 16, 2017', 'December 15, 2017', 'June 16, 2017', '2017', 'December 15, 2017', '2017']\n",
      "       A: {'2017', 'December 15, 2017', 'June 16, 2017'}\n",
      "Who is the first rail minister of india?\n",
      "       A: ['John Mathai', 'Mathai', 'Dr. John Matthai', 'John Mathai']\n",
      "       A: {'John Mathai', 'Dr. John Matthai', 'Mathai'}\n",
      "Who voices the prince in happily never after?\n",
      "       A: ['Warburton', 'Patrick Warburton', 'Patrick Warburton']\n",
      "       A: {'Warburton', 'Patrick Warburton'}\n",
      "Where is the tv show hell's kitchen located?\n",
      "       A: ['Los Angeles, California', 'modified warehouse in Los Angeles', 'Los Angeles', 'Las Vegas, Nevada', \"Hell's Kitchen restaurant\", 'Las Vegas', 'United Kingdom', 'London', 'specially constructed London restaurant-kitchen', 'Los Angeles', 'Las Vegas, Nevada', 'London']\n",
      "       A: {'United Kingdom', 'London', 'Los Angeles, California', 'Las Vegas', 'Los Angeles', \"Hell's Kitchen restaurant\", 'Las Vegas, Nevada', 'modified warehouse in Los Angeles', 'specially constructed London restaurant-kitchen'}\n",
      "When did the canon rebel t3i come out?\n",
      "       A: ['February 7, 2011', '2011', '7 February 2011']\n",
      "       A: {'February 7, 2011', '2011', '7 February 2011'}\n",
      "What is the oldest beer brewery in america?\n",
      "       A: ['Yuengling', 'D. G. Yuengling & Son', 'D.G. Yuengling & Son Brewing Complex', '\"Eagle Brewery\"', 'D.G. Yuengling & Son']\n",
      "       A: {'D.G. Yuengling & Son Brewing Complex', '\"Eagle Brewery\"', 'Yuengling', 'D. G. Yuengling & Son', 'D.G. Yuengling & Son'}\n"
     ]
    }
   ],
   "source": [
    "for d in strange_ds[:10]:\n",
    "    answers = []\n",
    "    for anns in d['annotations']:\n",
    "        if anns['type'] == 'multipleQAs':\n",
    "            for qap in anns['qaPairs']:\n",
    "                answers.extend(qap['answer'])\n",
    "        else:\n",
    "            answers.extend(anns['answer'])\n",
    "    print(d[\"question\"])\n",
    "    print(\"       A:\", answers)\n",
    "    print(\"       A:\", set(answers))"
   ]
  },
  {
   "cell_type": "code",
   "execution_count": null,
   "id": "99c63fef",
   "metadata": {},
   "outputs": [],
   "source": []
  },
  {
   "cell_type": "code",
   "execution_count": null,
   "id": "9ef42965",
   "metadata": {},
   "outputs": [],
   "source": []
  },
  {
   "cell_type": "code",
   "execution_count": 25,
   "id": "a2aa9d34",
   "metadata": {},
   "outputs": [],
   "source": [
    "d1 = strange_ds[0]"
   ]
  },
  {
   "cell_type": "code",
   "execution_count": 26,
   "id": "9446bc1b",
   "metadata": {},
   "outputs": [
    {
     "data": {
      "text/plain": [
       "{'annotations': [{'type': 'singleAnswer',\n",
       "   'answer': ['Jammu and Kashmir, Himachal Pradesh, Punjab']},\n",
       "  {'type': 'singleAnswer',\n",
       "   'answer': ['Jammu and Kashmir, Himachal Pradesh, Punjab']}],\n",
       " 'id': '-52876016653618605',\n",
       " 'question': 'Dogri language is spoken in which state of india?'}"
      ]
     },
     "execution_count": 26,
     "metadata": {},
     "output_type": "execute_result"
    }
   ],
   "source": [
    "d1"
   ]
  },
  {
   "cell_type": "code",
   "execution_count": 13,
   "id": "71f15ff0",
   "metadata": {},
   "outputs": [],
   "source": [
    "d2 = train_dataset[1]"
   ]
  },
  {
   "cell_type": "code",
   "execution_count": 14,
   "id": "5dff6a0a",
   "metadata": {},
   "outputs": [
    {
     "data": {
      "text/plain": [
       "{'annotations': [{'type': 'singleAnswer', 'answer': ['David Morse']}],\n",
       " 'id': '4790842463458965203',\n",
       " 'question': 'Who played george washington in the john adams series?'}"
      ]
     },
     "execution_count": 14,
     "metadata": {},
     "output_type": "execute_result"
    }
   ],
   "source": [
    "d2"
   ]
  },
  {
   "cell_type": "code",
   "execution_count": 20,
   "id": "6832820c",
   "metadata": {},
   "outputs": [
    {
     "data": {
      "text/plain": [
       "{'answer': ['muf', 'in'],\n",
       " 'annotations': [{'type': 'singleAnswer', 'answer': ['David Morse']}],\n",
       " 'id': '4790842463458965203',\n",
       " 'question': 'Who played george washington in the john adams series?'}"
      ]
     },
     "execution_count": 20,
     "metadata": {},
     "output_type": "execute_result"
    }
   ],
   "source": [
    "{\"answer\": ['muf', 'in'], **d2}"
   ]
  },
  {
   "cell_type": "code",
   "execution_count": 22,
   "id": "24500d2a",
   "metadata": {},
   "outputs": [
    {
     "data": {
      "text/plain": [
       "True"
      ]
     },
     "execution_count": 22,
     "metadata": {},
     "output_type": "execute_result"
    }
   ],
   "source": [
    "\"muffins.json\".endswith('.json')"
   ]
  },
  {
   "cell_type": "code",
   "execution_count": 19,
   "id": "2f8f4e15",
   "metadata": {},
   "outputs": [
    {
     "name": "stdout",
     "output_type": "stream",
     "text": [
      "When did the simpsons first air on television? A: ['April 19, 1987', 'December 17, 1989']\n",
      "Who played george washington in the john adams series? A: ['David Morse']\n"
     ]
    }
   ],
   "source": [
    "for d in [d1, d2]:\n",
    "    answers = []\n",
    "    if len(d['annotations']) != 1:\n",
    "        raise Exception(\"Too many annotations! Is this a test set, you haven't thought about how to handle test set...\")\n",
    "    if d['annotations'][0]['type'] == 'multipleQAs':\n",
    "        for qap in d['annotations'][0]['qaPairs']:\n",
    "            answers.extend(qap['answer'])\n",
    "    else:\n",
    "        answers.extend(d['annotations'][0]['answer'])\n",
    "    print(d[\"question\"], \"A:\", answers)"
   ]
  },
  {
   "cell_type": "code",
   "execution_count": null,
   "id": "9a124199",
   "metadata": {},
   "outputs": [],
   "source": [
    "answers"
   ]
  },
  {
   "cell_type": "code",
   "execution_count": 8,
   "id": "349967b4",
   "metadata": {},
   "outputs": [
    {
     "data": {
      "text/plain": [
       "'When did the simpsons first air on television?'"
      ]
     },
     "execution_count": 8,
     "metadata": {},
     "output_type": "execute_result"
    }
   ],
   "source": [
    "d[\"question\"]"
   ]
  },
  {
   "cell_type": "raw",
   "id": "95881b57",
   "metadata": {},
   "source": [
    "searcher = LuceneSearcher.from_prebuilt_index('wikipedia-dpr')\n",
    "hits = searcher.search(d[\"question\"], 10)\n",
    "hits[0].raw"
   ]
  },
  {
   "cell_type": "code",
   "execution_count": null,
   "id": "6490e546",
   "metadata": {},
   "outputs": [],
   "source": [
    "# Goal 2: ???"
   ]
  },
  {
   "cell_type": "code",
   "execution_count": 34,
   "id": "f4235e7d",
   "metadata": {},
   "outputs": [],
   "source": [
    "postprocessed = \"/scratch/ddr8143/repos/pyserini/runs/run.dpr.ambigqa_light.train.bm25.json\""
   ]
  },
  {
   "cell_type": "code",
   "execution_count": 35,
   "id": "8739ef8b",
   "metadata": {},
   "outputs": [],
   "source": [
    "pp_data = json.load(open(postprocessed))"
   ]
  },
  {
   "cell_type": "code",
   "execution_count": 38,
   "id": "f57685a2",
   "metadata": {},
   "outputs": [],
   "source": [
    "ppk = list(pp_data.keys())"
   ]
  },
  {
   "cell_type": "code",
   "execution_count": 41,
   "id": "7345660b",
   "metadata": {},
   "outputs": [],
   "source": [
    "positive_contexts = [c for c in pp_data[ppk[0]]['contexts'] if c['has_answer']]\n",
    "hard_negative_context = None\n",
    "for c in pp_data[ppk[0]]['contexts']:\n",
    "    if not c['has_answer']:\n",
    "        hard_negative_context = c\n",
    "        break"
   ]
  },
  {
   "cell_type": "code",
   "execution_count": 44,
   "id": "475f4cc3",
   "metadata": {},
   "outputs": [
    {
     "data": {
      "text/plain": [
       "'When did the simpsons first air on television?'"
      ]
     },
     "execution_count": 44,
     "metadata": {},
     "output_type": "execute_result"
    }
   ],
   "source": [
    "pp_data[ppk[0]]['question']"
   ]
  },
  {
   "cell_type": "code",
   "execution_count": 45,
   "id": "48f945ce",
   "metadata": {},
   "outputs": [
    {
     "data": {
      "text/plain": [
       "['April 19, 1987', 'December 17, 1989']"
      ]
     },
     "execution_count": 45,
     "metadata": {},
     "output_type": "execute_result"
    }
   ],
   "source": [
    "pp_data[ppk[0]]['answers']"
   ]
  },
  {
   "cell_type": "code",
   "execution_count": 42,
   "id": "5d772cd8",
   "metadata": {},
   "outputs": [
    {
     "data": {
      "text/plain": [
       "[{'docid': '4540208',\n",
       "  'score': '11.211435',\n",
       "  'text': '\"The Simpsons shorts\"\\nThe Simpsons shorts The Simpsons shorts are an American animated TV series of 48 one-minute shorts that ran on the variety television program \"\"The Tracey Ullman Show\"\" for three seasons, before the characters spun off into \"\"The Simpsons\"\", their own half-hour prime-time show. It features Homer, Marge, Bart, Lisa, and Maggie. The series was created by Matt Groening, who designed the Simpson family and wrote many of the shorts. The shorts first aired on April 19, 1987 starting with \"\"Good Night\"\". The final short to air was \"\"TV Simpsons\"\", originally airing on May 14, 1989. \"\"The Simpsons\"\" later debuted on',\n",
       "  'has_answer': True},\n",
       " {'docid': '9852167',\n",
       "  'score': '11.157161',\n",
       "  'text': '\"Good Night (The Simpsons)\"\\nGood Night (The Simpsons) \"\"Good Night\"\" (also known as \"\"Good Night Simpsons\"\") is the first of forty-eight Simpsons shorts that appeared on the variety show \"\"The Tracey Ullman Show\"\". It originally aired on the Fox network in the United States on April 19, 1987, during the third episode of \"\"The Tracey Ullman Show\"\" and marks the first appearance of the Simpson family — Homer, Marge, Bart, Lisa, and Maggie — on television. After three seasons on Tracey Ullman, the shorts would be adapted into the animated show \"\"The Simpsons\"\". \"\"Good Night\"\" has since been aired on the show in the',\n",
       "  'has_answer': True},\n",
       " {'docid': '7606019',\n",
       "  'score': '10.923328',\n",
       "  'text': '\"The Simpsons (season 1)\"\\nreleased in 2001, it quickly became the best-selling television DVD in history, although it was later overtaken by the first season of \"\"Chappelle\\'s Show\"\". The Simpsons (season 1) The first season of the American animated television series \"\"The Simpsons\"\" originally aired on the Fox network between December 17, 1989 and May 13, 1990, beginning with the Christmas special \"\"Simpsons Roasting on an Open Fire\"\". The executive producers for the first production season were Matt Groening, James L. Brooks, and Sam Simon. The series was originally set to debut in autumn 1989 with the episode \"\"Some Enchanted Evening\"\", which was meant',\n",
       "  'has_answer': True},\n",
       " {'docid': '7606002',\n",
       "  'score': '10.384432',\n",
       "  'text': '\"The Simpsons (season 1)\"\\nThe Simpsons (season 1) The first season of the American animated television series \"\"The Simpsons\"\" originally aired on the Fox network between December 17, 1989 and May 13, 1990, beginning with the Christmas special \"\"Simpsons Roasting on an Open Fire\"\". The executive producers for the first production season were Matt Groening, James L. Brooks, and Sam Simon. The series was originally set to debut in autumn 1989 with the episode \"\"Some Enchanted Evening\"\", which was meant to introduce the main characters; during the first screening of the episode, the producers discovered that the animation was so appalling that 70% of',\n",
       "  'has_answer': True},\n",
       " {'docid': '9646933',\n",
       "  'score': '9.879517',\n",
       "  'text': '\"History of The Simpsons\"\\ninto a film. The script was re-written over a hundred times, and this creativity continued after animation had begun in 2006. The film was a box office success, and received overwhelmingly positive reviews. \"\"The Simpsons\"\" eventually became the longest-running American sitcom, the longest-running American animated program, and in 2009 it surpassed \"\"Gunsmoke\"\" as the longest-running American primetime, scripted television series. Since its debut on December 17, 1989, the show has broadcast episodes and its 30th season started airing on September 30, 2018. When producer James L. Brooks was working on the television variety show \"\"The Tracey Ullman Show\"\" for the',\n",
       "  'has_answer': True}]"
      ]
     },
     "execution_count": 42,
     "metadata": {},
     "output_type": "execute_result"
    }
   ],
   "source": [
    "positive_contexts"
   ]
  },
  {
   "cell_type": "code",
   "execution_count": 43,
   "id": "eb3a66f0",
   "metadata": {},
   "outputs": [
    {
     "data": {
      "text/plain": [
       "{'docid': '4949996',\n",
       " 'score': '12.078153',\n",
       " 'text': '\"Helter Shelter (The Simpsons)\"\\nHelter Shelter (The Simpsons) \"\"Helter Shelter\"\" is the fifth episode of the fourteenth season of the American animated television sitcom \"\"The Simpsons\"\". It originally aired on the Fox network in the United States on December 1, 2002. In the episode, the Simpson family has to find temporary residence while their house is fumigated for termites. When they run out of options, they decide to become contestants on a reality show where families live in the manner that people did in 1895. The family is initially miserable, but slowly adapt to their new life, which causes the show to lose ratings.',\n",
       " 'has_answer': False}"
      ]
     },
     "execution_count": 43,
     "metadata": {},
     "output_type": "execute_result"
    }
   ],
   "source": [
    "hard_negative_context"
   ]
  },
  {
   "cell_type": "code",
   "execution_count": null,
   "id": "31c34ca6",
   "metadata": {},
   "outputs": [],
   "source": []
  }
 ],
 "metadata": {
  "kernelspec": {
   "display_name": "Python 3 (ipykernel)",
   "language": "python",
   "name": "python3"
  },
  "language_info": {
   "codemirror_mode": {
    "name": "ipython",
    "version": 3
   },
   "file_extension": ".py",
   "mimetype": "text/x-python",
   "name": "python",
   "nbconvert_exporter": "python",
   "pygments_lexer": "ipython3",
   "version": "3.9.0"
  }
 },
 "nbformat": 4,
 "nbformat_minor": 5
}
