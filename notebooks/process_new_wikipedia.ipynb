{
 "cells": [
  {
   "cell_type": "markdown",
   "id": "4def8b0a",
   "metadata": {},
   "source": [
    "# Create New Wikipedia Index\n",
    "\n",
    "This includes tools to:\n",
    "- extract the metadata (titles with text) from a set of wikidata\n",
    "- convert a wikidata set to the format to create full page indices with pyserini\n",
    "\n",
    "See `readmes/preprocessing_new_wikipedia.md` for more info on the other stages in the process."
   ]
  },
  {
   "cell_type": "code",
   "execution_count": null,
   "id": "ac07341f",
   "metadata": {},
   "outputs": [],
   "source": []
  },
  {
   "cell_type": "code",
   "execution_count": 33,
   "id": "efafb517",
   "metadata": {},
   "outputs": [
    {
     "name": "stdout",
     "output_type": "stream",
     "text": [
      "The autoreload extension is already loaded. To reload it, use:\n",
      "  %reload_ext autoreload\n"
     ]
    }
   ],
   "source": [
    "import sh\n",
    "import json\n",
    "import jsonlines\n",
    "import os\n",
    "\n",
    "from multiqa_utils import wikipedia_utils as wu\n",
    "\n",
    "%load_ext autoreload\n",
    "%autoreload 2"
   ]
  },
  {
   "cell_type": "code",
   "execution_count": null,
   "id": "94774e6c",
   "metadata": {},
   "outputs": [],
   "source": []
  },
  {
   "cell_type": "markdown",
   "id": "431c84da",
   "metadata": {},
   "source": [
    "## Identify All Titles in Dump that Have Text\n",
    "\n",
    "This collects all the titles that actually contain text and writes them into a metada file.  Then aggregates all the metadata into a single dict."
   ]
  },
  {
   "cell_type": "code",
   "execution_count": 60,
   "id": "f069e788",
   "metadata": {},
   "outputs": [],
   "source": [
    "# The path of the new dump\n",
    "wikipath = \"/scratch/ddr8143/wikipedia/wiki_20220701/raw_extracted\""
   ]
  },
  {
   "cell_type": "code",
   "execution_count": 61,
   "id": "10432287",
   "metadata": {},
   "outputs": [
    {
     "name": "stdout",
     "output_type": "stream",
     "text": [
      "/scratch/ddr8143/wikipedia/wiki_20220701/raw_extracted/AA\n"
     ]
    },
    {
     "data": {
      "text/plain": [
       "metadata.json  wiki_12\twiki_25  wiki_38  wiki_51  wiki_64  wiki_77  wiki_90\n",
       "wiki_00        wiki_13\twiki_26  wiki_39  wiki_52  wiki_65  wiki_78  wiki_91\n",
       "wiki_01        wiki_14\twiki_27  wiki_40  wiki_53  wiki_66  wiki_79  wiki_92\n",
       "wiki_02        wiki_15\twiki_28  wiki_41  wiki_54  wiki_67  wiki_80  wiki_93\n",
       "wiki_03        wiki_16\twiki_29  wiki_42  wiki_55  wiki_68  wiki_81  wiki_94\n",
       "wiki_04        wiki_17\twiki_30  wiki_43  wiki_56  wiki_69  wiki_82  wiki_95\n",
       "wiki_05        wiki_18\twiki_31  wiki_44  wiki_57  wiki_70  wiki_83  wiki_96\n",
       "wiki_06        wiki_19\twiki_32  wiki_45  wiki_58  wiki_71  wiki_84  wiki_97\n",
       "wiki_07        wiki_20\twiki_33  wiki_46  wiki_59  wiki_72  wiki_85  wiki_98\n",
       "wiki_08        wiki_21\twiki_34  wiki_47  wiki_60  wiki_73  wiki_86  wiki_99\n",
       "wiki_09        wiki_22\twiki_35  wiki_48  wiki_61  wiki_74  wiki_87\n",
       "wiki_10        wiki_23\twiki_36  wiki_49  wiki_62  wiki_75  wiki_88\n",
       "wiki_11        wiki_24\twiki_37  wiki_50  wiki_63  wiki_76  wiki_89"
      ]
     },
     "execution_count": 61,
     "metadata": {},
     "output_type": "execute_result"
    }
   ],
   "source": [
    "# Inspect the data setup\n",
    "wiki_seg = wu.get_wikiseg_path(wikipath, \"AA\")\n",
    "print(wiki_seg)\n",
    "sh.ls(wiki_seg)"
   ]
  },
  {
   "cell_type": "code",
   "execution_count": 62,
   "id": "db223ee8",
   "metadata": {},
   "outputs": [],
   "source": [
    "# First, parse all metadata and write metadata files to segment directories\n",
    "for i, segment in enumerate(sorted(os.listdir(wikipath))):\n",
    "    wu.get_segment_metadata(wikipath, segment, force=False, verbose=False)"
   ]
  },
  {
   "cell_type": "code",
   "execution_count": 5,
   "id": "1846f4bc",
   "metadata": {},
   "outputs": [
    {
     "name": "stderr",
     "output_type": "stream",
     "text": [
      "100%|██████████████████████████████████████████████████████████████████████████████████████████████████████████████████████████████████████████████████████████| 170/170 [01:14<00:00,  2.29it/s]\n"
     ]
    },
    {
     "data": {
      "text/plain": [
       "6485795"
      ]
     },
     "execution_count": 5,
     "metadata": {},
     "output_type": "execute_result"
    }
   ],
   "source": [
    "# Then load the titles with text\n",
    "all_titles_wtext = wu.aggregate_wikipedia_metadata_key(wikipath, \"titles_with_text\", use_tqdm=True)\n",
    "len(all_titles_wtext)"
   ]
  },
  {
   "cell_type": "code",
   "execution_count": 27,
   "id": "6afa2a2b",
   "metadata": {},
   "outputs": [
    {
     "name": "stdout",
     "output_type": "stream",
     "text": [
      "('Anarchism', [{'id': '12', 'url': 'https://en.wikipedia.org/wiki?curid=12'}])\n",
      "('Albedo', [{'id': '39', 'url': 'https://en.wikipedia.org/wiki?curid=39'}])\n",
      "('A', [{'id': '290', 'url': 'https://en.wikipedia.org/wiki?curid=290'}])\n",
      "('Alabama', [{'id': '303', 'url': 'https://en.wikipedia.org/wiki?curid=303'}])\n",
      "('Achilles', [{'id': '305', 'url': 'https://en.wikipedia.org/wiki?curid=305'}])\n",
      "('Abraham Lincoln', [{'id': '307', 'url': 'https://en.wikipedia.org/wiki?curid=307'}])\n",
      "('Aristotle', [{'id': '308', 'url': 'https://en.wikipedia.org/wiki?curid=308'}])\n",
      "('An American in Paris', [{'id': '309', 'url': 'https://en.wikipedia.org/wiki?curid=309'}])\n",
      "('Academy Award for Best Production Design', [{'id': '316', 'url': 'https://en.wikipedia.org/wiki?curid=316'}])\n",
      "('Academy Awards', [{'id': '324', 'url': 'https://en.wikipedia.org/wiki?curid=324'}])\n"
     ]
    }
   ],
   "source": [
    "# See (the first 10 of) all the titles with text\n",
    "title_iter = iter(all_titles_wtext.items())\n",
    "for i in range(10):\n",
    "    print(next(title_iter))"
   ]
  },
  {
   "cell_type": "code",
   "execution_count": null,
   "id": "5730d336",
   "metadata": {},
   "outputs": [],
   "source": []
  },
  {
   "cell_type": "markdown",
   "id": "e3b768d2",
   "metadata": {},
   "source": [
    "## Create a Full Page Wikipedia Index\n",
    "\n",
    "Create the base file that will be used by pyserini to convert into a full page index."
   ]
  },
  {
   "cell_type": "code",
   "execution_count": 87,
   "id": "07fb3db3",
   "metadata": {},
   "outputs": [
    {
     "name": "stdout",
     "output_type": "stream",
     "text": [
      ">> Finished Postprocessing Wikipedia to Page Index\n"
     ]
    }
   ],
   "source": [
    "# Call utils to parse into correct format (don't force)\n",
    "wu.postprocess_wikipedia_to_page_index(\n",
    "    input_wikipath=\"/scratch/ddr8143/wikipedia/wiki_20220701/raw_extracted\",\n",
    "    output_dir=\"/scratch/ddr8143/wikipedia/wiki_20220701/fullpage_preindex\",\n",
    "    verbose=True,\n",
    "    force=False,\n",
    ")"
   ]
  },
  {
   "cell_type": "code",
   "execution_count": null,
   "id": "c38df6e5",
   "metadata": {},
   "outputs": [],
   "source": []
  }
 ],
 "metadata": {
  "kernelspec": {
   "display_name": "Python 3 (ipykernel)",
   "language": "python",
   "name": "python3"
  },
  "language_info": {
   "codemirror_mode": {
    "name": "ipython",
    "version": 3
   },
   "file_extension": ".py",
   "mimetype": "text/x-python",
   "name": "python",
   "nbconvert_exporter": "python",
   "pygments_lexer": "ipython3",
   "version": "3.9.0"
  }
 },
 "nbformat": 4,
 "nbformat_minor": 5
}
